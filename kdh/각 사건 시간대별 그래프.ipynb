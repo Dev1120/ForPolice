{
 "cells": [
  {
   "cell_type": "code",
   "execution_count": 1,
   "id": "37e83c14",
   "metadata": {},
   "outputs": [],
   "source": [
    "import numpy as np\n",
    "import pandas as pd\n",
    "import matplotlib.pyplot as plt\n",
    "import seaborn as sns\n",
    "\n",
    "import matplotlib.font_manager as fm\n",
    "font_name = fm.FontProperties(fname = \"C:\\\\Windows\\\\Fonts\\\\malgun.ttf\").get_name()\n",
    "plt.rc(\"font\", family=font_name)\n",
    "\n",
    "# 음수지원\n",
    "import matplotlib as mlp\n",
    "mlp.rcParams[\"axes.unicode_minus\"] = False"
   ]
  },
  {
   "cell_type": "markdown",
   "id": "355bf3c8",
   "metadata": {},
   "source": [
    "# 1. 데이터 준비"
   ]
  },
  {
   "cell_type": "code",
   "execution_count": 2,
   "id": "7f4092d3",
   "metadata": {},
   "outputs": [
    {
     "name": "stderr",
     "output_type": "stream",
     "text": [
      "C:\\Users\\USER\\AppData\\Local\\Temp\\ipykernel_6472\\314917726.py:1: DtypeWarning: Columns (5) have mixed types. Specify dtype option on import or set low_memory=False.\n",
      "  data = pd.read_csv(\"data/주소포함_전체정리.csv\")\n"
     ]
    }
   ],
   "source": [
    "data = pd.read_csv(\"data/주소포함_전체정리.csv\")"
   ]
  },
  {
   "cell_type": "code",
   "execution_count": 3,
   "id": "4d432771",
   "metadata": {},
   "outputs": [
    {
     "data": {
      "text/html": [
       "<div>\n",
       "<style scoped>\n",
       "    .dataframe tbody tr th:only-of-type {\n",
       "        vertical-align: middle;\n",
       "    }\n",
       "\n",
       "    .dataframe tbody tr th {\n",
       "        vertical-align: top;\n",
       "    }\n",
       "\n",
       "    .dataframe thead th {\n",
       "        text-align: right;\n",
       "    }\n",
       "</style>\n",
       "<table border=\"1\" class=\"dataframe\">\n",
       "  <thead>\n",
       "    <tr style=\"text-align: right;\">\n",
       "      <th></th>\n",
       "      <th>RECV_DEPT_NM</th>\n",
       "      <th>RECV_CPLT_DM</th>\n",
       "      <th>NPA_CL</th>\n",
       "      <th>EVT_STAT_CD</th>\n",
       "      <th>EVT_CL_CD</th>\n",
       "      <th>RPTER_SEX</th>\n",
       "      <th>HPPN_PNU_ADDR</th>\n",
       "      <th>HPPN_X</th>\n",
       "      <th>HPPN_Y</th>\n",
       "      <th>SME_EVT_YN</th>\n",
       "      <th>요일</th>\n",
       "      <th>구분</th>\n",
       "      <th>시/군/구</th>\n",
       "    </tr>\n",
       "  </thead>\n",
       "  <tbody>\n",
       "    <tr>\n",
       "      <th>0</th>\n",
       "      <td>충남청</td>\n",
       "      <td>2020-01-01 00:03:11</td>\n",
       "      <td>19</td>\n",
       "      <td>10</td>\n",
       "      <td>406</td>\n",
       "      <td>1</td>\n",
       "      <td>충청남도 공주시 정안면 어물리(정안면) 33-2</td>\n",
       "      <td>127.148714</td>\n",
       "      <td>36.605751</td>\n",
       "      <td>Y</td>\n",
       "      <td>Wednesday</td>\n",
       "      <td>충남</td>\n",
       "      <td>공주시</td>\n",
       "    </tr>\n",
       "    <tr>\n",
       "      <th>1</th>\n",
       "      <td>충남청</td>\n",
       "      <td>2020-01-01 00:18:08</td>\n",
       "      <td>19</td>\n",
       "      <td>10</td>\n",
       "      <td>403</td>\n",
       "      <td>1</td>\n",
       "      <td>충청남도 논산시 채운면 장화리(채운면) 533</td>\n",
       "      <td>127.030921</td>\n",
       "      <td>36.164643</td>\n",
       "      <td>NaN</td>\n",
       "      <td>Wednesday</td>\n",
       "      <td>충남</td>\n",
       "      <td>논산시</td>\n",
       "    </tr>\n",
       "    <tr>\n",
       "      <th>2</th>\n",
       "      <td>충남청</td>\n",
       "      <td>2020-01-01 00:20:01</td>\n",
       "      <td>19</td>\n",
       "      <td>10</td>\n",
       "      <td>406</td>\n",
       "      <td>1</td>\n",
       "      <td>세종특별자치시 세종시 소담동(소담동) 32-92</td>\n",
       "      <td>127.305511</td>\n",
       "      <td>36.479819</td>\n",
       "      <td>Y</td>\n",
       "      <td>Wednesday</td>\n",
       "      <td>세종</td>\n",
       "      <td>소담동</td>\n",
       "    </tr>\n",
       "  </tbody>\n",
       "</table>\n",
       "</div>"
      ],
      "text/plain": [
       "  RECV_DEPT_NM         RECV_CPLT_DM  NPA_CL  EVT_STAT_CD  EVT_CL_CD RPTER_SEX  \\\n",
       "0          충남청  2020-01-01 00:03:11      19           10        406         1   \n",
       "1          충남청  2020-01-01 00:18:08      19           10        403         1   \n",
       "2          충남청  2020-01-01 00:20:01      19           10        406         1   \n",
       "\n",
       "                HPPN_PNU_ADDR      HPPN_X     HPPN_Y SME_EVT_YN         요일  \\\n",
       "0  충청남도 공주시 정안면 어물리(정안면) 33-2  127.148714  36.605751          Y  Wednesday   \n",
       "1   충청남도 논산시 채운면 장화리(채운면) 533  127.030921  36.164643        NaN  Wednesday   \n",
       "2  세종특별자치시 세종시 소담동(소담동) 32-92  127.305511  36.479819          Y  Wednesday   \n",
       "\n",
       "   구분 시/군/구  \n",
       "0  충남   공주시  \n",
       "1  충남   논산시  \n",
       "2  세종   소담동  "
      ]
     },
     "execution_count": 3,
     "metadata": {},
     "output_type": "execute_result"
    }
   ],
   "source": [
    "data.head(3)"
   ]
  },
  {
   "cell_type": "code",
   "execution_count": 4,
   "id": "3bbdde0f",
   "metadata": {},
   "outputs": [
    {
     "name": "stdout",
     "output_type": "stream",
     "text": [
      "<class 'pandas.core.frame.DataFrame'>\n",
      "RangeIndex: 415070 entries, 0 to 415069\n",
      "Data columns (total 13 columns):\n",
      " #   Column         Non-Null Count   Dtype  \n",
      "---  ------         --------------   -----  \n",
      " 0   RECV_DEPT_NM   415070 non-null  object \n",
      " 1   RECV_CPLT_DM   415070 non-null  object \n",
      " 2   NPA_CL         415070 non-null  int64  \n",
      " 3   EVT_STAT_CD    415070 non-null  int64  \n",
      " 4   EVT_CL_CD      415070 non-null  int64  \n",
      " 5   RPTER_SEX      415070 non-null  object \n",
      " 6   HPPN_PNU_ADDR  415070 non-null  object \n",
      " 7   HPPN_X         415053 non-null  float64\n",
      " 8   HPPN_Y         415053 non-null  float64\n",
      " 9   SME_EVT_YN     136673 non-null  object \n",
      " 10  요일             415070 non-null  object \n",
      " 11  구분             415070 non-null  object \n",
      " 12  시/군/구          415070 non-null  object \n",
      "dtypes: float64(2), int64(3), object(8)\n",
      "memory usage: 41.2+ MB\n"
     ]
    }
   ],
   "source": [
    "data.info()"
   ]
  },
  {
   "cell_type": "markdown",
   "id": "249d7dd2",
   "metadata": {},
   "source": [
    "## 1-1. 칼럼 명 수정"
   ]
  },
  {
   "cell_type": "code",
   "execution_count": 5,
   "id": "35b8e482",
   "metadata": {},
   "outputs": [],
   "source": [
    "data.rename(columns={\"RECV_DEPT_NM\":\"접수부서코드\",\"RECV_CPLT_DM\":\"접수완료일시\", \"NPA_CL\":\"경찰청구분\", \n",
    "                       \"EVT_STAT_CD\":\"사건상태코드\",\"EVT_CL_CD\":\"사건종별코드\",\"RPTER_SEX\":\"신고성별\",\n",
    "                       \"HPPN_PNU_ADDR\":\"발생지점\",\"HPPN_X\":\"발생좌표x\",\"HPPN_Y\":\"발생좌표y\",\"SME_EVT_YN\":\"동일사건여부\"}, inplace=True)"
   ]
  },
  {
   "cell_type": "code",
   "execution_count": 6,
   "id": "711c8813",
   "metadata": {},
   "outputs": [
    {
     "data": {
      "text/html": [
       "<div>\n",
       "<style scoped>\n",
       "    .dataframe tbody tr th:only-of-type {\n",
       "        vertical-align: middle;\n",
       "    }\n",
       "\n",
       "    .dataframe tbody tr th {\n",
       "        vertical-align: top;\n",
       "    }\n",
       "\n",
       "    .dataframe thead th {\n",
       "        text-align: right;\n",
       "    }\n",
       "</style>\n",
       "<table border=\"1\" class=\"dataframe\">\n",
       "  <thead>\n",
       "    <tr style=\"text-align: right;\">\n",
       "      <th></th>\n",
       "      <th>접수부서코드</th>\n",
       "      <th>접수완료일시</th>\n",
       "      <th>경찰청구분</th>\n",
       "      <th>사건상태코드</th>\n",
       "      <th>사건종별코드</th>\n",
       "      <th>신고성별</th>\n",
       "      <th>발생지점</th>\n",
       "      <th>발생좌표x</th>\n",
       "      <th>발생좌표y</th>\n",
       "      <th>동일사건여부</th>\n",
       "      <th>요일</th>\n",
       "      <th>구분</th>\n",
       "      <th>시/군/구</th>\n",
       "    </tr>\n",
       "  </thead>\n",
       "  <tbody>\n",
       "    <tr>\n",
       "      <th>0</th>\n",
       "      <td>충남청</td>\n",
       "      <td>2020-01-01 00:03:11</td>\n",
       "      <td>19</td>\n",
       "      <td>10</td>\n",
       "      <td>406</td>\n",
       "      <td>1</td>\n",
       "      <td>충청남도 공주시 정안면 어물리(정안면) 33-2</td>\n",
       "      <td>127.148714</td>\n",
       "      <td>36.605751</td>\n",
       "      <td>Y</td>\n",
       "      <td>Wednesday</td>\n",
       "      <td>충남</td>\n",
       "      <td>공주시</td>\n",
       "    </tr>\n",
       "    <tr>\n",
       "      <th>1</th>\n",
       "      <td>충남청</td>\n",
       "      <td>2020-01-01 00:18:08</td>\n",
       "      <td>19</td>\n",
       "      <td>10</td>\n",
       "      <td>403</td>\n",
       "      <td>1</td>\n",
       "      <td>충청남도 논산시 채운면 장화리(채운면) 533</td>\n",
       "      <td>127.030921</td>\n",
       "      <td>36.164643</td>\n",
       "      <td>NaN</td>\n",
       "      <td>Wednesday</td>\n",
       "      <td>충남</td>\n",
       "      <td>논산시</td>\n",
       "    </tr>\n",
       "    <tr>\n",
       "      <th>2</th>\n",
       "      <td>충남청</td>\n",
       "      <td>2020-01-01 00:20:01</td>\n",
       "      <td>19</td>\n",
       "      <td>10</td>\n",
       "      <td>406</td>\n",
       "      <td>1</td>\n",
       "      <td>세종특별자치시 세종시 소담동(소담동) 32-92</td>\n",
       "      <td>127.305511</td>\n",
       "      <td>36.479819</td>\n",
       "      <td>Y</td>\n",
       "      <td>Wednesday</td>\n",
       "      <td>세종</td>\n",
       "      <td>소담동</td>\n",
       "    </tr>\n",
       "  </tbody>\n",
       "</table>\n",
       "</div>"
      ],
      "text/plain": [
       "  접수부서코드               접수완료일시  경찰청구분  사건상태코드  사건종별코드 신고성별  \\\n",
       "0    충남청  2020-01-01 00:03:11     19      10     406    1   \n",
       "1    충남청  2020-01-01 00:18:08     19      10     403    1   \n",
       "2    충남청  2020-01-01 00:20:01     19      10     406    1   \n",
       "\n",
       "                         발생지점       발생좌표x      발생좌표y 동일사건여부         요일  구분  \\\n",
       "0  충청남도 공주시 정안면 어물리(정안면) 33-2  127.148714  36.605751      Y  Wednesday  충남   \n",
       "1   충청남도 논산시 채운면 장화리(채운면) 533  127.030921  36.164643    NaN  Wednesday  충남   \n",
       "2  세종특별자치시 세종시 소담동(소담동) 32-92  127.305511  36.479819      Y  Wednesday  세종   \n",
       "\n",
       "  시/군/구  \n",
       "0   공주시  \n",
       "1   논산시  \n",
       "2   소담동  "
      ]
     },
     "execution_count": 6,
     "metadata": {},
     "output_type": "execute_result"
    }
   ],
   "source": [
    "data.head(3)"
   ]
  },
  {
   "cell_type": "code",
   "execution_count": 7,
   "id": "17d74337",
   "metadata": {},
   "outputs": [
    {
     "name": "stdout",
     "output_type": "stream",
     "text": [
      "<class 'pandas.core.frame.DataFrame'>\n",
      "RangeIndex: 415070 entries, 0 to 415069\n",
      "Data columns (total 13 columns):\n",
      " #   Column  Non-Null Count   Dtype  \n",
      "---  ------  --------------   -----  \n",
      " 0   접수부서코드  415070 non-null  object \n",
      " 1   접수완료일시  415070 non-null  object \n",
      " 2   경찰청구분   415070 non-null  int64  \n",
      " 3   사건상태코드  415070 non-null  int64  \n",
      " 4   사건종별코드  415070 non-null  int64  \n",
      " 5   신고성별    415070 non-null  object \n",
      " 6   발생지점    415070 non-null  object \n",
      " 7   발생좌표x   415053 non-null  float64\n",
      " 8   발생좌표y   415053 non-null  float64\n",
      " 9   동일사건여부  136673 non-null  object \n",
      " 10  요일      415070 non-null  object \n",
      " 11  구분      415070 non-null  object \n",
      " 12  시/군/구   415070 non-null  object \n",
      "dtypes: float64(2), int64(3), object(8)\n",
      "memory usage: 41.2+ MB\n"
     ]
    }
   ],
   "source": [
    "data.info()"
   ]
  },
  {
   "cell_type": "markdown",
   "id": "4f36818d",
   "metadata": {},
   "source": [
    "## 1-2. 데이터 타입 변경"
   ]
  },
  {
   "cell_type": "code",
   "execution_count": 8,
   "id": "baf0f1f4",
   "metadata": {},
   "outputs": [],
   "source": [
    "data['접수완료일시'] = pd.to_datetime(data['접수완료일시'])"
   ]
  },
  {
   "cell_type": "code",
   "execution_count": 9,
   "id": "1c0230aa",
   "metadata": {},
   "outputs": [
    {
     "name": "stdout",
     "output_type": "stream",
     "text": [
      "<class 'pandas.core.frame.DataFrame'>\n",
      "RangeIndex: 415070 entries, 0 to 415069\n",
      "Data columns (total 13 columns):\n",
      " #   Column  Non-Null Count   Dtype         \n",
      "---  ------  --------------   -----         \n",
      " 0   접수부서코드  415070 non-null  object        \n",
      " 1   접수완료일시  415070 non-null  datetime64[ns]\n",
      " 2   경찰청구분   415070 non-null  int64         \n",
      " 3   사건상태코드  415070 non-null  int64         \n",
      " 4   사건종별코드  415070 non-null  int64         \n",
      " 5   신고성별    415070 non-null  object        \n",
      " 6   발생지점    415070 non-null  object        \n",
      " 7   발생좌표x   415053 non-null  float64       \n",
      " 8   발생좌표y   415053 non-null  float64       \n",
      " 9   동일사건여부  136673 non-null  object        \n",
      " 10  요일      415070 non-null  object        \n",
      " 11  구분      415070 non-null  object        \n",
      " 12  시/군/구   415070 non-null  object        \n",
      "dtypes: datetime64[ns](1), float64(2), int64(3), object(7)\n",
      "memory usage: 41.2+ MB\n"
     ]
    }
   ],
   "source": [
    "data.info()"
   ]
  },
  {
   "cell_type": "markdown",
   "id": "73fc27f8",
   "metadata": {},
   "source": [
    "## 1-3. \"접수시간대\" 컬럼 추가"
   ]
  },
  {
   "cell_type": "code",
   "execution_count": 10,
   "id": "3ec38fbd",
   "metadata": {},
   "outputs": [],
   "source": [
    "data[\"접수시간대\"] = data['접수완료일시'].dt.hour"
   ]
  },
  {
   "cell_type": "code",
   "execution_count": 11,
   "id": "fb63dbb6",
   "metadata": {},
   "outputs": [
    {
     "data": {
      "text/html": [
       "<div>\n",
       "<style scoped>\n",
       "    .dataframe tbody tr th:only-of-type {\n",
       "        vertical-align: middle;\n",
       "    }\n",
       "\n",
       "    .dataframe tbody tr th {\n",
       "        vertical-align: top;\n",
       "    }\n",
       "\n",
       "    .dataframe thead th {\n",
       "        text-align: right;\n",
       "    }\n",
       "</style>\n",
       "<table border=\"1\" class=\"dataframe\">\n",
       "  <thead>\n",
       "    <tr style=\"text-align: right;\">\n",
       "      <th></th>\n",
       "      <th>접수부서코드</th>\n",
       "      <th>접수완료일시</th>\n",
       "      <th>경찰청구분</th>\n",
       "      <th>사건상태코드</th>\n",
       "      <th>사건종별코드</th>\n",
       "      <th>신고성별</th>\n",
       "      <th>발생지점</th>\n",
       "      <th>발생좌표x</th>\n",
       "      <th>발생좌표y</th>\n",
       "      <th>동일사건여부</th>\n",
       "      <th>요일</th>\n",
       "      <th>구분</th>\n",
       "      <th>시/군/구</th>\n",
       "      <th>접수시간대</th>\n",
       "    </tr>\n",
       "  </thead>\n",
       "  <tbody>\n",
       "    <tr>\n",
       "      <th>0</th>\n",
       "      <td>충남청</td>\n",
       "      <td>2020-01-01 00:03:11</td>\n",
       "      <td>19</td>\n",
       "      <td>10</td>\n",
       "      <td>406</td>\n",
       "      <td>1</td>\n",
       "      <td>충청남도 공주시 정안면 어물리(정안면) 33-2</td>\n",
       "      <td>127.148714</td>\n",
       "      <td>36.605751</td>\n",
       "      <td>Y</td>\n",
       "      <td>Wednesday</td>\n",
       "      <td>충남</td>\n",
       "      <td>공주시</td>\n",
       "      <td>0</td>\n",
       "    </tr>\n",
       "    <tr>\n",
       "      <th>1</th>\n",
       "      <td>충남청</td>\n",
       "      <td>2020-01-01 00:18:08</td>\n",
       "      <td>19</td>\n",
       "      <td>10</td>\n",
       "      <td>403</td>\n",
       "      <td>1</td>\n",
       "      <td>충청남도 논산시 채운면 장화리(채운면) 533</td>\n",
       "      <td>127.030921</td>\n",
       "      <td>36.164643</td>\n",
       "      <td>NaN</td>\n",
       "      <td>Wednesday</td>\n",
       "      <td>충남</td>\n",
       "      <td>논산시</td>\n",
       "      <td>0</td>\n",
       "    </tr>\n",
       "    <tr>\n",
       "      <th>2</th>\n",
       "      <td>충남청</td>\n",
       "      <td>2020-01-01 00:20:01</td>\n",
       "      <td>19</td>\n",
       "      <td>10</td>\n",
       "      <td>406</td>\n",
       "      <td>1</td>\n",
       "      <td>세종특별자치시 세종시 소담동(소담동) 32-92</td>\n",
       "      <td>127.305511</td>\n",
       "      <td>36.479819</td>\n",
       "      <td>Y</td>\n",
       "      <td>Wednesday</td>\n",
       "      <td>세종</td>\n",
       "      <td>소담동</td>\n",
       "      <td>0</td>\n",
       "    </tr>\n",
       "  </tbody>\n",
       "</table>\n",
       "</div>"
      ],
      "text/plain": [
       "  접수부서코드              접수완료일시  경찰청구분  사건상태코드  사건종별코드 신고성별  \\\n",
       "0    충남청 2020-01-01 00:03:11     19      10     406    1   \n",
       "1    충남청 2020-01-01 00:18:08     19      10     403    1   \n",
       "2    충남청 2020-01-01 00:20:01     19      10     406    1   \n",
       "\n",
       "                         발생지점       발생좌표x      발생좌표y 동일사건여부         요일  구분  \\\n",
       "0  충청남도 공주시 정안면 어물리(정안면) 33-2  127.148714  36.605751      Y  Wednesday  충남   \n",
       "1   충청남도 논산시 채운면 장화리(채운면) 533  127.030921  36.164643    NaN  Wednesday  충남   \n",
       "2  세종특별자치시 세종시 소담동(소담동) 32-92  127.305511  36.479819      Y  Wednesday  세종   \n",
       "\n",
       "  시/군/구  접수시간대  \n",
       "0   공주시      0  \n",
       "1   논산시      0  \n",
       "2   소담동      0  "
      ]
     },
     "execution_count": 11,
     "metadata": {},
     "output_type": "execute_result"
    }
   ],
   "source": [
    "data.head(3)"
   ]
  },
  {
   "cell_type": "markdown",
   "id": "b02ce9ae",
   "metadata": {},
   "source": [
    "# 2. 각 사건의 접수시간대별 그래프"
   ]
  },
  {
   "cell_type": "code",
   "execution_count": 16,
   "id": "1139589b",
   "metadata": {},
   "outputs": [],
   "source": [
    "a406=data[data[\"사건종별코드\"]==406] #음주운전\n",
    "\n",
    "a402=data[data[\"사건종별코드\"]==402] #교통불편\n",
    "\n",
    "a403= data[data[\"사건종별코드\"]==403] #교통위반\n",
    "\n",
    "a401=data[data[\"사건종별코드\"]==401] #교통사고(사망하지도 않았고 뺑소니도 아닌 것)\n",
    "\n",
    "a404=data[data[\"사건종별코드\"]==404] #사망 대형사고\n",
    "\n",
    "a405=data[data[\"사건종별코드\"]==405] #인피도주"
   ]
  },
  {
   "cell_type": "markdown",
   "id": "0b600c0d",
   "metadata": {},
   "source": [
    "## 2-1. 교통사고 접수시간대별 그래프"
   ]
  },
  {
   "cell_type": "code",
   "execution_count": 14,
   "id": "5efb96fc",
   "metadata": {},
   "outputs": [
    {
     "name": "stderr",
     "output_type": "stream",
     "text": [
      "C:\\py\\lib\\site-packages\\seaborn\\_decorators.py:36: FutureWarning: Pass the following variable as a keyword arg: x. From version 0.12, the only valid positional argument will be `data`, and passing other arguments without an explicit keyword will result in an error or misinterpretation.\n",
      "  warnings.warn(\n"
     ]
    },
    {
     "data": {
      "text/plain": [
       "<AxesSubplot:title={'center':'교통사고 접수 시간대별 빈도'}, xlabel='접수시간대', ylabel='count'>"
      ]
     },
     "execution_count": 14,
     "metadata": {},
     "output_type": "execute_result"
    },
    {
     "data": {
      "image/png": "[encoded data removed]",
      "text/plain": [
       "<Figure size 720x720 with 1 Axes>"
      ]
     },
     "metadata": {
      "needs_background": "light"
     },
     "output_type": "display_data"
    }
   ],
   "source": [
    "plt.figure(figsize=(10,10))\n",
    "plt.title(\"교통사고 접수 시간대별 빈도\")\n",
    "sns.countplot(\"접수시간대\", data=a401)"
   ]
  },
  {
   "cell_type": "markdown",
   "id": "6892bb4f",
   "metadata": {},
   "source": [
    "## 2-2. 교통불편 접수시간대별 그래프"
   ]
  },
  {
   "cell_type": "code",
   "execution_count": 17,
   "id": "34ffcee6",
   "metadata": {},
   "outputs": [
    {
     "name": "stderr",
     "output_type": "stream",
     "text": [
      "C:\\py\\lib\\site-packages\\seaborn\\_decorators.py:36: FutureWarning: Pass the following variable as a keyword arg: x. From version 0.12, the only valid positional argument will be `data`, and passing other arguments without an explicit keyword will result in an error or misinterpretation.\n",
      "  warnings.warn(\n"
     ]
    },
    {
     "data": {
      "text/plain": [
       "<AxesSubplot:title={'center':'교통불편 접수 시간대별 빈도'}, xlabel='접수시간대', ylabel='count'>"
      ]
     },
     "execution_count": 17,
     "metadata": {},
     "output_type": "execute_result"
    },
    {
     "data": {
      "image/png": "[encoded data removed]",
      "text/plain": [
       "<Figure size 720x720 with 1 Axes>"
      ]
     },
     "metadata": {
      "needs_background": "light"
     },
     "output_type": "display_data"
    }
   ],
   "source": [
    "plt.figure(figsize=(10,10))\n",
    "plt.title(\"교통불편 접수 시간대별 빈도\")\n",
    "sns.countplot(\"접수시간대\", data=a402)"
   ]
  },
  {
   "cell_type": "markdown",
   "id": "19bf43ed",
   "metadata": {},
   "source": [
    "## 2-3. 교통위반 접수시간대별 그래프"
   ]
  },
  {
   "cell_type": "code",
   "execution_count": 18,
   "id": "cfb282b2",
   "metadata": {},
   "outputs": [
    {
     "name": "stderr",
     "output_type": "stream",
     "text": [
      "C:\\py\\lib\\site-packages\\seaborn\\_decorators.py:36: FutureWarning: Pass the following variable as a keyword arg: x. From version 0.12, the only valid positional argument will be `data`, and passing other arguments without an explicit keyword will result in an error or misinterpretation.\n",
      "  warnings.warn(\n"
     ]
    },
    {
     "data": {
      "text/plain": [
       "<AxesSubplot:title={'center':'교통위반 접수 시간대별 빈도'}, xlabel='접수시간대', ylabel='count'>"
      ]
     },
     "execution_count": 18,
     "metadata": {},
     "output_type": "execute_result"
    },
    {
     "data": {
      "image/png": "[encoded data removed]",
      "text/plain": [
       "<Figure size 720x720 with 1 Axes>"
      ]
     },
     "metadata": {
      "needs_background": "light"
     },
     "output_type": "display_data"
    }
   ],
   "source": [
    "plt.figure(figsize=(10,10))\n",
    "plt.title(\"교통위반 접수 시간대별 빈도\")\n",
    "sns.countplot(\"접수시간대\", data=a403)"
   ]
  },
  {
   "cell_type": "markdown",
   "id": "3c77cac2",
   "metadata": {},
   "source": [
    "## 2-4. 사망대형사고 접수시간대별 그래프"
   ]
  },
  {
   "cell_type": "code",
   "execution_count": 19,
   "id": "1f9a65a6",
   "metadata": {},
   "outputs": [
    {
     "name": "stderr",
     "output_type": "stream",
     "text": [
      "C:\\py\\lib\\site-packages\\seaborn\\_decorators.py:36: FutureWarning: Pass the following variable as a keyword arg: x. From version 0.12, the only valid positional argument will be `data`, and passing other arguments without an explicit keyword will result in an error or misinterpretation.\n",
      "  warnings.warn(\n"
     ]
    },
    {
     "data": {
      "text/plain": [
       "<AxesSubplot:title={'center':'사망대형사고 접수 시간대별 빈도'}, xlabel='접수시간대', ylabel='count'>"
      ]
     },
     "execution_count": 19,
     "metadata": {},
     "output_type": "execute_result"
    },
    {
     "data": {
      "image/png": "[encoded data removed]",
      "text/plain": [
       "<Figure size 720x720 with 1 Axes>"
      ]
     },
     "metadata": {
      "needs_background": "light"
     },
     "output_type": "display_data"
    }
   ],
   "source": [
    "plt.figure(figsize=(10,10))\n",
    "plt.title(\"사망대형사고 접수 시간대별 빈도\")\n",
    "sns.countplot(\"접수시간대\", data=a404)"
   ]
  },
  {
   "cell_type": "markdown",
   "id": "9b82cf18",
   "metadata": {},
   "source": [
    "## 2-5. 인피도주 접수시간대별 그래프"
   ]
  },
  {
   "cell_type": "code",
   "execution_count": 20,
   "id": "2885770d",
   "metadata": {},
   "outputs": [
    {
     "name": "stderr",
     "output_type": "stream",
     "text": [
      "C:\\py\\lib\\site-packages\\seaborn\\_decorators.py:36: FutureWarning: Pass the following variable as a keyword arg: x. From version 0.12, the only valid positional argument will be `data`, and passing other arguments without an explicit keyword will result in an error or misinterpretation.\n",
      "  warnings.warn(\n"
     ]
    },
    {
     "data": {
      "text/plain": [
       "<AxesSubplot:title={'center':'인피도주 접수 시간대별 빈도'}, xlabel='접수시간대', ylabel='count'>"
      ]
     },
     "execution_count": 20,
     "metadata": {},
     "output_type": "execute_result"
    },
    {
     "data": {
      "image/png": "[encoded data removed]",
      "text/plain": [
       "<Figure size 720x720 with 1 Axes>"
      ]
     },
     "metadata": {
      "needs_background": "light"
     },
     "output_type": "display_data"
    }
   ],
   "source": [
    "plt.figure(figsize=(10,10))\n",
    "plt.title(\"인피도주 접수 시간대별 빈도\")\n",
    "sns.countplot(\"접수시간대\", data=a405)"
   ]
  },
  {
   "cell_type": "markdown",
   "id": "9a9c6176",
   "metadata": {},
   "source": [
    "## 2-6. 음주운전 접수시간대별 그래프"
   ]
  },
  {
   "cell_type": "code",
   "execution_count": 21,
   "id": "301746b1",
   "metadata": {},
   "outputs": [
    {
     "name": "stderr",
     "output_type": "stream",
     "text": [
      "C:\\py\\lib\\site-packages\\seaborn\\_decorators.py:36: FutureWarning: Pass the following variable as a keyword arg: x. From version 0.12, the only valid positional argument will be `data`, and passing other arguments without an explicit keyword will result in an error or misinterpretation.\n",
      "  warnings.warn(\n"
     ]
    },
    {
     "data": {
      "text/plain": [
       "<AxesSubplot:title={'center':'음주운전 접수 시간대별 빈도'}, xlabel='접수시간대', ylabel='count'>"
      ]
     },
     "execution_count": 21,
     "metadata": {},
     "output_type": "execute_result"
    },
    {
     "data": {
      "image/png": "[encoded data removed]",
      "text/plain": [
       "<Figure size 720x720 with 1 Axes>"
      ]
     },
     "metadata": {
      "needs_background": "light"
     },
     "output_type": "display_data"
    }
   ],
   "source": [
    "plt.figure(figsize=(10,10))\n",
    "plt.title(\"음주운전 접수 시간대별 빈도\")\n",
    "sns.countplot(\"접수시간대\", data=a406)"
   ]
  },
  {
   "cell_type": "code",
   "execution_count": null,
   "id": "f013cae5",
   "metadata": {},
   "outputs": [],
   "source": []
  },
  {
   "cell_type": "code",
   "execution_count": null,
   "id": "d968b525",
   "metadata": {},
   "outputs": [],
   "source": []
  },
  {
   "cell_type": "code",
   "execution_count": null,
   "id": "12eb3e29",
   "metadata": {},
   "outputs": [],
   "source": []
  },
  {
   "cell_type": "code",
   "execution_count": null,
   "id": "9be29284",
   "metadata": {},
   "outputs": [],
   "source": []
  },
  {
   "cell_type": "code",
   "execution_count": null,
   "id": "7c1c29bd",
   "metadata": {},
   "outputs": [],
   "source": []
  },
  {
   "cell_type": "code",
   "execution_count": null,
   "id": "cb6feed1",
   "metadata": {},
   "outputs": [],
   "source": []
  },
  {
   "cell_type": "code",
   "execution_count": null,
   "id": "569abf8f",
   "metadata": {},
   "outputs": [],
   "source": []
  },
  {
   "cell_type": "code",
   "execution_count": null,
   "id": "47f4f2bc",
   "metadata": {},
   "outputs": [],
   "source": []
  },
  {
   "cell_type": "code",
   "execution_count": null,
   "id": "6147ae0b",
   "metadata": {},
   "outputs": [],
   "source": []
  },
  {
   "cell_type": "code",
   "execution_count": null,
   "id": "c83a1f74",
   "metadata": {},
   "outputs": [],
   "source": []
  },
  {
   "cell_type": "code",
   "execution_count": null,
   "id": "0d10fb8e",
   "metadata": {},
   "outputs": [],
   "source": []
  },
  {
   "cell_type": "code",
   "execution_count": null,
   "id": "ab104a75",
   "metadata": {},
   "outputs": [],
   "source": []
  },
  {
   "cell_type": "code",
   "execution_count": null,
   "id": "09abb6c5",
   "metadata": {},
   "outputs": [],
   "source": []
  },
  {
   "cell_type": "code",
   "execution_count": null,
   "id": "508c3908",
   "metadata": {},
   "outputs": [],
   "source": []
  },
  {
   "cell_type": "code",
   "execution_count": null,
   "id": "07f91d52",
   "metadata": {},
   "outputs": [],
   "source": []
  },
  {
   "cell_type": "code",
   "execution_count": null,
   "id": "39723fdf",
   "metadata": {},
   "outputs": [],
   "source": []
  },
  {
   "cell_type": "code",
   "execution_count": null,
   "id": "80ed7a8e",
   "metadata": {},
   "outputs": [],
   "source": []
  },
  {
   "cell_type": "code",
   "execution_count": null,
   "id": "b024e697",
   "metadata": {},
   "outputs": [],
   "source": []
  },
  {
   "cell_type": "code",
   "execution_count": null,
   "id": "102f2333",
   "metadata": {},
   "outputs": [],
   "source": []
  }
 ],
 "metadata": {
  "kernelspec": {
   "display_name": "Python 3 (ipykernel)",
   "language": "python",
   "name": "python3"
  },
  "language_info": {
   "codemirror_mode": {
    "name": "ipython",
    "version": 3
   },
   "file_extension": ".py",
   "mimetype": "text/x-python",
   "name": "python",
   "nbconvert_exporter": "python",
   "pygments_lexer": "ipython3",
   "version": "3.9.12"
  }
 },
 "nbformat": 4,
 "nbformat_minor": 5
}

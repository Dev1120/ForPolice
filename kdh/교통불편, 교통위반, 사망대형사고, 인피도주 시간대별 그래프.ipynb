{
 "cells": [
  {
   "cell_type": "markdown",
   "id": "8b61ee07",
   "metadata": {},
   "source": [
    "drunken=code[code[\"사건종별코드\"]==406] #음주운전\n",
    "\n",
    "\n",
    "inconv=code[code[\"사건종별코드\"]==402] #교통불편\n",
    "\n",
    "\n",
    "viol=code[code[\"사건종별코드\"]==403] #교통위반\n",
    "\n",
    "\n",
    "a401=code[code[\"사건종별코드\"]==401] #교통사고(사망하지도 않았고 뺑소니도 아닌 것)\n",
    "\n",
    "\n",
    "a404=code[code[\"사건종별코드\"]==404] #사망 대형사고\n",
    "\n",
    "\n",
    "a405=code[code[\"사건종별코드\"]==405] #인피도주"
   ]
  },
  {
   "cell_type": "code",
   "execution_count": 1,
   "id": "835709fb",
   "metadata": {},
   "outputs": [],
   "source": [
    "import numpy as np\n",
    "import pandas as pd\n",
    "import matplotlib.pyplot as plt\n",
    "import seaborn as sns\n",
    "\n",
    "import matplotlib.font_manager as fm\n",
    "font_name = fm.FontProperties(fname = \"C:\\\\Windows\\\\Fonts\\\\malgun.ttf\").get_name()\n",
    "plt.rc(\"font\", family=font_name)\n",
    "\n",
    "# 음수지원\n",
    "import matplotlib as mlp\n",
    "mlp.rcParams[\"axes.unicode_minus\"] = False"
   ]
  },
  {
   "cell_type": "markdown",
   "id": "78b11591",
   "metadata": {},
   "source": [
    "# 1. 2020년 교통불편, 교통위반, 사망대형사고, 인피도주 데이터 준비"
   ]
  },
  {
   "cell_type": "code",
   "execution_count": 2,
   "id": "35fdaf3f",
   "metadata": {},
   "outputs": [
    {
     "name": "stderr",
     "output_type": "stream",
     "text": [
      "C:\\Users\\USER\\AppData\\Local\\Temp\\ipykernel_15912\\505891077.py:1: DtypeWarning: Columns (6) have mixed types. Specify dtype option on import or set low_memory=False.\n",
      "  data20 = pd.read_csv(\"data/주소포함_2020.csv\", encoding = \"cp949\")\n"
     ]
    },
    {
     "data": {
      "text/html": [
       "<div>\n",
       "<style scoped>\n",
       "    .dataframe tbody tr th:only-of-type {\n",
       "        vertical-align: middle;\n",
       "    }\n",
       "\n",
       "    .dataframe tbody tr th {\n",
       "        vertical-align: top;\n",
       "    }\n",
       "\n",
       "    .dataframe thead th {\n",
       "        text-align: right;\n",
       "    }\n",
       "</style>\n",
       "<table border=\"1\" class=\"dataframe\">\n",
       "  <thead>\n",
       "    <tr style=\"text-align: right;\">\n",
       "      <th></th>\n",
       "      <th>index</th>\n",
       "      <th>RECV_DEPT_NM</th>\n",
       "      <th>RECV_CPLT_DM</th>\n",
       "      <th>NPA_CL</th>\n",
       "      <th>EVT_STAT_CD</th>\n",
       "      <th>EVT_CL_CD</th>\n",
       "      <th>RPTER_SEX</th>\n",
       "      <th>HPPN_PNU_ADDR</th>\n",
       "      <th>HPPN_X</th>\n",
       "      <th>HPPN_Y</th>\n",
       "      <th>SME_EVT_YN</th>\n",
       "      <th>요일</th>\n",
       "    </tr>\n",
       "  </thead>\n",
       "  <tbody>\n",
       "    <tr>\n",
       "      <th>0</th>\n",
       "      <td>38</td>\n",
       "      <td>대전청</td>\n",
       "      <td>2020-01-01 00:32:40</td>\n",
       "      <td>13</td>\n",
       "      <td>10</td>\n",
       "      <td>402</td>\n",
       "      <td>1</td>\n",
       "      <td>대전광역시 서구 탄방동(탄방동) 1447-1</td>\n",
       "      <td>127.386346</td>\n",
       "      <td>36.346856</td>\n",
       "      <td>NaN</td>\n",
       "      <td>Wednesday</td>\n",
       "    </tr>\n",
       "    <tr>\n",
       "      <th>1</th>\n",
       "      <td>41</td>\n",
       "      <td>대전청</td>\n",
       "      <td>2020-01-01 00:35:32</td>\n",
       "      <td>13</td>\n",
       "      <td>10</td>\n",
       "      <td>406</td>\n",
       "      <td>1</td>\n",
       "      <td>대전광역시 유성구 궁동(행정:온천2동) 423-8</td>\n",
       "      <td>127.349989</td>\n",
       "      <td>36.360797</td>\n",
       "      <td>NaN</td>\n",
       "      <td>Wednesday</td>\n",
       "    </tr>\n",
       "    <tr>\n",
       "      <th>2</th>\n",
       "      <td>54</td>\n",
       "      <td>대전청</td>\n",
       "      <td>2020-01-01 00:21:35</td>\n",
       "      <td>13</td>\n",
       "      <td>10</td>\n",
       "      <td>401</td>\n",
       "      <td>1</td>\n",
       "      <td>대전광역시 유성구 봉명동(행정:온천1동) 541-26</td>\n",
       "      <td>127.348625</td>\n",
       "      <td>36.353829</td>\n",
       "      <td>NaN</td>\n",
       "      <td>Wednesday</td>\n",
       "    </tr>\n",
       "    <tr>\n",
       "      <th>3</th>\n",
       "      <td>66</td>\n",
       "      <td>대전청</td>\n",
       "      <td>2020-01-01 00:43:01</td>\n",
       "      <td>13</td>\n",
       "      <td>10</td>\n",
       "      <td>401</td>\n",
       "      <td>1</td>\n",
       "      <td>대전광역시 중구 오류동(행정:오류동) 187-27</td>\n",
       "      <td>127.405055</td>\n",
       "      <td>36.328573</td>\n",
       "      <td>NaN</td>\n",
       "      <td>Wednesday</td>\n",
       "    </tr>\n",
       "    <tr>\n",
       "      <th>4</th>\n",
       "      <td>117</td>\n",
       "      <td>대전청</td>\n",
       "      <td>2020-01-01 18:43:35</td>\n",
       "      <td>13</td>\n",
       "      <td>10</td>\n",
       "      <td>401</td>\n",
       "      <td>3</td>\n",
       "      <td>대전광역시 동구 가양동 630</td>\n",
       "      <td>127.445780</td>\n",
       "      <td>36.345500</td>\n",
       "      <td>N</td>\n",
       "      <td>Wednesday</td>\n",
       "    </tr>\n",
       "  </tbody>\n",
       "</table>\n",
       "</div>"
      ],
      "text/plain": [
       "   index RECV_DEPT_NM         RECV_CPLT_DM  NPA_CL  EVT_STAT_CD  EVT_CL_CD  \\\n",
       "0     38          대전청  2020-01-01 00:32:40      13           10        402   \n",
       "1     41          대전청  2020-01-01 00:35:32      13           10        406   \n",
       "2     54          대전청  2020-01-01 00:21:35      13           10        401   \n",
       "3     66          대전청  2020-01-01 00:43:01      13           10        401   \n",
       "4    117          대전청  2020-01-01 18:43:35      13           10        401   \n",
       "\n",
       "  RPTER_SEX                  HPPN_PNU_ADDR      HPPN_X     HPPN_Y SME_EVT_YN  \\\n",
       "0         1       대전광역시 서구 탄방동(탄방동) 1447-1  127.386346  36.346856        NaN   \n",
       "1         1    대전광역시 유성구 궁동(행정:온천2동) 423-8  127.349989  36.360797        NaN   \n",
       "2         1  대전광역시 유성구 봉명동(행정:온천1동) 541-26  127.348625  36.353829        NaN   \n",
       "3         1    대전광역시 중구 오류동(행정:오류동) 187-27  127.405055  36.328573        NaN   \n",
       "4         3               대전광역시 동구 가양동 630  127.445780  36.345500          N   \n",
       "\n",
       "          요일  \n",
       "0  Wednesday  \n",
       "1  Wednesday  \n",
       "2  Wednesday  \n",
       "3  Wednesday  \n",
       "4  Wednesday  "
      ]
     },
     "execution_count": 2,
     "metadata": {},
     "output_type": "execute_result"
    }
   ],
   "source": [
    "data20 = pd.read_csv(\"data/주소포함_2020.csv\", encoding = \"cp949\")\n",
    "data20.head()"
   ]
  },
  {
   "cell_type": "code",
   "execution_count": 3,
   "id": "7d022fb3",
   "metadata": {},
   "outputs": [
    {
     "name": "stdout",
     "output_type": "stream",
     "text": [
      "<class 'pandas.core.frame.DataFrame'>\n",
      "RangeIndex: 146682 entries, 0 to 146681\n",
      "Data columns (total 12 columns):\n",
      " #   Column         Non-Null Count   Dtype  \n",
      "---  ------         --------------   -----  \n",
      " 0   index          146682 non-null  int64  \n",
      " 1   RECV_DEPT_NM   146682 non-null  object \n",
      " 2   RECV_CPLT_DM   146682 non-null  object \n",
      " 3   NPA_CL         146682 non-null  int64  \n",
      " 4   EVT_STAT_CD    146682 non-null  int64  \n",
      " 5   EVT_CL_CD      146682 non-null  int64  \n",
      " 6   RPTER_SEX      146682 non-null  object \n",
      " 7   HPPN_PNU_ADDR  146682 non-null  object \n",
      " 8   HPPN_X         146682 non-null  float64\n",
      " 9   HPPN_Y         146682 non-null  float64\n",
      " 10  SME_EVT_YN     73906 non-null   object \n",
      " 11  요일             146682 non-null  object \n",
      "dtypes: float64(2), int64(4), object(6)\n",
      "memory usage: 13.4+ MB\n"
     ]
    }
   ],
   "source": [
    "data20.info()"
   ]
  },
  {
   "cell_type": "markdown",
   "id": "66c08923",
   "metadata": {},
   "source": [
    "#### 칼럼명 수정"
   ]
  },
  {
   "cell_type": "code",
   "execution_count": 4,
   "id": "76c1efae",
   "metadata": {},
   "outputs": [],
   "source": [
    "data20.rename(columns={\"RECV_DEPT_NM\":\"접수부서코드\",\"RECV_CPLT_DM\":\"접수완료일시\", \"NPA_CL\":\"경찰청구분\", \n",
    "                       \"EVT_STAT_CD\":\"사건상태코드\",\"EVT_CL_CD\":\"사건종별코드\",\"RPTER_SEX\":\"신고성별\",\n",
    "                       \"HPPN_PNU_ADDR\":\"발생지점\",\"HPPN_X\":\"발생좌표x\",\"HPPN_Y\":\"발생좌표y\",\"SME_EVT_YN\":\"동일사건여부\"}, inplace=True)"
   ]
  },
  {
   "cell_type": "code",
   "execution_count": 5,
   "id": "5ec0e347",
   "metadata": {},
   "outputs": [
    {
     "data": {
      "text/html": [
       "<div>\n",
       "<style scoped>\n",
       "    .dataframe tbody tr th:only-of-type {\n",
       "        vertical-align: middle;\n",
       "    }\n",
       "\n",
       "    .dataframe tbody tr th {\n",
       "        vertical-align: top;\n",
       "    }\n",
       "\n",
       "    .dataframe thead th {\n",
       "        text-align: right;\n",
       "    }\n",
       "</style>\n",
       "<table border=\"1\" class=\"dataframe\">\n",
       "  <thead>\n",
       "    <tr style=\"text-align: right;\">\n",
       "      <th></th>\n",
       "      <th>index</th>\n",
       "      <th>접수부서코드</th>\n",
       "      <th>접수완료일시</th>\n",
       "      <th>경찰청구분</th>\n",
       "      <th>사건상태코드</th>\n",
       "      <th>사건종별코드</th>\n",
       "      <th>신고성별</th>\n",
       "      <th>발생지점</th>\n",
       "      <th>발생좌표x</th>\n",
       "      <th>발생좌표y</th>\n",
       "      <th>동일사건여부</th>\n",
       "      <th>요일</th>\n",
       "    </tr>\n",
       "  </thead>\n",
       "  <tbody>\n",
       "    <tr>\n",
       "      <th>0</th>\n",
       "      <td>38</td>\n",
       "      <td>대전청</td>\n",
       "      <td>2020-01-01 00:32:40</td>\n",
       "      <td>13</td>\n",
       "      <td>10</td>\n",
       "      <td>402</td>\n",
       "      <td>1</td>\n",
       "      <td>대전광역시 서구 탄방동(탄방동) 1447-1</td>\n",
       "      <td>127.386346</td>\n",
       "      <td>36.346856</td>\n",
       "      <td>NaN</td>\n",
       "      <td>Wednesday</td>\n",
       "    </tr>\n",
       "    <tr>\n",
       "      <th>1</th>\n",
       "      <td>41</td>\n",
       "      <td>대전청</td>\n",
       "      <td>2020-01-01 00:35:32</td>\n",
       "      <td>13</td>\n",
       "      <td>10</td>\n",
       "      <td>406</td>\n",
       "      <td>1</td>\n",
       "      <td>대전광역시 유성구 궁동(행정:온천2동) 423-8</td>\n",
       "      <td>127.349989</td>\n",
       "      <td>36.360797</td>\n",
       "      <td>NaN</td>\n",
       "      <td>Wednesday</td>\n",
       "    </tr>\n",
       "    <tr>\n",
       "      <th>2</th>\n",
       "      <td>54</td>\n",
       "      <td>대전청</td>\n",
       "      <td>2020-01-01 00:21:35</td>\n",
       "      <td>13</td>\n",
       "      <td>10</td>\n",
       "      <td>401</td>\n",
       "      <td>1</td>\n",
       "      <td>대전광역시 유성구 봉명동(행정:온천1동) 541-26</td>\n",
       "      <td>127.348625</td>\n",
       "      <td>36.353829</td>\n",
       "      <td>NaN</td>\n",
       "      <td>Wednesday</td>\n",
       "    </tr>\n",
       "  </tbody>\n",
       "</table>\n",
       "</div>"
      ],
      "text/plain": [
       "   index 접수부서코드               접수완료일시  경찰청구분  사건상태코드  사건종별코드 신고성별  \\\n",
       "0     38    대전청  2020-01-01 00:32:40     13      10     402    1   \n",
       "1     41    대전청  2020-01-01 00:35:32     13      10     406    1   \n",
       "2     54    대전청  2020-01-01 00:21:35     13      10     401    1   \n",
       "\n",
       "                            발생지점       발생좌표x      발생좌표y 동일사건여부         요일  \n",
       "0       대전광역시 서구 탄방동(탄방동) 1447-1  127.386346  36.346856    NaN  Wednesday  \n",
       "1    대전광역시 유성구 궁동(행정:온천2동) 423-8  127.349989  36.360797    NaN  Wednesday  \n",
       "2  대전광역시 유성구 봉명동(행정:온천1동) 541-26  127.348625  36.353829    NaN  Wednesday  "
      ]
     },
     "execution_count": 5,
     "metadata": {},
     "output_type": "execute_result"
    }
   ],
   "source": [
    "data20.head(3)"
   ]
  },
  {
   "cell_type": "markdown",
   "id": "beb09732",
   "metadata": {},
   "source": [
    "#### 데이터타입 변경 (접수완료일시)"
   ]
  },
  {
   "cell_type": "code",
   "execution_count": 7,
   "id": "a6f2d784",
   "metadata": {},
   "outputs": [],
   "source": [
    "data20['접수완료일시'] = pd.to_datetime(data20['접수완료일시'])"
   ]
  },
  {
   "cell_type": "code",
   "execution_count": 8,
   "id": "0ffec98b",
   "metadata": {},
   "outputs": [
    {
     "name": "stdout",
     "output_type": "stream",
     "text": [
      "<class 'pandas.core.frame.DataFrame'>\n",
      "RangeIndex: 146682 entries, 0 to 146681\n",
      "Data columns (total 12 columns):\n",
      " #   Column  Non-Null Count   Dtype         \n",
      "---  ------  --------------   -----         \n",
      " 0   index   146682 non-null  int64         \n",
      " 1   접수부서코드  146682 non-null  object        \n",
      " 2   접수완료일시  146682 non-null  datetime64[ns]\n",
      " 3   경찰청구분   146682 non-null  int64         \n",
      " 4   사건상태코드  146682 non-null  int64         \n",
      " 5   사건종별코드  146682 non-null  int64         \n",
      " 6   신고성별    146682 non-null  object        \n",
      " 7   발생지점    146682 non-null  object        \n",
      " 8   발생좌표x   146682 non-null  float64       \n",
      " 9   발생좌표y   146682 non-null  float64       \n",
      " 10  동일사건여부  73906 non-null   object        \n",
      " 11  요일      146682 non-null  object        \n",
      "dtypes: datetime64[ns](1), float64(2), int64(4), object(5)\n",
      "memory usage: 13.4+ MB\n"
     ]
    }
   ],
   "source": [
    "data20.info()"
   ]
  },
  {
   "cell_type": "markdown",
   "id": "f54b26c0",
   "metadata": {},
   "source": [
    "#### 각 사건 데이터프레임 준비"
   ]
  },
  {
   "cell_type": "code",
   "execution_count": 11,
   "id": "37f09765",
   "metadata": {},
   "outputs": [],
   "source": [
    "inconv20=data20[data20[\"사건종별코드\"]==402] #교통불편\n",
    "viol20=data20[data20[\"사건종별코드\"]==403] #교통위반\n",
    "a404_20=data20[data20[\"사건종별코드\"]==404] #사망 대형사고\n",
    "a405_20=data20[data20[\"사건종별코드\"]==405] #인피도주"
   ]
  },
  {
   "cell_type": "markdown",
   "id": "adb0f4ce",
   "metadata": {},
   "source": [
    "## 1-1. 2020년 교통불편 그래프 그리기"
   ]
  },
  {
   "cell_type": "markdown",
   "id": "390d9a8a",
   "metadata": {},
   "source": [
    "#### \"접수시간대\" 칼럼 추가"
   ]
  },
  {
   "cell_type": "code",
   "execution_count": 14,
   "id": "d9cec798",
   "metadata": {},
   "outputs": [
    {
     "name": "stderr",
     "output_type": "stream",
     "text": [
      "C:\\Users\\USER\\AppData\\Local\\Temp\\ipykernel_15912\\850061613.py:2: SettingWithCopyWarning: \n",
      "A value is trying to be set on a copy of a slice from a DataFrame.\n",
      "Try using .loc[row_indexer,col_indexer] = value instead\n",
      "\n",
      "See the caveats in the documentation: https://pandas.pydata.org/pandas-docs/stable/user_guide/indexing.html#returning-a-view-versus-a-copy\n",
      "  inconv20[\"접수시간대\"] = inconv20['접수완료일시'].dt.hour\n"
     ]
    }
   ],
   "source": [
    "# df[column nam].dt.hour \n",
    "inconv20[\"접수시간대\"] = inconv20['접수완료일시'].dt.hour"
   ]
  },
  {
   "cell_type": "code",
   "execution_count": 15,
   "id": "0d1330d4",
   "metadata": {},
   "outputs": [
    {
     "data": {
      "text/html": [
       "<div>\n",
       "<style scoped>\n",
       "    .dataframe tbody tr th:only-of-type {\n",
       "        vertical-align: middle;\n",
       "    }\n",
       "\n",
       "    .dataframe tbody tr th {\n",
       "        vertical-align: top;\n",
       "    }\n",
       "\n",
       "    .dataframe thead th {\n",
       "        text-align: right;\n",
       "    }\n",
       "</style>\n",
       "<table border=\"1\" class=\"dataframe\">\n",
       "  <thead>\n",
       "    <tr style=\"text-align: right;\">\n",
       "      <th></th>\n",
       "      <th>index</th>\n",
       "      <th>접수부서코드</th>\n",
       "      <th>접수완료일시</th>\n",
       "      <th>경찰청구분</th>\n",
       "      <th>사건상태코드</th>\n",
       "      <th>사건종별코드</th>\n",
       "      <th>신고성별</th>\n",
       "      <th>발생지점</th>\n",
       "      <th>발생좌표x</th>\n",
       "      <th>발생좌표y</th>\n",
       "      <th>동일사건여부</th>\n",
       "      <th>요일</th>\n",
       "      <th>접수시간대</th>\n",
       "    </tr>\n",
       "  </thead>\n",
       "  <tbody>\n",
       "    <tr>\n",
       "      <th>0</th>\n",
       "      <td>38</td>\n",
       "      <td>대전청</td>\n",
       "      <td>2020-01-01 00:32:40</td>\n",
       "      <td>13</td>\n",
       "      <td>10</td>\n",
       "      <td>402</td>\n",
       "      <td>1</td>\n",
       "      <td>대전광역시 서구 탄방동(탄방동) 1447-1</td>\n",
       "      <td>127.386346</td>\n",
       "      <td>36.346856</td>\n",
       "      <td>NaN</td>\n",
       "      <td>Wednesday</td>\n",
       "      <td>0</td>\n",
       "    </tr>\n",
       "    <tr>\n",
       "      <th>17</th>\n",
       "      <td>229</td>\n",
       "      <td>대전청</td>\n",
       "      <td>2020-01-01 20:30:28</td>\n",
       "      <td>13</td>\n",
       "      <td>10</td>\n",
       "      <td>402</td>\n",
       "      <td>1</td>\n",
       "      <td>대전광역시 서구 갈마동(행정:갈마2동) 345-10</td>\n",
       "      <td>127.373106</td>\n",
       "      <td>36.347504</td>\n",
       "      <td>NaN</td>\n",
       "      <td>Wednesday</td>\n",
       "      <td>20</td>\n",
       "    </tr>\n",
       "    <tr>\n",
       "      <th>28</th>\n",
       "      <td>336</td>\n",
       "      <td>대전청</td>\n",
       "      <td>2020-01-01 21:40:45</td>\n",
       "      <td>13</td>\n",
       "      <td>10</td>\n",
       "      <td>402</td>\n",
       "      <td>1</td>\n",
       "      <td>대전광역시 서구 내동(행정:내동) 152-18</td>\n",
       "      <td>127.368317</td>\n",
       "      <td>36.335125</td>\n",
       "      <td>NaN</td>\n",
       "      <td>Wednesday</td>\n",
       "      <td>21</td>\n",
       "    </tr>\n",
       "  </tbody>\n",
       "</table>\n",
       "</div>"
      ],
      "text/plain": [
       "    index 접수부서코드              접수완료일시  경찰청구분  사건상태코드  사건종별코드 신고성별  \\\n",
       "0      38    대전청 2020-01-01 00:32:40     13      10     402    1   \n",
       "17    229    대전청 2020-01-01 20:30:28     13      10     402    1   \n",
       "28    336    대전청 2020-01-01 21:40:45     13      10     402    1   \n",
       "\n",
       "                            발생지점       발생좌표x      발생좌표y 동일사건여부         요일  \\\n",
       "0       대전광역시 서구 탄방동(탄방동) 1447-1  127.386346  36.346856    NaN  Wednesday   \n",
       "17  대전광역시 서구 갈마동(행정:갈마2동) 345-10  127.373106  36.347504    NaN  Wednesday   \n",
       "28     대전광역시 서구 내동(행정:내동) 152-18  127.368317  36.335125    NaN  Wednesday   \n",
       "\n",
       "    접수시간대  \n",
       "0       0  \n",
       "17     20  \n",
       "28     21  "
      ]
     },
     "execution_count": 15,
     "metadata": {},
     "output_type": "execute_result"
    }
   ],
   "source": [
    "inconv20.head(3)"
   ]
  },
  {
   "cell_type": "markdown",
   "id": "48e700ea",
   "metadata": {},
   "source": [
    "#### 그래프 그리기"
   ]
  },
  {
   "cell_type": "code",
   "execution_count": 16,
   "id": "f81a97e3",
   "metadata": {},
   "outputs": [
    {
     "name": "stderr",
     "output_type": "stream",
     "text": [
      "C:\\py\\lib\\site-packages\\seaborn\\_decorators.py:36: FutureWarning: Pass the following variable as a keyword arg: x. From version 0.12, the only valid positional argument will be `data`, and passing other arguments without an explicit keyword will result in an error or misinterpretation.\n",
      "  warnings.warn(\n"
     ]
    },
    {
     "data": {
      "text/plain": [
       "<AxesSubplot:title={'center':'2020년 교통불편 접수 시간대별 빈도'}, xlabel='접수시간대', ylabel='count'>"
      ]
     },
     "execution_count": 16,
     "metadata": {},
     "output_type": "execute_result"
    },
    {
     "data": {
      "image/png": "[encoded data removed]",
      "text/plain": [
       "<Figure size 720x720 with 1 Axes>"
      ]
     },
     "metadata": {
      "needs_background": "light"
     },
     "output_type": "display_data"
    }
   ],
   "source": [
    "plt.figure(figsize=(10,10))\n",
    "plt.title(\"2020년 교통불편 접수 시간대별 빈도\")\n",
    "sns.countplot(\"접수시간대\", data=inconv20)"
   ]
  },
  {
   "cell_type": "markdown",
   "id": "4c3f5fb3",
   "metadata": {},
   "source": [
    "## 1-2. 2020년 교통위반 그래프 그리기"
   ]
  },
  {
   "cell_type": "markdown",
   "id": "d15b2c7c",
   "metadata": {},
   "source": [
    "#### \"접수시간대\" 칼럼 추가"
   ]
  },
  {
   "cell_type": "code",
   "execution_count": 17,
   "id": "2cc3c315",
   "metadata": {},
   "outputs": [
    {
     "name": "stderr",
     "output_type": "stream",
     "text": [
      "C:\\Users\\USER\\AppData\\Local\\Temp\\ipykernel_15912\\4146359126.py:2: SettingWithCopyWarning: \n",
      "A value is trying to be set on a copy of a slice from a DataFrame.\n",
      "Try using .loc[row_indexer,col_indexer] = value instead\n",
      "\n",
      "See the caveats in the documentation: https://pandas.pydata.org/pandas-docs/stable/user_guide/indexing.html#returning-a-view-versus-a-copy\n",
      "  viol20[\"접수시간대\"] = viol20['접수완료일시'].dt.hour\n"
     ]
    }
   ],
   "source": [
    "# df[column nam].dt.hour \n",
    "viol20[\"접수시간대\"] = viol20['접수완료일시'].dt.hour"
   ]
  },
  {
   "cell_type": "code",
   "execution_count": 18,
   "id": "9dda8d6b",
   "metadata": {},
   "outputs": [
    {
     "data": {
      "text/html": [
       "<div>\n",
       "<style scoped>\n",
       "    .dataframe tbody tr th:only-of-type {\n",
       "        vertical-align: middle;\n",
       "    }\n",
       "\n",
       "    .dataframe tbody tr th {\n",
       "        vertical-align: top;\n",
       "    }\n",
       "\n",
       "    .dataframe thead th {\n",
       "        text-align: right;\n",
       "    }\n",
       "</style>\n",
       "<table border=\"1\" class=\"dataframe\">\n",
       "  <thead>\n",
       "    <tr style=\"text-align: right;\">\n",
       "      <th></th>\n",
       "      <th>index</th>\n",
       "      <th>접수부서코드</th>\n",
       "      <th>접수완료일시</th>\n",
       "      <th>경찰청구분</th>\n",
       "      <th>사건상태코드</th>\n",
       "      <th>사건종별코드</th>\n",
       "      <th>신고성별</th>\n",
       "      <th>발생지점</th>\n",
       "      <th>발생좌표x</th>\n",
       "      <th>발생좌표y</th>\n",
       "      <th>동일사건여부</th>\n",
       "      <th>요일</th>\n",
       "      <th>접수시간대</th>\n",
       "    </tr>\n",
       "  </thead>\n",
       "  <tbody>\n",
       "    <tr>\n",
       "      <th>5</th>\n",
       "      <td>118</td>\n",
       "      <td>대전청</td>\n",
       "      <td>2020-01-01 18:46:47</td>\n",
       "      <td>13</td>\n",
       "      <td>10</td>\n",
       "      <td>403</td>\n",
       "      <td>1</td>\n",
       "      <td>대전광역시 중구 중촌동</td>\n",
       "      <td>127.404663</td>\n",
       "      <td>36.341685</td>\n",
       "      <td>NaN</td>\n",
       "      <td>Wednesday</td>\n",
       "      <td>18</td>\n",
       "    </tr>\n",
       "    <tr>\n",
       "      <th>7</th>\n",
       "      <td>146</td>\n",
       "      <td>대전청</td>\n",
       "      <td>2020-01-01 19:08:41</td>\n",
       "      <td>13</td>\n",
       "      <td>10</td>\n",
       "      <td>403</td>\n",
       "      <td>3</td>\n",
       "      <td>대전광역시 동구 용운동(용운동) 349-4</td>\n",
       "      <td>127.460556</td>\n",
       "      <td>36.327222</td>\n",
       "      <td>NaN</td>\n",
       "      <td>Wednesday</td>\n",
       "      <td>19</td>\n",
       "    </tr>\n",
       "    <tr>\n",
       "      <th>9</th>\n",
       "      <td>149</td>\n",
       "      <td>대전청</td>\n",
       "      <td>2020-01-01 19:17:00</td>\n",
       "      <td>13</td>\n",
       "      <td>10</td>\n",
       "      <td>403</td>\n",
       "      <td>1</td>\n",
       "      <td>충청북도 청주시 흥덕구 비하동(강서1동) 409-3</td>\n",
       "      <td>127.419167</td>\n",
       "      <td>36.631944</td>\n",
       "      <td>Y</td>\n",
       "      <td>Wednesday</td>\n",
       "      <td>19</td>\n",
       "    </tr>\n",
       "  </tbody>\n",
       "</table>\n",
       "</div>"
      ],
      "text/plain": [
       "   index 접수부서코드              접수완료일시  경찰청구분  사건상태코드  사건종별코드 신고성별  \\\n",
       "5    118    대전청 2020-01-01 18:46:47     13      10     403    1   \n",
       "7    146    대전청 2020-01-01 19:08:41     13      10     403    3   \n",
       "9    149    대전청 2020-01-01 19:17:00     13      10     403    1   \n",
       "\n",
       "                           발생지점       발생좌표x      발생좌표y 동일사건여부         요일  \\\n",
       "5                  대전광역시 중구 중촌동  127.404663  36.341685    NaN  Wednesday   \n",
       "7       대전광역시 동구 용운동(용운동) 349-4  127.460556  36.327222    NaN  Wednesday   \n",
       "9  충청북도 청주시 흥덕구 비하동(강서1동) 409-3  127.419167  36.631944      Y  Wednesday   \n",
       "\n",
       "   접수시간대  \n",
       "5     18  \n",
       "7     19  \n",
       "9     19  "
      ]
     },
     "execution_count": 18,
     "metadata": {},
     "output_type": "execute_result"
    }
   ],
   "source": [
    "viol20.head(3)"
   ]
  },
  {
   "cell_type": "markdown",
   "id": "62a318c8",
   "metadata": {},
   "source": [
    "#### 그래프 그리기"
   ]
  },
  {
   "cell_type": "code",
   "execution_count": 19,
   "id": "ab2791c3",
   "metadata": {},
   "outputs": [
    {
     "name": "stderr",
     "output_type": "stream",
     "text": [
      "C:\\py\\lib\\site-packages\\seaborn\\_decorators.py:36: FutureWarning: Pass the following variable as a keyword arg: x. From version 0.12, the only valid positional argument will be `data`, and passing other arguments without an explicit keyword will result in an error or misinterpretation.\n",
      "  warnings.warn(\n"
     ]
    },
    {
     "data": {
      "text/plain": [
       "<AxesSubplot:title={'center':'2020년 교통위반 접수 시간대별 빈도'}, xlabel='접수시간대', ylabel='count'>"
      ]
     },
     "execution_count": 19,
     "metadata": {},
     "output_type": "execute_result"
    },
    {
     "data": {
      "image/png": "[encoded data removed]",
      "text/plain": [
       "<Figure size 720x720 with 1 Axes>"
      ]
     },
     "metadata": {
      "needs_background": "light"
     },
     "output_type": "display_data"
    }
   ],
   "source": [
    "plt.figure(figsize=(10,10))\n",
    "plt.title(\"2020년 교통위반 접수 시간대별 빈도\")\n",
    "sns.countplot(\"접수시간대\", data=viol20)"
   ]
  },
  {
   "cell_type": "markdown",
   "id": "fe1ef480",
   "metadata": {},
   "source": [
    "## 1-3. 2020년 사망대형사고 그래프 그리기"
   ]
  },
  {
   "cell_type": "markdown",
   "id": "2d4f280f",
   "metadata": {},
   "source": [
    "#### \"접수시간대\" 칼럼 추가"
   ]
  },
  {
   "cell_type": "code",
   "execution_count": 20,
   "id": "3064728c",
   "metadata": {},
   "outputs": [
    {
     "name": "stderr",
     "output_type": "stream",
     "text": [
      "C:\\Users\\USER\\AppData\\Local\\Temp\\ipykernel_15912\\4012825254.py:2: SettingWithCopyWarning: \n",
      "A value is trying to be set on a copy of a slice from a DataFrame.\n",
      "Try using .loc[row_indexer,col_indexer] = value instead\n",
      "\n",
      "See the caveats in the documentation: https://pandas.pydata.org/pandas-docs/stable/user_guide/indexing.html#returning-a-view-versus-a-copy\n",
      "  a404_20[\"접수시간대\"] = a404_20['접수완료일시'].dt.hour\n"
     ]
    }
   ],
   "source": [
    "# df[column nam].dt.hour \n",
    "a404_20[\"접수시간대\"] = a404_20['접수완료일시'].dt.hour"
   ]
  },
  {
   "cell_type": "code",
   "execution_count": 21,
   "id": "0d061d41",
   "metadata": {},
   "outputs": [
    {
     "name": "stdout",
     "output_type": "stream",
     "text": [
      "<class 'pandas.core.frame.DataFrame'>\n",
      "Int64Index: 7 entries, 947 to 135006\n",
      "Data columns (total 13 columns):\n",
      " #   Column  Non-Null Count  Dtype         \n",
      "---  ------  --------------  -----         \n",
      " 0   index   7 non-null      int64         \n",
      " 1   접수부서코드  7 non-null      object        \n",
      " 2   접수완료일시  7 non-null      datetime64[ns]\n",
      " 3   경찰청구분   7 non-null      int64         \n",
      " 4   사건상태코드  7 non-null      int64         \n",
      " 5   사건종별코드  7 non-null      int64         \n",
      " 6   신고성별    7 non-null      object        \n",
      " 7   발생지점    7 non-null      object        \n",
      " 8   발생좌표x   7 non-null      float64       \n",
      " 9   발생좌표y   7 non-null      float64       \n",
      " 10  동일사건여부  6 non-null      object        \n",
      " 11  요일      7 non-null      object        \n",
      " 12  접수시간대   7 non-null      int64         \n",
      "dtypes: datetime64[ns](1), float64(2), int64(5), object(5)\n",
      "memory usage: 784.0+ bytes\n"
     ]
    }
   ],
   "source": [
    "a404_20.info()"
   ]
  },
  {
   "cell_type": "markdown",
   "id": "b01f3ea2",
   "metadata": {},
   "source": [
    "#### 그래프 그리기"
   ]
  },
  {
   "cell_type": "code",
   "execution_count": 22,
   "id": "3390ecb3",
   "metadata": {},
   "outputs": [
    {
     "name": "stderr",
     "output_type": "stream",
     "text": [
      "C:\\py\\lib\\site-packages\\seaborn\\_decorators.py:36: FutureWarning: Pass the following variable as a keyword arg: x. From version 0.12, the only valid positional argument will be `data`, and passing other arguments without an explicit keyword will result in an error or misinterpretation.\n",
      "  warnings.warn(\n"
     ]
    },
    {
     "data": {
      "text/plain": [
       "<AxesSubplot:title={'center':'2020년 사망대형사고 접수 시간대별 빈도'}, xlabel='접수시간대', ylabel='count'>"
      ]
     },
     "execution_count": 22,
     "metadata": {},
     "output_type": "execute_result"
    },
    {
     "data": {
      "image/png": "[encoded data removed]",
      "text/plain": [
       "<Figure size 720x720 with 1 Axes>"
      ]
     },
     "metadata": {
      "needs_background": "light"
     },
     "output_type": "display_data"
    }
   ],
   "source": [
    "plt.figure(figsize=(10,10))\n",
    "plt.title(\"2020년 사망대형사고 접수 시간대별 빈도\")\n",
    "sns.countplot(\"접수시간대\", data=a404_20)"
   ]
  },
  {
   "cell_type": "markdown",
   "id": "f991e466",
   "metadata": {},
   "source": [
    "## 1-4. 2020년 인피도주 그래프 그리기"
   ]
  },
  {
   "cell_type": "markdown",
   "id": "d4d20b88",
   "metadata": {},
   "source": [
    "#### \"접수시간대\" 칼럼 추가"
   ]
  },
  {
   "cell_type": "code",
   "execution_count": 25,
   "id": "86e5bad4",
   "metadata": {},
   "outputs": [
    {
     "name": "stderr",
     "output_type": "stream",
     "text": [
      "C:\\Users\\USER\\AppData\\Local\\Temp\\ipykernel_15912\\3455731449.py:1: SettingWithCopyWarning: \n",
      "A value is trying to be set on a copy of a slice from a DataFrame.\n",
      "Try using .loc[row_indexer,col_indexer] = value instead\n",
      "\n",
      "See the caveats in the documentation: https://pandas.pydata.org/pandas-docs/stable/user_guide/indexing.html#returning-a-view-versus-a-copy\n",
      "  a405_20[\"접수시간대\"] = a405_20[\"접수완료일시\"].dt.hour\n"
     ]
    }
   ],
   "source": [
    "a405_20[\"접수시간대\"] = a405_20[\"접수완료일시\"].dt.hour"
   ]
  },
  {
   "cell_type": "code",
   "execution_count": 26,
   "id": "f383da57",
   "metadata": {},
   "outputs": [
    {
     "data": {
      "text/html": [
       "<div>\n",
       "<style scoped>\n",
       "    .dataframe tbody tr th:only-of-type {\n",
       "        vertical-align: middle;\n",
       "    }\n",
       "\n",
       "    .dataframe tbody tr th {\n",
       "        vertical-align: top;\n",
       "    }\n",
       "\n",
       "    .dataframe thead th {\n",
       "        text-align: right;\n",
       "    }\n",
       "</style>\n",
       "<table border=\"1\" class=\"dataframe\">\n",
       "  <thead>\n",
       "    <tr style=\"text-align: right;\">\n",
       "      <th></th>\n",
       "      <th>index</th>\n",
       "      <th>접수부서코드</th>\n",
       "      <th>접수완료일시</th>\n",
       "      <th>경찰청구분</th>\n",
       "      <th>사건상태코드</th>\n",
       "      <th>사건종별코드</th>\n",
       "      <th>신고성별</th>\n",
       "      <th>발생지점</th>\n",
       "      <th>발생좌표x</th>\n",
       "      <th>발생좌표y</th>\n",
       "      <th>동일사건여부</th>\n",
       "      <th>요일</th>\n",
       "      <th>접수시간대</th>\n",
       "    </tr>\n",
       "  </thead>\n",
       "  <tbody>\n",
       "    <tr>\n",
       "      <th>1457</th>\n",
       "      <td>12861</td>\n",
       "      <td>대전청</td>\n",
       "      <td>2020-01-05 02:52:39</td>\n",
       "      <td>13</td>\n",
       "      <td>10</td>\n",
       "      <td>405</td>\n",
       "      <td>1</td>\n",
       "      <td>대전광역시 서구 둔산동(둔산2동) 1036</td>\n",
       "      <td>127.378236</td>\n",
       "      <td>36.351491</td>\n",
       "      <td>NaN</td>\n",
       "      <td>Sunday</td>\n",
       "      <td>2</td>\n",
       "    </tr>\n",
       "    <tr>\n",
       "      <th>1660</th>\n",
       "      <td>14599</td>\n",
       "      <td>충남청</td>\n",
       "      <td>2020-01-05 03:10:53</td>\n",
       "      <td>19</td>\n",
       "      <td>10</td>\n",
       "      <td>405</td>\n",
       "      <td>1</td>\n",
       "      <td>대전광역시 서구 둔산동(둔산2동) 1036</td>\n",
       "      <td>127.378236</td>\n",
       "      <td>36.351491</td>\n",
       "      <td>NaN</td>\n",
       "      <td>Sunday</td>\n",
       "      <td>3</td>\n",
       "    </tr>\n",
       "    <tr>\n",
       "      <th>20699</th>\n",
       "      <td>176425</td>\n",
       "      <td>대전청</td>\n",
       "      <td>2020-05-27 03:28:46</td>\n",
       "      <td>13</td>\n",
       "      <td>10</td>\n",
       "      <td>405</td>\n",
       "      <td>3</td>\n",
       "      <td>대전광역시 서구 내동(내동) 152-27</td>\n",
       "      <td>127.366944</td>\n",
       "      <td>36.335000</td>\n",
       "      <td>NaN</td>\n",
       "      <td>Wednesday</td>\n",
       "      <td>3</td>\n",
       "    </tr>\n",
       "  </tbody>\n",
       "</table>\n",
       "</div>"
      ],
      "text/plain": [
       "        index 접수부서코드              접수완료일시  경찰청구분  사건상태코드  사건종별코드 신고성별  \\\n",
       "1457    12861    대전청 2020-01-05 02:52:39     13      10     405    1   \n",
       "1660    14599    충남청 2020-01-05 03:10:53     19      10     405    1   \n",
       "20699  176425    대전청 2020-05-27 03:28:46     13      10     405    3   \n",
       "\n",
       "                          발생지점       발생좌표x      발생좌표y 동일사건여부         요일  접수시간대  \n",
       "1457   대전광역시 서구 둔산동(둔산2동) 1036  127.378236  36.351491    NaN     Sunday      2  \n",
       "1660   대전광역시 서구 둔산동(둔산2동) 1036  127.378236  36.351491    NaN     Sunday      3  \n",
       "20699   대전광역시 서구 내동(내동) 152-27  127.366944  36.335000    NaN  Wednesday      3  "
      ]
     },
     "execution_count": 26,
     "metadata": {},
     "output_type": "execute_result"
    }
   ],
   "source": [
    "a405_20.head(3)"
   ]
  },
  {
   "cell_type": "markdown",
   "id": "f53c4118",
   "metadata": {},
   "source": [
    "#### 그래프 그리기"
   ]
  },
  {
   "cell_type": "code",
   "execution_count": 28,
   "id": "a2eaf1fd",
   "metadata": {},
   "outputs": [
    {
     "name": "stderr",
     "output_type": "stream",
     "text": [
      "C:\\py\\lib\\site-packages\\seaborn\\_decorators.py:36: FutureWarning: Pass the following variable as a keyword arg: x. From version 0.12, the only valid positional argument will be `data`, and passing other arguments without an explicit keyword will result in an error or misinterpretation.\n",
      "  warnings.warn(\n"
     ]
    },
    {
     "data": {
      "text/plain": [
       "<AxesSubplot:title={'center':'2020년 사망대형사고 접수 시간대별 빈도'}, xlabel='접수시간대', ylabel='count'>"
      ]
     },
     "execution_count": 28,
     "metadata": {},
     "output_type": "execute_result"
    },
    {
     "data": {
      "image/png": "[encoded data removed]",
      "text/plain": [
       "<Figure size 720x720 with 1 Axes>"
      ]
     },
     "metadata": {
      "needs_background": "light"
     },
     "output_type": "display_data"
    }
   ],
   "source": [
    "plt.figure(figsize=(10,10))\n",
    "plt.title(\"2020년 사망대형사고 접수 시간대별 빈도\")\n",
    "sns.countplot(\"접수시간대\", data=a405_20)"
   ]
  },
  {
   "cell_type": "markdown",
   "id": "0f7aed9f",
   "metadata": {},
   "source": [
    "# 2. 2021년 교통불편, 교통위반, 사망대형사고, 인피도주 데이터 준비"
   ]
  },
  {
   "cell_type": "code",
   "execution_count": 4,
   "id": "c69ecd2a",
   "metadata": {},
   "outputs": [
    {
     "data": {
      "text/html": [
       "<div>\n",
       "<style scoped>\n",
       "    .dataframe tbody tr th:only-of-type {\n",
       "        vertical-align: middle;\n",
       "    }\n",
       "\n",
       "    .dataframe tbody tr th {\n",
       "        vertical-align: top;\n",
       "    }\n",
       "\n",
       "    .dataframe thead th {\n",
       "        text-align: right;\n",
       "    }\n",
       "</style>\n",
       "<table border=\"1\" class=\"dataframe\">\n",
       "  <thead>\n",
       "    <tr style=\"text-align: right;\">\n",
       "      <th></th>\n",
       "      <th>index</th>\n",
       "      <th>RECV_DEPT_NM</th>\n",
       "      <th>RECV_CPLT_DM</th>\n",
       "      <th>NPA_CL</th>\n",
       "      <th>EVT_STAT_CD</th>\n",
       "      <th>EVT_CL_CD</th>\n",
       "      <th>RPTER_SEX</th>\n",
       "      <th>HPPN_PNU_ADDR</th>\n",
       "      <th>HPPN_X</th>\n",
       "      <th>HPPN_Y</th>\n",
       "      <th>SME_EVT_YN</th>\n",
       "      <th>요일</th>\n",
       "    </tr>\n",
       "  </thead>\n",
       "  <tbody>\n",
       "    <tr>\n",
       "      <th>0</th>\n",
       "      <td>14</td>\n",
       "      <td>충남청</td>\n",
       "      <td>2021-03-07 00:02:48</td>\n",
       "      <td>19</td>\n",
       "      <td>10</td>\n",
       "      <td>406</td>\n",
       "      <td>1.0</td>\n",
       "      <td>충청남도 천안시 서북구 불당동(불당동) 1625</td>\n",
       "      <td>127.107500</td>\n",
       "      <td>36.811944</td>\n",
       "      <td>NaN</td>\n",
       "      <td>Sunday</td>\n",
       "    </tr>\n",
       "    <tr>\n",
       "      <th>1</th>\n",
       "      <td>20</td>\n",
       "      <td>충남청</td>\n",
       "      <td>2021-03-07 00:09:04</td>\n",
       "      <td>19</td>\n",
       "      <td>10</td>\n",
       "      <td>402</td>\n",
       "      <td>1.0</td>\n",
       "      <td>충청남도 천안시 동남구 문화동(문성동) 41-5</td>\n",
       "      <td>127.150988</td>\n",
       "      <td>36.811792</td>\n",
       "      <td>Y</td>\n",
       "      <td>Sunday</td>\n",
       "    </tr>\n",
       "    <tr>\n",
       "      <th>2</th>\n",
       "      <td>23</td>\n",
       "      <td>대전청</td>\n",
       "      <td>2021-03-07 00:07:54</td>\n",
       "      <td>13</td>\n",
       "      <td>10</td>\n",
       "      <td>401</td>\n",
       "      <td>2.0</td>\n",
       "      <td>대전광역시 서구 괴정동(괴정동) 367-40</td>\n",
       "      <td>127.371854</td>\n",
       "      <td>36.341961</td>\n",
       "      <td>NaN</td>\n",
       "      <td>Sunday</td>\n",
       "    </tr>\n",
       "  </tbody>\n",
       "</table>\n",
       "</div>"
      ],
      "text/plain": [
       "   index RECV_DEPT_NM         RECV_CPLT_DM  NPA_CL  EVT_STAT_CD  EVT_CL_CD  \\\n",
       "0     14          충남청  2021-03-07 00:02:48      19           10        406   \n",
       "1     20          충남청  2021-03-07 00:09:04      19           10        402   \n",
       "2     23          대전청  2021-03-07 00:07:54      13           10        401   \n",
       "\n",
       "   RPTER_SEX               HPPN_PNU_ADDR      HPPN_X     HPPN_Y SME_EVT_YN  \\\n",
       "0        1.0  충청남도 천안시 서북구 불당동(불당동) 1625  127.107500  36.811944        NaN   \n",
       "1        1.0  충청남도 천안시 동남구 문화동(문성동) 41-5  127.150988  36.811792          Y   \n",
       "2        2.0    대전광역시 서구 괴정동(괴정동) 367-40  127.371854  36.341961        NaN   \n",
       "\n",
       "       요일  \n",
       "0  Sunday  \n",
       "1  Sunday  \n",
       "2  Sunday  "
      ]
     },
     "execution_count": 4,
     "metadata": {},
     "output_type": "execute_result"
    }
   ],
   "source": [
    "data21 = pd.read_csv(\"data/주소포함_2021.csv\", encoding = \"cp949\")\n",
    "data21.head(3)"
   ]
  },
  {
   "cell_type": "code",
   "execution_count": 5,
   "id": "f37f568d",
   "metadata": {},
   "outputs": [
    {
     "name": "stdout",
     "output_type": "stream",
     "text": [
      "<class 'pandas.core.frame.DataFrame'>\n",
      "RangeIndex: 276633 entries, 0 to 276632\n",
      "Data columns (total 12 columns):\n",
      " #   Column         Non-Null Count   Dtype  \n",
      "---  ------         --------------   -----  \n",
      " 0   index          276633 non-null  int64  \n",
      " 1   RECV_DEPT_NM   276633 non-null  object \n",
      " 2   RECV_CPLT_DM   276633 non-null  object \n",
      " 3   NPA_CL         276633 non-null  int64  \n",
      " 4   EVT_STAT_CD    276633 non-null  int64  \n",
      " 5   EVT_CL_CD      276633 non-null  int64  \n",
      " 6   RPTER_SEX      276633 non-null  float64\n",
      " 7   HPPN_PNU_ADDR  276633 non-null  object \n",
      " 8   HPPN_X         276593 non-null  float64\n",
      " 9   HPPN_Y         276593 non-null  float64\n",
      " 10  SME_EVT_YN     66823 non-null   object \n",
      " 11  요일             276633 non-null  object \n",
      "dtypes: float64(3), int64(4), object(5)\n",
      "memory usage: 25.3+ MB\n"
     ]
    }
   ],
   "source": [
    "data21.info()"
   ]
  },
  {
   "cell_type": "markdown",
   "id": "c47e06f2",
   "metadata": {},
   "source": [
    "#### 컬럼명 수정"
   ]
  },
  {
   "cell_type": "code",
   "execution_count": 7,
   "id": "dbee8cee",
   "metadata": {},
   "outputs": [],
   "source": [
    "data21.rename(columns={\"RECV_DEPT_NM\":\"접수부서코드\",\"RECV_CPLT_DM\":\"접수완료일시\", \"NPA_CL\":\"경찰청구분\", \n",
    "                       \"EVT_STAT_CD\":\"사건상태코드\",\"EVT_CL_CD\":\"사건종별코드\",\"RPTER_SEX\":\"신고성별\",\n",
    "                       \"HPPN_PNU_ADDR\":\"발생지점\",\"HPPN_X\":\"발생좌표x\",\"HPPN_Y\":\"발생좌표y\",\"SME_EVT_YN\":\"동일사건여부\"}, inplace=True)"
   ]
  },
  {
   "cell_type": "code",
   "execution_count": 8,
   "id": "52cb604b",
   "metadata": {},
   "outputs": [
    {
     "data": {
      "text/html": [
       "<div>\n",
       "<style scoped>\n",
       "    .dataframe tbody tr th:only-of-type {\n",
       "        vertical-align: middle;\n",
       "    }\n",
       "\n",
       "    .dataframe tbody tr th {\n",
       "        vertical-align: top;\n",
       "    }\n",
       "\n",
       "    .dataframe thead th {\n",
       "        text-align: right;\n",
       "    }\n",
       "</style>\n",
       "<table border=\"1\" class=\"dataframe\">\n",
       "  <thead>\n",
       "    <tr style=\"text-align: right;\">\n",
       "      <th></th>\n",
       "      <th>index</th>\n",
       "      <th>접수부서코드</th>\n",
       "      <th>접수완료일시</th>\n",
       "      <th>경찰청구분</th>\n",
       "      <th>사건상태코드</th>\n",
       "      <th>사건종별코드</th>\n",
       "      <th>신고성별</th>\n",
       "      <th>발생지점</th>\n",
       "      <th>발생좌표x</th>\n",
       "      <th>발생좌표y</th>\n",
       "      <th>동일사건여부</th>\n",
       "      <th>요일</th>\n",
       "    </tr>\n",
       "  </thead>\n",
       "  <tbody>\n",
       "    <tr>\n",
       "      <th>0</th>\n",
       "      <td>14</td>\n",
       "      <td>충남청</td>\n",
       "      <td>2021-03-07 00:02:48</td>\n",
       "      <td>19</td>\n",
       "      <td>10</td>\n",
       "      <td>406</td>\n",
       "      <td>1.0</td>\n",
       "      <td>충청남도 천안시 서북구 불당동(불당동) 1625</td>\n",
       "      <td>127.107500</td>\n",
       "      <td>36.811944</td>\n",
       "      <td>NaN</td>\n",
       "      <td>Sunday</td>\n",
       "    </tr>\n",
       "    <tr>\n",
       "      <th>1</th>\n",
       "      <td>20</td>\n",
       "      <td>충남청</td>\n",
       "      <td>2021-03-07 00:09:04</td>\n",
       "      <td>19</td>\n",
       "      <td>10</td>\n",
       "      <td>402</td>\n",
       "      <td>1.0</td>\n",
       "      <td>충청남도 천안시 동남구 문화동(문성동) 41-5</td>\n",
       "      <td>127.150988</td>\n",
       "      <td>36.811792</td>\n",
       "      <td>Y</td>\n",
       "      <td>Sunday</td>\n",
       "    </tr>\n",
       "    <tr>\n",
       "      <th>2</th>\n",
       "      <td>23</td>\n",
       "      <td>대전청</td>\n",
       "      <td>2021-03-07 00:07:54</td>\n",
       "      <td>13</td>\n",
       "      <td>10</td>\n",
       "      <td>401</td>\n",
       "      <td>2.0</td>\n",
       "      <td>대전광역시 서구 괴정동(괴정동) 367-40</td>\n",
       "      <td>127.371854</td>\n",
       "      <td>36.341961</td>\n",
       "      <td>NaN</td>\n",
       "      <td>Sunday</td>\n",
       "    </tr>\n",
       "  </tbody>\n",
       "</table>\n",
       "</div>"
      ],
      "text/plain": [
       "   index 접수부서코드               접수완료일시  경찰청구분  사건상태코드  사건종별코드  신고성별  \\\n",
       "0     14    충남청  2021-03-07 00:02:48     19      10     406   1.0   \n",
       "1     20    충남청  2021-03-07 00:09:04     19      10     402   1.0   \n",
       "2     23    대전청  2021-03-07 00:07:54     13      10     401   2.0   \n",
       "\n",
       "                         발생지점       발생좌표x      발생좌표y 동일사건여부      요일  \n",
       "0  충청남도 천안시 서북구 불당동(불당동) 1625  127.107500  36.811944    NaN  Sunday  \n",
       "1  충청남도 천안시 동남구 문화동(문성동) 41-5  127.150988  36.811792      Y  Sunday  \n",
       "2    대전광역시 서구 괴정동(괴정동) 367-40  127.371854  36.341961    NaN  Sunday  "
      ]
     },
     "execution_count": 8,
     "metadata": {},
     "output_type": "execute_result"
    }
   ],
   "source": [
    "data21.head(3)"
   ]
  },
  {
   "cell_type": "markdown",
   "id": "5c224006",
   "metadata": {},
   "source": [
    "#### 데이터타입 변경 (접수완료일시)"
   ]
  },
  {
   "cell_type": "code",
   "execution_count": 9,
   "id": "20693961",
   "metadata": {},
   "outputs": [],
   "source": [
    "data21[\"접수완료일시\"] = pd.to_datetime(data21[\"접수완료일시\"])"
   ]
  },
  {
   "cell_type": "code",
   "execution_count": 10,
   "id": "a6e2b41e",
   "metadata": {},
   "outputs": [
    {
     "name": "stdout",
     "output_type": "stream",
     "text": [
      "<class 'pandas.core.frame.DataFrame'>\n",
      "RangeIndex: 276633 entries, 0 to 276632\n",
      "Data columns (total 12 columns):\n",
      " #   Column  Non-Null Count   Dtype         \n",
      "---  ------  --------------   -----         \n",
      " 0   index   276633 non-null  int64         \n",
      " 1   접수부서코드  276633 non-null  object        \n",
      " 2   접수완료일시  276633 non-null  datetime64[ns]\n",
      " 3   경찰청구분   276633 non-null  int64         \n",
      " 4   사건상태코드  276633 non-null  int64         \n",
      " 5   사건종별코드  276633 non-null  int64         \n",
      " 6   신고성별    276633 non-null  float64       \n",
      " 7   발생지점    276633 non-null  object        \n",
      " 8   발생좌표x   276593 non-null  float64       \n",
      " 9   발생좌표y   276593 non-null  float64       \n",
      " 10  동일사건여부  66823 non-null   object        \n",
      " 11  요일      276633 non-null  object        \n",
      "dtypes: datetime64[ns](1), float64(3), int64(4), object(4)\n",
      "memory usage: 25.3+ MB\n"
     ]
    }
   ],
   "source": [
    "data21.info()"
   ]
  },
  {
   "cell_type": "markdown",
   "id": "23e5c0aa",
   "metadata": {},
   "source": [
    "#### \"접수시간대\" 칼럼 추가"
   ]
  },
  {
   "cell_type": "code",
   "execution_count": 11,
   "id": "9d9fbb05",
   "metadata": {},
   "outputs": [],
   "source": [
    "data21[\"접수시간대\"] = data21[\"접수완료일시\"].dt.hour"
   ]
  },
  {
   "cell_type": "code",
   "execution_count": 12,
   "id": "ee8bb271",
   "metadata": {},
   "outputs": [
    {
     "data": {
      "text/html": [
       "<div>\n",
       "<style scoped>\n",
       "    .dataframe tbody tr th:only-of-type {\n",
       "        vertical-align: middle;\n",
       "    }\n",
       "\n",
       "    .dataframe tbody tr th {\n",
       "        vertical-align: top;\n",
       "    }\n",
       "\n",
       "    .dataframe thead th {\n",
       "        text-align: right;\n",
       "    }\n",
       "</style>\n",
       "<table border=\"1\" class=\"dataframe\">\n",
       "  <thead>\n",
       "    <tr style=\"text-align: right;\">\n",
       "      <th></th>\n",
       "      <th>index</th>\n",
       "      <th>접수부서코드</th>\n",
       "      <th>접수완료일시</th>\n",
       "      <th>경찰청구분</th>\n",
       "      <th>사건상태코드</th>\n",
       "      <th>사건종별코드</th>\n",
       "      <th>신고성별</th>\n",
       "      <th>발생지점</th>\n",
       "      <th>발생좌표x</th>\n",
       "      <th>발생좌표y</th>\n",
       "      <th>동일사건여부</th>\n",
       "      <th>요일</th>\n",
       "      <th>접수시간대</th>\n",
       "    </tr>\n",
       "  </thead>\n",
       "  <tbody>\n",
       "    <tr>\n",
       "      <th>0</th>\n",
       "      <td>14</td>\n",
       "      <td>충남청</td>\n",
       "      <td>2021-03-07 00:02:48</td>\n",
       "      <td>19</td>\n",
       "      <td>10</td>\n",
       "      <td>406</td>\n",
       "      <td>1.0</td>\n",
       "      <td>충청남도 천안시 서북구 불당동(불당동) 1625</td>\n",
       "      <td>127.107500</td>\n",
       "      <td>36.811944</td>\n",
       "      <td>NaN</td>\n",
       "      <td>Sunday</td>\n",
       "      <td>0</td>\n",
       "    </tr>\n",
       "    <tr>\n",
       "      <th>1</th>\n",
       "      <td>20</td>\n",
       "      <td>충남청</td>\n",
       "      <td>2021-03-07 00:09:04</td>\n",
       "      <td>19</td>\n",
       "      <td>10</td>\n",
       "      <td>402</td>\n",
       "      <td>1.0</td>\n",
       "      <td>충청남도 천안시 동남구 문화동(문성동) 41-5</td>\n",
       "      <td>127.150988</td>\n",
       "      <td>36.811792</td>\n",
       "      <td>Y</td>\n",
       "      <td>Sunday</td>\n",
       "      <td>0</td>\n",
       "    </tr>\n",
       "    <tr>\n",
       "      <th>2</th>\n",
       "      <td>23</td>\n",
       "      <td>대전청</td>\n",
       "      <td>2021-03-07 00:07:54</td>\n",
       "      <td>13</td>\n",
       "      <td>10</td>\n",
       "      <td>401</td>\n",
       "      <td>2.0</td>\n",
       "      <td>대전광역시 서구 괴정동(괴정동) 367-40</td>\n",
       "      <td>127.371854</td>\n",
       "      <td>36.341961</td>\n",
       "      <td>NaN</td>\n",
       "      <td>Sunday</td>\n",
       "      <td>0</td>\n",
       "    </tr>\n",
       "  </tbody>\n",
       "</table>\n",
       "</div>"
      ],
      "text/plain": [
       "   index 접수부서코드              접수완료일시  경찰청구분  사건상태코드  사건종별코드  신고성별  \\\n",
       "0     14    충남청 2021-03-07 00:02:48     19      10     406   1.0   \n",
       "1     20    충남청 2021-03-07 00:09:04     19      10     402   1.0   \n",
       "2     23    대전청 2021-03-07 00:07:54     13      10     401   2.0   \n",
       "\n",
       "                         발생지점       발생좌표x      발생좌표y 동일사건여부      요일  접수시간대  \n",
       "0  충청남도 천안시 서북구 불당동(불당동) 1625  127.107500  36.811944    NaN  Sunday      0  \n",
       "1  충청남도 천안시 동남구 문화동(문성동) 41-5  127.150988  36.811792      Y  Sunday      0  \n",
       "2    대전광역시 서구 괴정동(괴정동) 367-40  127.371854  36.341961    NaN  Sunday      0  "
      ]
     },
     "execution_count": 12,
     "metadata": {},
     "output_type": "execute_result"
    }
   ],
   "source": [
    "data21.head(3)"
   ]
  },
  {
   "cell_type": "markdown",
   "id": "b037a6e7",
   "metadata": {},
   "source": [
    "#### 각 사건 데이터프레임 준비"
   ]
  },
  {
   "cell_type": "code",
   "execution_count": 13,
   "id": "abec2b8d",
   "metadata": {},
   "outputs": [],
   "source": [
    "inconv21=data21[data21[\"사건종별코드\"]==402] #교통불편\n",
    "viol21=data21[data21[\"사건종별코드\"]==403] #교통위반\n",
    "a404_21=data21[data21[\"사건종별코드\"]==404] #사망 대형사고\n",
    "a405_21=data21[data21[\"사건종별코드\"]==405] #인피도주"
   ]
  },
  {
   "cell_type": "markdown",
   "id": "4349146c",
   "metadata": {},
   "source": [
    "## 2-1. 2021년 교통불편 그래프 그리기"
   ]
  },
  {
   "cell_type": "code",
   "execution_count": 14,
   "id": "2fa8b607",
   "metadata": {},
   "outputs": [
    {
     "name": "stderr",
     "output_type": "stream",
     "text": [
      "C:\\py\\lib\\site-packages\\seaborn\\_decorators.py:36: FutureWarning: Pass the following variable as a keyword arg: x. From version 0.12, the only valid positional argument will be `data`, and passing other arguments without an explicit keyword will result in an error or misinterpretation.\n",
      "  warnings.warn(\n"
     ]
    },
    {
     "data": {
      "text/plain": [
       "<AxesSubplot:title={'center':'2020년 교통불편 접수 시간대별 빈도'}, xlabel='접수시간대', ylabel='count'>"
      ]
     },
     "execution_count": 14,
     "metadata": {},
     "output_type": "execute_result"
    },
    {
     "data": {
      "image/png": "[encoded data removed]",
      "text/plain": [
       "<Figure size 720x720 with 1 Axes>"
      ]
     },
     "metadata": {
      "needs_background": "light"
     },
     "output_type": "display_data"
    }
   ],
   "source": [
    "plt.figure(figsize=(10,10))\n",
    "plt.title(\"2020년 교통불편 접수 시간대별 빈도\")\n",
    "sns.countplot(\"접수시간대\", data=inconv21)"
   ]
  },
  {
   "cell_type": "markdown",
   "id": "ec50f254",
   "metadata": {},
   "source": [
    "## 2-2. 2021년 교통위반 그래프 그리기"
   ]
  },
  {
   "cell_type": "code",
   "execution_count": 15,
   "id": "72c97133",
   "metadata": {},
   "outputs": [
    {
     "name": "stderr",
     "output_type": "stream",
     "text": [
      "C:\\py\\lib\\site-packages\\seaborn\\_decorators.py:36: FutureWarning: Pass the following variable as a keyword arg: x. From version 0.12, the only valid positional argument will be `data`, and passing other arguments without an explicit keyword will result in an error or misinterpretation.\n",
      "  warnings.warn(\n"
     ]
    },
    {
     "data": {
      "text/plain": [
       "<AxesSubplot:title={'center':'2021년 교통위반 접수 시간대별 빈도'}, xlabel='접수시간대', ylabel='count'>"
      ]
     },
     "execution_count": 15,
     "metadata": {},
     "output_type": "execute_result"
    },
    {
     "data": {
      "image/png": "[encoded data removed]",
      "text/plain": [
       "<Figure size 720x720 with 1 Axes>"
      ]
     },
     "metadata": {
      "needs_background": "light"
     },
     "output_type": "display_data"
    }
   ],
   "source": [
    "plt.figure(figsize=(10,10))\n",
    "plt.title(\"2021년 교통위반 접수 시간대별 빈도\")\n",
    "sns.countplot(\"접수시간대\", data=viol21)"
   ]
  },
  {
   "cell_type": "markdown",
   "id": "cce06a1d",
   "metadata": {},
   "source": [
    "## 2-3. 2021년 사망대형사고 그래프 그리기"
   ]
  },
  {
   "cell_type": "code",
   "execution_count": 16,
   "id": "03f54efb",
   "metadata": {},
   "outputs": [
    {
     "name": "stderr",
     "output_type": "stream",
     "text": [
      "C:\\py\\lib\\site-packages\\seaborn\\_decorators.py:36: FutureWarning: Pass the following variable as a keyword arg: x. From version 0.12, the only valid positional argument will be `data`, and passing other arguments without an explicit keyword will result in an error or misinterpretation.\n",
      "  warnings.warn(\n"
     ]
    },
    {
     "data": {
      "text/plain": [
       "<AxesSubplot:title={'center':'2021년 사망대형사고 접수 시간대별 빈도'}, xlabel='접수시간대', ylabel='count'>"
      ]
     },
     "execution_count": 16,
     "metadata": {},
     "output_type": "execute_result"
    },
    {
     "data": {
      "image/png": "[encoded data removed]",
      "text/plain": [
       "<Figure size 720x720 with 1 Axes>"
      ]
     },
     "metadata": {
      "needs_background": "light"
     },
     "output_type": "display_data"
    }
   ],
   "source": [
    "plt.figure(figsize=(10,10))\n",
    "plt.title(\"2021년 사망대형사고 접수 시간대별 빈도\")\n",
    "sns.countplot(\"접수시간대\", data=a404_21)"
   ]
  },
  {
   "cell_type": "markdown",
   "id": "65ea3b9d",
   "metadata": {},
   "source": [
    "## 2-4. 2021년 인피도주 그래프 그리기"
   ]
  },
  {
   "cell_type": "code",
   "execution_count": 17,
   "id": "30831603",
   "metadata": {},
   "outputs": [
    {
     "name": "stderr",
     "output_type": "stream",
     "text": [
      "C:\\py\\lib\\site-packages\\seaborn\\_decorators.py:36: FutureWarning: Pass the following variable as a keyword arg: x. From version 0.12, the only valid positional argument will be `data`, and passing other arguments without an explicit keyword will result in an error or misinterpretation.\n",
      "  warnings.warn(\n"
     ]
    },
    {
     "data": {
      "text/plain": [
       "<AxesSubplot:title={'center':'2021년 인피도주 접수 시간대별 빈도'}, xlabel='접수시간대', ylabel='count'>"
      ]
     },
     "execution_count": 17,
     "metadata": {},
     "output_type": "execute_result"
    },
    {
     "data": {
      "image/png": "[encoded data removed]",
      "text/plain": [
       "<Figure size 720x720 with 1 Axes>"
      ]
     },
     "metadata": {
      "needs_background": "light"
     },
     "output_type": "display_data"
    }
   ],
   "source": [
    "plt.figure(figsize=(10,10))\n",
    "plt.title(\"2021년 인피도주 접수 시간대별 빈도\")\n",
    "sns.countplot(\"접수시간대\", data=a405_21)"
   ]
  },
  {
   "cell_type": "code",
   "execution_count": null,
   "id": "69e93602",
   "metadata": {},
   "outputs": [],
   "source": []
  },
  {
   "cell_type": "code",
   "execution_count": null,
   "id": "d7e2dcdc",
   "metadata": {},
   "outputs": [],
   "source": []
  },
  {
   "cell_type": "code",
   "execution_count": null,
   "id": "69f6ad8c",
   "metadata": {},
   "outputs": [],
   "source": []
  },
  {
   "cell_type": "code",
   "execution_count": null,
   "id": "6e32172a",
   "metadata": {},
   "outputs": [],
   "source": []
  },
  {
   "cell_type": "code",
   "execution_count": null,
   "id": "5aa062be",
   "metadata": {},
   "outputs": [],
   "source": []
  },
  {
   "cell_type": "code",
   "execution_count": null,
   "id": "43f52893",
   "metadata": {},
   "outputs": [],
   "source": []
  },
  {
   "cell_type": "code",
   "execution_count": null,
   "id": "da437db1",
   "metadata": {},
   "outputs": [],
   "source": []
  },
  {
   "cell_type": "code",
   "execution_count": null,
   "id": "baade5ae",
   "metadata": {},
   "outputs": [],
   "source": []
  },
  {
   "cell_type": "code",
   "execution_count": null,
   "id": "4cc7b6b7",
   "metadata": {},
   "outputs": [],
   "source": []
  },
  {
   "cell_type": "code",
   "execution_count": null,
   "id": "03823ddd",
   "metadata": {},
   "outputs": [],
   "source": []
  },
  {
   "cell_type": "code",
   "execution_count": null,
   "id": "a6b4470d",
   "metadata": {},
   "outputs": [],
   "source": []
  },
  {
   "cell_type": "code",
   "execution_count": null,
   "id": "f307478f",
   "metadata": {},
   "outputs": [],
   "source": []
  },
  {
   "cell_type": "code",
   "execution_count": null,
   "id": "8a4a4612",
   "metadata": {},
   "outputs": [],
   "source": []
  },
  {
   "cell_type": "code",
   "execution_count": null,
   "id": "250eeef5",
   "metadata": {},
   "outputs": [],
   "source": []
  },
  {
   "cell_type": "code",
   "execution_count": null,
   "id": "e2b1e10e",
   "metadata": {},
   "outputs": [],
   "source": []
  },
  {
   "cell_type": "code",
   "execution_count": null,
   "id": "6579bf50",
   "metadata": {},
   "outputs": [],
   "source": []
  },
  {
   "cell_type": "code",
   "execution_count": null,
   "id": "838e5640",
   "metadata": {},
   "outputs": [],
   "source": []
  }
 ],
 "metadata": {
  "kernelspec": {
   "display_name": "Python 3 (ipykernel)",
   "language": "python",
   "name": "python3"
  },
  "language_info": {
   "codemirror_mode": {
    "name": "ipython",
    "version": 3
   },
   "file_extension": ".py",
   "mimetype": "text/x-python",
   "name": "python",
   "nbconvert_exporter": "python",
   "pygments_lexer": "ipython3",
   "version": "3.9.12"
  }
 },
 "nbformat": 4,
 "nbformat_minor": 5
}

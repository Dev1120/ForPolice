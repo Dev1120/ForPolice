{
  "nbformat": 4,
  "nbformat_minor": 0,
  "metadata": {
    "colab": {
      "provenance": []
    },
    "kernelspec": {
      "name": "python3",
      "display_name": "Python 3"
    },
    "language_info": {
      "name": "python"
    },
    "accelerator": "GPU",
    "gpuClass": "standard"
  },
  "cells": [
    {
      "cell_type": "code",
      "execution_count": 1,
      "metadata": {
        "id": "oeCWr8cI8qc5"
      },
      "outputs": [],
      "source": [
        "import pandas as pd\n",
        "import numpy as np\n",
        "import matplotlib.pyplot as plt"
      ]
    },
    {
      "cell_type": "code",
      "source": [
        "from google.colab import drive\n",
        "drive.mount('/content/gdrive')"
      ],
      "metadata": {
        "colab": {
          "base_uri": "https://localhost:8080/"
        },
        "id": "fbuyOq-l8wfT",
        "outputId": "5a681070-7bdb-46a1-8904-65ccc38d31b4"
      },
      "execution_count": 2,
      "outputs": [
        {
          "output_type": "stream",
          "name": "stdout",
          "text": [
            "Drive already mounted at /content/gdrive; to attempt to forcibly remount, call drive.mount(\"/content/gdrive\", force_remount=True).\n"
          ]
        }
      ]
    },
    {
      "cell_type": "code",
      "source": [
        "# 폰트 설치 이후 런타임 다시시작\n",
        "\n",
        "!sudo apt-get install -y fonts-nanum\n",
        "!sudo fc-cache -fv\n",
        "!rm ~/.cache/matplotlib -rf"
      ],
      "metadata": {
        "colab": {
          "base_uri": "https://localhost:8080/"
        },
        "id": "Wtz9W9LF81ZQ",
        "outputId": "515ea933-23bb-420f-fc48-c3f9ee54cf43"
      },
      "execution_count": 7,
      "outputs": [
        {
          "output_type": "stream",
          "name": "stdout",
          "text": [
            "Reading package lists... Done\n",
            "Building dependency tree       \n",
            "Reading state information... Done\n",
            "fonts-nanum is already the newest version (20180306-3).\n",
            "The following package was automatically installed and is no longer required:\n",
            "  libnvidia-common-510\n",
            "Use 'sudo apt autoremove' to remove it.\n",
            "0 upgraded, 0 newly installed, 0 to remove and 28 not upgraded.\n",
            "/usr/share/fonts: caching, new cache contents: 0 fonts, 1 dirs\n",
            "/usr/share/fonts/truetype: caching, new cache contents: 0 fonts, 3 dirs\n",
            "/usr/share/fonts/truetype/humor-sans: caching, new cache contents: 1 fonts, 0 dirs\n",
            "/usr/share/fonts/truetype/liberation: caching, new cache contents: 16 fonts, 0 dirs\n",
            "/usr/share/fonts/truetype/nanum: caching, new cache contents: 10 fonts, 0 dirs\n",
            "/usr/local/share/fonts: caching, new cache contents: 0 fonts, 0 dirs\n",
            "/root/.local/share/fonts: skipping, no such directory\n",
            "/root/.fonts: skipping, no such directory\n",
            "/usr/share/fonts/truetype: skipping, looped directory detected\n",
            "/usr/share/fonts/truetype/humor-sans: skipping, looped directory detected\n",
            "/usr/share/fonts/truetype/liberation: skipping, looped directory detected\n",
            "/usr/share/fonts/truetype/nanum: skipping, looped directory detected\n",
            "/var/cache/fontconfig: cleaning cache directory\n",
            "/root/.cache/fontconfig: not cleaning non-existent cache directory\n",
            "/root/.fontconfig: not cleaning non-existent cache directory\n",
            "fc-cache: succeeded\n"
          ]
        }
      ]
    },
    {
      "cell_type": "code",
      "source": [
        "plt.rc('font', family = 'NanumBarunGothic')"
      ],
      "metadata": {
        "id": "v2WyDyZv83_z"
      },
      "execution_count": 3,
      "outputs": []
    },
    {
      "cell_type": "code",
      "source": [
        "sort_local = pd.read_csv('/content/gdrive/MyDrive/Local/Data/지역구분_충남_세종_대전_20_23.csv')\n",
        "sort_local"
      ],
      "metadata": {
        "colab": {
          "base_uri": "https://localhost:8080/",
          "height": 458
        },
        "id": "P40Gnh2U9ALR",
        "outputId": "0d151a74-976a-490c-e90c-d8e6256f01f7"
      },
      "execution_count": 4,
      "outputs": [
        {
          "output_type": "stream",
          "name": "stderr",
          "text": [
            "/usr/local/lib/python3.8/dist-packages/IPython/core/interactiveshell.py:3326: DtypeWarning: Columns (5) have mixed types.Specify dtype option on import or set low_memory=False.\n",
            "  exec(code_obj, self.user_global_ns, self.user_ns)\n"
          ]
        },
        {
          "output_type": "execute_result",
          "data": {
            "text/plain": [
              "       RECV_DEPT_NM         RECV_CPLT_DM  NPA_CL  EVT_STAT_CD  EVT_CL_CD  \\\n",
              "0               충남청  2020-01-01 00:03:11      19           10        406   \n",
              "1               충남청  2020-01-01 00:18:08      19           10        403   \n",
              "2               충남청  2020-01-01 00:20:01      19           10        406   \n",
              "3               충남청  2020-01-01 00:20:04      19           10        402   \n",
              "4               대전청  2020-01-01 00:21:35      13           10        401   \n",
              "...             ...                  ...     ...          ...        ...   \n",
              "415065          대전청  2023-01-18 23:23:38      13           10        406   \n",
              "415066          충남청  2023-01-18 23:32:32      19           10        401   \n",
              "415067          충남청  2023-01-18 23:34:30      19           10        401   \n",
              "415068          대전청  2023-01-18 23:35:52      13           10        406   \n",
              "415069          충남청  2023-01-18 23:59:40      19           10        406   \n",
              "\n",
              "       RPTER_SEX                  HPPN_PNU_ADDR      HPPN_X     HPPN_Y  \\\n",
              "0              1     충청남도 공주시 정안면 어물리(정안면) 33-2  127.148714  36.605751   \n",
              "1              1      충청남도 논산시 채운면 장화리(채운면) 533  127.030921  36.164643   \n",
              "2              1     세종특별자치시 세종시 소담동(소담동) 32-92  127.305511  36.479819   \n",
              "3              1    충청남도 천안시 서북구 불당동(불당동) 204-4  127.109667  36.815468   \n",
              "4              1  대전광역시 유성구 봉명동(행정:온천1동) 541-26  127.348625  36.353829   \n",
              "...          ...                            ...         ...        ...   \n",
              "415065       1.0  대전광역시 중구 문화동 (행정:문화1동 ) 1-266  127.414486  36.321280   \n",
              "415066       1.0   충청남도 당진시 신평면 상오리(신평면 ) 910-6  126.741950  36.868136   \n",
              "415067       1.0   충청남도 당진시 신평면 상오리(신평면 ) 910-6  126.741930  36.868214   \n",
              "415068       2.0      대전광역시 서구 월평동 (월평1동 ) 1526  127.357785  36.355010   \n",
              "415069       1.0       충청남도 아산시 모종동 (온양3동 ) 661  127.019848  36.778266   \n",
              "\n",
              "       SME_EVT_YN         요일  구분 시/군/구  \n",
              "0               Y  Wednesday  충남   공주시  \n",
              "1             NaN  Wednesday  충남   논산시  \n",
              "2               Y  Wednesday  세종   소담동  \n",
              "3             NaN  Wednesday  충남   천안시  \n",
              "4             NaN  Wednesday  대전   유성구  \n",
              "...           ...        ...  ..   ...  \n",
              "415065          Y  Wednesday  대전    중구  \n",
              "415066          Y  Wednesday  충남   당진시  \n",
              "415067          Y  Wednesday  충남   당진시  \n",
              "415068        NaN  Wednesday  대전    서구  \n",
              "415069        NaN  Wednesday  충남   아산시  \n",
              "\n",
              "[415070 rows x 13 columns]"
            ],
            "text/html": [
              "\n",
              "  <div id=\"df-65ae139f-77ab-415e-93a9-e5439da59ed7\">\n",
              "    <div class=\"colab-df-container\">\n",
              "      <div>\n",
              "<style scoped>\n",
              "    .dataframe tbody tr th:only-of-type {\n",
              "        vertical-align: middle;\n",
              "    }\n",
              "\n",
              "    .dataframe tbody tr th {\n",
              "        vertical-align: top;\n",
              "    }\n",
              "\n",
              "    .dataframe thead th {\n",
              "        text-align: right;\n",
              "    }\n",
              "</style>\n",
              "<table border=\"1\" class=\"dataframe\">\n",
              "  <thead>\n",
              "    <tr style=\"text-align: right;\">\n",
              "      <th></th>\n",
              "      <th>RECV_DEPT_NM</th>\n",
              "      <th>RECV_CPLT_DM</th>\n",
              "      <th>NPA_CL</th>\n",
              "      <th>EVT_STAT_CD</th>\n",
              "      <th>EVT_CL_CD</th>\n",
              "      <th>RPTER_SEX</th>\n",
              "      <th>HPPN_PNU_ADDR</th>\n",
              "      <th>HPPN_X</th>\n",
              "      <th>HPPN_Y</th>\n",
              "      <th>SME_EVT_YN</th>\n",
              "      <th>요일</th>\n",
              "      <th>구분</th>\n",
              "      <th>시/군/구</th>\n",
              "    </tr>\n",
              "  </thead>\n",
              "  <tbody>\n",
              "    <tr>\n",
              "      <th>0</th>\n",
              "      <td>충남청</td>\n",
              "      <td>2020-01-01 00:03:11</td>\n",
              "      <td>19</td>\n",
              "      <td>10</td>\n",
              "      <td>406</td>\n",
              "      <td>1</td>\n",
              "      <td>충청남도 공주시 정안면 어물리(정안면) 33-2</td>\n",
              "      <td>127.148714</td>\n",
              "      <td>36.605751</td>\n",
              "      <td>Y</td>\n",
              "      <td>Wednesday</td>\n",
              "      <td>충남</td>\n",
              "      <td>공주시</td>\n",
              "    </tr>\n",
              "    <tr>\n",
              "      <th>1</th>\n",
              "      <td>충남청</td>\n",
              "      <td>2020-01-01 00:18:08</td>\n",
              "      <td>19</td>\n",
              "      <td>10</td>\n",
              "      <td>403</td>\n",
              "      <td>1</td>\n",
              "      <td>충청남도 논산시 채운면 장화리(채운면) 533</td>\n",
              "      <td>127.030921</td>\n",
              "      <td>36.164643</td>\n",
              "      <td>NaN</td>\n",
              "      <td>Wednesday</td>\n",
              "      <td>충남</td>\n",
              "      <td>논산시</td>\n",
              "    </tr>\n",
              "    <tr>\n",
              "      <th>2</th>\n",
              "      <td>충남청</td>\n",
              "      <td>2020-01-01 00:20:01</td>\n",
              "      <td>19</td>\n",
              "      <td>10</td>\n",
              "      <td>406</td>\n",
              "      <td>1</td>\n",
              "      <td>세종특별자치시 세종시 소담동(소담동) 32-92</td>\n",
              "      <td>127.305511</td>\n",
              "      <td>36.479819</td>\n",
              "      <td>Y</td>\n",
              "      <td>Wednesday</td>\n",
              "      <td>세종</td>\n",
              "      <td>소담동</td>\n",
              "    </tr>\n",
              "    <tr>\n",
              "      <th>3</th>\n",
              "      <td>충남청</td>\n",
              "      <td>2020-01-01 00:20:04</td>\n",
              "      <td>19</td>\n",
              "      <td>10</td>\n",
              "      <td>402</td>\n",
              "      <td>1</td>\n",
              "      <td>충청남도 천안시 서북구 불당동(불당동) 204-4</td>\n",
              "      <td>127.109667</td>\n",
              "      <td>36.815468</td>\n",
              "      <td>NaN</td>\n",
              "      <td>Wednesday</td>\n",
              "      <td>충남</td>\n",
              "      <td>천안시</td>\n",
              "    </tr>\n",
              "    <tr>\n",
              "      <th>4</th>\n",
              "      <td>대전청</td>\n",
              "      <td>2020-01-01 00:21:35</td>\n",
              "      <td>13</td>\n",
              "      <td>10</td>\n",
              "      <td>401</td>\n",
              "      <td>1</td>\n",
              "      <td>대전광역시 유성구 봉명동(행정:온천1동) 541-26</td>\n",
              "      <td>127.348625</td>\n",
              "      <td>36.353829</td>\n",
              "      <td>NaN</td>\n",
              "      <td>Wednesday</td>\n",
              "      <td>대전</td>\n",
              "      <td>유성구</td>\n",
              "    </tr>\n",
              "    <tr>\n",
              "      <th>...</th>\n",
              "      <td>...</td>\n",
              "      <td>...</td>\n",
              "      <td>...</td>\n",
              "      <td>...</td>\n",
              "      <td>...</td>\n",
              "      <td>...</td>\n",
              "      <td>...</td>\n",
              "      <td>...</td>\n",
              "      <td>...</td>\n",
              "      <td>...</td>\n",
              "      <td>...</td>\n",
              "      <td>...</td>\n",
              "      <td>...</td>\n",
              "    </tr>\n",
              "    <tr>\n",
              "      <th>415065</th>\n",
              "      <td>대전청</td>\n",
              "      <td>2023-01-18 23:23:38</td>\n",
              "      <td>13</td>\n",
              "      <td>10</td>\n",
              "      <td>406</td>\n",
              "      <td>1.0</td>\n",
              "      <td>대전광역시 중구 문화동 (행정:문화1동 ) 1-266</td>\n",
              "      <td>127.414486</td>\n",
              "      <td>36.321280</td>\n",
              "      <td>Y</td>\n",
              "      <td>Wednesday</td>\n",
              "      <td>대전</td>\n",
              "      <td>중구</td>\n",
              "    </tr>\n",
              "    <tr>\n",
              "      <th>415066</th>\n",
              "      <td>충남청</td>\n",
              "      <td>2023-01-18 23:32:32</td>\n",
              "      <td>19</td>\n",
              "      <td>10</td>\n",
              "      <td>401</td>\n",
              "      <td>1.0</td>\n",
              "      <td>충청남도 당진시 신평면 상오리(신평면 ) 910-6</td>\n",
              "      <td>126.741950</td>\n",
              "      <td>36.868136</td>\n",
              "      <td>Y</td>\n",
              "      <td>Wednesday</td>\n",
              "      <td>충남</td>\n",
              "      <td>당진시</td>\n",
              "    </tr>\n",
              "    <tr>\n",
              "      <th>415067</th>\n",
              "      <td>충남청</td>\n",
              "      <td>2023-01-18 23:34:30</td>\n",
              "      <td>19</td>\n",
              "      <td>10</td>\n",
              "      <td>401</td>\n",
              "      <td>1.0</td>\n",
              "      <td>충청남도 당진시 신평면 상오리(신평면 ) 910-6</td>\n",
              "      <td>126.741930</td>\n",
              "      <td>36.868214</td>\n",
              "      <td>Y</td>\n",
              "      <td>Wednesday</td>\n",
              "      <td>충남</td>\n",
              "      <td>당진시</td>\n",
              "    </tr>\n",
              "    <tr>\n",
              "      <th>415068</th>\n",
              "      <td>대전청</td>\n",
              "      <td>2023-01-18 23:35:52</td>\n",
              "      <td>13</td>\n",
              "      <td>10</td>\n",
              "      <td>406</td>\n",
              "      <td>2.0</td>\n",
              "      <td>대전광역시 서구 월평동 (월평1동 ) 1526</td>\n",
              "      <td>127.357785</td>\n",
              "      <td>36.355010</td>\n",
              "      <td>NaN</td>\n",
              "      <td>Wednesday</td>\n",
              "      <td>대전</td>\n",
              "      <td>서구</td>\n",
              "    </tr>\n",
              "    <tr>\n",
              "      <th>415069</th>\n",
              "      <td>충남청</td>\n",
              "      <td>2023-01-18 23:59:40</td>\n",
              "      <td>19</td>\n",
              "      <td>10</td>\n",
              "      <td>406</td>\n",
              "      <td>1.0</td>\n",
              "      <td>충청남도 아산시 모종동 (온양3동 ) 661</td>\n",
              "      <td>127.019848</td>\n",
              "      <td>36.778266</td>\n",
              "      <td>NaN</td>\n",
              "      <td>Wednesday</td>\n",
              "      <td>충남</td>\n",
              "      <td>아산시</td>\n",
              "    </tr>\n",
              "  </tbody>\n",
              "</table>\n",
              "<p>415070 rows × 13 columns</p>\n",
              "</div>\n",
              "      <button class=\"colab-df-convert\" onclick=\"convertToInteractive('df-65ae139f-77ab-415e-93a9-e5439da59ed7')\"\n",
              "              title=\"Convert this dataframe to an interactive table.\"\n",
              "              style=\"display:none;\">\n",
              "        \n",
              "  <svg xmlns=\"http://www.w3.org/2000/svg\" height=\"24px\"viewBox=\"0 0 24 24\"\n",
              "       width=\"24px\">\n",
              "    <path d=\"M0 0h24v24H0V0z\" fill=\"none\"/>\n",
              "    <path d=\"M18.56 5.44l.94 2.06.94-2.06 2.06-.94-2.06-.94-.94-2.06-.94 2.06-2.06.94zm-11 1L8.5 8.5l.94-2.06 2.06-.94-2.06-.94L8.5 2.5l-.94 2.06-2.06.94zm10 10l.94 2.06.94-2.06 2.06-.94-2.06-.94-.94-2.06-.94 2.06-2.06.94z\"/><path d=\"M17.41 7.96l-1.37-1.37c-.4-.4-.92-.59-1.43-.59-.52 0-1.04.2-1.43.59L10.3 9.45l-7.72 7.72c-.78.78-.78 2.05 0 2.83L4 21.41c.39.39.9.59 1.41.59.51 0 1.02-.2 1.41-.59l7.78-7.78 2.81-2.81c.8-.78.8-2.07 0-2.86zM5.41 20L4 18.59l7.72-7.72 1.47 1.35L5.41 20z\"/>\n",
              "  </svg>\n",
              "      </button>\n",
              "      \n",
              "  <style>\n",
              "    .colab-df-container {\n",
              "      display:flex;\n",
              "      flex-wrap:wrap;\n",
              "      gap: 12px;\n",
              "    }\n",
              "\n",
              "    .colab-df-convert {\n",
              "      background-color: #E8F0FE;\n",
              "      border: none;\n",
              "      border-radius: 50%;\n",
              "      cursor: pointer;\n",
              "      display: none;\n",
              "      fill: #1967D2;\n",
              "      height: 32px;\n",
              "      padding: 0 0 0 0;\n",
              "      width: 32px;\n",
              "    }\n",
              "\n",
              "    .colab-df-convert:hover {\n",
              "      background-color: #E2EBFA;\n",
              "      box-shadow: 0px 1px 2px rgba(60, 64, 67, 0.3), 0px 1px 3px 1px rgba(60, 64, 67, 0.15);\n",
              "      fill: #174EA6;\n",
              "    }\n",
              "\n",
              "    [theme=dark] .colab-df-convert {\n",
              "      background-color: #3B4455;\n",
              "      fill: #D2E3FC;\n",
              "    }\n",
              "\n",
              "    [theme=dark] .colab-df-convert:hover {\n",
              "      background-color: #434B5C;\n",
              "      box-shadow: 0px 1px 3px 1px rgba(0, 0, 0, 0.15);\n",
              "      filter: drop-shadow(0px 1px 2px rgba(0, 0, 0, 0.3));\n",
              "      fill: #FFFFFF;\n",
              "    }\n",
              "  </style>\n",
              "\n",
              "      <script>\n",
              "        const buttonEl =\n",
              "          document.querySelector('#df-65ae139f-77ab-415e-93a9-e5439da59ed7 button.colab-df-convert');\n",
              "        buttonEl.style.display =\n",
              "          google.colab.kernel.accessAllowed ? 'block' : 'none';\n",
              "\n",
              "        async function convertToInteractive(key) {\n",
              "          const element = document.querySelector('#df-65ae139f-77ab-415e-93a9-e5439da59ed7');\n",
              "          const dataTable =\n",
              "            await google.colab.kernel.invokeFunction('convertToInteractive',\n",
              "                                                     [key], {});\n",
              "          if (!dataTable) return;\n",
              "\n",
              "          const docLinkHtml = 'Like what you see? Visit the ' +\n",
              "            '<a target=\"_blank\" href=https://colab.research.google.com/notebooks/data_table.ipynb>data table notebook</a>'\n",
              "            + ' to learn more about interactive tables.';\n",
              "          element.innerHTML = '';\n",
              "          dataTable['output_type'] = 'display_data';\n",
              "          await google.colab.output.renderOutput(dataTable, element);\n",
              "          const docLink = document.createElement('div');\n",
              "          docLink.innerHTML = docLinkHtml;\n",
              "          element.appendChild(docLink);\n",
              "        }\n",
              "      </script>\n",
              "    </div>\n",
              "  </div>\n",
              "  "
            ]
          },
          "metadata": {},
          "execution_count": 4
        }
      ]
    },
    {
      "cell_type": "code",
      "source": [],
      "metadata": {
        "id": "E7-um7ceGSRN"
      },
      "execution_count": 17,
      "outputs": []
    },
    {
      "cell_type": "code",
      "source": [
        "print('교통사고 발생건수: ', len(sort_local[sort_local['EVT_CL_CD'] == 401]))\n",
        "print('교통불편 발생건수: ', len(sort_local[sort_local['EVT_CL_CD'] == 402]))\n",
        "print('교통위반 발생건수: ', len(sort_local[sort_local['EVT_CL_CD'] == 403]))\n",
        "print('사망, 대형사고 발생건수: ', len(sort_local[sort_local['EVT_CL_CD'] == 404]))\n",
        "print('인피도주 발생건수: ', len(sort_local[sort_local['EVT_CL_CD'] == 405]))\n",
        "print('음주운전 발생건수: ', len(sort_local[sort_local['EVT_CL_CD'] == 406]))\n"
      ],
      "metadata": {
        "colab": {
          "base_uri": "https://localhost:8080/"
        },
        "id": "sDBRdjFm9V77",
        "outputId": "9b676aae-b45f-498d-c004-13978de80926"
      },
      "execution_count": 6,
      "outputs": [
        {
          "output_type": "stream",
          "name": "stdout",
          "text": [
            "교통사고 발생건수:  255225\n",
            "교통불편 발생건수:  58505\n",
            "교통위반 발생건수:  33519\n",
            "사망, 대형사고 발생건수:  21\n",
            "인피도주 발생건수:  45\n",
            "음주운전 발생건수:  67755\n"
          ]
        }
      ]
    },
    {
      "cell_type": "code",
      "source": [
        "sort_local_401 = len(sort_local[sort_local['EVT_CL_CD'] == 401])\n",
        "sort_local_402 = len(sort_local[sort_local['EVT_CL_CD'] == 402])\n",
        "sort_local_403 = len(sort_local[sort_local['EVT_CL_CD'] == 403])\n",
        "sort_local_404 = len(sort_local[sort_local['EVT_CL_CD'] == 404])\n",
        "sort_local_405 = len(sort_local[sort_local['EVT_CL_CD'] == 405])\n",
        "sort_local_406 = len(sort_local[sort_local['EVT_CL_CD'] == 406])\n",
        "\n",
        "sort_local_type = [[\"교통사고\",sort_local_401],[\"교통불편\",sort_local_402],[\"교통위반\",sort_local_403],[\"사망,대형사고\",sort_local_404],[\"인피도주\",sort_local_405],\n",
        "        [\"음주운전\",sort_local_406]]\n",
        "\n",
        "sort_local_type = pd.DataFrame(sort_local_type, columns = ['type', 'count'])\n"
      ],
      "metadata": {
        "id": "chp0MBa09lvl"
      },
      "execution_count": 10,
      "outputs": []
    },
    {
      "cell_type": "code",
      "source": [
        "sort_local_type.plot(x = 'type', kind = 'bar', figsize = (10, 10))"
      ],
      "metadata": {
        "colab": {
          "base_uri": "https://localhost:8080/",
          "height": 669
        },
        "id": "V9IYh7oj-xLw",
        "outputId": "5215b6c0-9565-4135-d70a-175138a77e1b"
      },
      "execution_count": 12,
      "outputs": [
        {
          "output_type": "execute_result",
          "data": {
            "text/plain": [
              "<matplotlib.axes._subplots.AxesSubplot at 0x7fbfd2278e80>"
            ]
          },
          "metadata": {},
          "execution_count": 12
        },
        {
          "output_type": "display_data",
          "data": {
            "text/plain": [
              "<Figure size 720x720 with 1 Axes>"
            ],
            "image/png": "[encoded data removed]"
          },
          "metadata": {
            "needs_background": "light"
          }
        }
      ]
    },
    {
      "cell_type": "code",
      "source": [
        "sort_local_city_dj = len(sort_local[sort_local['RECV_DEPT_NM'] == '대전청'])\n",
        "sort_local_city_cn = len(sort_local[sort_local['RECV_DEPT_NM'] == '충남청'])\n",
        "\n",
        "sort_local_city=[[\"대전청\",sort_local_city_dj],['충남청', sort_local_city_cn]]\n",
        "sort_local_city = pd.DataFrame(sort_local_city, columns = ['지역', 'count'])"
      ],
      "metadata": {
        "id": "bU2wtXGqFsaP"
      },
      "execution_count": 19,
      "outputs": []
    },
    {
      "cell_type": "code",
      "source": [
        "sort_local_city.plot(x = '지역', kind = 'bar', figsize = (10, 10))"
      ],
      "metadata": {
        "colab": {
          "base_uri": "https://localhost:8080/",
          "height": 639
        },
        "id": "FJHQaX1IGE00",
        "outputId": "7dbc2583-05e3-472a-c69e-85f4425f7d72"
      },
      "execution_count": 21,
      "outputs": [
        {
          "output_type": "execute_result",
          "data": {
            "text/plain": [
              "<matplotlib.axes._subplots.AxesSubplot at 0x7fbfd3be5fa0>"
            ]
          },
          "metadata": {},
          "execution_count": 21
        },
        {
          "output_type": "display_data",
          "data": {
            "text/plain": [
              "<Figure size 720x720 with 1 Axes>"
            ],
            "image/png": "[encoded data removed]"
          },
          "metadata": {
            "needs_background": "light"
          }
        }
      ]
    },
    {
      "cell_type": "code",
      "source": [],
      "metadata": {
        "id": "dK-04h6_HB8R"
      },
      "execution_count": null,
      "outputs": []
    }
  ]
}
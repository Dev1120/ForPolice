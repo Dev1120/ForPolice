{
 "cells": [
  {
   "cell_type": "code",
   "execution_count": 1,
   "id": "857be20f",
   "metadata": {},
   "outputs": [
    {
     "name": "stderr",
     "output_type": "stream",
     "text": [
      "C:\\Users\\minir\\anaconda3\\lib\\site-packages\\scipy\\__init__.py:146: UserWarning: A NumPy version >=1.16.5 and <1.23.0 is required for this version of SciPy (detected version 1.23.5\n",
      "  warnings.warn(f\"A NumPy version >={np_minversion} and <{np_maxversion}\"\n"
     ]
    }
   ],
   "source": [
    "import pandas as pd\n",
    "\n",
    "import numpy as np\n",
    "\n",
    "import matplotlib.pyplot as plt\n",
    "import seaborn as sns\n",
    "\n",
    "import matplotlib.font_manager as fm\n",
    "font_name = fm.FontProperties(fname=\"C:\\\\Windows\\\\Fonts\\\\malgun.ttf\").get_name()\n",
    "plt.rc(\"font\", family=font_name)\n",
    "\n",
    "import matplotlib as mlp\n",
    "mlp.rcParams[\"axes.unicode_minus\"] = False\n",
    "\n",
    "%config InlineBackend.figure_format = 'retina' # 폰트를 선명하게~"
   ]
  },
  {
   "cell_type": "code",
   "execution_count": 2,
   "id": "4959fabf",
   "metadata": {},
   "outputs": [
    {
     "name": "stderr",
     "output_type": "stream",
     "text": [
      "C:\\Users\\minir\\AppData\\Local\\Temp\\ipykernel_1820\\1051183320.py:1: DtypeWarning: Columns (5) have mixed types. Specify dtype option on import or set low_memory=False.\n",
      "  result=pd.read_csv(\"C:\\\\Users\\\\minir\\\\OneDrive\\\\바탕 화면\\\\지치안\\\\주소포함_전체정리.csv\")\n"
     ]
    }
   ],
   "source": [
    "result=pd.read_csv(\"C:\\\\Users\\\\minir\\\\OneDrive\\\\바탕 화면\\\\지치안\\\\주소포함_전체정리.csv\")"
   ]
  },
  {
   "cell_type": "code",
   "execution_count": 3,
   "id": "23dfb173",
   "metadata": {},
   "outputs": [
    {
     "name": "stdout",
     "output_type": "stream",
     "text": [
      "<class 'pandas.core.frame.DataFrame'>\n",
      "RangeIndex: 415070 entries, 0 to 415069\n",
      "Data columns (total 13 columns):\n",
      " #   Column         Non-Null Count   Dtype  \n",
      "---  ------         --------------   -----  \n",
      " 0   RECV_DEPT_NM   415070 non-null  object \n",
      " 1   RECV_CPLT_DM   415070 non-null  object \n",
      " 2   NPA_CL         415070 non-null  int64  \n",
      " 3   EVT_STAT_CD    415070 non-null  int64  \n",
      " 4   EVT_CL_CD      415070 non-null  int64  \n",
      " 5   RPTER_SEX      415070 non-null  object \n",
      " 6   HPPN_PNU_ADDR  415070 non-null  object \n",
      " 7   HPPN_X         415053 non-null  float64\n",
      " 8   HPPN_Y         415053 non-null  float64\n",
      " 9   SME_EVT_YN     136673 non-null  object \n",
      " 10  요일             415070 non-null  object \n",
      " 11  구분             415070 non-null  object \n",
      " 12  시/군/구          415070 non-null  object \n",
      "dtypes: float64(2), int64(3), object(8)\n",
      "memory usage: 41.2+ MB\n"
     ]
    }
   ],
   "source": [
    "result.info()"
   ]
  },
  {
   "cell_type": "code",
   "execution_count": 4,
   "id": "3c7b295a",
   "metadata": {
    "scrolled": true
   },
   "outputs": [
    {
     "data": {
      "text/html": [
       "<div>\n",
       "<style scoped>\n",
       "    .dataframe tbody tr th:only-of-type {\n",
       "        vertical-align: middle;\n",
       "    }\n",
       "\n",
       "    .dataframe tbody tr th {\n",
       "        vertical-align: top;\n",
       "    }\n",
       "\n",
       "    .dataframe thead th {\n",
       "        text-align: right;\n",
       "    }\n",
       "</style>\n",
       "<table border=\"1\" class=\"dataframe\">\n",
       "  <thead>\n",
       "    <tr style=\"text-align: right;\">\n",
       "      <th></th>\n",
       "      <th>RECV_DEPT_NM</th>\n",
       "      <th>RECV_CPLT_DM</th>\n",
       "      <th>NPA_CL</th>\n",
       "      <th>EVT_STAT_CD</th>\n",
       "      <th>EVT_CL_CD</th>\n",
       "      <th>RPTER_SEX</th>\n",
       "      <th>HPPN_PNU_ADDR</th>\n",
       "      <th>HPPN_X</th>\n",
       "      <th>HPPN_Y</th>\n",
       "      <th>SME_EVT_YN</th>\n",
       "      <th>요일</th>\n",
       "      <th>구분</th>\n",
       "      <th>시/군/구</th>\n",
       "    </tr>\n",
       "  </thead>\n",
       "  <tbody>\n",
       "    <tr>\n",
       "      <th>0</th>\n",
       "      <td>충남청</td>\n",
       "      <td>2020-01-01 00:03:11</td>\n",
       "      <td>19</td>\n",
       "      <td>10</td>\n",
       "      <td>406</td>\n",
       "      <td>1</td>\n",
       "      <td>충청남도 공주시 정안면 어물리(정안면) 33-2</td>\n",
       "      <td>127.148714</td>\n",
       "      <td>36.605751</td>\n",
       "      <td>Y</td>\n",
       "      <td>Wednesday</td>\n",
       "      <td>충남</td>\n",
       "      <td>공주시</td>\n",
       "    </tr>\n",
       "    <tr>\n",
       "      <th>1</th>\n",
       "      <td>충남청</td>\n",
       "      <td>2020-01-01 00:18:08</td>\n",
       "      <td>19</td>\n",
       "      <td>10</td>\n",
       "      <td>403</td>\n",
       "      <td>1</td>\n",
       "      <td>충청남도 논산시 채운면 장화리(채운면) 533</td>\n",
       "      <td>127.030921</td>\n",
       "      <td>36.164643</td>\n",
       "      <td>NaN</td>\n",
       "      <td>Wednesday</td>\n",
       "      <td>충남</td>\n",
       "      <td>논산시</td>\n",
       "    </tr>\n",
       "    <tr>\n",
       "      <th>2</th>\n",
       "      <td>충남청</td>\n",
       "      <td>2020-01-01 00:20:01</td>\n",
       "      <td>19</td>\n",
       "      <td>10</td>\n",
       "      <td>406</td>\n",
       "      <td>1</td>\n",
       "      <td>세종특별자치시 세종시 소담동(소담동) 32-92</td>\n",
       "      <td>127.305511</td>\n",
       "      <td>36.479819</td>\n",
       "      <td>Y</td>\n",
       "      <td>Wednesday</td>\n",
       "      <td>세종</td>\n",
       "      <td>소담동</td>\n",
       "    </tr>\n",
       "    <tr>\n",
       "      <th>3</th>\n",
       "      <td>충남청</td>\n",
       "      <td>2020-01-01 00:20:04</td>\n",
       "      <td>19</td>\n",
       "      <td>10</td>\n",
       "      <td>402</td>\n",
       "      <td>1</td>\n",
       "      <td>충청남도 천안시 서북구 불당동(불당동) 204-4</td>\n",
       "      <td>127.109667</td>\n",
       "      <td>36.815468</td>\n",
       "      <td>NaN</td>\n",
       "      <td>Wednesday</td>\n",
       "      <td>충남</td>\n",
       "      <td>천안시</td>\n",
       "    </tr>\n",
       "    <tr>\n",
       "      <th>4</th>\n",
       "      <td>대전청</td>\n",
       "      <td>2020-01-01 00:21:35</td>\n",
       "      <td>13</td>\n",
       "      <td>10</td>\n",
       "      <td>401</td>\n",
       "      <td>1</td>\n",
       "      <td>대전광역시 유성구 봉명동(행정:온천1동) 541-26</td>\n",
       "      <td>127.348625</td>\n",
       "      <td>36.353829</td>\n",
       "      <td>NaN</td>\n",
       "      <td>Wednesday</td>\n",
       "      <td>대전</td>\n",
       "      <td>유성구</td>\n",
       "    </tr>\n",
       "  </tbody>\n",
       "</table>\n",
       "</div>"
      ],
      "text/plain": [
       "  RECV_DEPT_NM         RECV_CPLT_DM  NPA_CL  EVT_STAT_CD  EVT_CL_CD RPTER_SEX  \\\n",
       "0          충남청  2020-01-01 00:03:11      19           10        406         1   \n",
       "1          충남청  2020-01-01 00:18:08      19           10        403         1   \n",
       "2          충남청  2020-01-01 00:20:01      19           10        406         1   \n",
       "3          충남청  2020-01-01 00:20:04      19           10        402         1   \n",
       "4          대전청  2020-01-01 00:21:35      13           10        401         1   \n",
       "\n",
       "                   HPPN_PNU_ADDR      HPPN_X     HPPN_Y SME_EVT_YN         요일  \\\n",
       "0     충청남도 공주시 정안면 어물리(정안면) 33-2  127.148714  36.605751          Y  Wednesday   \n",
       "1      충청남도 논산시 채운면 장화리(채운면) 533  127.030921  36.164643        NaN  Wednesday   \n",
       "2     세종특별자치시 세종시 소담동(소담동) 32-92  127.305511  36.479819          Y  Wednesday   \n",
       "3    충청남도 천안시 서북구 불당동(불당동) 204-4  127.109667  36.815468        NaN  Wednesday   \n",
       "4  대전광역시 유성구 봉명동(행정:온천1동) 541-26  127.348625  36.353829        NaN  Wednesday   \n",
       "\n",
       "   구분 시/군/구  \n",
       "0  충남   공주시  \n",
       "1  충남   논산시  \n",
       "2  세종   소담동  \n",
       "3  충남   천안시  \n",
       "4  대전   유성구  "
      ]
     },
     "execution_count": 4,
     "metadata": {},
     "output_type": "execute_result"
    }
   ],
   "source": [
    "result.head()"
   ]
  },
  {
   "cell_type": "code",
   "execution_count": 5,
   "id": "169665f9",
   "metadata": {},
   "outputs": [],
   "source": [
    "result.rename(columns={\"RECV_DEPT_NM\":\"접수부서코드\",\"RECV_CPLT_DM\":\"접수완료일시\", \"NPA_CL\":\"경찰청구분\", \"EVT_STAT_CD\":\"사건상태코드\",\"EVT_CL_CD\":\"사건종별코드\",\"RPTER_SEX\":\"신고성별\",\"HPPN_PNU_ADDR\":\"발생지점\",\"HPPN_X\":\"발생좌표x\",\"HPPN_Y\":\"발생좌표y\",\"SME_EVT_YN\":\"동일사건여부\"}, inplace=True)"
   ]
  },
  {
   "cell_type": "code",
   "execution_count": 6,
   "id": "4348e51d",
   "metadata": {
    "scrolled": true
   },
   "outputs": [
    {
     "data": {
      "text/html": [
       "<div>\n",
       "<style scoped>\n",
       "    .dataframe tbody tr th:only-of-type {\n",
       "        vertical-align: middle;\n",
       "    }\n",
       "\n",
       "    .dataframe tbody tr th {\n",
       "        vertical-align: top;\n",
       "    }\n",
       "\n",
       "    .dataframe thead th {\n",
       "        text-align: right;\n",
       "    }\n",
       "</style>\n",
       "<table border=\"1\" class=\"dataframe\">\n",
       "  <thead>\n",
       "    <tr style=\"text-align: right;\">\n",
       "      <th></th>\n",
       "      <th>접수부서코드</th>\n",
       "      <th>접수완료일시</th>\n",
       "      <th>경찰청구분</th>\n",
       "      <th>사건상태코드</th>\n",
       "      <th>사건종별코드</th>\n",
       "      <th>신고성별</th>\n",
       "      <th>발생지점</th>\n",
       "      <th>발생좌표x</th>\n",
       "      <th>발생좌표y</th>\n",
       "      <th>동일사건여부</th>\n",
       "      <th>요일</th>\n",
       "      <th>구분</th>\n",
       "      <th>시/군/구</th>\n",
       "    </tr>\n",
       "  </thead>\n",
       "  <tbody>\n",
       "    <tr>\n",
       "      <th>0</th>\n",
       "      <td>충남청</td>\n",
       "      <td>2020-01-01 00:03:11</td>\n",
       "      <td>19</td>\n",
       "      <td>10</td>\n",
       "      <td>406</td>\n",
       "      <td>1</td>\n",
       "      <td>충청남도 공주시 정안면 어물리(정안면) 33-2</td>\n",
       "      <td>127.148714</td>\n",
       "      <td>36.605751</td>\n",
       "      <td>Y</td>\n",
       "      <td>Wednesday</td>\n",
       "      <td>충남</td>\n",
       "      <td>공주시</td>\n",
       "    </tr>\n",
       "    <tr>\n",
       "      <th>1</th>\n",
       "      <td>충남청</td>\n",
       "      <td>2020-01-01 00:18:08</td>\n",
       "      <td>19</td>\n",
       "      <td>10</td>\n",
       "      <td>403</td>\n",
       "      <td>1</td>\n",
       "      <td>충청남도 논산시 채운면 장화리(채운면) 533</td>\n",
       "      <td>127.030921</td>\n",
       "      <td>36.164643</td>\n",
       "      <td>NaN</td>\n",
       "      <td>Wednesday</td>\n",
       "      <td>충남</td>\n",
       "      <td>논산시</td>\n",
       "    </tr>\n",
       "    <tr>\n",
       "      <th>2</th>\n",
       "      <td>충남청</td>\n",
       "      <td>2020-01-01 00:20:01</td>\n",
       "      <td>19</td>\n",
       "      <td>10</td>\n",
       "      <td>406</td>\n",
       "      <td>1</td>\n",
       "      <td>세종특별자치시 세종시 소담동(소담동) 32-92</td>\n",
       "      <td>127.305511</td>\n",
       "      <td>36.479819</td>\n",
       "      <td>Y</td>\n",
       "      <td>Wednesday</td>\n",
       "      <td>세종</td>\n",
       "      <td>소담동</td>\n",
       "    </tr>\n",
       "    <tr>\n",
       "      <th>3</th>\n",
       "      <td>충남청</td>\n",
       "      <td>2020-01-01 00:20:04</td>\n",
       "      <td>19</td>\n",
       "      <td>10</td>\n",
       "      <td>402</td>\n",
       "      <td>1</td>\n",
       "      <td>충청남도 천안시 서북구 불당동(불당동) 204-4</td>\n",
       "      <td>127.109667</td>\n",
       "      <td>36.815468</td>\n",
       "      <td>NaN</td>\n",
       "      <td>Wednesday</td>\n",
       "      <td>충남</td>\n",
       "      <td>천안시</td>\n",
       "    </tr>\n",
       "    <tr>\n",
       "      <th>4</th>\n",
       "      <td>대전청</td>\n",
       "      <td>2020-01-01 00:21:35</td>\n",
       "      <td>13</td>\n",
       "      <td>10</td>\n",
       "      <td>401</td>\n",
       "      <td>1</td>\n",
       "      <td>대전광역시 유성구 봉명동(행정:온천1동) 541-26</td>\n",
       "      <td>127.348625</td>\n",
       "      <td>36.353829</td>\n",
       "      <td>NaN</td>\n",
       "      <td>Wednesday</td>\n",
       "      <td>대전</td>\n",
       "      <td>유성구</td>\n",
       "    </tr>\n",
       "    <tr>\n",
       "      <th>5</th>\n",
       "      <td>충남청</td>\n",
       "      <td>2020-01-01 00:21:54</td>\n",
       "      <td>19</td>\n",
       "      <td>10</td>\n",
       "      <td>406</td>\n",
       "      <td>1</td>\n",
       "      <td>세종특별자치시 세종시 소담동(소담동) 32-92</td>\n",
       "      <td>127.305511</td>\n",
       "      <td>36.479819</td>\n",
       "      <td>Y</td>\n",
       "      <td>Wednesday</td>\n",
       "      <td>세종</td>\n",
       "      <td>소담동</td>\n",
       "    </tr>\n",
       "    <tr>\n",
       "      <th>6</th>\n",
       "      <td>충남청</td>\n",
       "      <td>2020-01-01 00:29:48</td>\n",
       "      <td>19</td>\n",
       "      <td>10</td>\n",
       "      <td>403</td>\n",
       "      <td>1</td>\n",
       "      <td>충청남도 천안시 동남구 목천읍 삼성리(목천읍) 203-19</td>\n",
       "      <td>127.170556</td>\n",
       "      <td>36.762500</td>\n",
       "      <td>NaN</td>\n",
       "      <td>Wednesday</td>\n",
       "      <td>충남</td>\n",
       "      <td>천안시</td>\n",
       "    </tr>\n",
       "    <tr>\n",
       "      <th>7</th>\n",
       "      <td>충남청</td>\n",
       "      <td>2020-01-01 00:32:03</td>\n",
       "      <td>19</td>\n",
       "      <td>10</td>\n",
       "      <td>406</td>\n",
       "      <td>1</td>\n",
       "      <td>충청남도 서산시 읍내동(행정:부춘동) 585-1</td>\n",
       "      <td>126.444094</td>\n",
       "      <td>36.786189</td>\n",
       "      <td>NaN</td>\n",
       "      <td>Wednesday</td>\n",
       "      <td>충남</td>\n",
       "      <td>서산시</td>\n",
       "    </tr>\n",
       "    <tr>\n",
       "      <th>8</th>\n",
       "      <td>대전청</td>\n",
       "      <td>2020-01-01 00:32:40</td>\n",
       "      <td>13</td>\n",
       "      <td>10</td>\n",
       "      <td>402</td>\n",
       "      <td>1</td>\n",
       "      <td>대전광역시 서구 탄방동(탄방동) 1447-1</td>\n",
       "      <td>127.386346</td>\n",
       "      <td>36.346856</td>\n",
       "      <td>NaN</td>\n",
       "      <td>Wednesday</td>\n",
       "      <td>대전</td>\n",
       "      <td>서구</td>\n",
       "    </tr>\n",
       "    <tr>\n",
       "      <th>9</th>\n",
       "      <td>대전청</td>\n",
       "      <td>2020-01-01 00:35:32</td>\n",
       "      <td>13</td>\n",
       "      <td>10</td>\n",
       "      <td>406</td>\n",
       "      <td>1</td>\n",
       "      <td>대전광역시 유성구 궁동(행정:온천2동) 423-8</td>\n",
       "      <td>127.349989</td>\n",
       "      <td>36.360797</td>\n",
       "      <td>NaN</td>\n",
       "      <td>Wednesday</td>\n",
       "      <td>대전</td>\n",
       "      <td>유성구</td>\n",
       "    </tr>\n",
       "    <tr>\n",
       "      <th>10</th>\n",
       "      <td>대전청</td>\n",
       "      <td>2020-01-01 00:43:01</td>\n",
       "      <td>13</td>\n",
       "      <td>10</td>\n",
       "      <td>401</td>\n",
       "      <td>1</td>\n",
       "      <td>대전광역시 중구 오류동(행정:오류동) 187-27</td>\n",
       "      <td>127.405055</td>\n",
       "      <td>36.328573</td>\n",
       "      <td>NaN</td>\n",
       "      <td>Wednesday</td>\n",
       "      <td>대전</td>\n",
       "      <td>중구</td>\n",
       "    </tr>\n",
       "    <tr>\n",
       "      <th>11</th>\n",
       "      <td>충남청</td>\n",
       "      <td>2020-01-01 00:47:02</td>\n",
       "      <td>19</td>\n",
       "      <td>10</td>\n",
       "      <td>401</td>\n",
       "      <td>1</td>\n",
       "      <td>충청남도 당진시 우두동(당진3동) 425-13</td>\n",
       "      <td>126.634405</td>\n",
       "      <td>36.901832</td>\n",
       "      <td>NaN</td>\n",
       "      <td>Wednesday</td>\n",
       "      <td>충남</td>\n",
       "      <td>당진시</td>\n",
       "    </tr>\n",
       "    <tr>\n",
       "      <th>12</th>\n",
       "      <td>충남청</td>\n",
       "      <td>2020-01-01 00:49:49</td>\n",
       "      <td>19</td>\n",
       "      <td>10</td>\n",
       "      <td>401</td>\n",
       "      <td>1</td>\n",
       "      <td>충청남도 천안시 동남구 안서동(행정:신안동) 159-7</td>\n",
       "      <td>127.190471</td>\n",
       "      <td>36.834160</td>\n",
       "      <td>Y</td>\n",
       "      <td>Wednesday</td>\n",
       "      <td>충남</td>\n",
       "      <td>천안시</td>\n",
       "    </tr>\n",
       "    <tr>\n",
       "      <th>13</th>\n",
       "      <td>충남청</td>\n",
       "      <td>2020-01-01 00:50:58</td>\n",
       "      <td>19</td>\n",
       "      <td>10</td>\n",
       "      <td>401</td>\n",
       "      <td>1</td>\n",
       "      <td>충청남도 천안시 동남구 안서동(행정:신안동) 159-7</td>\n",
       "      <td>127.190471</td>\n",
       "      <td>36.834160</td>\n",
       "      <td>Y</td>\n",
       "      <td>Wednesday</td>\n",
       "      <td>충남</td>\n",
       "      <td>천안시</td>\n",
       "    </tr>\n",
       "    <tr>\n",
       "      <th>14</th>\n",
       "      <td>충남청</td>\n",
       "      <td>2020-01-01 01:05:11</td>\n",
       "      <td>19</td>\n",
       "      <td>10</td>\n",
       "      <td>401</td>\n",
       "      <td>1</td>\n",
       "      <td>충청남도 서산시 읍내동(행정:부춘동) 101-2</td>\n",
       "      <td>126.451764</td>\n",
       "      <td>36.777163</td>\n",
       "      <td>NaN</td>\n",
       "      <td>Wednesday</td>\n",
       "      <td>충남</td>\n",
       "      <td>서산시</td>\n",
       "    </tr>\n",
       "    <tr>\n",
       "      <th>15</th>\n",
       "      <td>충남청</td>\n",
       "      <td>2020-01-01 01:07:05</td>\n",
       "      <td>19</td>\n",
       "      <td>10</td>\n",
       "      <td>401</td>\n",
       "      <td>1</td>\n",
       "      <td>충청남도 서산시 읍내동(행정:부춘동) 101-2</td>\n",
       "      <td>126.451764</td>\n",
       "      <td>36.777163</td>\n",
       "      <td>NaN</td>\n",
       "      <td>Wednesday</td>\n",
       "      <td>충남</td>\n",
       "      <td>서산시</td>\n",
       "    </tr>\n",
       "    <tr>\n",
       "      <th>16</th>\n",
       "      <td>충남청</td>\n",
       "      <td>2020-01-01 01:14:03</td>\n",
       "      <td>19</td>\n",
       "      <td>10</td>\n",
       "      <td>403</td>\n",
       "      <td>1</td>\n",
       "      <td>충청남도 아산시 탕정면 명암리(행정:탕정면) 809</td>\n",
       "      <td>127.059565</td>\n",
       "      <td>36.801537</td>\n",
       "      <td>NaN</td>\n",
       "      <td>Wednesday</td>\n",
       "      <td>충남</td>\n",
       "      <td>아산시</td>\n",
       "    </tr>\n",
       "    <tr>\n",
       "      <th>17</th>\n",
       "      <td>충남청</td>\n",
       "      <td>2020-01-01 01:14:40</td>\n",
       "      <td>19</td>\n",
       "      <td>10</td>\n",
       "      <td>403</td>\n",
       "      <td>3</td>\n",
       "      <td>충청남도 천안시 동남구 신방동(행정:신방동) 71-23</td>\n",
       "      <td>127.126755</td>\n",
       "      <td>36.789054</td>\n",
       "      <td>Y</td>\n",
       "      <td>Wednesday</td>\n",
       "      <td>충남</td>\n",
       "      <td>천안시</td>\n",
       "    </tr>\n",
       "    <tr>\n",
       "      <th>18</th>\n",
       "      <td>충남청</td>\n",
       "      <td>2020-01-01 01:14:40</td>\n",
       "      <td>19</td>\n",
       "      <td>10</td>\n",
       "      <td>403</td>\n",
       "      <td>3</td>\n",
       "      <td>충청남도 천안시 동남구 신방동(행정:신방동) 71-23</td>\n",
       "      <td>127.126755</td>\n",
       "      <td>36.789054</td>\n",
       "      <td>Y</td>\n",
       "      <td>Wednesday</td>\n",
       "      <td>충남</td>\n",
       "      <td>천안시</td>\n",
       "    </tr>\n",
       "    <tr>\n",
       "      <th>19</th>\n",
       "      <td>대전청</td>\n",
       "      <td>2020-01-01 01:17:14</td>\n",
       "      <td>13</td>\n",
       "      <td>10</td>\n",
       "      <td>401</td>\n",
       "      <td>1</td>\n",
       "      <td>대전광역시 중구 대사동(대사동) 64-2</td>\n",
       "      <td>127.431339</td>\n",
       "      <td>36.319196</td>\n",
       "      <td>Y</td>\n",
       "      <td>Wednesday</td>\n",
       "      <td>대전</td>\n",
       "      <td>중구</td>\n",
       "    </tr>\n",
       "  </tbody>\n",
       "</table>\n",
       "</div>"
      ],
      "text/plain": [
       "   접수부서코드               접수완료일시  경찰청구분  사건상태코드  사건종별코드 신고성별  \\\n",
       "0     충남청  2020-01-01 00:03:11     19      10     406    1   \n",
       "1     충남청  2020-01-01 00:18:08     19      10     403    1   \n",
       "2     충남청  2020-01-01 00:20:01     19      10     406    1   \n",
       "3     충남청  2020-01-01 00:20:04     19      10     402    1   \n",
       "4     대전청  2020-01-01 00:21:35     13      10     401    1   \n",
       "5     충남청  2020-01-01 00:21:54     19      10     406    1   \n",
       "6     충남청  2020-01-01 00:29:48     19      10     403    1   \n",
       "7     충남청  2020-01-01 00:32:03     19      10     406    1   \n",
       "8     대전청  2020-01-01 00:32:40     13      10     402    1   \n",
       "9     대전청  2020-01-01 00:35:32     13      10     406    1   \n",
       "10    대전청  2020-01-01 00:43:01     13      10     401    1   \n",
       "11    충남청  2020-01-01 00:47:02     19      10     401    1   \n",
       "12    충남청  2020-01-01 00:49:49     19      10     401    1   \n",
       "13    충남청  2020-01-01 00:50:58     19      10     401    1   \n",
       "14    충남청  2020-01-01 01:05:11     19      10     401    1   \n",
       "15    충남청  2020-01-01 01:07:05     19      10     401    1   \n",
       "16    충남청  2020-01-01 01:14:03     19      10     403    1   \n",
       "17    충남청  2020-01-01 01:14:40     19      10     403    3   \n",
       "18    충남청  2020-01-01 01:14:40     19      10     403    3   \n",
       "19    대전청  2020-01-01 01:17:14     13      10     401    1   \n",
       "\n",
       "                                발생지점       발생좌표x      발생좌표y 동일사건여부         요일  \\\n",
       "0         충청남도 공주시 정안면 어물리(정안면) 33-2  127.148714  36.605751      Y  Wednesday   \n",
       "1          충청남도 논산시 채운면 장화리(채운면) 533  127.030921  36.164643    NaN  Wednesday   \n",
       "2         세종특별자치시 세종시 소담동(소담동) 32-92  127.305511  36.479819      Y  Wednesday   \n",
       "3        충청남도 천안시 서북구 불당동(불당동) 204-4  127.109667  36.815468    NaN  Wednesday   \n",
       "4      대전광역시 유성구 봉명동(행정:온천1동) 541-26  127.348625  36.353829    NaN  Wednesday   \n",
       "5         세종특별자치시 세종시 소담동(소담동) 32-92  127.305511  36.479819      Y  Wednesday   \n",
       "6   충청남도 천안시 동남구 목천읍 삼성리(목천읍) 203-19  127.170556  36.762500    NaN  Wednesday   \n",
       "7         충청남도 서산시 읍내동(행정:부춘동) 585-1  126.444094  36.786189    NaN  Wednesday   \n",
       "8           대전광역시 서구 탄방동(탄방동) 1447-1  127.386346  36.346856    NaN  Wednesday   \n",
       "9        대전광역시 유성구 궁동(행정:온천2동) 423-8  127.349989  36.360797    NaN  Wednesday   \n",
       "10       대전광역시 중구 오류동(행정:오류동) 187-27  127.405055  36.328573    NaN  Wednesday   \n",
       "11         충청남도 당진시 우두동(당진3동) 425-13  126.634405  36.901832    NaN  Wednesday   \n",
       "12    충청남도 천안시 동남구 안서동(행정:신안동) 159-7  127.190471  36.834160      Y  Wednesday   \n",
       "13    충청남도 천안시 동남구 안서동(행정:신안동) 159-7  127.190471  36.834160      Y  Wednesday   \n",
       "14        충청남도 서산시 읍내동(행정:부춘동) 101-2  126.451764  36.777163    NaN  Wednesday   \n",
       "15        충청남도 서산시 읍내동(행정:부춘동) 101-2  126.451764  36.777163    NaN  Wednesday   \n",
       "16      충청남도 아산시 탕정면 명암리(행정:탕정면) 809  127.059565  36.801537    NaN  Wednesday   \n",
       "17    충청남도 천안시 동남구 신방동(행정:신방동) 71-23  127.126755  36.789054      Y  Wednesday   \n",
       "18    충청남도 천안시 동남구 신방동(행정:신방동) 71-23  127.126755  36.789054      Y  Wednesday   \n",
       "19            대전광역시 중구 대사동(대사동) 64-2  127.431339  36.319196      Y  Wednesday   \n",
       "\n",
       "    구분 시/군/구  \n",
       "0   충남   공주시  \n",
       "1   충남   논산시  \n",
       "2   세종   소담동  \n",
       "3   충남   천안시  \n",
       "4   대전   유성구  \n",
       "5   세종   소담동  \n",
       "6   충남   천안시  \n",
       "7   충남   서산시  \n",
       "8   대전    서구  \n",
       "9   대전   유성구  \n",
       "10  대전    중구  \n",
       "11  충남   당진시  \n",
       "12  충남   천안시  \n",
       "13  충남   천안시  \n",
       "14  충남   서산시  \n",
       "15  충남   서산시  \n",
       "16  충남   아산시  \n",
       "17  충남   천안시  \n",
       "18  충남   천안시  \n",
       "19  대전    중구  "
      ]
     },
     "execution_count": 6,
     "metadata": {},
     "output_type": "execute_result"
    }
   ],
   "source": [
    "result.head(20)"
   ]
  },
  {
   "cell_type": "code",
   "execution_count": 7,
   "id": "b39afd9f",
   "metadata": {},
   "outputs": [],
   "source": [
    "# del result[\"주소포함인덱스\"]"
   ]
  },
  {
   "cell_type": "code",
   "execution_count": 8,
   "id": "3abed04b",
   "metadata": {},
   "outputs": [],
   "source": [
    "# del result[\"제공자료인덱스\"]"
   ]
  },
  {
   "cell_type": "code",
   "execution_count": 9,
   "id": "78d43b43",
   "metadata": {},
   "outputs": [],
   "source": [
    "# del result[\"index\"]"
   ]
  },
  {
   "cell_type": "code",
   "execution_count": 10,
   "id": "71e8649e",
   "metadata": {},
   "outputs": [
    {
     "name": "stdout",
     "output_type": "stream",
     "text": [
      "<class 'pandas.core.frame.DataFrame'>\n",
      "RangeIndex: 415070 entries, 0 to 415069\n",
      "Data columns (total 13 columns):\n",
      " #   Column  Non-Null Count   Dtype  \n",
      "---  ------  --------------   -----  \n",
      " 0   접수부서코드  415070 non-null  object \n",
      " 1   접수완료일시  415070 non-null  object \n",
      " 2   경찰청구분   415070 non-null  int64  \n",
      " 3   사건상태코드  415070 non-null  int64  \n",
      " 4   사건종별코드  415070 non-null  int64  \n",
      " 5   신고성별    415070 non-null  object \n",
      " 6   발생지점    415070 non-null  object \n",
      " 7   발생좌표x   415053 non-null  float64\n",
      " 8   발생좌표y   415053 non-null  float64\n",
      " 9   동일사건여부  136673 non-null  object \n",
      " 10  요일      415070 non-null  object \n",
      " 11  구분      415070 non-null  object \n",
      " 12  시/군/구   415070 non-null  object \n",
      "dtypes: float64(2), int64(3), object(8)\n",
      "memory usage: 41.2+ MB\n"
     ]
    }
   ],
   "source": [
    "result.info() # 동일사건여부 결측치 처리 논의 필요 /  아예 삭제해도 될 듯?"
   ]
  },
  {
   "cell_type": "code",
   "execution_count": 11,
   "id": "3f602939",
   "metadata": {},
   "outputs": [],
   "source": [
    "# result2=result[(result[\"사건종별코드\"]==403) | (result[\"사건종별코드\"]== 406) |(result[\"사건종별코드\"]== 402)|(result[\"사건종별코드\"]== 401)|(result[\"사건종별코드\"]== 404)|(result[\"사건종별코드\"]== 405)]"
   ]
  },
  {
   "cell_type": "code",
   "execution_count": 12,
   "id": "f8cf67bc",
   "metadata": {},
   "outputs": [
    {
     "data": {
      "text/html": [
       "<div>\n",
       "<style scoped>\n",
       "    .dataframe tbody tr th:only-of-type {\n",
       "        vertical-align: middle;\n",
       "    }\n",
       "\n",
       "    .dataframe tbody tr th {\n",
       "        vertical-align: top;\n",
       "    }\n",
       "\n",
       "    .dataframe thead th {\n",
       "        text-align: right;\n",
       "    }\n",
       "</style>\n",
       "<table border=\"1\" class=\"dataframe\">\n",
       "  <thead>\n",
       "    <tr style=\"text-align: right;\">\n",
       "      <th></th>\n",
       "      <th>접수부서코드</th>\n",
       "      <th>접수완료일시</th>\n",
       "      <th>경찰청구분</th>\n",
       "      <th>사건상태코드</th>\n",
       "      <th>사건종별코드</th>\n",
       "      <th>신고성별</th>\n",
       "      <th>발생지점</th>\n",
       "      <th>발생좌표x</th>\n",
       "      <th>발생좌표y</th>\n",
       "      <th>동일사건여부</th>\n",
       "      <th>요일</th>\n",
       "      <th>구분</th>\n",
       "      <th>시/군/구</th>\n",
       "    </tr>\n",
       "  </thead>\n",
       "  <tbody>\n",
       "    <tr>\n",
       "      <th>415065</th>\n",
       "      <td>대전청</td>\n",
       "      <td>2023-01-18 23:23:38</td>\n",
       "      <td>13</td>\n",
       "      <td>10</td>\n",
       "      <td>406</td>\n",
       "      <td>1.0</td>\n",
       "      <td>대전광역시 중구 문화동 (행정:문화1동 ) 1-266</td>\n",
       "      <td>127.414486</td>\n",
       "      <td>36.321280</td>\n",
       "      <td>Y</td>\n",
       "      <td>Wednesday</td>\n",
       "      <td>대전</td>\n",
       "      <td>중구</td>\n",
       "    </tr>\n",
       "    <tr>\n",
       "      <th>415066</th>\n",
       "      <td>충남청</td>\n",
       "      <td>2023-01-18 23:32:32</td>\n",
       "      <td>19</td>\n",
       "      <td>10</td>\n",
       "      <td>401</td>\n",
       "      <td>1.0</td>\n",
       "      <td>충청남도 당진시 신평면 상오리(신평면 ) 910-6</td>\n",
       "      <td>126.741950</td>\n",
       "      <td>36.868136</td>\n",
       "      <td>Y</td>\n",
       "      <td>Wednesday</td>\n",
       "      <td>충남</td>\n",
       "      <td>당진시</td>\n",
       "    </tr>\n",
       "    <tr>\n",
       "      <th>415067</th>\n",
       "      <td>충남청</td>\n",
       "      <td>2023-01-18 23:34:30</td>\n",
       "      <td>19</td>\n",
       "      <td>10</td>\n",
       "      <td>401</td>\n",
       "      <td>1.0</td>\n",
       "      <td>충청남도 당진시 신평면 상오리(신평면 ) 910-6</td>\n",
       "      <td>126.741930</td>\n",
       "      <td>36.868214</td>\n",
       "      <td>Y</td>\n",
       "      <td>Wednesday</td>\n",
       "      <td>충남</td>\n",
       "      <td>당진시</td>\n",
       "    </tr>\n",
       "    <tr>\n",
       "      <th>415068</th>\n",
       "      <td>대전청</td>\n",
       "      <td>2023-01-18 23:35:52</td>\n",
       "      <td>13</td>\n",
       "      <td>10</td>\n",
       "      <td>406</td>\n",
       "      <td>2.0</td>\n",
       "      <td>대전광역시 서구 월평동 (월평1동 ) 1526</td>\n",
       "      <td>127.357785</td>\n",
       "      <td>36.355010</td>\n",
       "      <td>NaN</td>\n",
       "      <td>Wednesday</td>\n",
       "      <td>대전</td>\n",
       "      <td>서구</td>\n",
       "    </tr>\n",
       "    <tr>\n",
       "      <th>415069</th>\n",
       "      <td>충남청</td>\n",
       "      <td>2023-01-18 23:59:40</td>\n",
       "      <td>19</td>\n",
       "      <td>10</td>\n",
       "      <td>406</td>\n",
       "      <td>1.0</td>\n",
       "      <td>충청남도 아산시 모종동 (온양3동 ) 661</td>\n",
       "      <td>127.019848</td>\n",
       "      <td>36.778266</td>\n",
       "      <td>NaN</td>\n",
       "      <td>Wednesday</td>\n",
       "      <td>충남</td>\n",
       "      <td>아산시</td>\n",
       "    </tr>\n",
       "  </tbody>\n",
       "</table>\n",
       "</div>"
      ],
      "text/plain": [
       "       접수부서코드               접수완료일시  경찰청구분  사건상태코드  사건종별코드 신고성별  \\\n",
       "415065    대전청  2023-01-18 23:23:38     13      10     406  1.0   \n",
       "415066    충남청  2023-01-18 23:32:32     19      10     401  1.0   \n",
       "415067    충남청  2023-01-18 23:34:30     19      10     401  1.0   \n",
       "415068    대전청  2023-01-18 23:35:52     13      10     406  2.0   \n",
       "415069    충남청  2023-01-18 23:59:40     19      10     406  1.0   \n",
       "\n",
       "                                 발생지점       발생좌표x      발생좌표y 동일사건여부  \\\n",
       "415065  대전광역시 중구 문화동 (행정:문화1동 ) 1-266  127.414486  36.321280      Y   \n",
       "415066   충청남도 당진시 신평면 상오리(신평면 ) 910-6  126.741950  36.868136      Y   \n",
       "415067   충청남도 당진시 신평면 상오리(신평면 ) 910-6  126.741930  36.868214      Y   \n",
       "415068      대전광역시 서구 월평동 (월평1동 ) 1526  127.357785  36.355010    NaN   \n",
       "415069       충청남도 아산시 모종동 (온양3동 ) 661  127.019848  36.778266    NaN   \n",
       "\n",
       "               요일  구분 시/군/구  \n",
       "415065  Wednesday  대전    중구  \n",
       "415066  Wednesday  충남   당진시  \n",
       "415067  Wednesday  충남   당진시  \n",
       "415068  Wednesday  대전    서구  \n",
       "415069  Wednesday  충남   아산시  "
      ]
     },
     "execution_count": 12,
     "metadata": {},
     "output_type": "execute_result"
    }
   ],
   "source": [
    "# result.head()\n",
    "result.tail()"
   ]
  },
  {
   "cell_type": "code",
   "execution_count": 13,
   "id": "701d7017",
   "metadata": {},
   "outputs": [
    {
     "name": "stdout",
     "output_type": "stream",
     "text": [
      "교통사고 발생건수 : 255225\n",
      "교통불편 발생건수 : 58505\n",
      "교통위반 발생건수 : 33519\n",
      "사망,대형사고 발생건수 : 21\n",
      "인피도주 발생건수 : 45\n",
      "음주운전 발생건수 : 67755\n"
     ]
    }
   ],
   "source": [
    "# 총 발생건수 : 415,070\n",
    "# 20~23 년도 교통 관련 사건 발생 건수\n",
    "\n",
    "print(\"교통사고 발생건수 :\",len(result[result[\"사건종별코드\"]==401]))\n",
    "print(\"교통불편 발생건수 :\",len(result[result[\"사건종별코드\"]==402]))\n",
    "print(\"교통위반 발생건수 :\",len(result[result[\"사건종별코드\"]==403]))\n",
    "print(\"사망,대형사고 발생건수 :\",len(result[result[\"사건종별코드\"]==404]))\n",
    "print(\"인피도주 발생건수 :\",len(result[result[\"사건종별코드\"]==405]))\n",
    "print(\"음주운전 발생건수 :\",len(result[result[\"사건종별코드\"]==406]))"
   ]
  },
  {
   "cell_type": "code",
   "execution_count": 14,
   "id": "24dac841",
   "metadata": {},
   "outputs": [],
   "source": [
    "result401=len(result[result[\"사건종별코드\"]==401])\n",
    "result402=len(result[result[\"사건종별코드\"]==402])\n",
    "result403=len(result[result[\"사건종별코드\"]==403])\n",
    "result404=len(result[result[\"사건종별코드\"]==404])\n",
    "result405=len(result[result[\"사건종별코드\"]==405])\n",
    "result406=len(result[result[\"사건종별코드\"]==406])"
   ]
  },
  {
   "cell_type": "code",
   "execution_count": 15,
   "id": "30ebd76f",
   "metadata": {},
   "outputs": [],
   "source": [
    "result_list=[[\"교통사고\",result401],[\"교통불편\",result402],[\"교통위반\",result403],[\"사망,대형사고\",result404],[\"인피도주\",result405],\n",
    "        [\"음주운전\",result406]]"
   ]
  },
  {
   "cell_type": "code",
   "execution_count": 16,
   "id": "9ea2ace0",
   "metadata": {},
   "outputs": [],
   "source": [
    "resultdf=pd.DataFrame(result_list, columns=[\"종류\",\"발생건수\"])\n",
    "resultdf=resultdf.set_index(\"종류\")"
   ]
  },
  {
   "cell_type": "code",
   "execution_count": 17,
   "id": "daee7436",
   "metadata": {},
   "outputs": [
    {
     "data": {
      "text/plain": [
       "Text(0.5, 1.0, '<20~23년도 사건 종류별 발생건수>')"
      ]
     },
     "execution_count": 17,
     "metadata": {},
     "output_type": "execute_result"
    },
    {
     "data": {
      "image/png": "[encoded data removed]",
      "text/plain": [
       "<Figure size 720x360 with 1 Axes>"
      ]
     },
     "metadata": {
      "image/png": {
       "height": 404,
       "width": 637
      },
      "needs_background": "light"
     },
     "output_type": "display_data"
    }
   ],
   "source": [
    "resultdf=resultdf.sort_values(\"발생건수\", ascending=False)\n",
    "\n",
    "resultdf.plot(kind=\"bar\", figsize=(10,5), color=\"Skyblue\", fontsize=13)\n",
    "plt.xlabel(\"사건종류\")\n",
    "plt.ylabel(\"발생건수\")\n",
    "plt.title(\"<20~23년도 사건 종류별 발생건수>\")"
   ]
  },
  {
   "cell_type": "code",
   "execution_count": 18,
   "id": "05f2c87e",
   "metadata": {},
   "outputs": [
    {
     "data": {
      "image/png": "[encoded data removed]",
      "text/plain": [
       "<Figure size 720x360 with 1 Axes>"
      ]
     },
     "metadata": {
      "image/png": {
       "height": 333,
       "width": 606
      },
      "needs_background": "light"
     },
     "output_type": "display_data"
    }
   ],
   "source": [
    "day=pd.DataFrame(result.groupby(\"요일\").size())\n",
    "day.columns=[\"신고수\"]\n",
    "day=day.iloc[[1,5,6,4,0,2,3]]\n",
    "\n",
    "day.plot(kind=\"bar\", figsize=(10,5), color=\"peru\")\n",
    "plt.xticks(rotation=0)\n",
    "plt.legend(loc=\"upper left\")\n",
    "plt.title(\"21-23년 요일별 신고수\")\n",
    "plt.ylim(35000,68000)\n",
    "plt.grid(False)"
   ]
  },
  {
   "cell_type": "code",
   "execution_count": 19,
   "id": "ce3444c3",
   "metadata": {
    "scrolled": true
   },
   "outputs": [
    {
     "data": {
      "text/html": [
       "<div>\n",
       "<style scoped>\n",
       "    .dataframe tbody tr th:only-of-type {\n",
       "        vertical-align: middle;\n",
       "    }\n",
       "\n",
       "    .dataframe tbody tr th {\n",
       "        vertical-align: top;\n",
       "    }\n",
       "\n",
       "    .dataframe thead th {\n",
       "        text-align: right;\n",
       "    }\n",
       "</style>\n",
       "<table border=\"1\" class=\"dataframe\">\n",
       "  <thead>\n",
       "    <tr style=\"text-align: right;\">\n",
       "      <th></th>\n",
       "      <th>접수부서코드</th>\n",
       "      <th>접수완료일시</th>\n",
       "      <th>경찰청구분</th>\n",
       "      <th>사건상태코드</th>\n",
       "      <th>사건종별코드</th>\n",
       "      <th>신고성별</th>\n",
       "      <th>발생지점</th>\n",
       "      <th>발생좌표x</th>\n",
       "      <th>발생좌표y</th>\n",
       "      <th>동일사건여부</th>\n",
       "      <th>요일</th>\n",
       "      <th>구분</th>\n",
       "      <th>시/군/구</th>\n",
       "    </tr>\n",
       "  </thead>\n",
       "  <tbody>\n",
       "    <tr>\n",
       "      <th>0</th>\n",
       "      <td>충남청</td>\n",
       "      <td>2020-01-01 00:03:11</td>\n",
       "      <td>19</td>\n",
       "      <td>10</td>\n",
       "      <td>406</td>\n",
       "      <td>1</td>\n",
       "      <td>충청남도 공주시 정안면 어물리(정안면) 33-2</td>\n",
       "      <td>127.148714</td>\n",
       "      <td>36.605751</td>\n",
       "      <td>Y</td>\n",
       "      <td>Wednesday</td>\n",
       "      <td>충남</td>\n",
       "      <td>공주시</td>\n",
       "    </tr>\n",
       "    <tr>\n",
       "      <th>1</th>\n",
       "      <td>충남청</td>\n",
       "      <td>2020-01-01 00:18:08</td>\n",
       "      <td>19</td>\n",
       "      <td>10</td>\n",
       "      <td>403</td>\n",
       "      <td>1</td>\n",
       "      <td>충청남도 논산시 채운면 장화리(채운면) 533</td>\n",
       "      <td>127.030921</td>\n",
       "      <td>36.164643</td>\n",
       "      <td>NaN</td>\n",
       "      <td>Wednesday</td>\n",
       "      <td>충남</td>\n",
       "      <td>논산시</td>\n",
       "    </tr>\n",
       "    <tr>\n",
       "      <th>2</th>\n",
       "      <td>충남청</td>\n",
       "      <td>2020-01-01 00:20:01</td>\n",
       "      <td>19</td>\n",
       "      <td>10</td>\n",
       "      <td>406</td>\n",
       "      <td>1</td>\n",
       "      <td>세종특별자치시 세종시 소담동(소담동) 32-92</td>\n",
       "      <td>127.305511</td>\n",
       "      <td>36.479819</td>\n",
       "      <td>Y</td>\n",
       "      <td>Wednesday</td>\n",
       "      <td>세종</td>\n",
       "      <td>소담동</td>\n",
       "    </tr>\n",
       "    <tr>\n",
       "      <th>3</th>\n",
       "      <td>충남청</td>\n",
       "      <td>2020-01-01 00:20:04</td>\n",
       "      <td>19</td>\n",
       "      <td>10</td>\n",
       "      <td>402</td>\n",
       "      <td>1</td>\n",
       "      <td>충청남도 천안시 서북구 불당동(불당동) 204-4</td>\n",
       "      <td>127.109667</td>\n",
       "      <td>36.815468</td>\n",
       "      <td>NaN</td>\n",
       "      <td>Wednesday</td>\n",
       "      <td>충남</td>\n",
       "      <td>천안시</td>\n",
       "    </tr>\n",
       "    <tr>\n",
       "      <th>4</th>\n",
       "      <td>대전청</td>\n",
       "      <td>2020-01-01 00:21:35</td>\n",
       "      <td>13</td>\n",
       "      <td>10</td>\n",
       "      <td>401</td>\n",
       "      <td>1</td>\n",
       "      <td>대전광역시 유성구 봉명동(행정:온천1동) 541-26</td>\n",
       "      <td>127.348625</td>\n",
       "      <td>36.353829</td>\n",
       "      <td>NaN</td>\n",
       "      <td>Wednesday</td>\n",
       "      <td>대전</td>\n",
       "      <td>유성구</td>\n",
       "    </tr>\n",
       "    <tr>\n",
       "      <th>...</th>\n",
       "      <td>...</td>\n",
       "      <td>...</td>\n",
       "      <td>...</td>\n",
       "      <td>...</td>\n",
       "      <td>...</td>\n",
       "      <td>...</td>\n",
       "      <td>...</td>\n",
       "      <td>...</td>\n",
       "      <td>...</td>\n",
       "      <td>...</td>\n",
       "      <td>...</td>\n",
       "      <td>...</td>\n",
       "      <td>...</td>\n",
       "    </tr>\n",
       "    <tr>\n",
       "      <th>415065</th>\n",
       "      <td>대전청</td>\n",
       "      <td>2023-01-18 23:23:38</td>\n",
       "      <td>13</td>\n",
       "      <td>10</td>\n",
       "      <td>406</td>\n",
       "      <td>1.0</td>\n",
       "      <td>대전광역시 중구 문화동 (행정:문화1동 ) 1-266</td>\n",
       "      <td>127.414486</td>\n",
       "      <td>36.321280</td>\n",
       "      <td>Y</td>\n",
       "      <td>Wednesday</td>\n",
       "      <td>대전</td>\n",
       "      <td>중구</td>\n",
       "    </tr>\n",
       "    <tr>\n",
       "      <th>415066</th>\n",
       "      <td>충남청</td>\n",
       "      <td>2023-01-18 23:32:32</td>\n",
       "      <td>19</td>\n",
       "      <td>10</td>\n",
       "      <td>401</td>\n",
       "      <td>1.0</td>\n",
       "      <td>충청남도 당진시 신평면 상오리(신평면 ) 910-6</td>\n",
       "      <td>126.741950</td>\n",
       "      <td>36.868136</td>\n",
       "      <td>Y</td>\n",
       "      <td>Wednesday</td>\n",
       "      <td>충남</td>\n",
       "      <td>당진시</td>\n",
       "    </tr>\n",
       "    <tr>\n",
       "      <th>415067</th>\n",
       "      <td>충남청</td>\n",
       "      <td>2023-01-18 23:34:30</td>\n",
       "      <td>19</td>\n",
       "      <td>10</td>\n",
       "      <td>401</td>\n",
       "      <td>1.0</td>\n",
       "      <td>충청남도 당진시 신평면 상오리(신평면 ) 910-6</td>\n",
       "      <td>126.741930</td>\n",
       "      <td>36.868214</td>\n",
       "      <td>Y</td>\n",
       "      <td>Wednesday</td>\n",
       "      <td>충남</td>\n",
       "      <td>당진시</td>\n",
       "    </tr>\n",
       "    <tr>\n",
       "      <th>415068</th>\n",
       "      <td>대전청</td>\n",
       "      <td>2023-01-18 23:35:52</td>\n",
       "      <td>13</td>\n",
       "      <td>10</td>\n",
       "      <td>406</td>\n",
       "      <td>2.0</td>\n",
       "      <td>대전광역시 서구 월평동 (월평1동 ) 1526</td>\n",
       "      <td>127.357785</td>\n",
       "      <td>36.355010</td>\n",
       "      <td>NaN</td>\n",
       "      <td>Wednesday</td>\n",
       "      <td>대전</td>\n",
       "      <td>서구</td>\n",
       "    </tr>\n",
       "    <tr>\n",
       "      <th>415069</th>\n",
       "      <td>충남청</td>\n",
       "      <td>2023-01-18 23:59:40</td>\n",
       "      <td>19</td>\n",
       "      <td>10</td>\n",
       "      <td>406</td>\n",
       "      <td>1.0</td>\n",
       "      <td>충청남도 아산시 모종동 (온양3동 ) 661</td>\n",
       "      <td>127.019848</td>\n",
       "      <td>36.778266</td>\n",
       "      <td>NaN</td>\n",
       "      <td>Wednesday</td>\n",
       "      <td>충남</td>\n",
       "      <td>아산시</td>\n",
       "    </tr>\n",
       "  </tbody>\n",
       "</table>\n",
       "<p>415070 rows × 13 columns</p>\n",
       "</div>"
      ],
      "text/plain": [
       "       접수부서코드               접수완료일시  경찰청구분  사건상태코드  사건종별코드 신고성별  \\\n",
       "0         충남청  2020-01-01 00:03:11     19      10     406    1   \n",
       "1         충남청  2020-01-01 00:18:08     19      10     403    1   \n",
       "2         충남청  2020-01-01 00:20:01     19      10     406    1   \n",
       "3         충남청  2020-01-01 00:20:04     19      10     402    1   \n",
       "4         대전청  2020-01-01 00:21:35     13      10     401    1   \n",
       "...       ...                  ...    ...     ...     ...  ...   \n",
       "415065    대전청  2023-01-18 23:23:38     13      10     406  1.0   \n",
       "415066    충남청  2023-01-18 23:32:32     19      10     401  1.0   \n",
       "415067    충남청  2023-01-18 23:34:30     19      10     401  1.0   \n",
       "415068    대전청  2023-01-18 23:35:52     13      10     406  2.0   \n",
       "415069    충남청  2023-01-18 23:59:40     19      10     406  1.0   \n",
       "\n",
       "                                 발생지점       발생좌표x      발생좌표y 동일사건여부  \\\n",
       "0          충청남도 공주시 정안면 어물리(정안면) 33-2  127.148714  36.605751      Y   \n",
       "1           충청남도 논산시 채운면 장화리(채운면) 533  127.030921  36.164643    NaN   \n",
       "2          세종특별자치시 세종시 소담동(소담동) 32-92  127.305511  36.479819      Y   \n",
       "3         충청남도 천안시 서북구 불당동(불당동) 204-4  127.109667  36.815468    NaN   \n",
       "4       대전광역시 유성구 봉명동(행정:온천1동) 541-26  127.348625  36.353829    NaN   \n",
       "...                               ...         ...        ...    ...   \n",
       "415065  대전광역시 중구 문화동 (행정:문화1동 ) 1-266  127.414486  36.321280      Y   \n",
       "415066   충청남도 당진시 신평면 상오리(신평면 ) 910-6  126.741950  36.868136      Y   \n",
       "415067   충청남도 당진시 신평면 상오리(신평면 ) 910-6  126.741930  36.868214      Y   \n",
       "415068      대전광역시 서구 월평동 (월평1동 ) 1526  127.357785  36.355010    NaN   \n",
       "415069       충청남도 아산시 모종동 (온양3동 ) 661  127.019848  36.778266    NaN   \n",
       "\n",
       "               요일  구분 시/군/구  \n",
       "0       Wednesday  충남   공주시  \n",
       "1       Wednesday  충남   논산시  \n",
       "2       Wednesday  세종   소담동  \n",
       "3       Wednesday  충남   천안시  \n",
       "4       Wednesday  대전   유성구  \n",
       "...           ...  ..   ...  \n",
       "415065  Wednesday  대전    중구  \n",
       "415066  Wednesday  충남   당진시  \n",
       "415067  Wednesday  충남   당진시  \n",
       "415068  Wednesday  대전    서구  \n",
       "415069  Wednesday  충남   아산시  \n",
       "\n",
       "[415070 rows x 13 columns]"
      ]
     },
     "execution_count": 19,
     "metadata": {},
     "output_type": "execute_result"
    }
   ],
   "source": [
    "result"
   ]
  },
  {
   "cell_type": "code",
   "execution_count": 20,
   "id": "326dbd77",
   "metadata": {},
   "outputs": [],
   "source": [
    "mon=result[(result[\"요일\"]==\"Monday\") & ((result[\"사건종별코드\"]==401) |(result[\"사건종별코드\"]==402)|(result[\"사건종별코드\"]==403)|(result[\"사건종별코드\"]==404)|(result[\"사건종별코드\"]==405)|(result[\"사건종별코드\"]==406))]\n",
    "tue=result[(result[\"요일\"]==\"Tuesday\") & ((result[\"사건종별코드\"]==401) |(result[\"사건종별코드\"]==402)|(result[\"사건종별코드\"]==403)|(result[\"사건종별코드\"]==404)|(result[\"사건종별코드\"]==405)|(result[\"사건종별코드\"]==406))]\n",
    "wed=result[(result[\"요일\"]==\"Wednesday\") & ((result[\"사건종별코드\"]==401) |(result[\"사건종별코드\"]==402)|(result[\"사건종별코드\"]==403)|(result[\"사건종별코드\"]==404)|(result[\"사건종별코드\"]==405)|(result[\"사건종별코드\"]==406))]\n",
    "thr=result[(result[\"요일\"]==\"Thursday\") & ((result[\"사건종별코드\"]==401) |(result[\"사건종별코드\"]==402)|(result[\"사건종별코드\"]==403)|(result[\"사건종별코드\"]==404)|(result[\"사건종별코드\"]==405)|(result[\"사건종별코드\"]==406))]\n",
    "fri=result[(result[\"요일\"]==\"Friday\") & ((result[\"사건종별코드\"]==401) |(result[\"사건종별코드\"]==402)|(result[\"사건종별코드\"]==403)|(result[\"사건종별코드\"]==404)|(result[\"사건종별코드\"]==405)|(result[\"사건종별코드\"]==406))]\n",
    "sat=result[(result[\"요일\"]==\"Saturday\") & ((result[\"사건종별코드\"]==401) |(result[\"사건종별코드\"]==402)|(result[\"사건종별코드\"]==403)|(result[\"사건종별코드\"]==404)|(result[\"사건종별코드\"]==405)|(result[\"사건종별코드\"]==406))]\n",
    "sun=result[(result[\"요일\"]==\"Sunday\") & ((result[\"사건종별코드\"]==401) |(result[\"사건종별코드\"]==402)|(result[\"사건종별코드\"]==403)|(result[\"사건종별코드\"]==404)|(result[\"사건종별코드\"]==405)|(result[\"사건종별코드\"]==406))]"
   ]
  },
  {
   "cell_type": "code",
   "execution_count": 21,
   "id": "fcd1071a",
   "metadata": {
    "scrolled": true
   },
   "outputs": [],
   "source": [
    "mon=mon[[\"요일\",\"사건종별코드\"]].sort_values(\"사건종별코드\")\n",
    "mon=mon.set_index(\"요일\")"
   ]
  },
  {
   "cell_type": "code",
   "execution_count": 22,
   "id": "cbe053a9",
   "metadata": {},
   "outputs": [],
   "source": [
    "mondf=pd.DataFrame(mon.value_counts(), columns=[\"발생건수_월\"])"
   ]
  },
  {
   "cell_type": "code",
   "execution_count": 23,
   "id": "bf035cc2",
   "metadata": {},
   "outputs": [
    {
     "data": {
      "text/html": [
       "<div>\n",
       "<style scoped>\n",
       "    .dataframe tbody tr th:only-of-type {\n",
       "        vertical-align: middle;\n",
       "    }\n",
       "\n",
       "    .dataframe tbody tr th {\n",
       "        vertical-align: top;\n",
       "    }\n",
       "\n",
       "    .dataframe thead th {\n",
       "        text-align: right;\n",
       "    }\n",
       "</style>\n",
       "<table border=\"1\" class=\"dataframe\">\n",
       "  <thead>\n",
       "    <tr style=\"text-align: right;\">\n",
       "      <th></th>\n",
       "      <th>발생건수_월</th>\n",
       "    </tr>\n",
       "    <tr>\n",
       "      <th>사건종별코드</th>\n",
       "      <th></th>\n",
       "    </tr>\n",
       "  </thead>\n",
       "  <tbody>\n",
       "    <tr>\n",
       "      <th>401</th>\n",
       "      <td>38144</td>\n",
       "    </tr>\n",
       "    <tr>\n",
       "      <th>402</th>\n",
       "      <td>7707</td>\n",
       "    </tr>\n",
       "    <tr>\n",
       "      <th>406</th>\n",
       "      <td>7633</td>\n",
       "    </tr>\n",
       "    <tr>\n",
       "      <th>403</th>\n",
       "      <td>4075</td>\n",
       "    </tr>\n",
       "    <tr>\n",
       "      <th>404</th>\n",
       "      <td>7</td>\n",
       "    </tr>\n",
       "    <tr>\n",
       "      <th>405</th>\n",
       "      <td>4</td>\n",
       "    </tr>\n",
       "  </tbody>\n",
       "</table>\n",
       "</div>"
      ],
      "text/plain": [
       "        발생건수_월\n",
       "사건종별코드        \n",
       "401      38144\n",
       "402       7707\n",
       "406       7633\n",
       "403       4075\n",
       "404          7\n",
       "405          4"
      ]
     },
     "execution_count": 23,
     "metadata": {},
     "output_type": "execute_result"
    }
   ],
   "source": [
    "mondf"
   ]
  },
  {
   "cell_type": "code",
   "execution_count": 24,
   "id": "a6ab7cc6",
   "metadata": {},
   "outputs": [
    {
     "data": {
      "text/html": [
       "<div>\n",
       "<style scoped>\n",
       "    .dataframe tbody tr th:only-of-type {\n",
       "        vertical-align: middle;\n",
       "    }\n",
       "\n",
       "    .dataframe tbody tr th {\n",
       "        vertical-align: top;\n",
       "    }\n",
       "\n",
       "    .dataframe thead th {\n",
       "        text-align: right;\n",
       "    }\n",
       "</style>\n",
       "<table border=\"1\" class=\"dataframe\">\n",
       "  <thead>\n",
       "    <tr style=\"text-align: right;\">\n",
       "      <th></th>\n",
       "      <th>발생건수_화</th>\n",
       "    </tr>\n",
       "    <tr>\n",
       "      <th>사건종별코드</th>\n",
       "      <th></th>\n",
       "    </tr>\n",
       "  </thead>\n",
       "  <tbody>\n",
       "    <tr>\n",
       "      <th>401</th>\n",
       "      <td>37243</td>\n",
       "    </tr>\n",
       "    <tr>\n",
       "      <th>406</th>\n",
       "      <td>8235</td>\n",
       "    </tr>\n",
       "    <tr>\n",
       "      <th>402</th>\n",
       "      <td>7934</td>\n",
       "    </tr>\n",
       "    <tr>\n",
       "      <th>403</th>\n",
       "      <td>4241</td>\n",
       "    </tr>\n",
       "    <tr>\n",
       "      <th>405</th>\n",
       "      <td>7</td>\n",
       "    </tr>\n",
       "    <tr>\n",
       "      <th>404</th>\n",
       "      <td>3</td>\n",
       "    </tr>\n",
       "  </tbody>\n",
       "</table>\n",
       "</div>"
      ],
      "text/plain": [
       "        발생건수_화\n",
       "사건종별코드        \n",
       "401      37243\n",
       "406       8235\n",
       "402       7934\n",
       "403       4241\n",
       "405          7\n",
       "404          3"
      ]
     },
     "execution_count": 24,
     "metadata": {},
     "output_type": "execute_result"
    }
   ],
   "source": [
    "tue=tue[[\"요일\",\"사건종별코드\"]].sort_values(\"사건종별코드\")\n",
    "tue=tue.set_index(\"요일\")\n",
    "\n",
    "tuedf=pd.DataFrame(tue.value_counts(), columns=[\"발생건수_화\"])\n",
    "tuedf"
   ]
  },
  {
   "cell_type": "code",
   "execution_count": 25,
   "id": "70f6a9a6",
   "metadata": {},
   "outputs": [
    {
     "data": {
      "text/html": [
       "<div>\n",
       "<style scoped>\n",
       "    .dataframe tbody tr th:only-of-type {\n",
       "        vertical-align: middle;\n",
       "    }\n",
       "\n",
       "    .dataframe tbody tr th {\n",
       "        vertical-align: top;\n",
       "    }\n",
       "\n",
       "    .dataframe thead th {\n",
       "        text-align: right;\n",
       "    }\n",
       "</style>\n",
       "<table border=\"1\" class=\"dataframe\">\n",
       "  <thead>\n",
       "    <tr style=\"text-align: right;\">\n",
       "      <th></th>\n",
       "      <th>발생건수_수</th>\n",
       "    </tr>\n",
       "    <tr>\n",
       "      <th>사건종별코드</th>\n",
       "      <th></th>\n",
       "    </tr>\n",
       "  </thead>\n",
       "  <tbody>\n",
       "    <tr>\n",
       "      <th>401</th>\n",
       "      <td>36989</td>\n",
       "    </tr>\n",
       "    <tr>\n",
       "      <th>406</th>\n",
       "      <td>8422</td>\n",
       "    </tr>\n",
       "    <tr>\n",
       "      <th>402</th>\n",
       "      <td>8063</td>\n",
       "    </tr>\n",
       "    <tr>\n",
       "      <th>403</th>\n",
       "      <td>4534</td>\n",
       "    </tr>\n",
       "    <tr>\n",
       "      <th>405</th>\n",
       "      <td>8</td>\n",
       "    </tr>\n",
       "    <tr>\n",
       "      <th>404</th>\n",
       "      <td>1</td>\n",
       "    </tr>\n",
       "  </tbody>\n",
       "</table>\n",
       "</div>"
      ],
      "text/plain": [
       "        발생건수_수\n",
       "사건종별코드        \n",
       "401      36989\n",
       "406       8422\n",
       "402       8063\n",
       "403       4534\n",
       "405          8\n",
       "404          1"
      ]
     },
     "execution_count": 25,
     "metadata": {},
     "output_type": "execute_result"
    }
   ],
   "source": [
    "wed=wed[[\"요일\",\"사건종별코드\"]].sort_values(\"사건종별코드\")\n",
    "wed=wed.set_index(\"요일\")\n",
    "\n",
    "weddf=pd.DataFrame(wed.value_counts(), columns=[\"발생건수_수\"])\n",
    "weddf"
   ]
  },
  {
   "cell_type": "code",
   "execution_count": 26,
   "id": "dfe1bc72",
   "metadata": {},
   "outputs": [
    {
     "data": {
      "text/html": [
       "<div>\n",
       "<style scoped>\n",
       "    .dataframe tbody tr th:only-of-type {\n",
       "        vertical-align: middle;\n",
       "    }\n",
       "\n",
       "    .dataframe tbody tr th {\n",
       "        vertical-align: top;\n",
       "    }\n",
       "\n",
       "    .dataframe thead th {\n",
       "        text-align: right;\n",
       "    }\n",
       "</style>\n",
       "<table border=\"1\" class=\"dataframe\">\n",
       "  <thead>\n",
       "    <tr style=\"text-align: right;\">\n",
       "      <th></th>\n",
       "      <th>발생건수_목</th>\n",
       "    </tr>\n",
       "    <tr>\n",
       "      <th>사건종별코드</th>\n",
       "      <th></th>\n",
       "    </tr>\n",
       "  </thead>\n",
       "  <tbody>\n",
       "    <tr>\n",
       "      <th>401</th>\n",
       "      <td>36779</td>\n",
       "    </tr>\n",
       "    <tr>\n",
       "      <th>406</th>\n",
       "      <td>8693</td>\n",
       "    </tr>\n",
       "    <tr>\n",
       "      <th>402</th>\n",
       "      <td>8321</td>\n",
       "    </tr>\n",
       "    <tr>\n",
       "      <th>403</th>\n",
       "      <td>4702</td>\n",
       "    </tr>\n",
       "    <tr>\n",
       "      <th>405</th>\n",
       "      <td>10</td>\n",
       "    </tr>\n",
       "  </tbody>\n",
       "</table>\n",
       "</div>"
      ],
      "text/plain": [
       "        발생건수_목\n",
       "사건종별코드        \n",
       "401      36779\n",
       "406       8693\n",
       "402       8321\n",
       "403       4702\n",
       "405         10"
      ]
     },
     "execution_count": 26,
     "metadata": {},
     "output_type": "execute_result"
    }
   ],
   "source": [
    "thr=thr[[\"요일\",\"사건종별코드\"]].sort_values(\"사건종별코드\")\n",
    "thr=thr.set_index(\"요일\")\n",
    "\n",
    "thrdf=pd.DataFrame(thr.value_counts(), columns=[\"발생건수_목\"])\n",
    "thrdf"
   ]
  },
  {
   "cell_type": "code",
   "execution_count": 27,
   "id": "3c371ed4",
   "metadata": {},
   "outputs": [
    {
     "data": {
      "text/html": [
       "<div>\n",
       "<style scoped>\n",
       "    .dataframe tbody tr th:only-of-type {\n",
       "        vertical-align: middle;\n",
       "    }\n",
       "\n",
       "    .dataframe tbody tr th {\n",
       "        vertical-align: top;\n",
       "    }\n",
       "\n",
       "    .dataframe thead th {\n",
       "        text-align: right;\n",
       "    }\n",
       "</style>\n",
       "<table border=\"1\" class=\"dataframe\">\n",
       "  <thead>\n",
       "    <tr style=\"text-align: right;\">\n",
       "      <th></th>\n",
       "      <th>발생건수_금</th>\n",
       "    </tr>\n",
       "    <tr>\n",
       "      <th>사건종별코드</th>\n",
       "      <th></th>\n",
       "    </tr>\n",
       "  </thead>\n",
       "  <tbody>\n",
       "    <tr>\n",
       "      <th>401</th>\n",
       "      <td>40320</td>\n",
       "    </tr>\n",
       "    <tr>\n",
       "      <th>406</th>\n",
       "      <td>10284</td>\n",
       "    </tr>\n",
       "    <tr>\n",
       "      <th>402</th>\n",
       "      <td>9081</td>\n",
       "    </tr>\n",
       "    <tr>\n",
       "      <th>403</th>\n",
       "      <td>5330</td>\n",
       "    </tr>\n",
       "    <tr>\n",
       "      <th>405</th>\n",
       "      <td>7</td>\n",
       "    </tr>\n",
       "    <tr>\n",
       "      <th>404</th>\n",
       "      <td>3</td>\n",
       "    </tr>\n",
       "  </tbody>\n",
       "</table>\n",
       "</div>"
      ],
      "text/plain": [
       "        발생건수_금\n",
       "사건종별코드        \n",
       "401      40320\n",
       "406      10284\n",
       "402       9081\n",
       "403       5330\n",
       "405          7\n",
       "404          3"
      ]
     },
     "execution_count": 27,
     "metadata": {},
     "output_type": "execute_result"
    }
   ],
   "source": [
    "fri=fri[[\"요일\",\"사건종별코드\"]].sort_values(\"사건종별코드\")\n",
    "fri=fri.set_index(\"요일\")\n",
    "\n",
    "fridf=pd.DataFrame(fri.value_counts(), columns=[\"발생건수_금\"])\n",
    "fridf"
   ]
  },
  {
   "cell_type": "code",
   "execution_count": 28,
   "id": "cd517509",
   "metadata": {},
   "outputs": [
    {
     "data": {
      "text/html": [
       "<div>\n",
       "<style scoped>\n",
       "    .dataframe tbody tr th:only-of-type {\n",
       "        vertical-align: middle;\n",
       "    }\n",
       "\n",
       "    .dataframe tbody tr th {\n",
       "        vertical-align: top;\n",
       "    }\n",
       "\n",
       "    .dataframe thead th {\n",
       "        text-align: right;\n",
       "    }\n",
       "</style>\n",
       "<table border=\"1\" class=\"dataframe\">\n",
       "  <thead>\n",
       "    <tr style=\"text-align: right;\">\n",
       "      <th></th>\n",
       "      <th>발생건수_토</th>\n",
       "    </tr>\n",
       "    <tr>\n",
       "      <th>사건종별코드</th>\n",
       "      <th></th>\n",
       "    </tr>\n",
       "  </thead>\n",
       "  <tbody>\n",
       "    <tr>\n",
       "      <th>401</th>\n",
       "      <td>36815</td>\n",
       "    </tr>\n",
       "    <tr>\n",
       "      <th>406</th>\n",
       "      <td>12812</td>\n",
       "    </tr>\n",
       "    <tr>\n",
       "      <th>402</th>\n",
       "      <td>10633</td>\n",
       "    </tr>\n",
       "    <tr>\n",
       "      <th>403</th>\n",
       "      <td>5969</td>\n",
       "    </tr>\n",
       "    <tr>\n",
       "      <th>404</th>\n",
       "      <td>4</td>\n",
       "    </tr>\n",
       "    <tr>\n",
       "      <th>405</th>\n",
       "      <td>4</td>\n",
       "    </tr>\n",
       "  </tbody>\n",
       "</table>\n",
       "</div>"
      ],
      "text/plain": [
       "        발생건수_토\n",
       "사건종별코드        \n",
       "401      36815\n",
       "406      12812\n",
       "402      10633\n",
       "403       5969\n",
       "404          4\n",
       "405          4"
      ]
     },
     "execution_count": 28,
     "metadata": {},
     "output_type": "execute_result"
    }
   ],
   "source": [
    "sat=sat[[\"요일\",\"사건종별코드\"]].sort_values(\"사건종별코드\")\n",
    "sat=sat.set_index(\"요일\")\n",
    "\n",
    "satdf=pd.DataFrame(sat.value_counts(), columns=[\"발생건수_토\"])\n",
    "satdf"
   ]
  },
  {
   "cell_type": "code",
   "execution_count": 29,
   "id": "f86dd7e9",
   "metadata": {},
   "outputs": [
    {
     "data": {
      "text/html": [
       "<div>\n",
       "<style scoped>\n",
       "    .dataframe tbody tr th:only-of-type {\n",
       "        vertical-align: middle;\n",
       "    }\n",
       "\n",
       "    .dataframe tbody tr th {\n",
       "        vertical-align: top;\n",
       "    }\n",
       "\n",
       "    .dataframe thead th {\n",
       "        text-align: right;\n",
       "    }\n",
       "</style>\n",
       "<table border=\"1\" class=\"dataframe\">\n",
       "  <thead>\n",
       "    <tr style=\"text-align: right;\">\n",
       "      <th></th>\n",
       "      <th>발생건수_일</th>\n",
       "    </tr>\n",
       "    <tr>\n",
       "      <th>사건종별코드</th>\n",
       "      <th></th>\n",
       "    </tr>\n",
       "  </thead>\n",
       "  <tbody>\n",
       "    <tr>\n",
       "      <th>401</th>\n",
       "      <td>28935</td>\n",
       "    </tr>\n",
       "    <tr>\n",
       "      <th>406</th>\n",
       "      <td>11676</td>\n",
       "    </tr>\n",
       "    <tr>\n",
       "      <th>402</th>\n",
       "      <td>6766</td>\n",
       "    </tr>\n",
       "    <tr>\n",
       "      <th>403</th>\n",
       "      <td>4668</td>\n",
       "    </tr>\n",
       "    <tr>\n",
       "      <th>405</th>\n",
       "      <td>5</td>\n",
       "    </tr>\n",
       "    <tr>\n",
       "      <th>404</th>\n",
       "      <td>3</td>\n",
       "    </tr>\n",
       "  </tbody>\n",
       "</table>\n",
       "</div>"
      ],
      "text/plain": [
       "        발생건수_일\n",
       "사건종별코드        \n",
       "401      28935\n",
       "406      11676\n",
       "402       6766\n",
       "403       4668\n",
       "405          5\n",
       "404          3"
      ]
     },
     "execution_count": 29,
     "metadata": {},
     "output_type": "execute_result"
    }
   ],
   "source": [
    "sun=sun[[\"요일\",\"사건종별코드\"]].sort_values(\"사건종별코드\")\n",
    "sun=sun.set_index(\"요일\")\n",
    "\n",
    "sundf=pd.DataFrame(sun.value_counts(), columns=[\"발생건수_일\"])\n",
    "sundf"
   ]
  },
  {
   "cell_type": "code",
   "execution_count": 30,
   "id": "24c8d50e",
   "metadata": {},
   "outputs": [],
   "source": [
    "w=pd.merge(mondf, tuedf,on=\"사건종별코드\")"
   ]
  },
  {
   "cell_type": "code",
   "execution_count": 31,
   "id": "edefff36",
   "metadata": {},
   "outputs": [],
   "source": [
    "ww=pd.merge(w,weddf, on=\"사건종별코드\")"
   ]
  },
  {
   "cell_type": "code",
   "execution_count": 32,
   "id": "8a5f85ff",
   "metadata": {},
   "outputs": [],
   "source": [
    "www=pd.merge(ww,thrdf, on=\"사건종별코드\")"
   ]
  },
  {
   "cell_type": "code",
   "execution_count": 33,
   "id": "efa38b18",
   "metadata": {},
   "outputs": [],
   "source": [
    "wwww=pd.merge(www,fridf, on=\"사건종별코드\")"
   ]
  },
  {
   "cell_type": "code",
   "execution_count": 34,
   "id": "45534448",
   "metadata": {},
   "outputs": [],
   "source": [
    "wwwww=pd.merge(wwww, satdf, on=\"사건종별코드\")"
   ]
  },
  {
   "cell_type": "code",
   "execution_count": 35,
   "id": "99535724",
   "metadata": {},
   "outputs": [],
   "source": [
    "week=pd.merge(wwwww,sundf, on=\"사건종별코드\")"
   ]
  },
  {
   "cell_type": "code",
   "execution_count": 36,
   "id": "9ae0c67f",
   "metadata": {},
   "outputs": [],
   "source": [
    "week=week.reset_index()"
   ]
  },
  {
   "cell_type": "code",
   "execution_count": 37,
   "id": "741abd79",
   "metadata": {},
   "outputs": [],
   "source": [
    "week=week.replace({401:\"교통사고\",402:\"교통불편\",403:\"교통위반\",404:\"사망,대형사고\",405:\"인피도주\",406:\"음주운전\",})\n",
    "week=week.set_index(\"사건종별코드\")"
   ]
  },
  {
   "cell_type": "code",
   "execution_count": 38,
   "id": "c80f52e2",
   "metadata": {
    "scrolled": false
   },
   "outputs": [
    {
     "data": {
      "text/plain": [
       "<AxesSubplot:xlabel='사건종별코드'>"
      ]
     },
     "execution_count": 38,
     "metadata": {},
     "output_type": "execute_result"
    },
    {
     "data": {
      "image/png": "[encoded data removed]",
      "text/plain": [
       "<Figure size 1080x360 with 1 Axes>"
      ]
     },
     "metadata": {
      "image/png": {
       "height": 347,
       "width": 885
      },
      "needs_background": "light"
     },
     "output_type": "display_data"
    }
   ],
   "source": [
    "week.plot(kind=\"bar\", figsize=(15,5), width=0.8)"
   ]
  },
  {
   "cell_type": "code",
   "execution_count": 39,
   "id": "362518ea",
   "metadata": {
    "scrolled": true
   },
   "outputs": [
    {
     "data": {
      "text/html": [
       "<div>\n",
       "<style scoped>\n",
       "    .dataframe tbody tr th:only-of-type {\n",
       "        vertical-align: middle;\n",
       "    }\n",
       "\n",
       "    .dataframe tbody tr th {\n",
       "        vertical-align: top;\n",
       "    }\n",
       "\n",
       "    .dataframe thead th {\n",
       "        text-align: right;\n",
       "    }\n",
       "</style>\n",
       "<table border=\"1\" class=\"dataframe\">\n",
       "  <thead>\n",
       "    <tr style=\"text-align: right;\">\n",
       "      <th></th>\n",
       "      <th>접수부서코드</th>\n",
       "      <th>접수완료일시</th>\n",
       "      <th>경찰청구분</th>\n",
       "      <th>사건상태코드</th>\n",
       "      <th>사건종별코드</th>\n",
       "      <th>신고성별</th>\n",
       "      <th>발생지점</th>\n",
       "      <th>발생좌표x</th>\n",
       "      <th>발생좌표y</th>\n",
       "      <th>동일사건여부</th>\n",
       "      <th>요일</th>\n",
       "      <th>구분</th>\n",
       "      <th>시/군/구</th>\n",
       "    </tr>\n",
       "  </thead>\n",
       "  <tbody>\n",
       "    <tr>\n",
       "      <th>0</th>\n",
       "      <td>충남청</td>\n",
       "      <td>2020-01-01 00:03:11</td>\n",
       "      <td>19</td>\n",
       "      <td>10</td>\n",
       "      <td>406</td>\n",
       "      <td>1</td>\n",
       "      <td>충청남도 공주시 정안면 어물리(정안면) 33-2</td>\n",
       "      <td>127.148714</td>\n",
       "      <td>36.605751</td>\n",
       "      <td>Y</td>\n",
       "      <td>Wednesday</td>\n",
       "      <td>충남</td>\n",
       "      <td>공주시</td>\n",
       "    </tr>\n",
       "    <tr>\n",
       "      <th>1</th>\n",
       "      <td>충남청</td>\n",
       "      <td>2020-01-01 00:18:08</td>\n",
       "      <td>19</td>\n",
       "      <td>10</td>\n",
       "      <td>403</td>\n",
       "      <td>1</td>\n",
       "      <td>충청남도 논산시 채운면 장화리(채운면) 533</td>\n",
       "      <td>127.030921</td>\n",
       "      <td>36.164643</td>\n",
       "      <td>NaN</td>\n",
       "      <td>Wednesday</td>\n",
       "      <td>충남</td>\n",
       "      <td>논산시</td>\n",
       "    </tr>\n",
       "    <tr>\n",
       "      <th>2</th>\n",
       "      <td>충남청</td>\n",
       "      <td>2020-01-01 00:20:01</td>\n",
       "      <td>19</td>\n",
       "      <td>10</td>\n",
       "      <td>406</td>\n",
       "      <td>1</td>\n",
       "      <td>세종특별자치시 세종시 소담동(소담동) 32-92</td>\n",
       "      <td>127.305511</td>\n",
       "      <td>36.479819</td>\n",
       "      <td>Y</td>\n",
       "      <td>Wednesday</td>\n",
       "      <td>세종</td>\n",
       "      <td>소담동</td>\n",
       "    </tr>\n",
       "    <tr>\n",
       "      <th>3</th>\n",
       "      <td>충남청</td>\n",
       "      <td>2020-01-01 00:20:04</td>\n",
       "      <td>19</td>\n",
       "      <td>10</td>\n",
       "      <td>402</td>\n",
       "      <td>1</td>\n",
       "      <td>충청남도 천안시 서북구 불당동(불당동) 204-4</td>\n",
       "      <td>127.109667</td>\n",
       "      <td>36.815468</td>\n",
       "      <td>NaN</td>\n",
       "      <td>Wednesday</td>\n",
       "      <td>충남</td>\n",
       "      <td>천안시</td>\n",
       "    </tr>\n",
       "    <tr>\n",
       "      <th>4</th>\n",
       "      <td>대전청</td>\n",
       "      <td>2020-01-01 00:21:35</td>\n",
       "      <td>13</td>\n",
       "      <td>10</td>\n",
       "      <td>401</td>\n",
       "      <td>1</td>\n",
       "      <td>대전광역시 유성구 봉명동(행정:온천1동) 541-26</td>\n",
       "      <td>127.348625</td>\n",
       "      <td>36.353829</td>\n",
       "      <td>NaN</td>\n",
       "      <td>Wednesday</td>\n",
       "      <td>대전</td>\n",
       "      <td>유성구</td>\n",
       "    </tr>\n",
       "    <tr>\n",
       "      <th>...</th>\n",
       "      <td>...</td>\n",
       "      <td>...</td>\n",
       "      <td>...</td>\n",
       "      <td>...</td>\n",
       "      <td>...</td>\n",
       "      <td>...</td>\n",
       "      <td>...</td>\n",
       "      <td>...</td>\n",
       "      <td>...</td>\n",
       "      <td>...</td>\n",
       "      <td>...</td>\n",
       "      <td>...</td>\n",
       "      <td>...</td>\n",
       "    </tr>\n",
       "    <tr>\n",
       "      <th>415065</th>\n",
       "      <td>대전청</td>\n",
       "      <td>2023-01-18 23:23:38</td>\n",
       "      <td>13</td>\n",
       "      <td>10</td>\n",
       "      <td>406</td>\n",
       "      <td>1.0</td>\n",
       "      <td>대전광역시 중구 문화동 (행정:문화1동 ) 1-266</td>\n",
       "      <td>127.414486</td>\n",
       "      <td>36.321280</td>\n",
       "      <td>Y</td>\n",
       "      <td>Wednesday</td>\n",
       "      <td>대전</td>\n",
       "      <td>중구</td>\n",
       "    </tr>\n",
       "    <tr>\n",
       "      <th>415066</th>\n",
       "      <td>충남청</td>\n",
       "      <td>2023-01-18 23:32:32</td>\n",
       "      <td>19</td>\n",
       "      <td>10</td>\n",
       "      <td>401</td>\n",
       "      <td>1.0</td>\n",
       "      <td>충청남도 당진시 신평면 상오리(신평면 ) 910-6</td>\n",
       "      <td>126.741950</td>\n",
       "      <td>36.868136</td>\n",
       "      <td>Y</td>\n",
       "      <td>Wednesday</td>\n",
       "      <td>충남</td>\n",
       "      <td>당진시</td>\n",
       "    </tr>\n",
       "    <tr>\n",
       "      <th>415067</th>\n",
       "      <td>충남청</td>\n",
       "      <td>2023-01-18 23:34:30</td>\n",
       "      <td>19</td>\n",
       "      <td>10</td>\n",
       "      <td>401</td>\n",
       "      <td>1.0</td>\n",
       "      <td>충청남도 당진시 신평면 상오리(신평면 ) 910-6</td>\n",
       "      <td>126.741930</td>\n",
       "      <td>36.868214</td>\n",
       "      <td>Y</td>\n",
       "      <td>Wednesday</td>\n",
       "      <td>충남</td>\n",
       "      <td>당진시</td>\n",
       "    </tr>\n",
       "    <tr>\n",
       "      <th>415068</th>\n",
       "      <td>대전청</td>\n",
       "      <td>2023-01-18 23:35:52</td>\n",
       "      <td>13</td>\n",
       "      <td>10</td>\n",
       "      <td>406</td>\n",
       "      <td>2.0</td>\n",
       "      <td>대전광역시 서구 월평동 (월평1동 ) 1526</td>\n",
       "      <td>127.357785</td>\n",
       "      <td>36.355010</td>\n",
       "      <td>NaN</td>\n",
       "      <td>Wednesday</td>\n",
       "      <td>대전</td>\n",
       "      <td>서구</td>\n",
       "    </tr>\n",
       "    <tr>\n",
       "      <th>415069</th>\n",
       "      <td>충남청</td>\n",
       "      <td>2023-01-18 23:59:40</td>\n",
       "      <td>19</td>\n",
       "      <td>10</td>\n",
       "      <td>406</td>\n",
       "      <td>1.0</td>\n",
       "      <td>충청남도 아산시 모종동 (온양3동 ) 661</td>\n",
       "      <td>127.019848</td>\n",
       "      <td>36.778266</td>\n",
       "      <td>NaN</td>\n",
       "      <td>Wednesday</td>\n",
       "      <td>충남</td>\n",
       "      <td>아산시</td>\n",
       "    </tr>\n",
       "  </tbody>\n",
       "</table>\n",
       "<p>415070 rows × 13 columns</p>\n",
       "</div>"
      ],
      "text/plain": [
       "       접수부서코드               접수완료일시  경찰청구분  사건상태코드  사건종별코드 신고성별  \\\n",
       "0         충남청  2020-01-01 00:03:11     19      10     406    1   \n",
       "1         충남청  2020-01-01 00:18:08     19      10     403    1   \n",
       "2         충남청  2020-01-01 00:20:01     19      10     406    1   \n",
       "3         충남청  2020-01-01 00:20:04     19      10     402    1   \n",
       "4         대전청  2020-01-01 00:21:35     13      10     401    1   \n",
       "...       ...                  ...    ...     ...     ...  ...   \n",
       "415065    대전청  2023-01-18 23:23:38     13      10     406  1.0   \n",
       "415066    충남청  2023-01-18 23:32:32     19      10     401  1.0   \n",
       "415067    충남청  2023-01-18 23:34:30     19      10     401  1.0   \n",
       "415068    대전청  2023-01-18 23:35:52     13      10     406  2.0   \n",
       "415069    충남청  2023-01-18 23:59:40     19      10     406  1.0   \n",
       "\n",
       "                                 발생지점       발생좌표x      발생좌표y 동일사건여부  \\\n",
       "0          충청남도 공주시 정안면 어물리(정안면) 33-2  127.148714  36.605751      Y   \n",
       "1           충청남도 논산시 채운면 장화리(채운면) 533  127.030921  36.164643    NaN   \n",
       "2          세종특별자치시 세종시 소담동(소담동) 32-92  127.305511  36.479819      Y   \n",
       "3         충청남도 천안시 서북구 불당동(불당동) 204-4  127.109667  36.815468    NaN   \n",
       "4       대전광역시 유성구 봉명동(행정:온천1동) 541-26  127.348625  36.353829    NaN   \n",
       "...                               ...         ...        ...    ...   \n",
       "415065  대전광역시 중구 문화동 (행정:문화1동 ) 1-266  127.414486  36.321280      Y   \n",
       "415066   충청남도 당진시 신평면 상오리(신평면 ) 910-6  126.741950  36.868136      Y   \n",
       "415067   충청남도 당진시 신평면 상오리(신평면 ) 910-6  126.741930  36.868214      Y   \n",
       "415068      대전광역시 서구 월평동 (월평1동 ) 1526  127.357785  36.355010    NaN   \n",
       "415069       충청남도 아산시 모종동 (온양3동 ) 661  127.019848  36.778266    NaN   \n",
       "\n",
       "               요일  구분 시/군/구  \n",
       "0       Wednesday  충남   공주시  \n",
       "1       Wednesday  충남   논산시  \n",
       "2       Wednesday  세종   소담동  \n",
       "3       Wednesday  충남   천안시  \n",
       "4       Wednesday  대전   유성구  \n",
       "...           ...  ..   ...  \n",
       "415065  Wednesday  대전    중구  \n",
       "415066  Wednesday  충남   당진시  \n",
       "415067  Wednesday  충남   당진시  \n",
       "415068  Wednesday  대전    서구  \n",
       "415069  Wednesday  충남   아산시  \n",
       "\n",
       "[415070 rows x 13 columns]"
      ]
     },
     "execution_count": 39,
     "metadata": {},
     "output_type": "execute_result"
    }
   ],
   "source": [
    "result"
   ]
  },
  {
   "cell_type": "code",
   "execution_count": 40,
   "id": "4980a4ee",
   "metadata": {},
   "outputs": [],
   "source": [
    "result[\"발생연도\"]=result[\"접수완료일시\"].str.split(\"-\").apply(lambda x:x[0])"
   ]
  },
  {
   "cell_type": "code",
   "execution_count": 41,
   "id": "bfe5ae1d",
   "metadata": {},
   "outputs": [],
   "source": [
    "t20=len(result[result[\"발생연도\"]==\"2020\"])\n",
    "t21=len(result[result[\"발생연도\"]==\"2021\"])\n",
    "t22=len(result[result[\"발생연도\"]==\"2022\"])"
   ]
  },
  {
   "cell_type": "code",
   "execution_count": 42,
   "id": "d8d61cf9",
   "metadata": {},
   "outputs": [],
   "source": [
    "tist=[[\"20년\",t20],[\"21년\",t21],[\"22년\",t22]]\n",
    "\n",
    "tdf=pd.DataFrame(tist, columns=[\"연도\",\"교통사고 건수\"]).set_index(\"연도\")"
   ]
  },
  {
   "cell_type": "code",
   "execution_count": 43,
   "id": "dcf64d98",
   "metadata": {},
   "outputs": [
    {
     "data": {
      "text/html": [
       "<div>\n",
       "<style scoped>\n",
       "    .dataframe tbody tr th:only-of-type {\n",
       "        vertical-align: middle;\n",
       "    }\n",
       "\n",
       "    .dataframe tbody tr th {\n",
       "        vertical-align: top;\n",
       "    }\n",
       "\n",
       "    .dataframe thead th {\n",
       "        text-align: right;\n",
       "    }\n",
       "</style>\n",
       "<table border=\"1\" class=\"dataframe\">\n",
       "  <thead>\n",
       "    <tr style=\"text-align: right;\">\n",
       "      <th></th>\n",
       "      <th>교통사고 건수</th>\n",
       "    </tr>\n",
       "    <tr>\n",
       "      <th>연도</th>\n",
       "      <th></th>\n",
       "    </tr>\n",
       "  </thead>\n",
       "  <tbody>\n",
       "    <tr>\n",
       "      <th>20년</th>\n",
       "      <td>142538</td>\n",
       "    </tr>\n",
       "    <tr>\n",
       "      <th>21년</th>\n",
       "      <td>128025</td>\n",
       "    </tr>\n",
       "    <tr>\n",
       "      <th>22년</th>\n",
       "      <td>138442</td>\n",
       "    </tr>\n",
       "  </tbody>\n",
       "</table>\n",
       "</div>"
      ],
      "text/plain": [
       "     교통사고 건수\n",
       "연도          \n",
       "20년   142538\n",
       "21년   128025\n",
       "22년   138442"
      ]
     },
     "execution_count": 43,
     "metadata": {},
     "output_type": "execute_result"
    }
   ],
   "source": [
    "tdf"
   ]
  },
  {
   "cell_type": "code",
   "execution_count": 44,
   "id": "8d7146e9",
   "metadata": {},
   "outputs": [
    {
     "data": {
      "text/plain": [
       "<AxesSubplot:xlabel='연도'>"
      ]
     },
     "execution_count": 44,
     "metadata": {},
     "output_type": "execute_result"
    },
    {
     "data": {
      "image/png": "[encoded data removed]",
      "text/plain": [
       "<Figure size 576x360 with 1 Axes>"
      ]
     },
     "metadata": {
      "image/png": {
       "height": 328,
       "width": 500
      },
      "needs_background": "light"
     },
     "output_type": "display_data"
    }
   ],
   "source": [
    "tdf.plot(kind=\"bar\", figsize=(8,5), width=0.5, color=\"salmon\")"
   ]
  },
  {
   "cell_type": "code",
   "execution_count": null,
   "id": "192c152b",
   "metadata": {},
   "outputs": [],
   "source": []
  },
  {
   "cell_type": "code",
   "execution_count": null,
   "id": "4781d67b",
   "metadata": {},
   "outputs": [],
   "source": []
  },
  {
   "cell_type": "code",
   "execution_count": null,
   "id": "abd64397",
   "metadata": {},
   "outputs": [],
   "source": []
  },
  {
   "cell_type": "code",
   "execution_count": null,
   "id": "5b0a0aaf",
   "metadata": {},
   "outputs": [],
   "source": []
  },
  {
   "cell_type": "code",
   "execution_count": null,
   "id": "78a61f0f",
   "metadata": {},
   "outputs": [],
   "source": []
  },
  {
   "cell_type": "code",
   "execution_count": null,
   "id": "126fbef5",
   "metadata": {},
   "outputs": [],
   "source": []
  },
  {
   "cell_type": "code",
   "execution_count": null,
   "id": "ae1f50a9",
   "metadata": {},
   "outputs": [],
   "source": []
  },
  {
   "cell_type": "code",
   "execution_count": 45,
   "id": "bbb2435e",
   "metadata": {},
   "outputs": [],
   "source": [
    "kp20=pd.read_csv(\"C:\\\\Users\\\\minir\\\\OneDrive\\\\바탕 화면\\\\지치안\\\\data\\\\kp2020.csv\")\n",
    "kp21=pd.read_csv(\"C:\\\\Users\\\\minir\\\\OneDrive\\\\바탕 화면\\\\지치안\\\\data\\\\kp2021.csv\")"
   ]
  },
  {
   "cell_type": "code",
   "execution_count": 46,
   "id": "92c56bc7",
   "metadata": {},
   "outputs": [],
   "source": [
    "kp20.rename(columns={\"RECV_DEPT_NM\":\"접수부서코드\",\"RECV_CPLT_DM\":\"접수완료일시\", \"NPA_CL\":\"경찰청구분\", \"EVT_STAT_CD\":\"사건상태코드\",\"EVT_CL_CD\":\"사건종별코드\",\"RPTER_SEX\":\"신고성별\",\"HPPN_PNU_ADDR\":\"발생지점\",\"HPPN_X\":\"발생좌표x\",\"HPPN_Y\":\"발생좌표y\",\"SME_EVT_YN\":\"동일사건여부\"}, inplace=True)\n",
    "kp21.rename(columns={\"RECV_DEPT_NM\":\"접수부서코드\",\"RECV_CPLT_DM\":\"접수완료일시\", \"NPA_CL\":\"경찰청구분\", \"EVT_STAT_CD\":\"사건상태코드\",\"EVT_CL_CD\":\"사건종별코드\",\"RPTER_SEX\":\"신고성별\",\"HPPN_PNU_ADDR\":\"발생지점\",\"HPPN_X\":\"발생좌표x\",\"HPPN_Y\":\"발생좌표y\",\"SME_EVT_YN\":\"동일사건여부\"}, inplace=True)"
   ]
  },
  {
   "cell_type": "code",
   "execution_count": 47,
   "id": "1b0398e2",
   "metadata": {
    "scrolled": true
   },
   "outputs": [
    {
     "data": {
      "text/html": [
       "<div>\n",
       "<style scoped>\n",
       "    .dataframe tbody tr th:only-of-type {\n",
       "        vertical-align: middle;\n",
       "    }\n",
       "\n",
       "    .dataframe tbody tr th {\n",
       "        vertical-align: top;\n",
       "    }\n",
       "\n",
       "    .dataframe thead th {\n",
       "        text-align: right;\n",
       "    }\n",
       "</style>\n",
       "<table border=\"1\" class=\"dataframe\">\n",
       "  <thead>\n",
       "    <tr style=\"text-align: right;\">\n",
       "      <th></th>\n",
       "      <th>접수부서코드</th>\n",
       "      <th>접수완료일시</th>\n",
       "      <th>경찰청구분</th>\n",
       "      <th>사건상태코드</th>\n",
       "      <th>사건종별코드</th>\n",
       "      <th>신고성별</th>\n",
       "      <th>발생지점</th>\n",
       "      <th>발생좌표x</th>\n",
       "      <th>발생좌표y</th>\n",
       "      <th>동일사건여부</th>\n",
       "    </tr>\n",
       "  </thead>\n",
       "  <tbody>\n",
       "    <tr>\n",
       "      <th>0</th>\n",
       "      <td>충남청</td>\n",
       "      <td>20/12/01 01:43:07.000000000</td>\n",
       "      <td>19</td>\n",
       "      <td>10</td>\n",
       "      <td>305</td>\n",
       "      <td>1.0</td>\n",
       "      <td>충청남도 보령시 궁촌동(행정:대천4동) 369</td>\n",
       "      <td>126.598345</td>\n",
       "      <td>36.341537</td>\n",
       "      <td>Y</td>\n",
       "    </tr>\n",
       "    <tr>\n",
       "      <th>1</th>\n",
       "      <td>대전청</td>\n",
       "      <td>20/12/01 02:05:04.000000000</td>\n",
       "      <td>13</td>\n",
       "      <td>10</td>\n",
       "      <td>601</td>\n",
       "      <td>3.0</td>\n",
       "      <td>NaN</td>\n",
       "      <td>127.404663</td>\n",
       "      <td>36.341685</td>\n",
       "      <td>NaN</td>\n",
       "    </tr>\n",
       "    <tr>\n",
       "      <th>2</th>\n",
       "      <td>대전청</td>\n",
       "      <td>20/12/01 02:06:52.000000000</td>\n",
       "      <td>13</td>\n",
       "      <td>10</td>\n",
       "      <td>601</td>\n",
       "      <td>1.0</td>\n",
       "      <td>NaN</td>\n",
       "      <td>127.404663</td>\n",
       "      <td>36.341685</td>\n",
       "      <td>NaN</td>\n",
       "    </tr>\n",
       "    <tr>\n",
       "      <th>3</th>\n",
       "      <td>충남청</td>\n",
       "      <td>20/12/01 02:37:25.000000000</td>\n",
       "      <td>19</td>\n",
       "      <td>10</td>\n",
       "      <td>606</td>\n",
       "      <td>3.0</td>\n",
       "      <td>충청남도 보령시 천북면 하만리 628-10</td>\n",
       "      <td>126.524980</td>\n",
       "      <td>36.474390</td>\n",
       "      <td>N</td>\n",
       "    </tr>\n",
       "    <tr>\n",
       "      <th>4</th>\n",
       "      <td>충남청</td>\n",
       "      <td>20/12/01 08:17:50.000000000</td>\n",
       "      <td>19</td>\n",
       "      <td>10</td>\n",
       "      <td>401</td>\n",
       "      <td>2.0</td>\n",
       "      <td>충청남도 천안시 서북구 성정동(행정:성정2동) 1259</td>\n",
       "      <td>127.137160</td>\n",
       "      <td>36.826718</td>\n",
       "      <td>NaN</td>\n",
       "    </tr>\n",
       "    <tr>\n",
       "      <th>...</th>\n",
       "      <td>...</td>\n",
       "      <td>...</td>\n",
       "      <td>...</td>\n",
       "      <td>...</td>\n",
       "      <td>...</td>\n",
       "      <td>...</td>\n",
       "      <td>...</td>\n",
       "      <td>...</td>\n",
       "      <td>...</td>\n",
       "      <td>...</td>\n",
       "    </tr>\n",
       "    <tr>\n",
       "      <th>77072</th>\n",
       "      <td>충남청</td>\n",
       "      <td>20/12/31 01:18:16.000000000</td>\n",
       "      <td>19</td>\n",
       "      <td>10</td>\n",
       "      <td>302</td>\n",
       "      <td>2.0</td>\n",
       "      <td>충청남도 보령시 주교면 주교리(행정:주교면) 191-6</td>\n",
       "      <td>126.571002</td>\n",
       "      <td>36.387791</td>\n",
       "      <td>NaN</td>\n",
       "    </tr>\n",
       "    <tr>\n",
       "      <th>77073</th>\n",
       "      <td>충남청</td>\n",
       "      <td>20/12/31 01:17:45.000000000</td>\n",
       "      <td>19</td>\n",
       "      <td>10</td>\n",
       "      <td>501</td>\n",
       "      <td>3.0</td>\n",
       "      <td>NaN</td>\n",
       "      <td>NaN</td>\n",
       "      <td>NaN</td>\n",
       "      <td>NaN</td>\n",
       "    </tr>\n",
       "    <tr>\n",
       "      <th>77074</th>\n",
       "      <td>충남청</td>\n",
       "      <td>20/12/31 00:13:50.000000000</td>\n",
       "      <td>19</td>\n",
       "      <td>10</td>\n",
       "      <td>604</td>\n",
       "      <td>3.0</td>\n",
       "      <td>충청남도 아산시 온천동(행정:온양1동) 1498</td>\n",
       "      <td>127.000391</td>\n",
       "      <td>36.788411</td>\n",
       "      <td>NaN</td>\n",
       "    </tr>\n",
       "    <tr>\n",
       "      <th>77075</th>\n",
       "      <td>대전청</td>\n",
       "      <td>20/12/31 00:49:29.000000000</td>\n",
       "      <td>13</td>\n",
       "      <td>10</td>\n",
       "      <td>302</td>\n",
       "      <td>2.0</td>\n",
       "      <td>대전광역시 서구 갈마동(행정:갈마2동) 975</td>\n",
       "      <td>127.373351</td>\n",
       "      <td>36.348051</td>\n",
       "      <td>Y</td>\n",
       "    </tr>\n",
       "    <tr>\n",
       "      <th>77076</th>\n",
       "      <td>대전청</td>\n",
       "      <td>20/12/31 00:49:06.000000000</td>\n",
       "      <td>13</td>\n",
       "      <td>10</td>\n",
       "      <td>601</td>\n",
       "      <td>3.0</td>\n",
       "      <td>NaN</td>\n",
       "      <td>NaN</td>\n",
       "      <td>NaN</td>\n",
       "      <td>NaN</td>\n",
       "    </tr>\n",
       "  </tbody>\n",
       "</table>\n",
       "<p>77077 rows × 10 columns</p>\n",
       "</div>"
      ],
      "text/plain": [
       "      접수부서코드                       접수완료일시  경찰청구분  사건상태코드  사건종별코드  신고성별  \\\n",
       "0        충남청  20/12/01 01:43:07.000000000     19      10     305   1.0   \n",
       "1        대전청  20/12/01 02:05:04.000000000     13      10     601   3.0   \n",
       "2        대전청  20/12/01 02:06:52.000000000     13      10     601   1.0   \n",
       "3        충남청  20/12/01 02:37:25.000000000     19      10     606   3.0   \n",
       "4        충남청  20/12/01 08:17:50.000000000     19      10     401   2.0   \n",
       "...      ...                          ...    ...     ...     ...   ...   \n",
       "77072    충남청  20/12/31 01:18:16.000000000     19      10     302   2.0   \n",
       "77073    충남청  20/12/31 01:17:45.000000000     19      10     501   3.0   \n",
       "77074    충남청  20/12/31 00:13:50.000000000     19      10     604   3.0   \n",
       "77075    대전청  20/12/31 00:49:29.000000000     13      10     302   2.0   \n",
       "77076    대전청  20/12/31 00:49:06.000000000     13      10     601   3.0   \n",
       "\n",
       "                                 발생지점       발생좌표x      발생좌표y 동일사건여부  \n",
       "0           충청남도 보령시 궁촌동(행정:대천4동) 369  126.598345  36.341537      Y  \n",
       "1                                 NaN  127.404663  36.341685    NaN  \n",
       "2                                 NaN  127.404663  36.341685    NaN  \n",
       "3            충청남도 보령시 천북면 하만리 628-10   126.524980  36.474390      N  \n",
       "4      충청남도 천안시 서북구 성정동(행정:성정2동) 1259  127.137160  36.826718    NaN  \n",
       "...                               ...         ...        ...    ...  \n",
       "77072  충청남도 보령시 주교면 주교리(행정:주교면) 191-6  126.571002  36.387791    NaN  \n",
       "77073                             NaN         NaN        NaN    NaN  \n",
       "77074      충청남도 아산시 온천동(행정:온양1동) 1498  127.000391  36.788411    NaN  \n",
       "77075       대전광역시 서구 갈마동(행정:갈마2동) 975  127.373351  36.348051      Y  \n",
       "77076                             NaN         NaN        NaN    NaN  \n",
       "\n",
       "[77077 rows x 10 columns]"
      ]
     },
     "execution_count": 47,
     "metadata": {},
     "output_type": "execute_result"
    }
   ],
   "source": [
    "kp20"
   ]
  },
  {
   "cell_type": "code",
   "execution_count": 48,
   "id": "0e7b6ff9",
   "metadata": {},
   "outputs": [
    {
     "data": {
      "text/plain": [
       "77077"
      ]
     },
     "execution_count": 48,
     "metadata": {},
     "output_type": "execute_result"
    }
   ],
   "source": [
    "len(kp20)"
   ]
  },
  {
   "cell_type": "code",
   "execution_count": 49,
   "id": "54b8feb4",
   "metadata": {},
   "outputs": [],
   "source": [
    "kp21[\"발생연도\"]=kp21[\"접수완료일시\"].str.split(\"/\").str[0]"
   ]
  },
  {
   "cell_type": "code",
   "execution_count": null,
   "id": "56c94fa2",
   "metadata": {},
   "outputs": [],
   "source": []
  },
  {
   "cell_type": "code",
   "execution_count": 50,
   "id": "fe9c28cd",
   "metadata": {
    "scrolled": true
   },
   "outputs": [],
   "source": [
    "t21=len(kp21[kp21[\"발생연도\"]==\"21\"])"
   ]
  },
  {
   "cell_type": "code",
   "execution_count": 51,
   "id": "3b6a2afc",
   "metadata": {},
   "outputs": [],
   "source": [
    "t22=len(kp21[kp21[\"발생연도\"]==\"22\"])"
   ]
  },
  {
   "cell_type": "code",
   "execution_count": 52,
   "id": "16f1f266",
   "metadata": {},
   "outputs": [],
   "source": [
    "t20=(len(kp20))"
   ]
  },
  {
   "cell_type": "code",
   "execution_count": null,
   "id": "5ec600ba",
   "metadata": {},
   "outputs": [],
   "source": []
  },
  {
   "cell_type": "code",
   "execution_count": 53,
   "id": "dcf1871b",
   "metadata": {},
   "outputs": [],
   "source": [
    "hppn_list=[[\"20년\",t20],[\"21년\",t21],[\"22년\",t22]]\n",
    "hppn=pd.DataFrame(hppn_list,columns=[\"연도\",\"전체 사건 접수 건수\"])"
   ]
  },
  {
   "cell_type": "code",
   "execution_count": 54,
   "id": "47b6938f",
   "metadata": {},
   "outputs": [],
   "source": [
    "hppn=hppn.set_index(\"연도\")"
   ]
  },
  {
   "cell_type": "code",
   "execution_count": 55,
   "id": "e5c47c97",
   "metadata": {},
   "outputs": [
    {
     "data": {
      "text/plain": [
       "([<matplotlib.axis.XTick at 0x19712cff100>,\n",
       "  <matplotlib.axis.XTick at 0x19712cff0d0>,\n",
       "  <matplotlib.axis.XTick at 0x19712cfa7c0>],\n",
       " [Text(0, 0, '20년'), Text(1, 0, '21년'), Text(2, 0, '22년')])"
      ]
     },
     "execution_count": 55,
     "metadata": {},
     "output_type": "execute_result"
    },
    {
     "data": {
      "image/png": "[encoded data removed]",
      "text/plain": [
       "<Figure size 720x216 with 1 Axes>"
      ]
     },
     "metadata": {
      "image/png": {
       "height": 205,
       "width": 592
      },
      "needs_background": "light"
     },
     "output_type": "display_data"
    }
   ],
   "source": [
    "x = np.arange(3)\n",
    "years = hppn.index\n",
    "values = hppn[\"전체 사건 접수 건수\"]\n",
    "\n",
    "plt.figure(figsize=(10,3))\n",
    "plt.bar(x, values, width=0.3)\n",
    "plt.xticks(x, years)\n",
    "\n"
   ]
  },
  {
   "cell_type": "code",
   "execution_count": 56,
   "id": "f80d3060",
   "metadata": {},
   "outputs": [
    {
     "data": {
      "text/html": [
       "<div>\n",
       "<style scoped>\n",
       "    .dataframe tbody tr th:only-of-type {\n",
       "        vertical-align: middle;\n",
       "    }\n",
       "\n",
       "    .dataframe tbody tr th {\n",
       "        vertical-align: top;\n",
       "    }\n",
       "\n",
       "    .dataframe thead th {\n",
       "        text-align: right;\n",
       "    }\n",
       "</style>\n",
       "<table border=\"1\" class=\"dataframe\">\n",
       "  <thead>\n",
       "    <tr style=\"text-align: right;\">\n",
       "      <th></th>\n",
       "      <th>전체 사건 접수 건수</th>\n",
       "    </tr>\n",
       "    <tr>\n",
       "      <th>연도</th>\n",
       "      <th></th>\n",
       "    </tr>\n",
       "  </thead>\n",
       "  <tbody>\n",
       "    <tr>\n",
       "      <th>20년</th>\n",
       "      <td>77077</td>\n",
       "    </tr>\n",
       "    <tr>\n",
       "      <th>21년</th>\n",
       "      <td>1255326</td>\n",
       "    </tr>\n",
       "    <tr>\n",
       "      <th>22년</th>\n",
       "      <td>1279344</td>\n",
       "    </tr>\n",
       "  </tbody>\n",
       "</table>\n",
       "</div>"
      ],
      "text/plain": [
       "     전체 사건 접수 건수\n",
       "연도              \n",
       "20년        77077\n",
       "21년      1255326\n",
       "22년      1279344"
      ]
     },
     "execution_count": 56,
     "metadata": {},
     "output_type": "execute_result"
    }
   ],
   "source": [
    "hppn"
   ]
  },
  {
   "cell_type": "code",
   "execution_count": 57,
   "id": "5542e324",
   "metadata": {},
   "outputs": [
    {
     "data": {
      "text/html": [
       "<div>\n",
       "<style scoped>\n",
       "    .dataframe tbody tr th:only-of-type {\n",
       "        vertical-align: middle;\n",
       "    }\n",
       "\n",
       "    .dataframe tbody tr th {\n",
       "        vertical-align: top;\n",
       "    }\n",
       "\n",
       "    .dataframe thead th {\n",
       "        text-align: right;\n",
       "    }\n",
       "</style>\n",
       "<table border=\"1\" class=\"dataframe\">\n",
       "  <thead>\n",
       "    <tr style=\"text-align: right;\">\n",
       "      <th></th>\n",
       "      <th>교통사고 건수</th>\n",
       "    </tr>\n",
       "    <tr>\n",
       "      <th>연도</th>\n",
       "      <th></th>\n",
       "    </tr>\n",
       "  </thead>\n",
       "  <tbody>\n",
       "    <tr>\n",
       "      <th>20년</th>\n",
       "      <td>142538</td>\n",
       "    </tr>\n",
       "    <tr>\n",
       "      <th>21년</th>\n",
       "      <td>128025</td>\n",
       "    </tr>\n",
       "    <tr>\n",
       "      <th>22년</th>\n",
       "      <td>138442</td>\n",
       "    </tr>\n",
       "  </tbody>\n",
       "</table>\n",
       "</div>"
      ],
      "text/plain": [
       "     교통사고 건수\n",
       "연도          \n",
       "20년   142538\n",
       "21년   128025\n",
       "22년   138442"
      ]
     },
     "execution_count": 57,
     "metadata": {},
     "output_type": "execute_result"
    }
   ],
   "source": [
    "tdf"
   ]
  },
  {
   "cell_type": "code",
   "execution_count": 58,
   "id": "f618f3ec",
   "metadata": {},
   "outputs": [
    {
     "data": {
      "text/html": [
       "<div>\n",
       "<style scoped>\n",
       "    .dataframe tbody tr th:only-of-type {\n",
       "        vertical-align: middle;\n",
       "    }\n",
       "\n",
       "    .dataframe tbody tr th {\n",
       "        vertical-align: top;\n",
       "    }\n",
       "\n",
       "    .dataframe thead th {\n",
       "        text-align: right;\n",
       "    }\n",
       "</style>\n",
       "<table border=\"1\" class=\"dataframe\">\n",
       "  <thead>\n",
       "    <tr style=\"text-align: right;\">\n",
       "      <th></th>\n",
       "      <th>전체 사건 접수 건수</th>\n",
       "      <th>교통사고 건수</th>\n",
       "    </tr>\n",
       "    <tr>\n",
       "      <th>연도</th>\n",
       "      <th></th>\n",
       "      <th></th>\n",
       "    </tr>\n",
       "  </thead>\n",
       "  <tbody>\n",
       "    <tr>\n",
       "      <th>20년</th>\n",
       "      <td>77077</td>\n",
       "      <td>142538</td>\n",
       "    </tr>\n",
       "    <tr>\n",
       "      <th>21년</th>\n",
       "      <td>1255326</td>\n",
       "      <td>128025</td>\n",
       "    </tr>\n",
       "    <tr>\n",
       "      <th>22년</th>\n",
       "      <td>1279344</td>\n",
       "      <td>138442</td>\n",
       "    </tr>\n",
       "  </tbody>\n",
       "</table>\n",
       "</div>"
      ],
      "text/plain": [
       "     전체 사건 접수 건수  교통사고 건수\n",
       "연도                       \n",
       "20년        77077   142538\n",
       "21년      1255326   128025\n",
       "22년      1279344   138442"
      ]
     },
     "execution_count": 58,
     "metadata": {},
     "output_type": "execute_result"
    }
   ],
   "source": [
    "df=pd.merge(hppn,tdf, on=\"연도\") # 20자료를 뭔가 잘못 만진듯!....\n",
    "df"
   ]
  },
  {
   "cell_type": "code",
   "execution_count": 59,
   "id": "c783dff7",
   "metadata": {},
   "outputs": [],
   "source": [
    "ndf=df[1:]"
   ]
  },
  {
   "cell_type": "code",
   "execution_count": 60,
   "id": "d3222c46",
   "metadata": {},
   "outputs": [
    {
     "data": {
      "text/plain": [
       "<AxesSubplot:xlabel='연도'>"
      ]
     },
     "execution_count": 60,
     "metadata": {},
     "output_type": "execute_result"
    },
    {
     "data": {
      "image/png": "[encoded data removed]",
      "text/plain": [
       "<Figure size 720x360 with 1 Axes>"
      ]
     },
     "metadata": {
      "image/png": {
       "height": 339,
       "width": 592
      },
      "needs_background": "light"
     },
     "output_type": "display_data"
    }
   ],
   "source": [
    "ndf.plot(kind=\"bar\", figsize=(10,5))"
   ]
  },
  {
   "cell_type": "code",
   "execution_count": 61,
   "id": "2660984f",
   "metadata": {},
   "outputs": [
    {
     "data": {
      "text/html": [
       "<div>\n",
       "<style scoped>\n",
       "    .dataframe tbody tr th:only-of-type {\n",
       "        vertical-align: middle;\n",
       "    }\n",
       "\n",
       "    .dataframe tbody tr th {\n",
       "        vertical-align: top;\n",
       "    }\n",
       "\n",
       "    .dataframe thead th {\n",
       "        text-align: right;\n",
       "    }\n",
       "</style>\n",
       "<table border=\"1\" class=\"dataframe\">\n",
       "  <thead>\n",
       "    <tr style=\"text-align: right;\">\n",
       "      <th></th>\n",
       "      <th>접수부서코드</th>\n",
       "      <th>접수완료일시</th>\n",
       "      <th>경찰청구분</th>\n",
       "      <th>사건상태코드</th>\n",
       "      <th>사건종별코드</th>\n",
       "      <th>신고성별</th>\n",
       "      <th>발생지점</th>\n",
       "      <th>발생좌표x</th>\n",
       "      <th>발생좌표y</th>\n",
       "      <th>동일사건여부</th>\n",
       "      <th>요일</th>\n",
       "      <th>구분</th>\n",
       "      <th>시/군/구</th>\n",
       "      <th>발생연도</th>\n",
       "    </tr>\n",
       "  </thead>\n",
       "  <tbody>\n",
       "    <tr>\n",
       "      <th>0</th>\n",
       "      <td>충남청</td>\n",
       "      <td>2020-01-01 00:03:11</td>\n",
       "      <td>19</td>\n",
       "      <td>10</td>\n",
       "      <td>406</td>\n",
       "      <td>1</td>\n",
       "      <td>충청남도 공주시 정안면 어물리(정안면) 33-2</td>\n",
       "      <td>127.148714</td>\n",
       "      <td>36.605751</td>\n",
       "      <td>Y</td>\n",
       "      <td>Wednesday</td>\n",
       "      <td>충남</td>\n",
       "      <td>공주시</td>\n",
       "      <td>2020</td>\n",
       "    </tr>\n",
       "    <tr>\n",
       "      <th>1</th>\n",
       "      <td>충남청</td>\n",
       "      <td>2020-01-01 00:18:08</td>\n",
       "      <td>19</td>\n",
       "      <td>10</td>\n",
       "      <td>403</td>\n",
       "      <td>1</td>\n",
       "      <td>충청남도 논산시 채운면 장화리(채운면) 533</td>\n",
       "      <td>127.030921</td>\n",
       "      <td>36.164643</td>\n",
       "      <td>NaN</td>\n",
       "      <td>Wednesday</td>\n",
       "      <td>충남</td>\n",
       "      <td>논산시</td>\n",
       "      <td>2020</td>\n",
       "    </tr>\n",
       "    <tr>\n",
       "      <th>2</th>\n",
       "      <td>충남청</td>\n",
       "      <td>2020-01-01 00:20:01</td>\n",
       "      <td>19</td>\n",
       "      <td>10</td>\n",
       "      <td>406</td>\n",
       "      <td>1</td>\n",
       "      <td>세종특별자치시 세종시 소담동(소담동) 32-92</td>\n",
       "      <td>127.305511</td>\n",
       "      <td>36.479819</td>\n",
       "      <td>Y</td>\n",
       "      <td>Wednesday</td>\n",
       "      <td>세종</td>\n",
       "      <td>소담동</td>\n",
       "      <td>2020</td>\n",
       "    </tr>\n",
       "    <tr>\n",
       "      <th>3</th>\n",
       "      <td>충남청</td>\n",
       "      <td>2020-01-01 00:20:04</td>\n",
       "      <td>19</td>\n",
       "      <td>10</td>\n",
       "      <td>402</td>\n",
       "      <td>1</td>\n",
       "      <td>충청남도 천안시 서북구 불당동(불당동) 204-4</td>\n",
       "      <td>127.109667</td>\n",
       "      <td>36.815468</td>\n",
       "      <td>NaN</td>\n",
       "      <td>Wednesday</td>\n",
       "      <td>충남</td>\n",
       "      <td>천안시</td>\n",
       "      <td>2020</td>\n",
       "    </tr>\n",
       "    <tr>\n",
       "      <th>4</th>\n",
       "      <td>대전청</td>\n",
       "      <td>2020-01-01 00:21:35</td>\n",
       "      <td>13</td>\n",
       "      <td>10</td>\n",
       "      <td>401</td>\n",
       "      <td>1</td>\n",
       "      <td>대전광역시 유성구 봉명동(행정:온천1동) 541-26</td>\n",
       "      <td>127.348625</td>\n",
       "      <td>36.353829</td>\n",
       "      <td>NaN</td>\n",
       "      <td>Wednesday</td>\n",
       "      <td>대전</td>\n",
       "      <td>유성구</td>\n",
       "      <td>2020</td>\n",
       "    </tr>\n",
       "  </tbody>\n",
       "</table>\n",
       "</div>"
      ],
      "text/plain": [
       "  접수부서코드               접수완료일시  경찰청구분  사건상태코드  사건종별코드 신고성별  \\\n",
       "0    충남청  2020-01-01 00:03:11     19      10     406    1   \n",
       "1    충남청  2020-01-01 00:18:08     19      10     403    1   \n",
       "2    충남청  2020-01-01 00:20:01     19      10     406    1   \n",
       "3    충남청  2020-01-01 00:20:04     19      10     402    1   \n",
       "4    대전청  2020-01-01 00:21:35     13      10     401    1   \n",
       "\n",
       "                            발생지점       발생좌표x      발생좌표y 동일사건여부         요일  구분  \\\n",
       "0     충청남도 공주시 정안면 어물리(정안면) 33-2  127.148714  36.605751      Y  Wednesday  충남   \n",
       "1      충청남도 논산시 채운면 장화리(채운면) 533  127.030921  36.164643    NaN  Wednesday  충남   \n",
       "2     세종특별자치시 세종시 소담동(소담동) 32-92  127.305511  36.479819      Y  Wednesday  세종   \n",
       "3    충청남도 천안시 서북구 불당동(불당동) 204-4  127.109667  36.815468    NaN  Wednesday  충남   \n",
       "4  대전광역시 유성구 봉명동(행정:온천1동) 541-26  127.348625  36.353829    NaN  Wednesday  대전   \n",
       "\n",
       "  시/군/구  발생연도  \n",
       "0   공주시  2020  \n",
       "1   논산시  2020  \n",
       "2   소담동  2020  \n",
       "3   천안시  2020  \n",
       "4   유성구  2020  "
      ]
     },
     "execution_count": 61,
     "metadata": {},
     "output_type": "execute_result"
    }
   ],
   "source": [
    "result.head()"
   ]
  },
  {
   "cell_type": "code",
   "execution_count": 62,
   "id": "70a3afca",
   "metadata": {},
   "outputs": [],
   "source": [
    "cn=result[result[\"구분\"]==\"충남\"]\n",
    "dj=result[result[\"구분\"]==\"대전\"]\n",
    "sj=result[result[\"구분\"]==\"세종\"]"
   ]
  },
  {
   "cell_type": "code",
   "execution_count": 63,
   "id": "934a6bcd",
   "metadata": {},
   "outputs": [
    {
     "data": {
      "text/plain": [
       "<AxesSubplot:xlabel='시/군/구'>"
      ]
     },
     "execution_count": 63,
     "metadata": {},
     "output_type": "execute_result"
    },
    {
     "data": {
      "image/png": "[encoded data removed]",
      "text/plain": [
       "<Figure size 720x216 with 1 Axes>"
      ]
     },
     "metadata": {
      "image/png": {
       "height": 228,
       "width": 606
      },
      "needs_background": "light"
     },
     "output_type": "display_data"
    }
   ],
   "source": [
    "cn.value_counts(\"시/군/구\").plot(kind=\"bar\", figsize=(10,3), color=[\"salmon\", \"b\", \"b\", \"b\", \"b\", \"b\", \"b\", \"b\", \"b\", \"b\", \"b\", \"b\", \"b\", \"b\", \"b\"])\n"
   ]
  },
  {
   "cell_type": "code",
   "execution_count": 64,
   "id": "56a9334b",
   "metadata": {},
   "outputs": [
    {
     "data": {
      "text/plain": [
       "시/군/구\n",
       "천안시    74681\n",
       "아산시    34823\n",
       "당진시    20933\n",
       "서산시    18589\n",
       "공주시    14616\n",
       "논산시    12941\n",
       "보령시    12783\n",
       "홍성군    10134\n",
       "예산군     7820\n",
       "태안군     6624\n",
       "서천군     4605\n",
       "부여군     4512\n",
       "금산군     4499\n",
       "계룡시     2133\n",
       "청양군     2119\n",
       "dtype: int64"
      ]
     },
     "execution_count": 64,
     "metadata": {},
     "output_type": "execute_result"
    }
   ],
   "source": [
    "cn.value_counts(\"시/군/구\") "
   ]
  },
  {
   "cell_type": "code",
   "execution_count": 65,
   "id": "f2c592bb",
   "metadata": {},
   "outputs": [
    {
     "data": {
      "text/plain": [
       "<AxesSubplot:xlabel='시/군/구'>"
      ]
     },
     "execution_count": 65,
     "metadata": {},
     "output_type": "execute_result"
    },
    {
     "data": {
      "image/png": "[encoded data removed]",
      "text/plain": [
       "<Figure size 720x216 with 1 Axes>"
      ]
     },
     "metadata": {
      "image/png": {
       "height": 228,
       "width": 606
      },
      "needs_background": "light"
     },
     "output_type": "display_data"
    }
   ],
   "source": [
    "dj.value_counts(\"시/군/구\").plot(kind=\"bar\", figsize=(10,3), color=[\"salmon\", \"b\", \"b\", \"b\", \"b\"])"
   ]
  },
  {
   "cell_type": "code",
   "execution_count": 66,
   "id": "a4fa243c",
   "metadata": {},
   "outputs": [
    {
     "data": {
      "text/plain": [
       "시/군/구\n",
       "서구     49338\n",
       "유성구    33810\n",
       "중구     30958\n",
       "동구     22684\n",
       "대덕구    21673\n",
       "dtype: int64"
      ]
     },
     "execution_count": 66,
     "metadata": {},
     "output_type": "execute_result"
    }
   ],
   "source": [
    "dj.value_counts(\"시/군/구\")  "
   ]
  },
  {
   "cell_type": "code",
   "execution_count": 67,
   "id": "b266c24b",
   "metadata": {},
   "outputs": [
    {
     "data": {
      "text/plain": [
       "<AxesSubplot:xlabel='시/군/구'>"
      ]
     },
     "execution_count": 67,
     "metadata": {},
     "output_type": "execute_result"
    },
    {
     "data": {
      "image/png": "[encoded data removed]",
      "text/plain": [
       "<Figure size 720x216 with 1 Axes>"
      ]
     },
     "metadata": {
      "image/png": {
       "height": 238,
       "width": 601
      },
      "needs_background": "light"
     },
     "output_type": "display_data"
    }
   ],
   "source": [
    "sj.value_counts(\"시/군/구\").plot(kind=\"bar\", figsize=(10,3), color=[\"salmon\",\"b\",\"b\",\"b\",\"b\",\"b\",\"b\",\"b\",\"b\",\"b\",\"b\",\"b\",\"b\",\"b\",\"b\",\"b\",\"b\",\"b\",\"b\",\"b\",\"b\",\"b\",\"b\",\"b\",\"b\",\"b\",\"b\",\"b\",\"b\",\"b\",\"b\",\"b\",\"b\"])"
   ]
  },
  {
   "cell_type": "code",
   "execution_count": 68,
   "id": "a3870ec7",
   "metadata": {},
   "outputs": [
    {
     "data": {
      "text/plain": [
       "시/군/구\n",
       "조치원읍    4032\n",
       "금남면     2020\n",
       "나성동     1560\n",
       "어진동     1368\n",
       "연기면     1346\n",
       "고운동     1195\n",
       "다정동     1081\n",
       "장군면     1055\n",
       "아름동     1017\n",
       "대평동      949\n",
       "도담동      904\n",
       "보람동      861\n",
       "종촌동      850\n",
       "부강면      713\n",
       "소담동      698\n",
       "새롬동      674\n",
       "연서면      665\n",
       "반곡동      572\n",
       "전의면      545\n",
       "한솔동      489\n",
       "연동면      438\n",
       "소정면      431\n",
       "가람동      350\n",
       "전동면      285\n",
       "집현동      205\n",
       "해밀동      159\n",
       "산울동      129\n",
       "세종동       85\n",
       "합강동       74\n",
       "용호동       21\n",
       "한별동       15\n",
       "누리동        7\n",
       "다솜동        2\n",
       "dtype: int64"
      ]
     },
     "execution_count": 68,
     "metadata": {},
     "output_type": "execute_result"
    }
   ],
   "source": [
    "sj.value_counts(\"시/군/구\")"
   ]
  },
  {
   "cell_type": "code",
   "execution_count": null,
   "id": "086b1d5b",
   "metadata": {},
   "outputs": [],
   "source": []
  },
  {
   "cell_type": "code",
   "execution_count": 69,
   "id": "7e2cced8",
   "metadata": {},
   "outputs": [],
   "source": [
    "hour1=result[\"접수완료일시\"].str.split(\" \").apply(lambda x:x[1])"
   ]
  },
  {
   "cell_type": "code",
   "execution_count": 70,
   "id": "900349a4",
   "metadata": {},
   "outputs": [],
   "source": [
    "result[\"시각\"]=hour1.str.split(\":\").apply(lambda x:x[0])"
   ]
  },
  {
   "cell_type": "code",
   "execution_count": 71,
   "id": "a7a3544d",
   "metadata": {},
   "outputs": [],
   "source": [
    "cn=result[result[\"구분\"]==\"충남\"]\n",
    "dj=result[result[\"구분\"]==\"대전\"]\n",
    "sj=result[result[\"구분\"]==\"세종\"]"
   ]
  },
  {
   "cell_type": "code",
   "execution_count": 72,
   "id": "80ae7a14",
   "metadata": {},
   "outputs": [],
   "source": [
    "cn=cn.replace({401:\"교통사고\",402:\"교통불편\",403:\"교통위반\",404:\"사망,대형사고\",405:\"인피도주\",406:\"음주운전\",})"
   ]
  },
  {
   "cell_type": "code",
   "execution_count": 73,
   "id": "d881cdb0",
   "metadata": {},
   "outputs": [],
   "source": [
    "dj=dj.replace({401:\"교통사고\",402:\"교통불편\",403:\"교통위반\",404:\"사망,대형사고\",405:\"인피도주\",406:\"음주운전\",})"
   ]
  },
  {
   "cell_type": "code",
   "execution_count": 74,
   "id": "01fe301c",
   "metadata": {},
   "outputs": [],
   "source": [
    "sj=sj.replace({401:\"교통사고\",402:\"교통불편\",403:\"교통위반\",404:\"사망,대형사고\",405:\"인피도주\",406:\"음주운전\",})"
   ]
  },
  {
   "cell_type": "code",
   "execution_count": 75,
   "id": "e5720cc8",
   "metadata": {},
   "outputs": [],
   "source": [
    "c1=cn[cn[\"사건종별코드\"]==\"교통사고\"]\n",
    "c2=cn[cn[\"사건종별코드\"]==\"교통불편\"]\n",
    "c3=cn[cn[\"사건종별코드\"]==\"교통위반\"]\n",
    "c4=cn[cn[\"사건종별코드\"]==\"사망,대형사고\"]\n",
    "c5=cn[cn[\"사건종별코드\"]==\"인피도주\"]\n",
    "c6=cn[cn[\"사건종별코드\"]==\"음주운전\"]"
   ]
  },
  {
   "cell_type": "code",
   "execution_count": 76,
   "id": "673504e3",
   "metadata": {},
   "outputs": [],
   "source": [
    "c1=pd.DataFrame(c1.value_counts(\"시각\"), columns=[\"교통사고\"])\n",
    "c2=pd.DataFrame(c2.value_counts(\"시각\"), columns=[\"교통불편\"])\n",
    "c3=pd.DataFrame(c3.value_counts(\"시각\"), columns=[\"교통위반\"])\n",
    "c4=pd.DataFrame(c4.value_counts(\"시각\"), columns=[\"사망,대형사고\"])\n",
    "c5=pd.DataFrame(c5.value_counts(\"시각\"), columns=[\"인피도주\"])\n",
    "c6=pd.DataFrame(c6.value_counts(\"시각\"), columns=[\"음주운전\"])"
   ]
  },
  {
   "cell_type": "code",
   "execution_count": 77,
   "id": "b2e35e58",
   "metadata": {},
   "outputs": [
    {
     "name": "stdout",
     "output_type": "stream",
     "text": [
      "24\n",
      "24\n",
      "24\n",
      "12\n",
      "13\n",
      "24\n"
     ]
    }
   ],
   "source": [
    "print(len(c1))\n",
    "print(len(c2))\n",
    "print(len(c3))\n",
    "print(len(c4)) # 사망 대형사고 1~5 건이기 때문에 삭제\n",
    "print(len(c5)) # 인피도주 1~3 건이기 때문에 삭제\n",
    "print(len(c6))"
   ]
  },
  {
   "cell_type": "code",
   "execution_count": null,
   "id": "c8256915",
   "metadata": {},
   "outputs": [],
   "source": []
  },
  {
   "cell_type": "code",
   "execution_count": null,
   "id": "053e27ae",
   "metadata": {},
   "outputs": [],
   "source": []
  },
  {
   "cell_type": "code",
   "execution_count": 78,
   "id": "932c4e5a",
   "metadata": {},
   "outputs": [],
   "source": [
    "# c1~3, 6 merge\n",
    "h=pd.merge(c1,c2, on=\"시각\")\n",
    "hh=pd.merge(h,c3, on=\"시각\")\n",
    "h4=pd.merge(hh,c6, on=\"시각\")"
   ]
  },
  {
   "cell_type": "code",
   "execution_count": 79,
   "id": "fd69c3c2",
   "metadata": {
    "scrolled": true
   },
   "outputs": [
    {
     "ename": "NameError",
     "evalue": "name 'h5' is not defined",
     "output_type": "error",
     "traceback": [
      "\u001b[1;31m---------------------------------------------------------------------------\u001b[0m",
      "\u001b[1;31mNameError\u001b[0m                                 Traceback (most recent call last)",
      "Input \u001b[1;32mIn [79]\u001b[0m, in \u001b[0;36m<cell line: 1>\u001b[1;34m()\u001b[0m\n\u001b[1;32m----> 1\u001b[0m \u001b[43mh5\u001b[49m\n",
      "\u001b[1;31mNameError\u001b[0m: name 'h5' is not defined"
     ]
    }
   ],
   "source": [
    "h5"
   ]
  },
  {
   "cell_type": "code",
   "execution_count": null,
   "id": "1a7ef056",
   "metadata": {},
   "outputs": [],
   "source": [
    "h5=h5.sort_values(\"시각\")"
   ]
  },
  {
   "cell_type": "code",
   "execution_count": null,
   "id": "cb02807e",
   "metadata": {},
   "outputs": [],
   "source": [
    "#충남 시간별 \n",
    "h5"
   ]
  },
  {
   "cell_type": "code",
   "execution_count": null,
   "id": "a2340e23",
   "metadata": {},
   "outputs": [],
   "source": [
    "h5.plot(kind=\"bar\", figsize=(20,5), width=0.8)"
   ]
  },
  {
   "cell_type": "code",
   "execution_count": null,
   "id": "bcea9189",
   "metadata": {},
   "outputs": [],
   "source": []
  },
  {
   "cell_type": "code",
   "execution_count": null,
   "id": "50efcd5b",
   "metadata": {},
   "outputs": [],
   "source": [
    "d1=dj[dj[\"사건종별코드\"]==\"교통사고\"]\n",
    "d2=dj[dj[\"사건종별코드\"]==\"교통불편\"]\n",
    "d3=dj[dj[\"사건종별코드\"]==\"교통위반\"]\n",
    "d4=dj[dj[\"사건종별코드\"]==\"사망,대형사고\"]\n",
    "d5=dj[dj[\"사건종별코드\"]==\"인피도주\"]\n",
    "d6=dj[dj[\"사건종별코드\"]==\"음주운전\"]"
   ]
  },
  {
   "cell_type": "code",
   "execution_count": null,
   "id": "607fb60f",
   "metadata": {},
   "outputs": [],
   "source": [
    "d1=pd.DataFrame(d1.value_counts(\"시각\"), columns=[\"교통사고\"])\n",
    "d2=pd.DataFrame(d2.value_counts(\"시각\"), columns=[\"교통불편\"])\n",
    "d3=pd.DataFrame(d3.value_counts(\"시각\"), columns=[\"교통위반\"])\n",
    "d4=pd.DataFrame(d4.value_counts(\"시각\"), columns=[\"사망,대형사고\"])\n",
    "d5=pd.DataFrame(d5.value_counts(\"시각\"), columns=[\"인피도주\"])\n",
    "d6=pd.DataFrame(d6.value_counts(\"시각\"), columns=[\"음주운전\"])"
   ]
  },
  {
   "cell_type": "code",
   "execution_count": null,
   "id": "5915561b",
   "metadata": {},
   "outputs": [],
   "source": [
    "# merge 전 결측치 확인\n",
    "print(len(d1))\n",
    "print(len(d2))\n",
    "print(len(d3))\n",
    "print(len(d4)) # 삭제\n",
    "print(len(d5)) # 삭제\n",
    "print(len(d6))"
   ]
  },
  {
   "cell_type": "code",
   "execution_count": null,
   "id": "c09c8888",
   "metadata": {},
   "outputs": [],
   "source": [
    "#  d1~3, 6 merge\n",
    "z=pd.merge(d1,d2, on=\"시각\")\n",
    "zz=pd.merge(z,d3, on=\"시각\")\n",
    "zzz=pd.merge(zz,d6, on=\"시각\")"
   ]
  },
  {
   "cell_type": "code",
   "execution_count": null,
   "id": "baeeec9a",
   "metadata": {
    "scrolled": true
   },
   "outputs": [],
   "source": [
    "zzz"
   ]
  },
  {
   "cell_type": "code",
   "execution_count": null,
   "id": "5f9720cf",
   "metadata": {},
   "outputs": [],
   "source": [
    "z3=zzz.sort_values(\"시각\")"
   ]
  },
  {
   "cell_type": "code",
   "execution_count": null,
   "id": "61c58fc2",
   "metadata": {},
   "outputs": [],
   "source": [
    "z3"
   ]
  },
  {
   "cell_type": "code",
   "execution_count": null,
   "id": "57fa2294",
   "metadata": {},
   "outputs": [],
   "source": [
    "z3.plot(kind=\"bar\", figsize=(20,5), width=0.8)"
   ]
  },
  {
   "cell_type": "code",
   "execution_count": null,
   "id": "2f21c17d",
   "metadata": {},
   "outputs": [],
   "source": []
  },
  {
   "cell_type": "code",
   "execution_count": null,
   "id": "3451de13",
   "metadata": {},
   "outputs": [],
   "source": [
    "s1=sj[sj[\"사건종별코드\"]==\"교통사고\"]\n",
    "s2=sj[sj[\"사건종별코드\"]==\"교통불편\"]\n",
    "s3=sj[sj[\"사건종별코드\"]==\"교통위반\"]\n",
    "s4=sj[sj[\"사건종별코드\"]==\"사망,대형사고\"]\n",
    "s5=sj[sj[\"사건종별코드\"]==\"인피도주\"]\n",
    "s6=sj[sj[\"사건종별코드\"]==\"음주운전\"]\n",
    "\n",
    "s1=pd.DataFrame(s1.value_counts(\"시각\"), columns=[\"교통사고\"])\n",
    "s2=pd.DataFrame(s2.value_counts(\"시각\"), columns=[\"교통불편\"])\n",
    "s3=pd.DataFrame(s3.value_counts(\"시각\"), columns=[\"교통위반\"])\n",
    "s4=pd.DataFrame(s4.value_counts(\"시각\"), columns=[\"사망,대형사고\"])\n",
    "s5=pd.DataFrame(s5.value_counts(\"시각\"), columns=[\"인피도주\"])\n",
    "s6=pd.DataFrame(s6.value_counts(\"시각\"), columns=[\"음주운전\"])"
   ]
  },
  {
   "cell_type": "code",
   "execution_count": null,
   "id": "f66ebe6f",
   "metadata": {},
   "outputs": [],
   "source": [
    "# merge 전 결측치 확인\n",
    "print(len(s1))\n",
    "print(len(s2))\n",
    "print(len(s3))\n",
    "print(len(s4)) # 삭제\n",
    "print(len(s5)) # 삭제\n",
    "print(len(s6))"
   ]
  },
  {
   "cell_type": "code",
   "execution_count": null,
   "id": "a97b2a0e",
   "metadata": {},
   "outputs": [],
   "source": [
    "#  d1~3, 6 merge\n",
    "j=pd.merge(s1,s2, on=\"시각\")\n",
    "j2=pd.merge(j,s3, on=\"시각\")\n",
    "j3=pd.merge(j2,d6, on=\"시각\")"
   ]
  },
  {
   "cell_type": "code",
   "execution_count": null,
   "id": "204e84b7",
   "metadata": {
    "scrolled": true
   },
   "outputs": [],
   "source": [
    "j3=j3.sort_values(\"시각\")"
   ]
  },
  {
   "cell_type": "code",
   "execution_count": null,
   "id": "7afe0e0f",
   "metadata": {},
   "outputs": [],
   "source": [
    "j3"
   ]
  },
  {
   "cell_type": "code",
   "execution_count": null,
   "id": "2929e3d7",
   "metadata": {
    "scrolled": true
   },
   "outputs": [],
   "source": [
    "j3.plot(kind=\"bar\", figsize=(20,5), width=0.8)"
   ]
  },
  {
   "cell_type": "code",
   "execution_count": null,
   "id": "26bc7284",
   "metadata": {},
   "outputs": [],
   "source": []
  },
  {
   "cell_type": "code",
   "execution_count": null,
   "id": "88bb15f5",
   "metadata": {},
   "outputs": [],
   "source": []
  }
 ],
 "metadata": {
  "kernelspec": {
   "display_name": "Python 3 (ipykernel)",
   "language": "python",
   "name": "python3"
  },
  "language_info": {
   "codemirror_mode": {
    "name": "ipython",
    "version": 3
   },
   "file_extension": ".py",
   "mimetype": "text/x-python",
   "name": "python",
   "nbconvert_exporter": "python",
   "pygments_lexer": "ipython3",
   "version": "3.9.12"
  }
 },
 "nbformat": 4,
 "nbformat_minor": 5
}

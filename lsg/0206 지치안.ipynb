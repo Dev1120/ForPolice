{
 "cells": [
  {
   "cell_type": "code",
   "execution_count": 1,
   "id": "82d39256",
   "metadata": {},
   "outputs": [
    {
     "name": "stderr",
     "output_type": "stream",
     "text": [
      "C:\\Users\\minir\\anaconda3\\lib\\site-packages\\scipy\\__init__.py:146: UserWarning: A NumPy version >=1.16.5 and <1.23.0 is required for this version of SciPy (detected version 1.23.5\n",
      "  warnings.warn(f\"A NumPy version >={np_minversion} and <{np_maxversion}\"\n"
     ]
    }
   ],
   "source": [
    "import pandas as pd\n",
    "\n",
    "import numpy as np\n",
    "\n",
    "import matplotlib.pyplot as plt\n",
    "import seaborn as sns\n",
    "\n",
    "import matplotlib.font_manager as fm\n",
    "font_name = fm.FontProperties(fname=\"C:\\\\Windows\\\\Fonts\\\\malgun.ttf\").get_name()\n",
    "plt.rc(\"font\", family=font_name)\n",
    "\n",
    "import matplotlib as mlp\n",
    "mlp.rcParams[\"axes.unicode_minus\"] = False\n",
    "\n",
    "%config InlineBackend.figure_format = 'retina' # 폰트를 선명하게~"
   ]
  },
  {
   "cell_type": "markdown",
   "id": "5ed6e484",
   "metadata": {},
   "source": [
    "### 그렇다면 기본틀을 어떻게 잡아야할까?\n",
    "- 1. 지역선택 :(충남, 대전, 세종)\n",
    "- 2. 범죄선택 : 음주운전+교통사고\n",
    "\n",
    "- 3. 사건현황 분석(해당범죄가 몇 건이나 발생했는가,가장 많이 발생한 시간은 언제인가, 요일과 관련이 있는가, 가장 많이 발생한 지역은 어디인가 ...)\n",
    "\n",
    "- 4. 알고리즘 제작(후에 예측값 도출)\n",
    "- 5. 예측률과 이에 따른 기대효과"
   ]
  },
  {
   "cell_type": "markdown",
   "id": "f2dba993",
   "metadata": {},
   "source": [
    "## Data"
   ]
  },
  {
   "cell_type": "code",
   "execution_count": 2,
   "id": "233e6f8e",
   "metadata": {},
   "outputs": [],
   "source": [
    "tt0205=pd.read_csv(\"C:\\\\Users\\\\minir\\\\OneDrive\\\\바탕 화면\\\\지치안\\\\data\\\\주소포함_2021.csv\")"
   ]
  },
  {
   "cell_type": "code",
   "execution_count": 3,
   "id": "19d94a39",
   "metadata": {},
   "outputs": [],
   "source": [
    "tt0205=tt0205.drop(\"index\",axis=\"columns\")"
   ]
  },
  {
   "cell_type": "code",
   "execution_count": 4,
   "id": "c5b0ffa5",
   "metadata": {},
   "outputs": [
    {
     "name": "stdout",
     "output_type": "stream",
     "text": [
      "<class 'pandas.core.frame.DataFrame'>\n",
      "RangeIndex: 276633 entries, 0 to 276632\n",
      "Data columns (total 11 columns):\n",
      " #   Column         Non-Null Count   Dtype  \n",
      "---  ------         --------------   -----  \n",
      " 0   RECV_DEPT_NM   276633 non-null  object \n",
      " 1   RECV_CPLT_DM   276633 non-null  object \n",
      " 2   NPA_CL         276633 non-null  int64  \n",
      " 3   EVT_STAT_CD    276633 non-null  int64  \n",
      " 4   EVT_CL_CD      276633 non-null  int64  \n",
      " 5   RPTER_SEX      276633 non-null  float64\n",
      " 6   HPPN_PNU_ADDR  276633 non-null  object \n",
      " 7   HPPN_X         276593 non-null  float64\n",
      " 8   HPPN_Y         276593 non-null  float64\n",
      " 9   SME_EVT_YN     66823 non-null   object \n",
      " 10  요일             276633 non-null  object \n",
      "dtypes: float64(3), int64(3), object(5)\n",
      "memory usage: 23.2+ MB\n"
     ]
    }
   ],
   "source": [
    "tt0205.info()"
   ]
  },
  {
   "cell_type": "markdown",
   "id": "340a254d",
   "metadata": {},
   "source": [
    "## 컬럼명 수정"
   ]
  },
  {
   "cell_type": "code",
   "execution_count": 5,
   "id": "381952d9",
   "metadata": {},
   "outputs": [],
   "source": [
    "tt0205.rename(columns={\"RECV_DEPT_NM\":\"접수부서코드\",\"RECV_CPLT_DM\":\"접수완료일시\", \"NPA_CL\":\"경찰청구분\", \"EVT_STAT_CD\":\"사건상태코드\",\"EVT_CL_CD\":\"사건종별코드\",\"RPTER_SEX\":\"신고성별\",\"HPPN_PNU_ADDR\":\"발생지점\",\"HPPN_X\":\"발생좌표x\",\"HPPN_Y\":\"발생좌표y\",\"SME_EVT_YN\":\"동일사건여부\"}, inplace=True)"
   ]
  },
  {
   "cell_type": "code",
   "execution_count": 6,
   "id": "05e39b3b",
   "metadata": {},
   "outputs": [
    {
     "data": {
      "text/html": [
       "<div>\n",
       "<style scoped>\n",
       "    .dataframe tbody tr th:only-of-type {\n",
       "        vertical-align: middle;\n",
       "    }\n",
       "\n",
       "    .dataframe tbody tr th {\n",
       "        vertical-align: top;\n",
       "    }\n",
       "\n",
       "    .dataframe thead th {\n",
       "        text-align: right;\n",
       "    }\n",
       "</style>\n",
       "<table border=\"1\" class=\"dataframe\">\n",
       "  <thead>\n",
       "    <tr style=\"text-align: right;\">\n",
       "      <th></th>\n",
       "      <th>접수부서코드</th>\n",
       "      <th>접수완료일시</th>\n",
       "      <th>경찰청구분</th>\n",
       "      <th>사건상태코드</th>\n",
       "      <th>사건종별코드</th>\n",
       "      <th>신고성별</th>\n",
       "      <th>발생지점</th>\n",
       "      <th>발생좌표x</th>\n",
       "      <th>발생좌표y</th>\n",
       "      <th>동일사건여부</th>\n",
       "      <th>요일</th>\n",
       "    </tr>\n",
       "  </thead>\n",
       "  <tbody>\n",
       "    <tr>\n",
       "      <th>0</th>\n",
       "      <td>충남청</td>\n",
       "      <td>2021-03-07 00:02:48</td>\n",
       "      <td>19</td>\n",
       "      <td>10</td>\n",
       "      <td>406</td>\n",
       "      <td>1.0</td>\n",
       "      <td>충청남도 천안시 서북구 불당동(불당동) 1625</td>\n",
       "      <td>127.107500</td>\n",
       "      <td>36.811944</td>\n",
       "      <td>NaN</td>\n",
       "      <td>Sunday</td>\n",
       "    </tr>\n",
       "    <tr>\n",
       "      <th>1</th>\n",
       "      <td>충남청</td>\n",
       "      <td>2021-03-07 00:09:04</td>\n",
       "      <td>19</td>\n",
       "      <td>10</td>\n",
       "      <td>402</td>\n",
       "      <td>1.0</td>\n",
       "      <td>충청남도 천안시 동남구 문화동(문성동) 41-5</td>\n",
       "      <td>127.150988</td>\n",
       "      <td>36.811792</td>\n",
       "      <td>Y</td>\n",
       "      <td>Sunday</td>\n",
       "    </tr>\n",
       "    <tr>\n",
       "      <th>2</th>\n",
       "      <td>대전청</td>\n",
       "      <td>2021-03-07 00:07:54</td>\n",
       "      <td>13</td>\n",
       "      <td>10</td>\n",
       "      <td>401</td>\n",
       "      <td>2.0</td>\n",
       "      <td>대전광역시 서구 괴정동(괴정동) 367-40</td>\n",
       "      <td>127.371854</td>\n",
       "      <td>36.341961</td>\n",
       "      <td>NaN</td>\n",
       "      <td>Sunday</td>\n",
       "    </tr>\n",
       "    <tr>\n",
       "      <th>3</th>\n",
       "      <td>대전청</td>\n",
       "      <td>2021-03-07 00:15:27</td>\n",
       "      <td>13</td>\n",
       "      <td>10</td>\n",
       "      <td>401</td>\n",
       "      <td>1.0</td>\n",
       "      <td>대전광역시 유성구 상대동 471-2</td>\n",
       "      <td>127.339334</td>\n",
       "      <td>36.346899</td>\n",
       "      <td>NaN</td>\n",
       "      <td>Sunday</td>\n",
       "    </tr>\n",
       "    <tr>\n",
       "      <th>4</th>\n",
       "      <td>충남청</td>\n",
       "      <td>2021-03-07 00:12:08</td>\n",
       "      <td>19</td>\n",
       "      <td>10</td>\n",
       "      <td>403</td>\n",
       "      <td>2.0</td>\n",
       "      <td>충청남도 공주시 우성면 평목리</td>\n",
       "      <td>127.090733</td>\n",
       "      <td>36.453397</td>\n",
       "      <td>NaN</td>\n",
       "      <td>Sunday</td>\n",
       "    </tr>\n",
       "  </tbody>\n",
       "</table>\n",
       "</div>"
      ],
      "text/plain": [
       "  접수부서코드               접수완료일시  경찰청구분  사건상태코드  사건종별코드  신고성별  \\\n",
       "0    충남청  2021-03-07 00:02:48     19      10     406   1.0   \n",
       "1    충남청  2021-03-07 00:09:04     19      10     402   1.0   \n",
       "2    대전청  2021-03-07 00:07:54     13      10     401   2.0   \n",
       "3    대전청  2021-03-07 00:15:27     13      10     401   1.0   \n",
       "4    충남청  2021-03-07 00:12:08     19      10     403   2.0   \n",
       "\n",
       "                         발생지점       발생좌표x      발생좌표y 동일사건여부      요일  \n",
       "0  충청남도 천안시 서북구 불당동(불당동) 1625  127.107500  36.811944    NaN  Sunday  \n",
       "1  충청남도 천안시 동남구 문화동(문성동) 41-5  127.150988  36.811792      Y  Sunday  \n",
       "2    대전광역시 서구 괴정동(괴정동) 367-40  127.371854  36.341961    NaN  Sunday  \n",
       "3         대전광역시 유성구 상대동 471-2  127.339334  36.346899    NaN  Sunday  \n",
       "4           충청남도 공주시 우성면 평목리   127.090733  36.453397    NaN  Sunday  "
      ]
     },
     "execution_count": 6,
     "metadata": {},
     "output_type": "execute_result"
    }
   ],
   "source": [
    "tt0205.head(5)"
   ]
  },
  {
   "cell_type": "markdown",
   "id": "78483148",
   "metadata": {},
   "source": [
    "## 연월일, 지역분류 컬럼추가 (접수완료일시->접수완료연월일, 시각 / 발생지점 -> 지역대,소분류)"
   ]
  },
  {
   "cell_type": "code",
   "execution_count": 7,
   "id": "0a2f4da4",
   "metadata": {},
   "outputs": [],
   "source": [
    "tt0205[\"접수완료연월일\"]=tt0205[\"접수완료일시\"].apply(lambda x:x[0:10])"
   ]
  },
  {
   "cell_type": "code",
   "execution_count": 8,
   "id": "cb0896ce",
   "metadata": {},
   "outputs": [],
   "source": [
    "tt0205[\"접수완료시각\"]=tt0205[\"접수완료일시\"].apply(lambda x:x[11:])"
   ]
  },
  {
   "cell_type": "code",
   "execution_count": 9,
   "id": "334ff47f",
   "metadata": {},
   "outputs": [],
   "source": [
    "tt0205[\"지역대분류\"]=tt0205[\"발생지점\"].str.split(\" \").str[0]"
   ]
  },
  {
   "cell_type": "code",
   "execution_count": 10,
   "id": "b079697c",
   "metadata": {},
   "outputs": [],
   "source": [
    "tt0205[\"지역소분류\"]=tt0205[\"발생지점\"].str.split(\" \").str[1] #수정이 필요합니다..."
   ]
  },
  {
   "cell_type": "markdown",
   "id": "31c6f67a",
   "metadata": {},
   "source": [
    "## 접수월, 접수연도, 시간별 별 발생건수 시각화"
   ]
  },
  {
   "cell_type": "code",
   "execution_count": 11,
   "id": "0d7f92dc",
   "metadata": {},
   "outputs": [],
   "source": [
    "tt0205[\"접수월\"]=tt0205[\"접수완료연월일\"].apply(lambda x:x[5:7])"
   ]
  },
  {
   "cell_type": "code",
   "execution_count": 12,
   "id": "765079c2",
   "metadata": {},
   "outputs": [],
   "source": [
    "tt0205[\"접수연도\"]=tt0205[\"접수완료연월일\"].apply(lambda x:x[2:4])"
   ]
  },
  {
   "cell_type": "code",
   "execution_count": 13,
   "id": "81114c99",
   "metadata": {
    "scrolled": true
   },
   "outputs": [
    {
     "data": {
      "text/html": [
       "<div>\n",
       "<style scoped>\n",
       "    .dataframe tbody tr th:only-of-type {\n",
       "        vertical-align: middle;\n",
       "    }\n",
       "\n",
       "    .dataframe tbody tr th {\n",
       "        vertical-align: top;\n",
       "    }\n",
       "\n",
       "    .dataframe thead th {\n",
       "        text-align: right;\n",
       "    }\n",
       "</style>\n",
       "<table border=\"1\" class=\"dataframe\">\n",
       "  <thead>\n",
       "    <tr style=\"text-align: right;\">\n",
       "      <th></th>\n",
       "      <th>접수부서코드</th>\n",
       "      <th>접수완료일시</th>\n",
       "      <th>경찰청구분</th>\n",
       "      <th>사건상태코드</th>\n",
       "      <th>사건종별코드</th>\n",
       "      <th>신고성별</th>\n",
       "      <th>발생지점</th>\n",
       "      <th>발생좌표x</th>\n",
       "      <th>발생좌표y</th>\n",
       "      <th>동일사건여부</th>\n",
       "      <th>요일</th>\n",
       "      <th>접수완료연월일</th>\n",
       "      <th>접수완료시각</th>\n",
       "      <th>지역대분류</th>\n",
       "      <th>지역소분류</th>\n",
       "      <th>접수월</th>\n",
       "      <th>접수연도</th>\n",
       "    </tr>\n",
       "  </thead>\n",
       "  <tbody>\n",
       "    <tr>\n",
       "      <th>0</th>\n",
       "      <td>충남청</td>\n",
       "      <td>2021-03-07 00:02:48</td>\n",
       "      <td>19</td>\n",
       "      <td>10</td>\n",
       "      <td>406</td>\n",
       "      <td>1.0</td>\n",
       "      <td>충청남도 천안시 서북구 불당동(불당동) 1625</td>\n",
       "      <td>127.107500</td>\n",
       "      <td>36.811944</td>\n",
       "      <td>NaN</td>\n",
       "      <td>Sunday</td>\n",
       "      <td>2021-03-07</td>\n",
       "      <td>00:02:48</td>\n",
       "      <td>충청남도</td>\n",
       "      <td>천안시</td>\n",
       "      <td>03</td>\n",
       "      <td>21</td>\n",
       "    </tr>\n",
       "    <tr>\n",
       "      <th>1</th>\n",
       "      <td>충남청</td>\n",
       "      <td>2021-03-07 00:09:04</td>\n",
       "      <td>19</td>\n",
       "      <td>10</td>\n",
       "      <td>402</td>\n",
       "      <td>1.0</td>\n",
       "      <td>충청남도 천안시 동남구 문화동(문성동) 41-5</td>\n",
       "      <td>127.150988</td>\n",
       "      <td>36.811792</td>\n",
       "      <td>Y</td>\n",
       "      <td>Sunday</td>\n",
       "      <td>2021-03-07</td>\n",
       "      <td>00:09:04</td>\n",
       "      <td>충청남도</td>\n",
       "      <td>천안시</td>\n",
       "      <td>03</td>\n",
       "      <td>21</td>\n",
       "    </tr>\n",
       "    <tr>\n",
       "      <th>2</th>\n",
       "      <td>대전청</td>\n",
       "      <td>2021-03-07 00:07:54</td>\n",
       "      <td>13</td>\n",
       "      <td>10</td>\n",
       "      <td>401</td>\n",
       "      <td>2.0</td>\n",
       "      <td>대전광역시 서구 괴정동(괴정동) 367-40</td>\n",
       "      <td>127.371854</td>\n",
       "      <td>36.341961</td>\n",
       "      <td>NaN</td>\n",
       "      <td>Sunday</td>\n",
       "      <td>2021-03-07</td>\n",
       "      <td>00:07:54</td>\n",
       "      <td>대전광역시</td>\n",
       "      <td>서구</td>\n",
       "      <td>03</td>\n",
       "      <td>21</td>\n",
       "    </tr>\n",
       "  </tbody>\n",
       "</table>\n",
       "</div>"
      ],
      "text/plain": [
       "  접수부서코드               접수완료일시  경찰청구분  사건상태코드  사건종별코드  신고성별  \\\n",
       "0    충남청  2021-03-07 00:02:48     19      10     406   1.0   \n",
       "1    충남청  2021-03-07 00:09:04     19      10     402   1.0   \n",
       "2    대전청  2021-03-07 00:07:54     13      10     401   2.0   \n",
       "\n",
       "                         발생지점       발생좌표x      발생좌표y 동일사건여부      요일  \\\n",
       "0  충청남도 천안시 서북구 불당동(불당동) 1625  127.107500  36.811944    NaN  Sunday   \n",
       "1  충청남도 천안시 동남구 문화동(문성동) 41-5  127.150988  36.811792      Y  Sunday   \n",
       "2    대전광역시 서구 괴정동(괴정동) 367-40  127.371854  36.341961    NaN  Sunday   \n",
       "\n",
       "      접수완료연월일    접수완료시각  지역대분류 지역소분류 접수월 접수연도  \n",
       "0  2021-03-07  00:02:48   충청남도   천안시  03   21  \n",
       "1  2021-03-07  00:09:04   충청남도   천안시  03   21  \n",
       "2  2021-03-07  00:07:54  대전광역시    서구  03   21  "
      ]
     },
     "execution_count": 13,
     "metadata": {},
     "output_type": "execute_result"
    }
   ],
   "source": [
    "tt0205.head(3)"
   ]
  },
  {
   "cell_type": "code",
   "execution_count": 14,
   "id": "0fc99935",
   "metadata": {},
   "outputs": [
    {
     "data": {
      "text/plain": [
       "Text(0.5, 1.0, '사고는 몇 월에 가장 많이 발생했을까?')"
      ]
     },
     "execution_count": 14,
     "metadata": {},
     "output_type": "execute_result"
    },
    {
     "data": {
      "image/png": "[encoded data removed]",
      "text/plain": [
       "<Figure size 432x288 with 1 Axes>"
      ]
     },
     "metadata": {
      "image/png": {
       "height": 279,
       "width": 383
      },
      "needs_background": "light"
     },
     "output_type": "display_data"
    }
   ],
   "source": [
    "month=tt0205.groupby(\"접수월\").count()\n",
    "month[\"발생지점\"].plot()\n",
    "plt.title(\"사고는 몇 월에 가장 많이 발생했을까?\")"
   ]
  },
  {
   "cell_type": "code",
   "execution_count": 15,
   "id": "5644364e",
   "metadata": {},
   "outputs": [
    {
     "data": {
      "text/plain": [
       "Text(0.5, 1.0, '사고가 가장 많이 발생한 연도')"
      ]
     },
     "execution_count": 15,
     "metadata": {},
     "output_type": "execute_result"
    },
    {
     "data": {
      "image/png": "[encoded data removed]",
      "text/plain": [
       "<Figure size 432x288 with 1 Axes>"
      ]
     },
     "metadata": {
      "image/png": {
       "height": 279,
       "width": 389
      },
      "needs_background": "light"
     },
     "output_type": "display_data"
    }
   ],
   "source": [
    "year=tt0205.groupby(\"접수연도\").count()\n",
    "year[\"발생지점\"].plot(kind=\"bar\")\n",
    "plt.title(\"사고가 가장 많이 발생한 연도\")"
   ]
  },
  {
   "cell_type": "code",
   "execution_count": 16,
   "id": "569a5b21",
   "metadata": {
    "scrolled": true
   },
   "outputs": [],
   "source": [
    "tt0205[\"접수완료시각\"]=tt0205[\"접수완료시각\"].apply(lambda x:x[0:2])"
   ]
  },
  {
   "cell_type": "code",
   "execution_count": 17,
   "id": "a0bf2fa2",
   "metadata": {},
   "outputs": [
    {
     "data": {
      "text/plain": [
       "Text(0.5, 1.0, '가장 많이 접수된 시간')"
      ]
     },
     "execution_count": 17,
     "metadata": {},
     "output_type": "execute_result"
    },
    {
     "data": {
      "image/png": "[encoded data removed]",
      "text/plain": [
       "<Figure size 432x288 with 1 Axes>"
      ]
     },
     "metadata": {
      "image/png": {
       "height": 279,
       "width": 383
      },
      "needs_background": "light"
     },
     "output_type": "display_data"
    }
   ],
   "source": [
    "hour=tt0205.groupby(\"접수완료시각\").count()\n",
    "hour[\"발생지점\"].plot()\n",
    "plt.title(\"가장 많이 접수된 시간\")"
   ]
  },
  {
   "cell_type": "code",
   "execution_count": 18,
   "id": "7f41bdd1",
   "metadata": {},
   "outputs": [
    {
     "data": {
      "text/plain": [
       "(array([     0.,  20000.,  40000.,  60000.,  80000., 100000., 120000.,\n",
       "        140000., 160000.]),\n",
       " [Text(0, 0, ''),\n",
       "  Text(0, 0, ''),\n",
       "  Text(0, 0, ''),\n",
       "  Text(0, 0, ''),\n",
       "  Text(0, 0, ''),\n",
       "  Text(0, 0, ''),\n",
       "  Text(0, 0, ''),\n",
       "  Text(0, 0, ''),\n",
       "  Text(0, 0, '')])"
      ]
     },
     "execution_count": 18,
     "metadata": {},
     "output_type": "execute_result"
    },
    {
     "data": {
      "image/png": "[encoded data removed]",
      "text/plain": [
       "<Figure size 1080x360 with 1 Axes>"
      ]
     },
     "metadata": {
      "image/png": {
       "height": 385,
       "width": 917
      },
      "needs_background": "light"
     },
     "output_type": "display_data"
    }
   ],
   "source": [
    "tt0205_cn=len(tt0205[tt0205[\"지역대분류\"]==\"충청남도\"])\n",
    "tt0205_dj=len(tt0205[tt0205[\"지역대분류\"]==\"대전광역시\"])\n",
    "tt0205_sj=len(tt0205[tt0205[\"지역대분류\"]==\"세종특별자치시\"])\n",
    "\n",
    "tt0205_si_list=[[\"충청남도\",tt0205_cn],[\"대전광역시\",tt0205_dj],[\"세종시\",tt0205_sj]]\n",
    "tt0205si=pd.DataFrame(tt0205_si_list, columns=[\"지역 분류\",\"발생건수\"])\n",
    "\n",
    "tt0205si=tt0205si.set_index(\"지역 분류\")\n",
    "tt0205si.sort_values(\"발생건수\", ascending=False)\n",
    "\n",
    "tt0205si.plot(kind=\"bar\", figsize=(15,5), color=\"Skyblue\")\n",
    "plt.xlabel(\"지역 분류\", fontsize=12)\n",
    "plt.ylabel(\"발생건수\", fontsize=15)\n",
    "plt.title(\"21년도 사건 발생건수\", fontsize=15)\n",
    "plt.xticks(rotation = 60, fontsize=12)\n",
    "plt.yticks(fontsize=12)"
   ]
  },
  {
   "cell_type": "code",
   "execution_count": null,
   "id": "788fdcfa",
   "metadata": {},
   "outputs": [],
   "source": []
  },
  {
   "cell_type": "code",
   "execution_count": 19,
   "id": "18cec037",
   "metadata": {},
   "outputs": [
    {
     "data": {
      "text/html": [
       "<div>\n",
       "<style scoped>\n",
       "    .dataframe tbody tr th:only-of-type {\n",
       "        vertical-align: middle;\n",
       "    }\n",
       "\n",
       "    .dataframe tbody tr th {\n",
       "        vertical-align: top;\n",
       "    }\n",
       "\n",
       "    .dataframe thead th {\n",
       "        text-align: right;\n",
       "    }\n",
       "</style>\n",
       "<table border=\"1\" class=\"dataframe\">\n",
       "  <thead>\n",
       "    <tr style=\"text-align: right;\">\n",
       "      <th></th>\n",
       "      <th>접수부서코드</th>\n",
       "      <th>접수완료일시</th>\n",
       "      <th>경찰청구분</th>\n",
       "      <th>사건상태코드</th>\n",
       "      <th>사건종별코드</th>\n",
       "      <th>신고성별</th>\n",
       "      <th>발생지점</th>\n",
       "      <th>발생좌표x</th>\n",
       "      <th>발생좌표y</th>\n",
       "      <th>동일사건여부</th>\n",
       "      <th>요일</th>\n",
       "      <th>접수완료연월일</th>\n",
       "      <th>접수완료시각</th>\n",
       "      <th>지역대분류</th>\n",
       "      <th>지역소분류</th>\n",
       "      <th>접수월</th>\n",
       "      <th>접수연도</th>\n",
       "    </tr>\n",
       "  </thead>\n",
       "  <tbody>\n",
       "    <tr>\n",
       "      <th>0</th>\n",
       "      <td>충남청</td>\n",
       "      <td>2021-03-07 00:02:48</td>\n",
       "      <td>19</td>\n",
       "      <td>10</td>\n",
       "      <td>406</td>\n",
       "      <td>1.0</td>\n",
       "      <td>충청남도 천안시 서북구 불당동(불당동) 1625</td>\n",
       "      <td>127.107500</td>\n",
       "      <td>36.811944</td>\n",
       "      <td>NaN</td>\n",
       "      <td>Sunday</td>\n",
       "      <td>2021-03-07</td>\n",
       "      <td>00</td>\n",
       "      <td>충청남도</td>\n",
       "      <td>천안시</td>\n",
       "      <td>03</td>\n",
       "      <td>21</td>\n",
       "    </tr>\n",
       "    <tr>\n",
       "      <th>1</th>\n",
       "      <td>충남청</td>\n",
       "      <td>2021-03-07 00:09:04</td>\n",
       "      <td>19</td>\n",
       "      <td>10</td>\n",
       "      <td>402</td>\n",
       "      <td>1.0</td>\n",
       "      <td>충청남도 천안시 동남구 문화동(문성동) 41-5</td>\n",
       "      <td>127.150988</td>\n",
       "      <td>36.811792</td>\n",
       "      <td>Y</td>\n",
       "      <td>Sunday</td>\n",
       "      <td>2021-03-07</td>\n",
       "      <td>00</td>\n",
       "      <td>충청남도</td>\n",
       "      <td>천안시</td>\n",
       "      <td>03</td>\n",
       "      <td>21</td>\n",
       "    </tr>\n",
       "    <tr>\n",
       "      <th>2</th>\n",
       "      <td>대전청</td>\n",
       "      <td>2021-03-07 00:07:54</td>\n",
       "      <td>13</td>\n",
       "      <td>10</td>\n",
       "      <td>401</td>\n",
       "      <td>2.0</td>\n",
       "      <td>대전광역시 서구 괴정동(괴정동) 367-40</td>\n",
       "      <td>127.371854</td>\n",
       "      <td>36.341961</td>\n",
       "      <td>NaN</td>\n",
       "      <td>Sunday</td>\n",
       "      <td>2021-03-07</td>\n",
       "      <td>00</td>\n",
       "      <td>대전광역시</td>\n",
       "      <td>서구</td>\n",
       "      <td>03</td>\n",
       "      <td>21</td>\n",
       "    </tr>\n",
       "    <tr>\n",
       "      <th>3</th>\n",
       "      <td>대전청</td>\n",
       "      <td>2021-03-07 00:15:27</td>\n",
       "      <td>13</td>\n",
       "      <td>10</td>\n",
       "      <td>401</td>\n",
       "      <td>1.0</td>\n",
       "      <td>대전광역시 유성구 상대동 471-2</td>\n",
       "      <td>127.339334</td>\n",
       "      <td>36.346899</td>\n",
       "      <td>NaN</td>\n",
       "      <td>Sunday</td>\n",
       "      <td>2021-03-07</td>\n",
       "      <td>00</td>\n",
       "      <td>대전광역시</td>\n",
       "      <td>유성구</td>\n",
       "      <td>03</td>\n",
       "      <td>21</td>\n",
       "    </tr>\n",
       "    <tr>\n",
       "      <th>4</th>\n",
       "      <td>충남청</td>\n",
       "      <td>2021-03-07 00:12:08</td>\n",
       "      <td>19</td>\n",
       "      <td>10</td>\n",
       "      <td>403</td>\n",
       "      <td>2.0</td>\n",
       "      <td>충청남도 공주시 우성면 평목리</td>\n",
       "      <td>127.090733</td>\n",
       "      <td>36.453397</td>\n",
       "      <td>NaN</td>\n",
       "      <td>Sunday</td>\n",
       "      <td>2021-03-07</td>\n",
       "      <td>00</td>\n",
       "      <td>충청남도</td>\n",
       "      <td>공주시</td>\n",
       "      <td>03</td>\n",
       "      <td>21</td>\n",
       "    </tr>\n",
       "    <tr>\n",
       "      <th>...</th>\n",
       "      <td>...</td>\n",
       "      <td>...</td>\n",
       "      <td>...</td>\n",
       "      <td>...</td>\n",
       "      <td>...</td>\n",
       "      <td>...</td>\n",
       "      <td>...</td>\n",
       "      <td>...</td>\n",
       "      <td>...</td>\n",
       "      <td>...</td>\n",
       "      <td>...</td>\n",
       "      <td>...</td>\n",
       "      <td>...</td>\n",
       "      <td>...</td>\n",
       "      <td>...</td>\n",
       "      <td>...</td>\n",
       "      <td>...</td>\n",
       "    </tr>\n",
       "    <tr>\n",
       "      <th>276628</th>\n",
       "      <td>대전청</td>\n",
       "      <td>2023-01-15 20:01:39</td>\n",
       "      <td>13</td>\n",
       "      <td>10</td>\n",
       "      <td>401</td>\n",
       "      <td>1.0</td>\n",
       "      <td>대전 서구 괴정동 88-6</td>\n",
       "      <td>127.384284</td>\n",
       "      <td>36.334507</td>\n",
       "      <td>NaN</td>\n",
       "      <td>Sunday</td>\n",
       "      <td>2023-01-15</td>\n",
       "      <td>20</td>\n",
       "      <td>대전</td>\n",
       "      <td>서구</td>\n",
       "      <td>01</td>\n",
       "      <td>23</td>\n",
       "    </tr>\n",
       "    <tr>\n",
       "      <th>276629</th>\n",
       "      <td>충남청</td>\n",
       "      <td>2023-01-16 21:26:56</td>\n",
       "      <td>19</td>\n",
       "      <td>10</td>\n",
       "      <td>401</td>\n",
       "      <td>1.0</td>\n",
       "      <td>충청남도 태안군 근흥면 두야리(근흥면 ) 246-2</td>\n",
       "      <td>126.262393</td>\n",
       "      <td>36.751467</td>\n",
       "      <td>NaN</td>\n",
       "      <td>Monday</td>\n",
       "      <td>2023-01-16</td>\n",
       "      <td>21</td>\n",
       "      <td>충청남도</td>\n",
       "      <td>태안군</td>\n",
       "      <td>01</td>\n",
       "      <td>23</td>\n",
       "    </tr>\n",
       "    <tr>\n",
       "      <th>276630</th>\n",
       "      <td>충남청</td>\n",
       "      <td>2023-01-14 01:02:48</td>\n",
       "      <td>19</td>\n",
       "      <td>10</td>\n",
       "      <td>403</td>\n",
       "      <td>2.0</td>\n",
       "      <td>충청남도 천안시 동남구 다가동 (일봉동 ) 61-35</td>\n",
       "      <td>127.147678</td>\n",
       "      <td>36.789125</td>\n",
       "      <td>NaN</td>\n",
       "      <td>Saturday</td>\n",
       "      <td>2023-01-14</td>\n",
       "      <td>01</td>\n",
       "      <td>충청남도</td>\n",
       "      <td>천안시</td>\n",
       "      <td>01</td>\n",
       "      <td>23</td>\n",
       "    </tr>\n",
       "    <tr>\n",
       "      <th>276631</th>\n",
       "      <td>대전청</td>\n",
       "      <td>2023-01-14 17:35:38</td>\n",
       "      <td>13</td>\n",
       "      <td>10</td>\n",
       "      <td>401</td>\n",
       "      <td>1.0</td>\n",
       "      <td>대전광역시 대덕구 신탄진동 (행정:신탄진동 ) 129-7</td>\n",
       "      <td>127.433785</td>\n",
       "      <td>36.450725</td>\n",
       "      <td>NaN</td>\n",
       "      <td>Saturday</td>\n",
       "      <td>2023-01-14</td>\n",
       "      <td>17</td>\n",
       "      <td>대전광역시</td>\n",
       "      <td>대덕구</td>\n",
       "      <td>01</td>\n",
       "      <td>23</td>\n",
       "    </tr>\n",
       "    <tr>\n",
       "      <th>276632</th>\n",
       "      <td>대전청</td>\n",
       "      <td>2023-01-15 01:13:20</td>\n",
       "      <td>13</td>\n",
       "      <td>10</td>\n",
       "      <td>401</td>\n",
       "      <td>1.0</td>\n",
       "      <td>대전광역시 대덕구 평촌동 (행정:덕암동 ) 346</td>\n",
       "      <td>127.428287</td>\n",
       "      <td>36.425403</td>\n",
       "      <td>Y</td>\n",
       "      <td>Sunday</td>\n",
       "      <td>2023-01-15</td>\n",
       "      <td>01</td>\n",
       "      <td>대전광역시</td>\n",
       "      <td>대덕구</td>\n",
       "      <td>01</td>\n",
       "      <td>23</td>\n",
       "    </tr>\n",
       "  </tbody>\n",
       "</table>\n",
       "<p>276633 rows × 17 columns</p>\n",
       "</div>"
      ],
      "text/plain": [
       "       접수부서코드               접수완료일시  경찰청구분  사건상태코드  사건종별코드  신고성별  \\\n",
       "0         충남청  2021-03-07 00:02:48     19      10     406   1.0   \n",
       "1         충남청  2021-03-07 00:09:04     19      10     402   1.0   \n",
       "2         대전청  2021-03-07 00:07:54     13      10     401   2.0   \n",
       "3         대전청  2021-03-07 00:15:27     13      10     401   1.0   \n",
       "4         충남청  2021-03-07 00:12:08     19      10     403   2.0   \n",
       "...       ...                  ...    ...     ...     ...   ...   \n",
       "276628    대전청  2023-01-15 20:01:39     13      10     401   1.0   \n",
       "276629    충남청  2023-01-16 21:26:56     19      10     401   1.0   \n",
       "276630    충남청  2023-01-14 01:02:48     19      10     403   2.0   \n",
       "276631    대전청  2023-01-14 17:35:38     13      10     401   1.0   \n",
       "276632    대전청  2023-01-15 01:13:20     13      10     401   1.0   \n",
       "\n",
       "                                   발생지점       발생좌표x      발생좌표y 동일사건여부  \\\n",
       "0            충청남도 천안시 서북구 불당동(불당동) 1625  127.107500  36.811944    NaN   \n",
       "1            충청남도 천안시 동남구 문화동(문성동) 41-5  127.150988  36.811792      Y   \n",
       "2              대전광역시 서구 괴정동(괴정동) 367-40  127.371854  36.341961    NaN   \n",
       "3                   대전광역시 유성구 상대동 471-2  127.339334  36.346899    NaN   \n",
       "4                     충청남도 공주시 우성면 평목리   127.090733  36.453397    NaN   \n",
       "...                                 ...         ...        ...    ...   \n",
       "276628                   대전 서구 괴정동 88-6  127.384284  36.334507    NaN   \n",
       "276629     충청남도 태안군 근흥면 두야리(근흥면 ) 246-2  126.262393  36.751467    NaN   \n",
       "276630    충청남도 천안시 동남구 다가동 (일봉동 ) 61-35  127.147678  36.789125    NaN   \n",
       "276631  대전광역시 대덕구 신탄진동 (행정:신탄진동 ) 129-7  127.433785  36.450725    NaN   \n",
       "276632      대전광역시 대덕구 평촌동 (행정:덕암동 ) 346  127.428287  36.425403      Y   \n",
       "\n",
       "              요일     접수완료연월일 접수완료시각  지역대분류 지역소분류 접수월 접수연도  \n",
       "0         Sunday  2021-03-07     00   충청남도   천안시  03   21  \n",
       "1         Sunday  2021-03-07     00   충청남도   천안시  03   21  \n",
       "2         Sunday  2021-03-07     00  대전광역시    서구  03   21  \n",
       "3         Sunday  2021-03-07     00  대전광역시   유성구  03   21  \n",
       "4         Sunday  2021-03-07     00   충청남도   공주시  03   21  \n",
       "...          ...         ...    ...    ...   ...  ..  ...  \n",
       "276628    Sunday  2023-01-15     20     대전    서구  01   23  \n",
       "276629    Monday  2023-01-16     21   충청남도   태안군  01   23  \n",
       "276630  Saturday  2023-01-14     01   충청남도   천안시  01   23  \n",
       "276631  Saturday  2023-01-14     17  대전광역시   대덕구  01   23  \n",
       "276632    Sunday  2023-01-15     01  대전광역시   대덕구  01   23  \n",
       "\n",
       "[276633 rows x 17 columns]"
      ]
     },
     "execution_count": 19,
     "metadata": {},
     "output_type": "execute_result"
    }
   ],
   "source": [
    "tt0205"
   ]
  },
  {
   "cell_type": "code",
   "execution_count": 34,
   "id": "3c973bc0",
   "metadata": {},
   "outputs": [],
   "source": [
    "# 대전청 - 1, 충남청 - 2\n",
    "tt0206= tt0205.replace({\"대전청\":1, \"충남청\":0})"
   ]
  },
  {
   "cell_type": "code",
   "execution_count": 78,
   "id": "26fcecef",
   "metadata": {},
   "outputs": [],
   "source": [
    "# 음주운전, 교통사고만 추출\n",
    "dd=tt0206[(tt0206[\"사건종별코드\"]==406) | (tt0206[\"사건종별코드\"]==401)]"
   ]
  },
  {
   "cell_type": "code",
   "execution_count": 79,
   "id": "81adad08",
   "metadata": {
    "scrolled": true
   },
   "outputs": [],
   "source": [
    "dd=dd.replace({406:1, 401:0})"
   ]
  },
  {
   "cell_type": "code",
   "execution_count": 80,
   "id": "0965c5d5",
   "metadata": {},
   "outputs": [
    {
     "data": {
      "text/html": [
       "<div>\n",
       "<style scoped>\n",
       "    .dataframe tbody tr th:only-of-type {\n",
       "        vertical-align: middle;\n",
       "    }\n",
       "\n",
       "    .dataframe tbody tr th {\n",
       "        vertical-align: top;\n",
       "    }\n",
       "\n",
       "    .dataframe thead th {\n",
       "        text-align: right;\n",
       "    }\n",
       "</style>\n",
       "<table border=\"1\" class=\"dataframe\">\n",
       "  <thead>\n",
       "    <tr style=\"text-align: right;\">\n",
       "      <th></th>\n",
       "      <th>접수부서코드</th>\n",
       "      <th>접수완료일시</th>\n",
       "      <th>경찰청구분</th>\n",
       "      <th>사건상태코드</th>\n",
       "      <th>사건종별코드</th>\n",
       "      <th>신고성별</th>\n",
       "      <th>발생지점</th>\n",
       "      <th>발생좌표x</th>\n",
       "      <th>발생좌표y</th>\n",
       "      <th>동일사건여부</th>\n",
       "      <th>요일</th>\n",
       "      <th>접수완료연월일</th>\n",
       "      <th>접수완료시각</th>\n",
       "      <th>지역대분류</th>\n",
       "      <th>지역소분류</th>\n",
       "      <th>접수월</th>\n",
       "      <th>접수연도</th>\n",
       "    </tr>\n",
       "  </thead>\n",
       "  <tbody>\n",
       "    <tr>\n",
       "      <th>0</th>\n",
       "      <td>0</td>\n",
       "      <td>2021-03-07 00:02:48</td>\n",
       "      <td>19</td>\n",
       "      <td>10</td>\n",
       "      <td>1</td>\n",
       "      <td>1.0</td>\n",
       "      <td>충청남도 천안시 서북구 불당동(불당동) 1625</td>\n",
       "      <td>127.107500</td>\n",
       "      <td>36.811944</td>\n",
       "      <td>NaN</td>\n",
       "      <td>Sunday</td>\n",
       "      <td>2021-03-07</td>\n",
       "      <td>00</td>\n",
       "      <td>충청남도</td>\n",
       "      <td>천안시</td>\n",
       "      <td>03</td>\n",
       "      <td>21</td>\n",
       "    </tr>\n",
       "    <tr>\n",
       "      <th>2</th>\n",
       "      <td>1</td>\n",
       "      <td>2021-03-07 00:07:54</td>\n",
       "      <td>13</td>\n",
       "      <td>10</td>\n",
       "      <td>0</td>\n",
       "      <td>2.0</td>\n",
       "      <td>대전광역시 서구 괴정동(괴정동) 367-40</td>\n",
       "      <td>127.371854</td>\n",
       "      <td>36.341961</td>\n",
       "      <td>NaN</td>\n",
       "      <td>Sunday</td>\n",
       "      <td>2021-03-07</td>\n",
       "      <td>00</td>\n",
       "      <td>대전광역시</td>\n",
       "      <td>서구</td>\n",
       "      <td>03</td>\n",
       "      <td>21</td>\n",
       "    </tr>\n",
       "    <tr>\n",
       "      <th>3</th>\n",
       "      <td>1</td>\n",
       "      <td>2021-03-07 00:15:27</td>\n",
       "      <td>13</td>\n",
       "      <td>10</td>\n",
       "      <td>0</td>\n",
       "      <td>1.0</td>\n",
       "      <td>대전광역시 유성구 상대동 471-2</td>\n",
       "      <td>127.339334</td>\n",
       "      <td>36.346899</td>\n",
       "      <td>NaN</td>\n",
       "      <td>Sunday</td>\n",
       "      <td>2021-03-07</td>\n",
       "      <td>00</td>\n",
       "      <td>대전광역시</td>\n",
       "      <td>유성구</td>\n",
       "      <td>03</td>\n",
       "      <td>21</td>\n",
       "    </tr>\n",
       "  </tbody>\n",
       "</table>\n",
       "</div>"
      ],
      "text/plain": [
       "  접수부서코드               접수완료일시  경찰청구분  사건상태코드  사건종별코드  신고성별  \\\n",
       "0      0  2021-03-07 00:02:48     19      10       1   1.0   \n",
       "2      1  2021-03-07 00:07:54     13      10       0   2.0   \n",
       "3      1  2021-03-07 00:15:27     13      10       0   1.0   \n",
       "\n",
       "                         발생지점       발생좌표x      발생좌표y 동일사건여부      요일  \\\n",
       "0  충청남도 천안시 서북구 불당동(불당동) 1625  127.107500  36.811944    NaN  Sunday   \n",
       "2    대전광역시 서구 괴정동(괴정동) 367-40  127.371854  36.341961    NaN  Sunday   \n",
       "3         대전광역시 유성구 상대동 471-2  127.339334  36.346899    NaN  Sunday   \n",
       "\n",
       "      접수완료연월일 접수완료시각  지역대분류 지역소분류 접수월 접수연도  \n",
       "0  2021-03-07     00   충청남도   천안시  03   21  \n",
       "2  2021-03-07     00  대전광역시    서구  03   21  \n",
       "3  2021-03-07     00  대전광역시   유성구  03   21  "
      ]
     },
     "execution_count": 80,
     "metadata": {},
     "output_type": "execute_result"
    }
   ],
   "source": [
    "dd.head(3) #접수완료시각 = 발생시각으로 봐도 괜찮을까? 괜찮다면 발생시각과 좌표 예측하는 부분으로,,,"
   ]
  },
  {
   "cell_type": "code",
   "execution_count": null,
   "id": "8e1c1b3f",
   "metadata": {
    "scrolled": true
   },
   "outputs": [],
   "source": []
  },
  {
   "cell_type": "code",
   "execution_count": 67,
   "id": "59145a1f",
   "metadata": {},
   "outputs": [
    {
     "data": {
      "text/plain": [
       "발생좌표x     True\n",
       "발생좌표y     True\n",
       "동일사건여부    True\n",
       "지역소분류     True\n",
       "dtype: bool"
      ]
     },
     "execution_count": 67,
     "metadata": {},
     "output_type": "execute_result"
    }
   ],
   "source": [
    "# 결측치가 있는 컬럼 찾기\n",
    "dd.isna().any()[lambda x:x]"
   ]
  },
  {
   "cell_type": "code",
   "execution_count": 68,
   "id": "0c328cdc",
   "metadata": {},
   "outputs": [
    {
     "name": "stdout",
     "output_type": "stream",
     "text": [
      "0.00017355085039916696\n",
      "0.00017355085039916696\n",
      "0.7010490184735239\n",
      "1.9283427822129663e-05\n"
     ]
    }
   ],
   "source": [
    "# 결측치 퍼센테이지로 확인 -> 비율이 50% 이상이라면 조정을 해야함 -> \"동일사건여부\" 조정 필요, 지워도 되지 않을까?\n",
    "print(dd[\"발생좌표x\"].isnull().mean())\n",
    "print(dd[\"발생좌표y\"].isnull().mean())\n",
    "print(dd[\"동일사건여부\"].isnull().mean())\n",
    "print(dd[\"지역소분류\"].isnull().mean())"
   ]
  },
  {
   "cell_type": "code",
   "execution_count": 88,
   "id": "365ef5e0",
   "metadata": {},
   "outputs": [
    {
     "data": {
      "text/html": [
       "<div>\n",
       "<style scoped>\n",
       "    .dataframe tbody tr th:only-of-type {\n",
       "        vertical-align: middle;\n",
       "    }\n",
       "\n",
       "    .dataframe tbody tr th {\n",
       "        vertical-align: top;\n",
       "    }\n",
       "\n",
       "    .dataframe thead th {\n",
       "        text-align: right;\n",
       "    }\n",
       "</style>\n",
       "<table border=\"1\" class=\"dataframe\">\n",
       "  <thead>\n",
       "    <tr style=\"text-align: right;\">\n",
       "      <th></th>\n",
       "      <th>Friday</th>\n",
       "      <th>Monday</th>\n",
       "      <th>Saturday</th>\n",
       "      <th>Sunday</th>\n",
       "      <th>Thursday</th>\n",
       "      <th>Tuesday</th>\n",
       "      <th>Wednesday</th>\n",
       "    </tr>\n",
       "  </thead>\n",
       "  <tbody>\n",
       "    <tr>\n",
       "      <th>0</th>\n",
       "      <td>0</td>\n",
       "      <td>0</td>\n",
       "      <td>0</td>\n",
       "      <td>1</td>\n",
       "      <td>0</td>\n",
       "      <td>0</td>\n",
       "      <td>0</td>\n",
       "    </tr>\n",
       "    <tr>\n",
       "      <th>2</th>\n",
       "      <td>0</td>\n",
       "      <td>0</td>\n",
       "      <td>0</td>\n",
       "      <td>1</td>\n",
       "      <td>0</td>\n",
       "      <td>0</td>\n",
       "      <td>0</td>\n",
       "    </tr>\n",
       "    <tr>\n",
       "      <th>3</th>\n",
       "      <td>0</td>\n",
       "      <td>0</td>\n",
       "      <td>0</td>\n",
       "      <td>1</td>\n",
       "      <td>0</td>\n",
       "      <td>0</td>\n",
       "      <td>0</td>\n",
       "    </tr>\n",
       "    <tr>\n",
       "      <th>5</th>\n",
       "      <td>0</td>\n",
       "      <td>0</td>\n",
       "      <td>0</td>\n",
       "      <td>1</td>\n",
       "      <td>0</td>\n",
       "      <td>0</td>\n",
       "      <td>0</td>\n",
       "    </tr>\n",
       "    <tr>\n",
       "      <th>6</th>\n",
       "      <td>0</td>\n",
       "      <td>0</td>\n",
       "      <td>0</td>\n",
       "      <td>1</td>\n",
       "      <td>0</td>\n",
       "      <td>0</td>\n",
       "      <td>0</td>\n",
       "    </tr>\n",
       "    <tr>\n",
       "      <th>...</th>\n",
       "      <td>...</td>\n",
       "      <td>...</td>\n",
       "      <td>...</td>\n",
       "      <td>...</td>\n",
       "      <td>...</td>\n",
       "      <td>...</td>\n",
       "      <td>...</td>\n",
       "    </tr>\n",
       "    <tr>\n",
       "      <th>276627</th>\n",
       "      <td>0</td>\n",
       "      <td>0</td>\n",
       "      <td>1</td>\n",
       "      <td>0</td>\n",
       "      <td>0</td>\n",
       "      <td>0</td>\n",
       "      <td>0</td>\n",
       "    </tr>\n",
       "    <tr>\n",
       "      <th>276628</th>\n",
       "      <td>0</td>\n",
       "      <td>0</td>\n",
       "      <td>0</td>\n",
       "      <td>1</td>\n",
       "      <td>0</td>\n",
       "      <td>0</td>\n",
       "      <td>0</td>\n",
       "    </tr>\n",
       "    <tr>\n",
       "      <th>276629</th>\n",
       "      <td>0</td>\n",
       "      <td>1</td>\n",
       "      <td>0</td>\n",
       "      <td>0</td>\n",
       "      <td>0</td>\n",
       "      <td>0</td>\n",
       "      <td>0</td>\n",
       "    </tr>\n",
       "    <tr>\n",
       "      <th>276631</th>\n",
       "      <td>0</td>\n",
       "      <td>0</td>\n",
       "      <td>1</td>\n",
       "      <td>0</td>\n",
       "      <td>0</td>\n",
       "      <td>0</td>\n",
       "      <td>0</td>\n",
       "    </tr>\n",
       "    <tr>\n",
       "      <th>276632</th>\n",
       "      <td>0</td>\n",
       "      <td>0</td>\n",
       "      <td>0</td>\n",
       "      <td>1</td>\n",
       "      <td>0</td>\n",
       "      <td>0</td>\n",
       "      <td>0</td>\n",
       "    </tr>\n",
       "  </tbody>\n",
       "</table>\n",
       "<p>215158 rows × 7 columns</p>\n",
       "</div>"
      ],
      "text/plain": [
       "        Friday  Monday  Saturday  Sunday  Thursday  Tuesday  Wednesday\n",
       "0            0       0         0       1         0        0          0\n",
       "2            0       0         0       1         0        0          0\n",
       "3            0       0         0       1         0        0          0\n",
       "5            0       0         0       1         0        0          0\n",
       "6            0       0         0       1         0        0          0\n",
       "...        ...     ...       ...     ...       ...      ...        ...\n",
       "276627       0       0         1       0         0        0          0\n",
       "276628       0       0         0       1         0        0          0\n",
       "276629       0       1         0       0         0        0          0\n",
       "276631       0       0         1       0         0        0          0\n",
       "276632       0       0         0       1         0        0          0\n",
       "\n",
       "[215158 rows x 7 columns]"
      ]
     },
     "execution_count": 88,
     "metadata": {},
     "output_type": "execute_result"
    }
   ],
   "source": [
    "pd.get_dummies(dd[\"요일\"]) # 원핫인코딩은 숫자형 데이터만"
   ]
  },
  {
   "cell_type": "code",
   "execution_count": 90,
   "id": "23c26e4d",
   "metadata": {},
   "outputs": [
    {
     "data": {
      "text/plain": [
       "dtype('O')"
      ]
     },
     "execution_count": 90,
     "metadata": {},
     "output_type": "execute_result"
    }
   ],
   "source": [
    "dd[\"요일\"].dtype"
   ]
  },
  {
   "cell_type": "code",
   "execution_count": 89,
   "id": "58cd5365",
   "metadata": {},
   "outputs": [
    {
     "data": {
      "text/plain": [
       "0           Sunday\n",
       "2           Sunday\n",
       "3           Sunday\n",
       "5           Sunday\n",
       "6           Sunday\n",
       "            ...   \n",
       "276627    Saturday\n",
       "276628      Sunday\n",
       "276629      Monday\n",
       "276631    Saturday\n",
       "276632      Sunday\n",
       "Name: 요일, Length: 215158, dtype: object"
      ]
     },
     "execution_count": 89,
     "metadata": {},
     "output_type": "execute_result"
    }
   ],
   "source": [
    "dd[\"요일\"]"
   ]
  },
  {
   "cell_type": "code",
   "execution_count": null,
   "id": "cf3415e0",
   "metadata": {},
   "outputs": [],
   "source": []
  },
  {
   "cell_type": "code",
   "execution_count": null,
   "id": "6b915390",
   "metadata": {},
   "outputs": [],
   "source": []
  },
  {
   "cell_type": "code",
   "execution_count": null,
   "id": "364d1775",
   "metadata": {},
   "outputs": [],
   "source": []
  },
  {
   "cell_type": "code",
   "execution_count": null,
   "id": "e942d5bf",
   "metadata": {},
   "outputs": [],
   "source": []
  },
  {
   "attachments": {},
   "cell_type": "markdown",
   "id": "9b3dd357",
   "metadata": {},
   "source": []
  },
  {
   "cell_type": "markdown",
   "id": "2b9c0bb2",
   "metadata": {},
   "source": []
  },
  {
   "cell_type": "markdown",
   "id": "2cbcea91",
   "metadata": {},
   "source": [
    "## 0206 회의록\n",
    "\n",
    "제한된 경찰력을 효율성 있게 사용하기 위한 공모\n",
    "  - 1. 분석내용 정리 (+ 외부데이터)\n",
    "          \n",
    "    - 해당범죄가 몇 건이나 발생했는가? v\n",
    "    - 가장 많이 발생한 시간은 언제인가? v\n",
    "    - 요일과 관련이 있는가? v\n",
    "    - 가장 많이 발생한 지역은 어디인가? v\n",
    "    사건 추가해서 다시 진행(각자 알잘딱깔센)\n",
    "    +++++++    \n",
    "    - 날씨 데이터+교통사고 사건 시각화(바그래프), t-test\n",
    "    - http://tmacs.kotsa.or.kr/webgis/main.do# 크롤링 트라이~\n",
    "    - 1인당 경찰수\n",
    "    \n",
    " \n",
    "  - 2. 사건종별코드를 예측해보자~\n",
    "      - 구상해오기\n",
    "  \n",
    "\n",
    "\n",
    "- 401 ~ 406 모두 사용\n",
    "- ppt는 10~15장\n",
    "- 노션, 깃 사용해보기(권장)"
   ]
  },
  {
   "cell_type": "code",
   "execution_count": null,
   "id": "0a0ceeb3",
   "metadata": {},
   "outputs": [],
   "source": []
  },
  {
   "cell_type": "code",
   "execution_count": null,
   "id": "3e337e8d",
   "metadata": {},
   "outputs": [],
   "source": []
  }
 ],
 "metadata": {
  "kernelspec": {
   "display_name": "Python 3 (ipykernel)",
   "language": "python",
   "name": "python3"
  },
  "language_info": {
   "codemirror_mode": {
    "name": "ipython",
    "version": 3
   },
   "file_extension": ".py",
   "mimetype": "text/x-python",
   "name": "python",
   "nbconvert_exporter": "python",
   "pygments_lexer": "ipython3",
   "version": "3.9.12"
  }
 },
 "nbformat": 4,
 "nbformat_minor": 5
}

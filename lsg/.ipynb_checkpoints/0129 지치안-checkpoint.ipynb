{
 "cells": [
  {
   "cell_type": "markdown",
   "id": "fd3d9b59",
   "metadata": {},
   "source": [
    "# 지역 치안 안전 데이터 분석 경진대회\n",
    "\n",
    "### 추진 배경 및 목적\n",
    "- 신종·지능형 범죄 급증 등 급변하는 치안 환경에 발맞춰 치안 데이터 활용, 한정된 경찰력을 선택과 집중에 따라 운영하여 선제적 대응과 시대적 여건에 부응하는 맞춤형 치안 서비스 제공\n",
    "\n",
    "    - 범죄예방 및 신속한 대응을 할 수 있게 도와줘야 함!\n",
    "\n",
    "### 응모주제\n",
    "- 충남·세종·대전 지역 교통사고 분석 및 예측(분석 아이디어 제시, 알고리즘 개발 등) (V)\n",
    "- 충남·세종·대전 지역 보이스피싱 분석 및 예측\n",
    "   \n",
    "   - 분석 후에 예측 알고리즘까지 만들어야겠죠?\n",
    "    \n",
    "### 그렇다면 기본틀을 어떻게 잡아야할까?\n",
    "- 1. 지역선택\n",
    "- 2. 범죄선택(EVT_CL_CD\t: 사건종별코드 참고)\n",
    "- 3. 사건현황 분석(해당범죄가 몇 건이나 발생했는가, 가장 많이 발생한 시간은 언제인가, 요일과 관련이 있는가, 가장 많이 발생한 지역은 어디인가 ...)\n",
    "- 4. 알고리즘 제작(후에 예측값 도출)\n",
    "- 5. 예측률과 이에 따른 기대효과"
   ]
  },
  {
   "cell_type": "markdown",
   "id": "7130a571",
   "metadata": {},
   "source": [
    "# Data"
   ]
  },
  {
   "cell_type": "code",
   "execution_count": 1,
   "id": "6941ec3b",
   "metadata": {},
   "outputs": [],
   "source": [
    "import pandas as pd"
   ]
  },
  {
   "cell_type": "code",
   "execution_count": 2,
   "id": "370c98c0",
   "metadata": {},
   "outputs": [],
   "source": [
    "kp20=pd.read_csv(\"KP2020.csv\")"
   ]
  },
  {
   "cell_type": "code",
   "execution_count": 3,
   "id": "01be878f",
   "metadata": {},
   "outputs": [],
   "source": [
    "kp21=pd.read_csv(\"KP2021.csv\")"
   ]
  },
  {
   "cell_type": "code",
   "execution_count": 4,
   "id": "218253d5",
   "metadata": {},
   "outputs": [
    {
     "name": "stdout",
     "output_type": "stream",
     "text": [
      "<class 'pandas.core.frame.DataFrame'>\n",
      "RangeIndex: 77077 entries, 0 to 77076\n",
      "Data columns (total 10 columns):\n",
      " #   Column         Non-Null Count  Dtype  \n",
      "---  ------         --------------  -----  \n",
      " 0   RECV_DEPT_NM   77077 non-null  object \n",
      " 1   RECV_CPLT_DM   77077 non-null  object \n",
      " 2   NPA_CL         77077 non-null  int64  \n",
      " 3   EVT_STAT_CD    77077 non-null  int64  \n",
      " 4   EVT_CL_CD      77077 non-null  int64  \n",
      " 5   RPTER_SEX      74658 non-null  float64\n",
      " 6   HPPN_PNU_ADDR  47805 non-null  object \n",
      " 7   HPPN_X         60313 non-null  float64\n",
      " 8   HPPN_Y         60313 non-null  float64\n",
      " 9   SME_EVT_YN     13442 non-null  object \n",
      "dtypes: float64(3), int64(3), object(4)\n",
      "memory usage: 5.9+ MB\n",
      "========================================\n",
      "<class 'pandas.core.frame.DataFrame'>\n",
      "RangeIndex: 2594060 entries, 0 to 2594059\n",
      "Data columns (total 10 columns):\n",
      " #   Column         Dtype  \n",
      "---  ------         -----  \n",
      " 0   RECV_DEPT_NM   object \n",
      " 1   RECV_CPLT_DM   object \n",
      " 2   NPA_CL         int64  \n",
      " 3   EVT_STAT_CD    int64  \n",
      " 4   EVT_CL_CD      int64  \n",
      " 5   RPTER_SEX      float64\n",
      " 6   HPPN_PNU_ADDR  object \n",
      " 7   HPPN_X         float64\n",
      " 8   HPPN_Y         float64\n",
      " 9   SME_EVT_YN     object \n",
      "dtypes: float64(3), int64(3), object(4)\n",
      "memory usage: 197.9+ MB\n",
      "========================================\n"
     ]
    }
   ],
   "source": [
    "# 데이터 확인\n",
    "kp20.info()\n",
    "print(\"========================================\")\n",
    "kp21.info()\n",
    "print(\"========================================\")\n",
    "# 결측치 처리 여부 논의 필요"
   ]
  },
  {
   "cell_type": "code",
   "execution_count": 5,
   "id": "751faa6a",
   "metadata": {},
   "outputs": [],
   "source": [
    "# 컬럼명 수정\n",
    "kp20.rename(columns={\"RECV_DEPT_NM\":\"접수부서코드\",\"RECV_CPLT_DM\":\"접수완료일시\", \"NPA_CL\":\"경찰청구분\", \"EVT_STAT_CD\":\"사건상태코드\",\"EVT_CL_CD\":\"사건종별코드\",\"RPTER_SEX\":\"신고성별\",\"HPPN_PNU_ADDR\":\"발생지점\",\"HPPN_X\":\"발생좌표x\",\"HPPN_Y\":\"발생좌표y\",\"SME_EVT_YN\":\"동일사건여부\"}, inplace=True)\n",
    "kp21.rename(columns={\"RECV_DEPT_NM\":\"접수부서코드\",\"RECV_CPLT_DM\":\"접수완료일시\", \"NPA_CL\":\"경찰청구분\", \"EVT_STAT_CD\":\"사건상태코드\",\"EVT_CL_CD\":\"사건종별코드\",\"RPTER_SEX\":\"신고성별\",\"HPPN_PNU_ADDR\":\"발생지점\",\"HPPN_X\":\"발생좌표x\",\"HPPN_Y\":\"발생좌표y\",\"SME_EVT_YN\":\"동일사건여부\"}, inplace=True)"
   ]
  },
  {
   "cell_type": "code",
   "execution_count": 6,
   "id": "ad13ccc6",
   "metadata": {
    "scrolled": true
   },
   "outputs": [
    {
     "data": {
      "text/html": [
       "<div>\n",
       "<style scoped>\n",
       "    .dataframe tbody tr th:only-of-type {\n",
       "        vertical-align: middle;\n",
       "    }\n",
       "\n",
       "    .dataframe tbody tr th {\n",
       "        vertical-align: top;\n",
       "    }\n",
       "\n",
       "    .dataframe thead th {\n",
       "        text-align: right;\n",
       "    }\n",
       "</style>\n",
       "<table border=\"1\" class=\"dataframe\">\n",
       "  <thead>\n",
       "    <tr style=\"text-align: right;\">\n",
       "      <th></th>\n",
       "      <th>접수부서코드</th>\n",
       "      <th>접수완료일시</th>\n",
       "      <th>경찰청구분</th>\n",
       "      <th>사건상태코드</th>\n",
       "      <th>사건종별코드</th>\n",
       "      <th>신고성별</th>\n",
       "      <th>발생지점</th>\n",
       "      <th>발생좌표x</th>\n",
       "      <th>발생좌표y</th>\n",
       "      <th>동일사건여부</th>\n",
       "    </tr>\n",
       "  </thead>\n",
       "  <tbody>\n",
       "    <tr>\n",
       "      <th>0</th>\n",
       "      <td>충남청</td>\n",
       "      <td>20/12/01 01:43:07.000000000</td>\n",
       "      <td>19</td>\n",
       "      <td>10</td>\n",
       "      <td>305</td>\n",
       "      <td>1.0</td>\n",
       "      <td>충청남도 보령시 궁촌동(행정:대천4동) 369</td>\n",
       "      <td>126.598345</td>\n",
       "      <td>36.341537</td>\n",
       "      <td>Y</td>\n",
       "    </tr>\n",
       "    <tr>\n",
       "      <th>1</th>\n",
       "      <td>대전청</td>\n",
       "      <td>20/12/01 02:05:04.000000000</td>\n",
       "      <td>13</td>\n",
       "      <td>10</td>\n",
       "      <td>601</td>\n",
       "      <td>3.0</td>\n",
       "      <td>NaN</td>\n",
       "      <td>127.404663</td>\n",
       "      <td>36.341685</td>\n",
       "      <td>NaN</td>\n",
       "    </tr>\n",
       "    <tr>\n",
       "      <th>2</th>\n",
       "      <td>대전청</td>\n",
       "      <td>20/12/01 02:06:52.000000000</td>\n",
       "      <td>13</td>\n",
       "      <td>10</td>\n",
       "      <td>601</td>\n",
       "      <td>1.0</td>\n",
       "      <td>NaN</td>\n",
       "      <td>127.404663</td>\n",
       "      <td>36.341685</td>\n",
       "      <td>NaN</td>\n",
       "    </tr>\n",
       "    <tr>\n",
       "      <th>3</th>\n",
       "      <td>충남청</td>\n",
       "      <td>20/12/01 02:37:25.000000000</td>\n",
       "      <td>19</td>\n",
       "      <td>10</td>\n",
       "      <td>606</td>\n",
       "      <td>3.0</td>\n",
       "      <td>충청남도 보령시 천북면 하만리 628-10</td>\n",
       "      <td>126.524980</td>\n",
       "      <td>36.474390</td>\n",
       "      <td>N</td>\n",
       "    </tr>\n",
       "    <tr>\n",
       "      <th>4</th>\n",
       "      <td>충남청</td>\n",
       "      <td>20/12/01 08:17:50.000000000</td>\n",
       "      <td>19</td>\n",
       "      <td>10</td>\n",
       "      <td>401</td>\n",
       "      <td>2.0</td>\n",
       "      <td>충청남도 천안시 서북구 성정동(행정:성정2동) 1259</td>\n",
       "      <td>127.137160</td>\n",
       "      <td>36.826718</td>\n",
       "      <td>NaN</td>\n",
       "    </tr>\n",
       "    <tr>\n",
       "      <th>...</th>\n",
       "      <td>...</td>\n",
       "      <td>...</td>\n",
       "      <td>...</td>\n",
       "      <td>...</td>\n",
       "      <td>...</td>\n",
       "      <td>...</td>\n",
       "      <td>...</td>\n",
       "      <td>...</td>\n",
       "      <td>...</td>\n",
       "      <td>...</td>\n",
       "    </tr>\n",
       "    <tr>\n",
       "      <th>77072</th>\n",
       "      <td>충남청</td>\n",
       "      <td>20/12/31 01:18:16.000000000</td>\n",
       "      <td>19</td>\n",
       "      <td>10</td>\n",
       "      <td>302</td>\n",
       "      <td>2.0</td>\n",
       "      <td>충청남도 보령시 주교면 주교리(행정:주교면) 191-6</td>\n",
       "      <td>126.571002</td>\n",
       "      <td>36.387791</td>\n",
       "      <td>NaN</td>\n",
       "    </tr>\n",
       "    <tr>\n",
       "      <th>77073</th>\n",
       "      <td>충남청</td>\n",
       "      <td>20/12/31 01:17:45.000000000</td>\n",
       "      <td>19</td>\n",
       "      <td>10</td>\n",
       "      <td>501</td>\n",
       "      <td>3.0</td>\n",
       "      <td>NaN</td>\n",
       "      <td>NaN</td>\n",
       "      <td>NaN</td>\n",
       "      <td>NaN</td>\n",
       "    </tr>\n",
       "    <tr>\n",
       "      <th>77074</th>\n",
       "      <td>충남청</td>\n",
       "      <td>20/12/31 00:13:50.000000000</td>\n",
       "      <td>19</td>\n",
       "      <td>10</td>\n",
       "      <td>604</td>\n",
       "      <td>3.0</td>\n",
       "      <td>충청남도 아산시 온천동(행정:온양1동) 1498</td>\n",
       "      <td>127.000391</td>\n",
       "      <td>36.788411</td>\n",
       "      <td>NaN</td>\n",
       "    </tr>\n",
       "    <tr>\n",
       "      <th>77075</th>\n",
       "      <td>대전청</td>\n",
       "      <td>20/12/31 00:49:29.000000000</td>\n",
       "      <td>13</td>\n",
       "      <td>10</td>\n",
       "      <td>302</td>\n",
       "      <td>2.0</td>\n",
       "      <td>대전광역시 서구 갈마동(행정:갈마2동) 975</td>\n",
       "      <td>127.373351</td>\n",
       "      <td>36.348051</td>\n",
       "      <td>Y</td>\n",
       "    </tr>\n",
       "    <tr>\n",
       "      <th>77076</th>\n",
       "      <td>대전청</td>\n",
       "      <td>20/12/31 00:49:06.000000000</td>\n",
       "      <td>13</td>\n",
       "      <td>10</td>\n",
       "      <td>601</td>\n",
       "      <td>3.0</td>\n",
       "      <td>NaN</td>\n",
       "      <td>NaN</td>\n",
       "      <td>NaN</td>\n",
       "      <td>NaN</td>\n",
       "    </tr>\n",
       "  </tbody>\n",
       "</table>\n",
       "<p>77077 rows × 10 columns</p>\n",
       "</div>"
      ],
      "text/plain": [
       "      접수부서코드                       접수완료일시  경찰청구분  사건상태코드  사건종별코드  신고성별  \\\n",
       "0        충남청  20/12/01 01:43:07.000000000     19      10     305   1.0   \n",
       "1        대전청  20/12/01 02:05:04.000000000     13      10     601   3.0   \n",
       "2        대전청  20/12/01 02:06:52.000000000     13      10     601   1.0   \n",
       "3        충남청  20/12/01 02:37:25.000000000     19      10     606   3.0   \n",
       "4        충남청  20/12/01 08:17:50.000000000     19      10     401   2.0   \n",
       "...      ...                          ...    ...     ...     ...   ...   \n",
       "77072    충남청  20/12/31 01:18:16.000000000     19      10     302   2.0   \n",
       "77073    충남청  20/12/31 01:17:45.000000000     19      10     501   3.0   \n",
       "77074    충남청  20/12/31 00:13:50.000000000     19      10     604   3.0   \n",
       "77075    대전청  20/12/31 00:49:29.000000000     13      10     302   2.0   \n",
       "77076    대전청  20/12/31 00:49:06.000000000     13      10     601   3.0   \n",
       "\n",
       "                                 발생지점       발생좌표x      발생좌표y 동일사건여부  \n",
       "0           충청남도 보령시 궁촌동(행정:대천4동) 369  126.598345  36.341537      Y  \n",
       "1                                 NaN  127.404663  36.341685    NaN  \n",
       "2                                 NaN  127.404663  36.341685    NaN  \n",
       "3            충청남도 보령시 천북면 하만리 628-10   126.524980  36.474390      N  \n",
       "4      충청남도 천안시 서북구 성정동(행정:성정2동) 1259  127.137160  36.826718    NaN  \n",
       "...                               ...         ...        ...    ...  \n",
       "77072  충청남도 보령시 주교면 주교리(행정:주교면) 191-6  126.571002  36.387791    NaN  \n",
       "77073                             NaN         NaN        NaN    NaN  \n",
       "77074      충청남도 아산시 온천동(행정:온양1동) 1498  127.000391  36.788411    NaN  \n",
       "77075       대전광역시 서구 갈마동(행정:갈마2동) 975  127.373351  36.348051      Y  \n",
       "77076                             NaN         NaN        NaN    NaN  \n",
       "\n",
       "[77077 rows x 10 columns]"
      ]
     },
     "execution_count": 6,
     "metadata": {},
     "output_type": "execute_result"
    }
   ],
   "source": [
    "kp20"
   ]
  },
  {
   "cell_type": "markdown",
   "id": "99968e11",
   "metadata": {},
   "source": [
    "## 충남 교통관련 범죄 발생건수"
   ]
  },
  {
   "cell_type": "code",
   "execution_count": 9,
   "id": "a9c0985d",
   "metadata": {},
   "outputs": [],
   "source": [
    "#대전과 충남으로 나누기\n",
    "cn20=kp20[kp20[\"접수부서코드\"]==\"충남청\"]\n",
    "dj20=kp20[kp20[\"접수부서코드\"]==\"대전청\"]"
   ]
  },
  {
   "cell_type": "code",
   "execution_count": 10,
   "id": "78554edb",
   "metadata": {},
   "outputs": [
    {
     "name": "stdout",
     "output_type": "stream",
     "text": [
      "<class 'pandas.core.frame.DataFrame'>\n",
      "Int64Index: 41814 entries, 0 to 77074\n",
      "Data columns (total 10 columns):\n",
      " #   Column  Non-Null Count  Dtype  \n",
      "---  ------  --------------  -----  \n",
      " 0   접수부서코드  41814 non-null  object \n",
      " 1   접수완료일시  41814 non-null  object \n",
      " 2   경찰청구분   41814 non-null  int64  \n",
      " 3   사건상태코드  41814 non-null  int64  \n",
      " 4   사건종별코드  41814 non-null  int64  \n",
      " 5   신고성별    40533 non-null  float64\n",
      " 6   발생지점    26495 non-null  object \n",
      " 7   발생좌표x   26967 non-null  float64\n",
      " 8   발생좌표y   26967 non-null  float64\n",
      " 9   동일사건여부  7696 non-null   object \n",
      "dtypes: float64(3), int64(3), object(4)\n",
      "memory usage: 3.5+ MB\n",
      "=====================================================\n",
      "<class 'pandas.core.frame.DataFrame'>\n",
      "Int64Index: 34600 entries, 1 to 77076\n",
      "Data columns (total 10 columns):\n",
      " #   Column  Non-Null Count  Dtype  \n",
      "---  ------  --------------  -----  \n",
      " 0   접수부서코드  34600 non-null  object \n",
      " 1   접수완료일시  34600 non-null  object \n",
      " 2   경찰청구분   34600 non-null  int64  \n",
      " 3   사건상태코드  34600 non-null  int64  \n",
      " 4   사건종별코드  34600 non-null  int64  \n",
      " 5   신고성별    33462 non-null  float64\n",
      " 6   발생지점    20653 non-null  object \n",
      " 7   발생좌표x   32789 non-null  float64\n",
      " 8   발생좌표y   32789 non-null  float64\n",
      " 9   동일사건여부  5719 non-null   object \n",
      "dtypes: float64(3), int64(3), object(4)\n",
      "memory usage: 2.9+ MB\n"
     ]
    }
   ],
   "source": [
    "cn20.info()\n",
    "print(\"=====================================================\")\n",
    "dj20.info()"
   ]
  },
  {
   "cell_type": "code",
   "execution_count": 11,
   "id": "cf14c31d",
   "metadata": {},
   "outputs": [
    {
     "name": "stdout",
     "output_type": "stream",
     "text": [
      "<class 'pandas.core.frame.DataFrame'>\n",
      "Index: 41814 entries, 충남청 to 충남청\n",
      "Data columns (total 9 columns):\n",
      " #   Column  Non-Null Count  Dtype  \n",
      "---  ------  --------------  -----  \n",
      " 0   접수완료일시  41814 non-null  object \n",
      " 1   경찰청구분   41814 non-null  int64  \n",
      " 2   사건상태코드  41814 non-null  int64  \n",
      " 3   사건종별코드  41814 non-null  object \n",
      " 4   신고성별    40533 non-null  float64\n",
      " 5   발생지점    26495 non-null  object \n",
      " 6   발생좌표x   26967 non-null  float64\n",
      " 7   발생좌표y   26967 non-null  float64\n",
      " 8   동일사건여부  7696 non-null   object \n",
      "dtypes: float64(3), int64(2), object(4)\n",
      "memory usage: 3.2+ MB\n"
     ]
    }
   ],
   "source": [
    "code=cn20.set_index(\"접수부서코드\")\n",
    "code[\"사건종별코드\"]=code[\"사건종별코드\"].astype(\"object\")\n",
    "code.info()"
   ]
  },
  {
   "cell_type": "code",
   "execution_count": null,
   "id": "c28971cf",
   "metadata": {},
   "outputs": [],
   "source": []
  },
  {
   "cell_type": "code",
   "execution_count": 362,
   "id": "67df3e1e",
   "metadata": {},
   "outputs": [],
   "source": [
    "drunken=code[code[\"사건종별코드\"]==406] #음주운전\n",
    "inconv=code[code[\"사건종별코드\"]==402] #교통불편\n",
    "viol=code[code[\"사건종별코드\"]==403] #교통위반\n",
    "a401=code[code[\"사건종별코드\"]==401] #교통사고\n",
    "a404=code[code[\"사건종별코드\"]==404] #사망 대형사고\n",
    "a405=code[code[\"사건종별코드\"]==405] #인피도주\n",
    "\n",
    "voice=code[code[\"사건종별코드\"]==215] #피싱\n",
    "\n",
    "# traf=code[code[\"사건종별코드\"]== str(4).zfill(3)] #004는 존재하지 않나봅니다 "
   ]
  },
  {
   "cell_type": "code",
   "execution_count": 363,
   "id": "5f6057ac",
   "metadata": {},
   "outputs": [
    {
     "name": "stdout",
     "output_type": "stream",
     "text": [
      "음주운전 발생건수 : 923 \n",
      "교통불편 발생건수 : 609 \n",
      "교통위반 발생건수 : 267\n",
      "교통사고 발생건수 : 3505\n",
      "피싱 발생건수 : 1196\n"
     ]
    }
   ],
   "source": [
    "print(\"음주운전 발생건수 :\",len(drunken),\"\\n\"\n",
    "      \"교통불편 발생건수 :\",len(inconv),\"\\n\"\n",
    "      \"교통위반 발생건수 :\",len(viol))\n",
    "print(\"교통사고 발생건수 :\",len(a401))\n",
    "print(\"피싱 발생건수 :\",len(voice))\n",
    "# 음주운전, 교통불편, 교통위반 사이의 상관계수 분석도 들어가면 좋을듯 합니다."
   ]
  },
  {
   "cell_type": "markdown",
   "id": "4990e828",
   "metadata": {},
   "source": [
    "# 오늘 해야할 일 01/29\n",
    "\n",
    "\n",
    "- 범주 정하기\n",
    "    - 교통사고\n",
    "\n",
    "- 주제 정하기\n",
    "    - 외부데이터 +위도, 경도 사용해서 자주 발생하는 위치 예측하기(주변 시설물과 교통사고 발생 관련도)\n",
    "    - 자주 발생하는 곳에서 규정속도를 조정해야 한다\n",
    "    - 보행자 관련 사고\n",
    "    - 위도경도 참고해서 음주운전 핫플레이스 찾아보기\n",
    "    \n",
    "    - 한정된 경찰력을 잘 사용해보는 주제~\n",
    "        - 잡긴 잡아야 하는데 ....// 교통위반, 음주운전 핫플레이스, 시간대\n",
    "        \n",
    "        해당범죄가 몇 건이나 발생했는가, 가장 많이 발생한 시간은 언제인가, 요일과 관련이 있는가, 가장 많이 발생한 지역은 어디인가\n",
    "            + 시각화팀의 아이디어\n",
    "        \n",
    "        [교통사고 발생건수 / 시간 + 요일 + 지역 + 경찰 수] 을 통해서 = 발생지역 예측 OR 발생 시간대 & 요일 예측해서 인력배치를 얼마나 할지\n",
    "            + 통계팀의 아이디어\n",
    "    \n",
    "\n",
    "- 결측치 처리 논의\n",
    "    - 위치좌표 : 좌표랑 한글 합쳐서 쓰기\n",
    "- etc\n",
    "    - 회의시간은 매일 10시\n",
    "    - 관련 기사, 논문, 데이터 찾아보기\n",
    "    - 동탄 언제갈지 정하기\n",
    "    - 수강평 꼭 등록하기\n",
    "    - 2/1, 3일 쉬자!(회의 없음)\n",
    "    \n",
    "    - 2/6일에 1차 발표 /통계 : 동현, 성길   |   시각화 : 하경, 나은\n",
    "    - git / notion"
   ]
  },
  {
   "attachments": {
    "image.png": {
     "image/png": "[encoded data removed]"
    }
   },
   "cell_type": "markdown",
   "id": "bf195945",
   "metadata": {},
   "source": [
    "![image.png](attachment:image.png)"
   ]
  },
  {
   "cell_type": "code",
   "execution_count": null,
   "id": "657df842",
   "metadata": {},
   "outputs": [],
   "source": []
  },
  {
   "cell_type": "code",
   "execution_count": null,
   "id": "963d2052",
   "metadata": {},
   "outputs": [],
   "source": []
  },
  {
   "cell_type": "code",
   "execution_count": null,
   "id": "5f3fe671",
   "metadata": {},
   "outputs": [],
   "source": []
  },
  {
   "cell_type": "code",
   "execution_count": null,
   "id": "ada9d88b",
   "metadata": {},
   "outputs": [],
   "source": []
  },
  {
   "cell_type": "code",
   "execution_count": null,
   "id": "73874f51",
   "metadata": {},
   "outputs": [],
   "source": []
  },
  {
   "cell_type": "code",
   "execution_count": null,
   "id": "c02645e4",
   "metadata": {},
   "outputs": [],
   "source": [
    "# lambda 를 활용하여 내용 가져오기\n",
    "# day=kp21[\"접수완료일시\"].apply(lambda x:x[0:8])\n",
    "# time=kp21[\"접수완료일시\"].apply(lambda x:x[9:17])"
   ]
  },
  {
   "cell_type": "code",
   "execution_count": null,
   "id": "2d445414",
   "metadata": {},
   "outputs": [],
   "source": []
  }
 ],
 "metadata": {
  "kernelspec": {
   "display_name": "Python 3 (ipykernel)",
   "language": "python",
   "name": "python3"
  },
  "language_info": {
   "codemirror_mode": {
    "name": "ipython",
    "version": 3
   },
   "file_extension": ".py",
   "mimetype": "text/x-python",
   "name": "python",
   "nbconvert_exporter": "python",
   "pygments_lexer": "ipython3",
   "version": "3.9.12"
  }
 },
 "nbformat": 4,
 "nbformat_minor": 5
}

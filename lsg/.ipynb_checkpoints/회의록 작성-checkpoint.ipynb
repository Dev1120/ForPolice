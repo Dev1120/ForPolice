{
 "cells": [
  {
   "cell_type": "markdown",
   "id": "e60ebc58",
   "metadata": {},
   "source": [
    "# 0209 지치안 회의\n",
    "\n",
    "\n",
    "- 인구수, 자동차 등록대수, 교통량 자료 추가로 찾아보기(성길, 하경)\n",
    "\n",
    "- 분석거리 찾기\n",
    "    - T-test, 회귀분석, 상관계수분석 활용해보기\n",
    "    - 시간, 요일, 이동량, 인구수\n",
    "    \n",
    "- 날씨데이터 어떻게 활용할지? 는 데이터 만들고(동현,나은) 생각해보기\n",
    "\n",
    "- 시각화 색 통일(템플릿 찾고 다시 회의)\n",
    "\n",
    "- PPT 구조 : 전체정보->세부정보\n",
    "\n",
    "- 머신러닝...(사건종별코드 예측)"
   ]
  }
 ],
 "metadata": {
  "kernelspec": {
   "display_name": "Python 3 (ipykernel)",
   "language": "python",
   "name": "python3"
  },
  "language_info": {
   "codemirror_mode": {
    "name": "ipython",
    "version": 3
   },
   "file_extension": ".py",
   "mimetype": "text/x-python",
   "name": "python",
   "nbconvert_exporter": "python",
   "pygments_lexer": "ipython3",
   "version": "3.9.12"
  }
 },
 "nbformat": 4,
 "nbformat_minor": 5
}

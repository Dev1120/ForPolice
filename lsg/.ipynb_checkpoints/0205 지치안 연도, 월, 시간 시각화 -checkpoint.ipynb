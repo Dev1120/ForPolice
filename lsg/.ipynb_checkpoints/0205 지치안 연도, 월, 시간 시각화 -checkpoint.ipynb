{
 "cells": [
  {
   "cell_type": "code",
   "execution_count": 1,
   "id": "82d39256",
   "metadata": {},
   "outputs": [
    {
     "name": "stderr",
     "output_type": "stream",
     "text": [
      "C:\\Users\\minir\\anaconda3\\lib\\site-packages\\scipy\\__init__.py:146: UserWarning: A NumPy version >=1.16.5 and <1.23.0 is required for this version of SciPy (detected version 1.23.5\n",
      "  warnings.warn(f\"A NumPy version >={np_minversion} and <{np_maxversion}\"\n"
     ]
    }
   ],
   "source": [
    "import pandas as pd\n",
    "\n",
    "import numpy as np\n",
    "\n",
    "import matplotlib.pyplot as plt\n",
    "import seaborn as sns\n",
    "\n",
    "import matplotlib.font_manager as fm\n",
    "font_name = fm.FontProperties(fname=\"C:\\\\Windows\\\\Fonts\\\\malgun.ttf\").get_name()\n",
    "plt.rc(\"font\", family=font_name)\n",
    "\n",
    "import matplotlib as mlp\n",
    "mlp.rcParams[\"axes.unicode_minus\"] = False\n",
    "\n",
    "%config InlineBackend.figure_format = 'retina' # 폰트를 선명하게~"
   ]
  },
  {
   "cell_type": "markdown",
   "id": "5ed6e484",
   "metadata": {},
   "source": [
    "### 그렇다면 기본틀을 어떻게 잡아야할까?\n",
    "- 1. 지역선택 :(충남, 대전, 세종)\n",
    "- 2. 범죄선택 : 음주운전+교통사고\n",
    "\n",
    "- 3. 사건현황 분석(해당범죄가 몇 건이나 발생했는가,가장 많이 발생한 시간은 언제인가, 요일과 관련이 있는가, 가장 많이 발생한 지역은 어디인가 ...)\n",
    "\n",
    "- 4. 알고리즘 제작(후에 예측값 도출)\n",
    "- 5. 예측률과 이에 따른 기대효과"
   ]
  },
  {
   "cell_type": "markdown",
   "id": "f2dba993",
   "metadata": {},
   "source": [
    "## Data"
   ]
  },
  {
   "cell_type": "code",
   "execution_count": 2,
   "id": "233e6f8e",
   "metadata": {},
   "outputs": [],
   "source": [
    "tt0205=pd.read_csv(\"C:\\\\Users\\\\minir\\\\OneDrive\\\\바탕 화면\\\\지치안\\\\data\\\\주소포함_2021.csv\")"
   ]
  },
  {
   "cell_type": "code",
   "execution_count": 3,
   "id": "19d94a39",
   "metadata": {},
   "outputs": [],
   "source": [
    "tt0205=tt0205.drop(\"index\",axis=\"columns\")"
   ]
  },
  {
   "cell_type": "code",
   "execution_count": 4,
   "id": "c5b0ffa5",
   "metadata": {},
   "outputs": [
    {
     "name": "stdout",
     "output_type": "stream",
     "text": [
      "<class 'pandas.core.frame.DataFrame'>\n",
      "RangeIndex: 276633 entries, 0 to 276632\n",
      "Data columns (total 11 columns):\n",
      " #   Column         Non-Null Count   Dtype  \n",
      "---  ------         --------------   -----  \n",
      " 0   RECV_DEPT_NM   276633 non-null  object \n",
      " 1   RECV_CPLT_DM   276633 non-null  object \n",
      " 2   NPA_CL         276633 non-null  int64  \n",
      " 3   EVT_STAT_CD    276633 non-null  int64  \n",
      " 4   EVT_CL_CD      276633 non-null  int64  \n",
      " 5   RPTER_SEX      276633 non-null  float64\n",
      " 6   HPPN_PNU_ADDR  276633 non-null  object \n",
      " 7   HPPN_X         276593 non-null  float64\n",
      " 8   HPPN_Y         276593 non-null  float64\n",
      " 9   SME_EVT_YN     66823 non-null   object \n",
      " 10  요일             276633 non-null  object \n",
      "dtypes: float64(3), int64(3), object(5)\n",
      "memory usage: 23.2+ MB\n"
     ]
    }
   ],
   "source": [
    "tt0205.info()"
   ]
  },
  {
   "cell_type": "markdown",
   "id": "340a254d",
   "metadata": {},
   "source": [
    "## 컬럼명 수정"
   ]
  },
  {
   "cell_type": "code",
   "execution_count": 5,
   "id": "381952d9",
   "metadata": {},
   "outputs": [],
   "source": [
    "tt0205.rename(columns={\"RECV_DEPT_NM\":\"접수부서코드\",\"RECV_CPLT_DM\":\"접수완료일시\", \"NPA_CL\":\"경찰청구분\", \"EVT_STAT_CD\":\"사건상태코드\",\"EVT_CL_CD\":\"사건종별코드\",\"RPTER_SEX\":\"신고성별\",\"HPPN_PNU_ADDR\":\"발생지점\",\"HPPN_X\":\"발생좌표x\",\"HPPN_Y\":\"발생좌표y\",\"SME_EVT_YN\":\"동일사건여부\"}, inplace=True)"
   ]
  },
  {
   "cell_type": "code",
   "execution_count": 6,
   "id": "05e39b3b",
   "metadata": {},
   "outputs": [
    {
     "data": {
      "text/html": [
       "<div>\n",
       "<style scoped>\n",
       "    .dataframe tbody tr th:only-of-type {\n",
       "        vertical-align: middle;\n",
       "    }\n",
       "\n",
       "    .dataframe tbody tr th {\n",
       "        vertical-align: top;\n",
       "    }\n",
       "\n",
       "    .dataframe thead th {\n",
       "        text-align: right;\n",
       "    }\n",
       "</style>\n",
       "<table border=\"1\" class=\"dataframe\">\n",
       "  <thead>\n",
       "    <tr style=\"text-align: right;\">\n",
       "      <th></th>\n",
       "      <th>접수부서코드</th>\n",
       "      <th>접수완료일시</th>\n",
       "      <th>경찰청구분</th>\n",
       "      <th>사건상태코드</th>\n",
       "      <th>사건종별코드</th>\n",
       "      <th>신고성별</th>\n",
       "      <th>발생지점</th>\n",
       "      <th>발생좌표x</th>\n",
       "      <th>발생좌표y</th>\n",
       "      <th>동일사건여부</th>\n",
       "      <th>요일</th>\n",
       "    </tr>\n",
       "  </thead>\n",
       "  <tbody>\n",
       "    <tr>\n",
       "      <th>0</th>\n",
       "      <td>충남청</td>\n",
       "      <td>2021-03-07 00:02:48</td>\n",
       "      <td>19</td>\n",
       "      <td>10</td>\n",
       "      <td>406</td>\n",
       "      <td>1.0</td>\n",
       "      <td>충청남도 천안시 서북구 불당동(불당동) 1625</td>\n",
       "      <td>127.107500</td>\n",
       "      <td>36.811944</td>\n",
       "      <td>NaN</td>\n",
       "      <td>Sunday</td>\n",
       "    </tr>\n",
       "    <tr>\n",
       "      <th>1</th>\n",
       "      <td>충남청</td>\n",
       "      <td>2021-03-07 00:09:04</td>\n",
       "      <td>19</td>\n",
       "      <td>10</td>\n",
       "      <td>402</td>\n",
       "      <td>1.0</td>\n",
       "      <td>충청남도 천안시 동남구 문화동(문성동) 41-5</td>\n",
       "      <td>127.150988</td>\n",
       "      <td>36.811792</td>\n",
       "      <td>Y</td>\n",
       "      <td>Sunday</td>\n",
       "    </tr>\n",
       "    <tr>\n",
       "      <th>2</th>\n",
       "      <td>대전청</td>\n",
       "      <td>2021-03-07 00:07:54</td>\n",
       "      <td>13</td>\n",
       "      <td>10</td>\n",
       "      <td>401</td>\n",
       "      <td>2.0</td>\n",
       "      <td>대전광역시 서구 괴정동(괴정동) 367-40</td>\n",
       "      <td>127.371854</td>\n",
       "      <td>36.341961</td>\n",
       "      <td>NaN</td>\n",
       "      <td>Sunday</td>\n",
       "    </tr>\n",
       "    <tr>\n",
       "      <th>3</th>\n",
       "      <td>대전청</td>\n",
       "      <td>2021-03-07 00:15:27</td>\n",
       "      <td>13</td>\n",
       "      <td>10</td>\n",
       "      <td>401</td>\n",
       "      <td>1.0</td>\n",
       "      <td>대전광역시 유성구 상대동 471-2</td>\n",
       "      <td>127.339334</td>\n",
       "      <td>36.346899</td>\n",
       "      <td>NaN</td>\n",
       "      <td>Sunday</td>\n",
       "    </tr>\n",
       "    <tr>\n",
       "      <th>4</th>\n",
       "      <td>충남청</td>\n",
       "      <td>2021-03-07 00:12:08</td>\n",
       "      <td>19</td>\n",
       "      <td>10</td>\n",
       "      <td>403</td>\n",
       "      <td>2.0</td>\n",
       "      <td>충청남도 공주시 우성면 평목리</td>\n",
       "      <td>127.090733</td>\n",
       "      <td>36.453397</td>\n",
       "      <td>NaN</td>\n",
       "      <td>Sunday</td>\n",
       "    </tr>\n",
       "  </tbody>\n",
       "</table>\n",
       "</div>"
      ],
      "text/plain": [
       "  접수부서코드               접수완료일시  경찰청구분  사건상태코드  사건종별코드  신고성별  \\\n",
       "0    충남청  2021-03-07 00:02:48     19      10     406   1.0   \n",
       "1    충남청  2021-03-07 00:09:04     19      10     402   1.0   \n",
       "2    대전청  2021-03-07 00:07:54     13      10     401   2.0   \n",
       "3    대전청  2021-03-07 00:15:27     13      10     401   1.0   \n",
       "4    충남청  2021-03-07 00:12:08     19      10     403   2.0   \n",
       "\n",
       "                         발생지점       발생좌표x      발생좌표y 동일사건여부      요일  \n",
       "0  충청남도 천안시 서북구 불당동(불당동) 1625  127.107500  36.811944    NaN  Sunday  \n",
       "1  충청남도 천안시 동남구 문화동(문성동) 41-5  127.150988  36.811792      Y  Sunday  \n",
       "2    대전광역시 서구 괴정동(괴정동) 367-40  127.371854  36.341961    NaN  Sunday  \n",
       "3         대전광역시 유성구 상대동 471-2  127.339334  36.346899    NaN  Sunday  \n",
       "4           충청남도 공주시 우성면 평목리   127.090733  36.453397    NaN  Sunday  "
      ]
     },
     "execution_count": 6,
     "metadata": {},
     "output_type": "execute_result"
    }
   ],
   "source": [
    "tt0205.head(5)"
   ]
  },
  {
   "cell_type": "markdown",
   "id": "78483148",
   "metadata": {},
   "source": [
    "## 연월일, 지역분류 컬럼추가 (접수완료일시->접수완료연월일, 시각 / 발생지점 -> 지역대,소분류)"
   ]
  },
  {
   "cell_type": "code",
   "execution_count": 7,
   "id": "0a2f4da4",
   "metadata": {},
   "outputs": [],
   "source": [
    "tt0205[\"접수완료연월일\"]=tt0205[\"접수완료일시\"].apply(lambda x:x[0:10])"
   ]
  },
  {
   "cell_type": "code",
   "execution_count": 8,
   "id": "cb0896ce",
   "metadata": {},
   "outputs": [],
   "source": [
    "tt0205[\"접수완료시각\"]=tt0205[\"접수완료일시\"].apply(lambda x:x[11:])"
   ]
  },
  {
   "cell_type": "code",
   "execution_count": 9,
   "id": "334ff47f",
   "metadata": {},
   "outputs": [],
   "source": [
    "tt0205[\"지역대분류\"]=tt0205[\"발생지점\"].str.split(\" \").str[0]"
   ]
  },
  {
   "cell_type": "code",
   "execution_count": 10,
   "id": "b079697c",
   "metadata": {},
   "outputs": [],
   "source": [
    "tt0205[\"지역소분류\"]=tt0205[\"발생지점\"].str.split(\" \").str[1] #수정이 필요합니다..."
   ]
  },
  {
   "cell_type": "markdown",
   "id": "31c6f67a",
   "metadata": {},
   "source": [
    "## 접수월, 접수연도, 시간별 별 발생건수 시각화"
   ]
  },
  {
   "cell_type": "code",
   "execution_count": 11,
   "id": "0d7f92dc",
   "metadata": {},
   "outputs": [],
   "source": [
    "tt0205[\"접수월\"]=tt0205[\"접수완료연월일\"].apply(lambda x:x[5:7])"
   ]
  },
  {
   "cell_type": "code",
   "execution_count": 12,
   "id": "765079c2",
   "metadata": {},
   "outputs": [],
   "source": [
    "tt0205[\"접수연도\"]=tt0205[\"접수완료연월일\"].apply(lambda x:x[2:4])"
   ]
  },
  {
   "cell_type": "code",
   "execution_count": 13,
   "id": "81114c99",
   "metadata": {
    "scrolled": true
   },
   "outputs": [
    {
     "data": {
      "text/html": [
       "<div>\n",
       "<style scoped>\n",
       "    .dataframe tbody tr th:only-of-type {\n",
       "        vertical-align: middle;\n",
       "    }\n",
       "\n",
       "    .dataframe tbody tr th {\n",
       "        vertical-align: top;\n",
       "    }\n",
       "\n",
       "    .dataframe thead th {\n",
       "        text-align: right;\n",
       "    }\n",
       "</style>\n",
       "<table border=\"1\" class=\"dataframe\">\n",
       "  <thead>\n",
       "    <tr style=\"text-align: right;\">\n",
       "      <th></th>\n",
       "      <th>접수부서코드</th>\n",
       "      <th>접수완료일시</th>\n",
       "      <th>경찰청구분</th>\n",
       "      <th>사건상태코드</th>\n",
       "      <th>사건종별코드</th>\n",
       "      <th>신고성별</th>\n",
       "      <th>발생지점</th>\n",
       "      <th>발생좌표x</th>\n",
       "      <th>발생좌표y</th>\n",
       "      <th>동일사건여부</th>\n",
       "      <th>요일</th>\n",
       "      <th>접수완료연월일</th>\n",
       "      <th>접수완료시각</th>\n",
       "      <th>지역대분류</th>\n",
       "      <th>지역소분류</th>\n",
       "      <th>접수월</th>\n",
       "      <th>접수연도</th>\n",
       "    </tr>\n",
       "  </thead>\n",
       "  <tbody>\n",
       "    <tr>\n",
       "      <th>0</th>\n",
       "      <td>충남청</td>\n",
       "      <td>2021-03-07 00:02:48</td>\n",
       "      <td>19</td>\n",
       "      <td>10</td>\n",
       "      <td>406</td>\n",
       "      <td>1.0</td>\n",
       "      <td>충청남도 천안시 서북구 불당동(불당동) 1625</td>\n",
       "      <td>127.107500</td>\n",
       "      <td>36.811944</td>\n",
       "      <td>NaN</td>\n",
       "      <td>Sunday</td>\n",
       "      <td>2021-03-07</td>\n",
       "      <td>00:02:48</td>\n",
       "      <td>충청남도</td>\n",
       "      <td>천안시</td>\n",
       "      <td>03</td>\n",
       "      <td>21</td>\n",
       "    </tr>\n",
       "    <tr>\n",
       "      <th>1</th>\n",
       "      <td>충남청</td>\n",
       "      <td>2021-03-07 00:09:04</td>\n",
       "      <td>19</td>\n",
       "      <td>10</td>\n",
       "      <td>402</td>\n",
       "      <td>1.0</td>\n",
       "      <td>충청남도 천안시 동남구 문화동(문성동) 41-5</td>\n",
       "      <td>127.150988</td>\n",
       "      <td>36.811792</td>\n",
       "      <td>Y</td>\n",
       "      <td>Sunday</td>\n",
       "      <td>2021-03-07</td>\n",
       "      <td>00:09:04</td>\n",
       "      <td>충청남도</td>\n",
       "      <td>천안시</td>\n",
       "      <td>03</td>\n",
       "      <td>21</td>\n",
       "    </tr>\n",
       "    <tr>\n",
       "      <th>2</th>\n",
       "      <td>대전청</td>\n",
       "      <td>2021-03-07 00:07:54</td>\n",
       "      <td>13</td>\n",
       "      <td>10</td>\n",
       "      <td>401</td>\n",
       "      <td>2.0</td>\n",
       "      <td>대전광역시 서구 괴정동(괴정동) 367-40</td>\n",
       "      <td>127.371854</td>\n",
       "      <td>36.341961</td>\n",
       "      <td>NaN</td>\n",
       "      <td>Sunday</td>\n",
       "      <td>2021-03-07</td>\n",
       "      <td>00:07:54</td>\n",
       "      <td>대전광역시</td>\n",
       "      <td>서구</td>\n",
       "      <td>03</td>\n",
       "      <td>21</td>\n",
       "    </tr>\n",
       "  </tbody>\n",
       "</table>\n",
       "</div>"
      ],
      "text/plain": [
       "  접수부서코드               접수완료일시  경찰청구분  사건상태코드  사건종별코드  신고성별  \\\n",
       "0    충남청  2021-03-07 00:02:48     19      10     406   1.0   \n",
       "1    충남청  2021-03-07 00:09:04     19      10     402   1.0   \n",
       "2    대전청  2021-03-07 00:07:54     13      10     401   2.0   \n",
       "\n",
       "                         발생지점       발생좌표x      발생좌표y 동일사건여부      요일  \\\n",
       "0  충청남도 천안시 서북구 불당동(불당동) 1625  127.107500  36.811944    NaN  Sunday   \n",
       "1  충청남도 천안시 동남구 문화동(문성동) 41-5  127.150988  36.811792      Y  Sunday   \n",
       "2    대전광역시 서구 괴정동(괴정동) 367-40  127.371854  36.341961    NaN  Sunday   \n",
       "\n",
       "      접수완료연월일    접수완료시각  지역대분류 지역소분류 접수월 접수연도  \n",
       "0  2021-03-07  00:02:48   충청남도   천안시  03   21  \n",
       "1  2021-03-07  00:09:04   충청남도   천안시  03   21  \n",
       "2  2021-03-07  00:07:54  대전광역시    서구  03   21  "
      ]
     },
     "execution_count": 13,
     "metadata": {},
     "output_type": "execute_result"
    }
   ],
   "source": [
    "tt0205.head(3)"
   ]
  },
  {
   "cell_type": "code",
   "execution_count": 47,
   "id": "0fc99935",
   "metadata": {},
   "outputs": [
    {
     "data": {
      "text/plain": [
       "Text(0.5, 1.0, '사고는 몇 월에 가장 많이 발생했을까?')"
      ]
     },
     "execution_count": 47,
     "metadata": {},
     "output_type": "execute_result"
    },
    {
     "data": {
      "image/png": "[encoded data removed]",
      "text/plain": [
       "<Figure size 432x288 with 1 Axes>"
      ]
     },
     "metadata": {
      "image/png": {
       "height": 279,
       "width": 383
      },
      "needs_background": "light"
     },
     "output_type": "display_data"
    }
   ],
   "source": [
    "month=tt0205.groupby(\"접수월\").count()\n",
    "month[\"발생지점\"].plot(kind=\"bar\")\n",
    "plt.ylim(15000,27000) # y값에 리미트를 걸어 시각효과 극대화\n",
    "plt.title(\"사고는 몇 월에 가장 많이 발생했을까?\")"
   ]
  },
  {
   "cell_type": "code",
   "execution_count": 19,
   "id": "13a5fb73",
   "metadata": {},
   "outputs": [
    {
     "data": {
      "text/html": [
       "<div>\n",
       "<style scoped>\n",
       "    .dataframe tbody tr th:only-of-type {\n",
       "        vertical-align: middle;\n",
       "    }\n",
       "\n",
       "    .dataframe tbody tr th {\n",
       "        vertical-align: top;\n",
       "    }\n",
       "\n",
       "    .dataframe thead th {\n",
       "        text-align: right;\n",
       "    }\n",
       "</style>\n",
       "<table border=\"1\" class=\"dataframe\">\n",
       "  <thead>\n",
       "    <tr style=\"text-align: right;\">\n",
       "      <th></th>\n",
       "      <th>접수부서코드</th>\n",
       "      <th>접수완료일시</th>\n",
       "      <th>경찰청구분</th>\n",
       "      <th>사건상태코드</th>\n",
       "      <th>사건종별코드</th>\n",
       "      <th>신고성별</th>\n",
       "      <th>발생지점</th>\n",
       "      <th>발생좌표x</th>\n",
       "      <th>발생좌표y</th>\n",
       "      <th>동일사건여부</th>\n",
       "      <th>요일</th>\n",
       "      <th>접수완료연월일</th>\n",
       "      <th>접수완료시각</th>\n",
       "      <th>지역대분류</th>\n",
       "      <th>지역소분류</th>\n",
       "      <th>접수연도</th>\n",
       "    </tr>\n",
       "    <tr>\n",
       "      <th>접수월</th>\n",
       "      <th></th>\n",
       "      <th></th>\n",
       "      <th></th>\n",
       "      <th></th>\n",
       "      <th></th>\n",
       "      <th></th>\n",
       "      <th></th>\n",
       "      <th></th>\n",
       "      <th></th>\n",
       "      <th></th>\n",
       "      <th></th>\n",
       "      <th></th>\n",
       "      <th></th>\n",
       "      <th></th>\n",
       "      <th></th>\n",
       "      <th></th>\n",
       "    </tr>\n",
       "  </thead>\n",
       "  <tbody>\n",
       "    <tr>\n",
       "      <th>01</th>\n",
       "      <td>23723</td>\n",
       "      <td>23723</td>\n",
       "      <td>23723</td>\n",
       "      <td>23723</td>\n",
       "      <td>23723</td>\n",
       "      <td>23723</td>\n",
       "      <td>23723</td>\n",
       "      <td>23718</td>\n",
       "      <td>23718</td>\n",
       "      <td>5484</td>\n",
       "      <td>23723</td>\n",
       "      <td>23723</td>\n",
       "      <td>23723</td>\n",
       "      <td>23723</td>\n",
       "      <td>23721</td>\n",
       "      <td>23723</td>\n",
       "    </tr>\n",
       "    <tr>\n",
       "      <th>02</th>\n",
       "      <td>16344</td>\n",
       "      <td>16344</td>\n",
       "      <td>16344</td>\n",
       "      <td>16344</td>\n",
       "      <td>16344</td>\n",
       "      <td>16344</td>\n",
       "      <td>16344</td>\n",
       "      <td>16340</td>\n",
       "      <td>16340</td>\n",
       "      <td>3624</td>\n",
       "      <td>16344</td>\n",
       "      <td>16344</td>\n",
       "      <td>16344</td>\n",
       "      <td>16344</td>\n",
       "      <td>16344</td>\n",
       "      <td>16344</td>\n",
       "    </tr>\n",
       "    <tr>\n",
       "      <th>03</th>\n",
       "      <td>19763</td>\n",
       "      <td>19763</td>\n",
       "      <td>19763</td>\n",
       "      <td>19763</td>\n",
       "      <td>19763</td>\n",
       "      <td>19763</td>\n",
       "      <td>19763</td>\n",
       "      <td>19757</td>\n",
       "      <td>19757</td>\n",
       "      <td>4403</td>\n",
       "      <td>19763</td>\n",
       "      <td>19763</td>\n",
       "      <td>19763</td>\n",
       "      <td>19763</td>\n",
       "      <td>19763</td>\n",
       "      <td>19763</td>\n",
       "    </tr>\n",
       "    <tr>\n",
       "      <th>04</th>\n",
       "      <td>21237</td>\n",
       "      <td>21237</td>\n",
       "      <td>21237</td>\n",
       "      <td>21237</td>\n",
       "      <td>21237</td>\n",
       "      <td>21237</td>\n",
       "      <td>21237</td>\n",
       "      <td>21236</td>\n",
       "      <td>21236</td>\n",
       "      <td>4767</td>\n",
       "      <td>21237</td>\n",
       "      <td>21237</td>\n",
       "      <td>21237</td>\n",
       "      <td>21237</td>\n",
       "      <td>21237</td>\n",
       "      <td>21237</td>\n",
       "    </tr>\n",
       "    <tr>\n",
       "      <th>05</th>\n",
       "      <td>23827</td>\n",
       "      <td>23827</td>\n",
       "      <td>23827</td>\n",
       "      <td>23827</td>\n",
       "      <td>23827</td>\n",
       "      <td>23827</td>\n",
       "      <td>23827</td>\n",
       "      <td>23823</td>\n",
       "      <td>23823</td>\n",
       "      <td>5864</td>\n",
       "      <td>23827</td>\n",
       "      <td>23827</td>\n",
       "      <td>23827</td>\n",
       "      <td>23827</td>\n",
       "      <td>23825</td>\n",
       "      <td>23827</td>\n",
       "    </tr>\n",
       "    <tr>\n",
       "      <th>06</th>\n",
       "      <td>23270</td>\n",
       "      <td>23270</td>\n",
       "      <td>23270</td>\n",
       "      <td>23270</td>\n",
       "      <td>23270</td>\n",
       "      <td>23270</td>\n",
       "      <td>23270</td>\n",
       "      <td>23267</td>\n",
       "      <td>23267</td>\n",
       "      <td>5587</td>\n",
       "      <td>23270</td>\n",
       "      <td>23270</td>\n",
       "      <td>23270</td>\n",
       "      <td>23270</td>\n",
       "      <td>23270</td>\n",
       "      <td>23270</td>\n",
       "    </tr>\n",
       "    <tr>\n",
       "      <th>07</th>\n",
       "      <td>24281</td>\n",
       "      <td>24281</td>\n",
       "      <td>24281</td>\n",
       "      <td>24281</td>\n",
       "      <td>24281</td>\n",
       "      <td>24281</td>\n",
       "      <td>24281</td>\n",
       "      <td>24279</td>\n",
       "      <td>24279</td>\n",
       "      <td>5793</td>\n",
       "      <td>24281</td>\n",
       "      <td>24281</td>\n",
       "      <td>24281</td>\n",
       "      <td>24281</td>\n",
       "      <td>24280</td>\n",
       "      <td>24281</td>\n",
       "    </tr>\n",
       "    <tr>\n",
       "      <th>08</th>\n",
       "      <td>23734</td>\n",
       "      <td>23734</td>\n",
       "      <td>23734</td>\n",
       "      <td>23734</td>\n",
       "      <td>23734</td>\n",
       "      <td>23734</td>\n",
       "      <td>23734</td>\n",
       "      <td>23732</td>\n",
       "      <td>23732</td>\n",
       "      <td>5948</td>\n",
       "      <td>23734</td>\n",
       "      <td>23734</td>\n",
       "      <td>23734</td>\n",
       "      <td>23734</td>\n",
       "      <td>23734</td>\n",
       "      <td>23734</td>\n",
       "    </tr>\n",
       "    <tr>\n",
       "      <th>09</th>\n",
       "      <td>26289</td>\n",
       "      <td>26289</td>\n",
       "      <td>26289</td>\n",
       "      <td>26289</td>\n",
       "      <td>26289</td>\n",
       "      <td>26289</td>\n",
       "      <td>26289</td>\n",
       "      <td>26287</td>\n",
       "      <td>26287</td>\n",
       "      <td>6466</td>\n",
       "      <td>26289</td>\n",
       "      <td>26289</td>\n",
       "      <td>26289</td>\n",
       "      <td>26289</td>\n",
       "      <td>26288</td>\n",
       "      <td>26289</td>\n",
       "    </tr>\n",
       "    <tr>\n",
       "      <th>10</th>\n",
       "      <td>26180</td>\n",
       "      <td>26180</td>\n",
       "      <td>26180</td>\n",
       "      <td>26180</td>\n",
       "      <td>26180</td>\n",
       "      <td>26180</td>\n",
       "      <td>26180</td>\n",
       "      <td>26174</td>\n",
       "      <td>26174</td>\n",
       "      <td>6349</td>\n",
       "      <td>26180</td>\n",
       "      <td>26180</td>\n",
       "      <td>26180</td>\n",
       "      <td>26180</td>\n",
       "      <td>26180</td>\n",
       "      <td>26180</td>\n",
       "    </tr>\n",
       "    <tr>\n",
       "      <th>11</th>\n",
       "      <td>24967</td>\n",
       "      <td>24967</td>\n",
       "      <td>24967</td>\n",
       "      <td>24967</td>\n",
       "      <td>24967</td>\n",
       "      <td>24967</td>\n",
       "      <td>24967</td>\n",
       "      <td>24964</td>\n",
       "      <td>24964</td>\n",
       "      <td>6539</td>\n",
       "      <td>24967</td>\n",
       "      <td>24967</td>\n",
       "      <td>24967</td>\n",
       "      <td>24967</td>\n",
       "      <td>24966</td>\n",
       "      <td>24967</td>\n",
       "    </tr>\n",
       "    <tr>\n",
       "      <th>12</th>\n",
       "      <td>23018</td>\n",
       "      <td>23018</td>\n",
       "      <td>23018</td>\n",
       "      <td>23018</td>\n",
       "      <td>23018</td>\n",
       "      <td>23018</td>\n",
       "      <td>23018</td>\n",
       "      <td>23016</td>\n",
       "      <td>23016</td>\n",
       "      <td>5999</td>\n",
       "      <td>23018</td>\n",
       "      <td>23018</td>\n",
       "      <td>23018</td>\n",
       "      <td>23018</td>\n",
       "      <td>23018</td>\n",
       "      <td>23018</td>\n",
       "    </tr>\n",
       "  </tbody>\n",
       "</table>\n",
       "</div>"
      ],
      "text/plain": [
       "     접수부서코드  접수완료일시  경찰청구분  사건상태코드  사건종별코드   신고성별   발생지점  발생좌표x  발생좌표y  \\\n",
       "접수월                                                                      \n",
       "01    23723   23723  23723   23723   23723  23723  23723  23718  23718   \n",
       "02    16344   16344  16344   16344   16344  16344  16344  16340  16340   \n",
       "03    19763   19763  19763   19763   19763  19763  19763  19757  19757   \n",
       "04    21237   21237  21237   21237   21237  21237  21237  21236  21236   \n",
       "05    23827   23827  23827   23827   23827  23827  23827  23823  23823   \n",
       "06    23270   23270  23270   23270   23270  23270  23270  23267  23267   \n",
       "07    24281   24281  24281   24281   24281  24281  24281  24279  24279   \n",
       "08    23734   23734  23734   23734   23734  23734  23734  23732  23732   \n",
       "09    26289   26289  26289   26289   26289  26289  26289  26287  26287   \n",
       "10    26180   26180  26180   26180   26180  26180  26180  26174  26174   \n",
       "11    24967   24967  24967   24967   24967  24967  24967  24964  24964   \n",
       "12    23018   23018  23018   23018   23018  23018  23018  23016  23016   \n",
       "\n",
       "     동일사건여부     요일  접수완료연월일  접수완료시각  지역대분류  지역소분류   접수연도  \n",
       "접수월                                                       \n",
       "01     5484  23723    23723   23723  23723  23721  23723  \n",
       "02     3624  16344    16344   16344  16344  16344  16344  \n",
       "03     4403  19763    19763   19763  19763  19763  19763  \n",
       "04     4767  21237    21237   21237  21237  21237  21237  \n",
       "05     5864  23827    23827   23827  23827  23825  23827  \n",
       "06     5587  23270    23270   23270  23270  23270  23270  \n",
       "07     5793  24281    24281   24281  24281  24280  24281  \n",
       "08     5948  23734    23734   23734  23734  23734  23734  \n",
       "09     6466  26289    26289   26289  26289  26288  26289  \n",
       "10     6349  26180    26180   26180  26180  26180  26180  \n",
       "11     6539  24967    24967   24967  24967  24966  24967  \n",
       "12     5999  23018    23018   23018  23018  23018  23018  "
      ]
     },
     "execution_count": 19,
     "metadata": {},
     "output_type": "execute_result"
    }
   ],
   "source": [
    "month"
   ]
  },
  {
   "cell_type": "code",
   "execution_count": 15,
   "id": "5644364e",
   "metadata": {},
   "outputs": [
    {
     "data": {
      "text/plain": [
       "Text(0.5, 1.0, '사고가 가장 많이 발생한 연도')"
      ]
     },
     "execution_count": 15,
     "metadata": {},
     "output_type": "execute_result"
    },
    {
     "data": {
      "image/png": "[encoded data removed]",
      "text/plain": [
       "<Figure size 432x288 with 1 Axes>"
      ]
     },
     "metadata": {
      "image/png": {
       "height": 279,
       "width": 389
      },
      "needs_background": "light"
     },
     "output_type": "display_data"
    }
   ],
   "source": [
    "year=tt0205.groupby(\"접수연도\").count()\n",
    "year[\"발생지점\"].plot(kind=\"bar\")\n",
    "plt.title(\"사고가 가장 많이 발생한 연도\")"
   ]
  },
  {
   "cell_type": "code",
   "execution_count": 16,
   "id": "569a5b21",
   "metadata": {
    "scrolled": true
   },
   "outputs": [],
   "source": [
    "tt0205[\"접수완료시각\"]=tt0205[\"접수완료시각\"].apply(lambda x:x[0:2])"
   ]
  },
  {
   "cell_type": "code",
   "execution_count": 48,
   "id": "a0bf2fa2",
   "metadata": {},
   "outputs": [
    {
     "data": {
      "text/plain": [
       "Text(0.5, 1.0, '가장 많이 접수된 시간')"
      ]
     },
     "execution_count": 48,
     "metadata": {},
     "output_type": "execute_result"
    },
    {
     "data": {
      "image/png": "[encoded data removed]",
      "text/plain": [
       "<Figure size 432x288 with 1 Axes>"
      ]
     },
     "metadata": {
      "image/png": {
       "height": 279,
       "width": 383
      },
      "needs_background": "light"
     },
     "output_type": "display_data"
    }
   ],
   "source": [
    "hour=tt0205.groupby(\"접수완료시각\").count()\n",
    "hour[\"발생지점\"].plot(kind=\"bar\")\n",
    "plt.ylim(2000,20000)\n",
    "plt.title(\"가장 많이 접수된 시간\")"
   ]
  },
  {
   "cell_type": "code",
   "execution_count": 175,
   "id": "7f41bdd1",
   "metadata": {},
   "outputs": [
    {
     "data": {
      "text/plain": [
       "(array([     0.,  20000.,  40000.,  60000.,  80000., 100000., 120000.,\n",
       "        140000., 160000.]),\n",
       " [Text(0, 0, ''),\n",
       "  Text(0, 0, ''),\n",
       "  Text(0, 0, ''),\n",
       "  Text(0, 0, ''),\n",
       "  Text(0, 0, ''),\n",
       "  Text(0, 0, ''),\n",
       "  Text(0, 0, ''),\n",
       "  Text(0, 0, ''),\n",
       "  Text(0, 0, '')])"
      ]
     },
     "execution_count": 175,
     "metadata": {},
     "output_type": "execute_result"
    },
    {
     "data": {
      "image/png": "[encoded data removed]",
      "text/plain": [
       "<Figure size 1080x360 with 1 Axes>"
      ]
     },
     "metadata": {
      "image/png": {
       "height": 385,
       "width": 917
      },
      "needs_background": "light"
     },
     "output_type": "display_data"
    }
   ],
   "source": [
    "tt0205_cn=len(tt0205[tt0205[\"지역대분류\"]==\"충청남도\"])\n",
    "tt0205_dj=len(tt0205[tt0205[\"지역대분류\"]==\"대전광역시\"])\n",
    "tt0205_sj=len(tt0205[tt0205[\"지역대분류\"]==\"세종특별자치시\"])\n",
    "\n",
    "tt0205_si_list=[[\"충청남도\",tt0205_cn],[\"대전광역시\",tt0205_dj],[\"세종시\",tt0205_sj]]\n",
    "tt0205si=pd.DataFrame(tt0205_si_list, columns=[\"지역 분류\",\"발생건수\"])\n",
    "\n",
    "tt0205si=tt0205si.set_index(\"지역 분류\")\n",
    "tt0205si.sort_values(\"발생건수\", ascending=False)\n",
    "\n",
    "tt0205si.plot(kind=\"bar\", figsize=(15,5), color=\"Skyblue\")\n",
    "plt.xlabel(\"지역 분류\", fontsize=12)\n",
    "plt.ylabel(\"발생건수\", fontsize=15)\n",
    "plt.title(\"21년도 사건 발생건수\", fontsize=15)\n",
    "plt.xticks(rotation = 60, fontsize=12)\n",
    "plt.yticks(fontsize=12)"
   ]
  },
  {
   "cell_type": "code",
   "execution_count": null,
   "id": "788fdcfa",
   "metadata": {},
   "outputs": [],
   "source": []
  },
  {
   "cell_type": "code",
   "execution_count": null,
   "id": "18cec037",
   "metadata": {},
   "outputs": [],
   "source": []
  },
  {
   "cell_type": "code",
   "execution_count": null,
   "id": "3c973bc0",
   "metadata": {},
   "outputs": [],
   "source": []
  },
  {
   "cell_type": "code",
   "execution_count": null,
   "id": "8e1c1b3f",
   "metadata": {},
   "outputs": [],
   "source": []
  },
  {
   "cell_type": "code",
   "execution_count": 36,
   "id": "69c2ea26",
   "metadata": {},
   "outputs": [],
   "source": []
  },
  {
   "cell_type": "code",
   "execution_count": null,
   "id": "88ae3d56",
   "metadata": {},
   "outputs": [],
   "source": []
  }
 ],
 "metadata": {
  "kernelspec": {
   "display_name": "Python 3 (ipykernel)",
   "language": "python",
   "name": "python3"
  },
  "language_info": {
   "codemirror_mode": {
    "name": "ipython",
    "version": 3
   },
   "file_extension": ".py",
   "mimetype": "text/x-python",
   "name": "python",
   "nbconvert_exporter": "python",
   "pygments_lexer": "ipython3",
   "version": "3.9.12"
  }
 },
 "nbformat": 4,
 "nbformat_minor": 5
}

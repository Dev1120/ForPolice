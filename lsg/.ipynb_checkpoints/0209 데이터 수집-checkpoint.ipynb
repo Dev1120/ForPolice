{
 "cells": [
  {
   "cell_type": "code",
   "execution_count": 1,
   "id": "7c30aa01",
   "metadata": {},
   "outputs": [],
   "source": [
    "import pandas as pd"
   ]
  },
  {
   "cell_type": "code",
   "execution_count": 8,
   "id": "a85577c5",
   "metadata": {},
   "outputs": [],
   "source": [
    "car=pd.read_csv(\"자동차등록대수현황_시도별_20230209232556.csv\")"
   ]
  },
  {
   "cell_type": "code",
   "execution_count": 12,
   "id": "a8d33d69",
   "metadata": {},
   "outputs": [],
   "source": [
    "car=car[[\"시점\",\"대전\",\"세종\",\"충남\"]]"
   ]
  },
  {
   "cell_type": "code",
   "execution_count": 15,
   "id": "8ac0858b",
   "metadata": {},
   "outputs": [],
   "source": [
    "car.to_csv(\"자동차등록대수_성길편집.csv\")"
   ]
  },
  {
   "cell_type": "code",
   "execution_count": null,
   "id": "4fce6200",
   "metadata": {},
   "outputs": [],
   "source": []
  }
 ],
 "metadata": {
  "kernelspec": {
   "display_name": "Python 3 (ipykernel)",
   "language": "python",
   "name": "python3"
  },
  "language_info": {
   "codemirror_mode": {
    "name": "ipython",
    "version": 3
   },
   "file_extension": ".py",
   "mimetype": "text/x-python",
   "name": "python",
   "nbconvert_exporter": "python",
   "pygments_lexer": "ipython3",
   "version": "3.9.12"
  }
 },
 "nbformat": 4,
 "nbformat_minor": 5
}

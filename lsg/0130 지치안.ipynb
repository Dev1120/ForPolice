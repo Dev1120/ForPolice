{
 "cells": [
  {
   "cell_type": "markdown",
   "id": "3ad4208c",
   "metadata": {},
   "source": [
    "일단은...01/29 에\n",
    "\n",
    "관련 기사, 논문, 데이터 찾아보기\n",
    "\n",
    "동탄 언제갈지 정하기\n",
    "\n",
    "하기로 했습니다\n",
    "\n",
    "화면도 잘 보이시죠?\n",
    "\n",
    "주제 : [음주운전+교통사고 발생건수 / 시간 + 요일 + 지역 + 경찰 수] 을 통해서 발생지역 예측 OR 발생 시간대 & 요일 예측해서 인력배치를 얼마나 할지\n",
    "\n",
    "통계팀\n",
    "    - 스터디~\n",
    "    - 주소 [구]를 추출, // 구별 사건현황 시각화 (401+406)\n",
    "                                (발생건수, 요일별 발생, 지역별 발생)\n",
    "                       - 토요일 밤 10시 회의에 말씀드리겠습니다, 성길 -\n",
    "\n",
    "시각화팀\n",
    " - 날씨(+ 가시거리) 변수 추가하자\n",
    " - 앙상블, 랜덤포레스트, m?ap? => 모델마다 중요한 변수가 다 다르니 사용은 니 맘이다\n",
    " - 경찰서 별 긴급신고가 몇 개나 있었는지/ 긴급도에 따른 인력 투입\n",
    "     - 시간대를 범주화해서 데이터에 긴급도 가중치? 가산점? 을 줌\n",
    "\n",
    "\n",
    "변수 추가할거(주의할 점 : !충남, 대전, 세종 지역의 자료여야 함!)\n",
    "  - 날씨, 구(주소), 경찰관 수, 단속장비 유무, 신호등 개수, 사고당사자의 총 운전거리,  횡단보도 개수, 유동인구 수, 총 인구수, 동승자 수, 운전면허 소지자의 나이, 음주운전 단속 빈도\n",
    "     \n",
    "========================================================================\n",
    "\n",
    "업무분담 01/30 밤 10시에 시각화 및 자료 공유\n",
    "\n",
    "- 해당범죄가 몇 건이나 발생했는가? : 성길 / 날씨, 구(주소), 경찰관 수\n",
    "\n",
    "- 가장 많이 발생한 시간은 언제인가? : 동현 / 단속장비 유무, 신호등 개수, 사고당사자의 총 운전거리\n",
    "\n",
    "- 요일과 관련이 있는가? : 나은 / 횡단보도 개수, 유동인구 수, 총 인구수\n",
    "\n",
    "- 가장 많이 발생한 지역은 어디인가? : 하경 / 동승자 수, 운전면허 소지자의 나이, 음주운전 단속 빈도\n"
   ]
  },
  {
   "cell_type": "markdown",
   "id": "5ed6e484",
   "metadata": {},
   "source": [
    "### 그렇다면 기본틀을 어떻게 잡아야할까?\n",
    "- 1. 지역선택 :(충남, 대전, 세종)\n",
    "- 2. 범죄선택 : 음주운전+교통사고\n",
    "\n",
    "- 3. 사건현황 분석(해당범죄가 몇 건이나 발생했는가,가장 많이 발생한 시간은 언제인가, 요일과 관련이 있는가, 가장 많이 발생한 지역은 어디인가 ...)\n",
    "\n",
    "- 4. 알고리즘 제작(후에 예측값 도출)\n",
    "- 5. 예측률과 이에 따른 기대효과"
   ]
  },
  {
   "cell_type": "markdown",
   "id": "7a3cfebc",
   "metadata": {},
   "source": [
    "<class 'pandas.core.frame.DataFrame'>\n",
    "RangeIndex: 77077 entries, 0 to 77076\n",
    "Data columns (total 10 columns):\n",
    " #Column         Non-Null Count  Dtype  \n",
    "---  ------         --------------  -----  \n",
    " 0   RECV_DEPT_NM   77077 non-null  object \n",
    " 1   RECV_CPLT_DM   77077 non-null  object \n",
    " 2   NPA_CL         77077 non-null  int64  \n",
    " 3   EVT_STAT_CD    77077 non-null  int64  \n",
    " 4   EVT_CL_CD      77077 non-null  int64  \n",
    " 5   RPTER_SEX      74658 non-null  float64\n",
    " 6   HPPN_PNU_ADDR  47805 non-null  object \n",
    " 7   HPPN_X         60313 non-null  float64\n",
    " 8   HPPN_Y         60313 non-null  float64\n",
    " 9   SME_EVT_YN     13442 non-null  object "
   ]
  },
  {
   "cell_type": "code",
   "execution_count": 2,
   "id": "82d39256",
   "metadata": {},
   "outputs": [
    {
     "name": "stderr",
     "output_type": "stream",
     "text": [
      "C:\\Users\\minir\\anaconda3\\lib\\site-packages\\scipy\\__init__.py:146: UserWarning: A NumPy version >=1.16.5 and <1.23.0 is required for this version of SciPy (detected version 1.23.5\n",
      "  warnings.warn(f\"A NumPy version >={np_minversion} and <{np_maxversion}\"\n"
     ]
    }
   ],
   "source": [
    "import pandas as pd\n",
    "\n",
    "import numpy as np\n",
    "\n",
    "import matplotlib.pyplot as plt\n",
    "import seaborn as sns\n",
    "\n",
    "import matplotlib.font_manager as fm\n",
    "font_name = fm.FontProperties(fname=\"C:\\\\Windows\\\\Fonts\\\\malgun.ttf\").get_name()\n",
    "plt.rc(\"font\", family=font_name)\n",
    "\n",
    "import matplotlib as mlp\n",
    "mlp.rcParams[\"axes.unicode_minus\"] = False\n",
    "\n",
    "%config InlineBackend.figure_format = 'retina' # 폰트를 선명하게~"
   ]
  },
  {
   "cell_type": "code",
   "execution_count": 3,
   "id": "c7f44dea",
   "metadata": {},
   "outputs": [],
   "source": [
    "kp20=pd.read_csv(\"KP2020.csv\")\n",
    "\n",
    "kp21=pd.read_csv(\"KP2021.csv\")"
   ]
  },
  {
   "cell_type": "code",
   "execution_count": 4,
   "id": "e445012b",
   "metadata": {},
   "outputs": [],
   "source": [
    "kp20.rename(columns={\"RECV_DEPT_NM\":\"접수부서코드\",\"RECV_CPLT_DM\":\"접수완료일시\", \"NPA_CL\":\"경찰청구분\", \"EVT_STAT_CD\":\"사건상태코드\",\"EVT_CL_CD\":\"사건종별코드\",\"RPTER_SEX\":\"신고성별\",\"HPPN_PNU_ADDR\":\"발생지점\",\"HPPN_X\":\"발생좌표x\",\"HPPN_Y\":\"발생좌표y\",\"SME_EVT_YN\":\"동일사건여부\"}, inplace=True)\n",
    "kp21.rename(columns={\"RECV_DEPT_NM\":\"접수부서코드\",\"RECV_CPLT_DM\":\"접수완료일시\", \"NPA_CL\":\"경찰청구분\", \"EVT_STAT_CD\":\"사건상태코드\",\"EVT_CL_CD\":\"사건종별코드\",\"RPTER_SEX\":\"신고성별\",\"HPPN_PNU_ADDR\":\"발생지점\",\"HPPN_X\":\"발생좌표x\",\"HPPN_Y\":\"발생좌표y\",\"SME_EVT_YN\":\"동일사건여부\"}, inplace=True)"
   ]
  },
  {
   "cell_type": "code",
   "execution_count": 21,
   "id": "19f96953",
   "metadata": {},
   "outputs": [
    {
     "name": "stdout",
     "output_type": "stream",
     "text": [
      "1841\n"
     ]
    }
   ],
   "source": [
    "# 음주운전+교통사고 발생건수\n",
    "tt= kp20[(kp20[\"사건종별코드\"]==403) | (kp20[\"사건종별코드\"]== 406)]\n",
    "print(len(tt))"
   ]
  },
  {
   "cell_type": "code",
   "execution_count": 25,
   "id": "7c7bc69c",
   "metadata": {},
   "outputs": [
    {
     "name": "stdout",
     "output_type": "stream",
     "text": [
      "음주운전 발생건수 :  516\n",
      "교통사고 발생건수 :  1325\n"
     ]
    }
   ],
   "source": [
    "# 20년도 각각의 발생건수\n",
    "print(\"음주운전 발생건수 : \",len(tt[tt[\"사건종별코드\"]==403]))\n",
    "print(\"교통사고 발생건수 : \",len(tt[tt[\"사건종별코드\"]==406]))"
   ]
  },
  {
   "cell_type": "code",
   "execution_count": 49,
   "id": "9224ec2f",
   "metadata": {},
   "outputs": [],
   "source": [
    "tt20_403=len(tt[tt[\"사건종별코드\"]==403])\n",
    "tt20_406=len(tt[tt[\"사건종별코드\"]==406])"
   ]
  },
  {
   "cell_type": "code",
   "execution_count": 63,
   "id": "98da3c14",
   "metadata": {},
   "outputs": [],
   "source": [
    "tt_list=[[\"음주운전\",tt20_403],\n",
    "        [\"교통사고\",tt20_406]]\n",
    "tt20df=pd.DataFrame(tt_list, columns=[\"종류\",\"발생건수\"])"
   ]
  },
  {
   "cell_type": "code",
   "execution_count": 64,
   "id": "1647b1fe",
   "metadata": {},
   "outputs": [
    {
     "name": "stdout",
     "output_type": "stream",
     "text": [
      "<class 'pandas.core.frame.DataFrame'>\n",
      "RangeIndex: 2 entries, 0 to 1\n",
      "Data columns (total 2 columns):\n",
      " #   Column  Non-Null Count  Dtype \n",
      "---  ------  --------------  ----- \n",
      " 0   종류      2 non-null      object\n",
      " 1   발생건수    2 non-null      int64 \n",
      "dtypes: int64(1), object(1)\n",
      "memory usage: 160.0+ bytes\n"
     ]
    }
   ],
   "source": [
    "tt20df.info()"
   ]
  },
  {
   "cell_type": "code",
   "execution_count": 65,
   "id": "a37db2f8",
   "metadata": {},
   "outputs": [
    {
     "name": "stdout",
     "output_type": "stream",
     "text": [
      "<class 'pandas.core.frame.DataFrame'>\n",
      "Index: 2 entries, 음주운전 to 교통사고\n",
      "Data columns (total 1 columns):\n",
      " #   Column  Non-Null Count  Dtype  \n",
      "---  ------  --------------  -----  \n",
      " 0   발생건수    2 non-null      float64\n",
      "dtypes: float64(1)\n",
      "memory usage: 32.0+ bytes\n"
     ]
    }
   ],
   "source": [
    "tt20df=tt20df.set_index(\"종류\").astype(float)\n",
    "tt20df.info()"
   ]
  },
  {
   "cell_type": "code",
   "execution_count": 80,
   "id": "eb153082",
   "metadata": {},
   "outputs": [
    {
     "data": {
      "text/plain": [
       "Text(0.5, 1.0, '20년도 사건 발생건수')"
      ]
     },
     "execution_count": 80,
     "metadata": {},
     "output_type": "execute_result"
    },
    {
     "data": {
      "image/png": "[encoded data removed]",
      "text/plain": [
       "<Figure size 360x360 with 1 Axes>"
      ]
     },
     "metadata": {
      "image/png": {
       "height": 363,
       "width": 336
      },
      "needs_background": "light"
     },
     "output_type": "display_data"
    }
   ],
   "source": [
    "# 20년도 사건 종류별 발생건수\n",
    "\n",
    "tt20df=tt20df.sort_values(\"발생건수\", ascending=False)\n",
    "\n",
    "tt20df.plot(kind=\"bar\", figsize=(5,5), color=\"Skyblue\")\n",
    "plt.xlabel(\"사건종류\")\n",
    "plt.ylabel(\"발생건수\")\n",
    "plt.title(\"20년도 사건 발생건수\")"
   ]
  },
  {
   "cell_type": "code",
   "execution_count": null,
   "id": "c2b56e2b",
   "metadata": {},
   "outputs": [],
   "source": []
  },
  {
   "cell_type": "code",
   "execution_count": 74,
   "id": "3db8e4f1",
   "metadata": {},
   "outputs": [
    {
     "name": "stdout",
     "output_type": "stream",
     "text": [
      "총 발생건수 : 76250\n",
      "음주운전 발생건수 :  24295\n",
      "교통사고 발생건수 :  51955\n"
     ]
    }
   ],
   "source": [
    "# 21년도 음주운전+교통사고 발생건수\n",
    "tt21= kp21[(kp21[\"사건종별코드\"]==403) | (kp21[\"사건종별코드\"]== 406)]\n",
    "print(\"총 발생건수 :\",len(tt21))\n",
    "\n",
    "# 21년도 각각의 발생건수\n",
    "print(\"음주운전 발생건수 : \",len(tt21[tt21[\"사건종별코드\"]==403]))\n",
    "print(\"교통사고 발생건수 : \",len(tt21[tt21[\"사건종별코드\"]==406]))"
   ]
  },
  {
   "cell_type": "code",
   "execution_count": 75,
   "id": "7487a1db",
   "metadata": {},
   "outputs": [],
   "source": [
    "tt21_403=len(tt21[tt21[\"사건종별코드\"]==403])\n",
    "tt21_406=len(tt21[tt21[\"사건종별코드\"]==406])\n",
    "\n",
    "tt21_list=[[\"음주운전\",tt21_403],\n",
    "        [\"교통사고\",tt21_406]]\n",
    "tt21df=pd.DataFrame(tt21_list, columns=[\"종류\",\"발생건수\"])"
   ]
  },
  {
   "cell_type": "code",
   "execution_count": 76,
   "id": "c5ccd9b6",
   "metadata": {},
   "outputs": [
    {
     "name": "stdout",
     "output_type": "stream",
     "text": [
      "<class 'pandas.core.frame.DataFrame'>\n",
      "Index: 2 entries, 음주운전 to 교통사고\n",
      "Data columns (total 1 columns):\n",
      " #   Column  Non-Null Count  Dtype  \n",
      "---  ------  --------------  -----  \n",
      " 0   발생건수    2 non-null      float64\n",
      "dtypes: float64(1)\n",
      "memory usage: 32.0+ bytes\n"
     ]
    }
   ],
   "source": [
    "tt21df=tt21df.set_index(\"종류\").astype(float)\n",
    "tt21df.info()"
   ]
  },
  {
   "cell_type": "code",
   "execution_count": 79,
   "id": "6c1d8be6",
   "metadata": {},
   "outputs": [
    {
     "data": {
      "text/plain": [
       "Text(0.5, 1.0, '21년도 사건 발생건수')"
      ]
     },
     "execution_count": 79,
     "metadata": {},
     "output_type": "execute_result"
    },
    {
     "data": {
      "image/png": "[encoded data removed]",
      "text/plain": [
       "<Figure size 360x360 with 1 Axes>"
      ]
     },
     "metadata": {
      "image/png": {
       "height": 363,
       "width": 342
      },
      "needs_background": "light"
     },
     "output_type": "display_data"
    }
   ],
   "source": [
    "# 20년도 사건 종류별 발생건수\n",
    "\n",
    "tt21df=tt21df.sort_values(\"발생건수\", ascending=False)\n",
    "\n",
    "tt21df.plot(kind=\"bar\", figsize=(5,5), color=\"Skyblue\")\n",
    "plt.xlabel(\"사건종류\")\n",
    "plt.ylabel(\"발생건수\")\n",
    "plt.title(\"21년도 사건 발생건수\")"
   ]
  },
  {
   "cell_type": "code",
   "execution_count": 78,
   "id": "b51bfbfa",
   "metadata": {},
   "outputs": [],
   "source": []
  },
  {
   "cell_type": "code",
   "execution_count": null,
   "id": "c31d407c",
   "metadata": {},
   "outputs": [],
   "source": []
  },
  {
   "cell_type": "code",
   "execution_count": null,
   "id": "0e59e89d",
   "metadata": {},
   "outputs": [],
   "source": []
  },
  {
   "cell_type": "code",
   "execution_count": null,
   "id": "2e8b8a9f",
   "metadata": {},
   "outputs": [],
   "source": []
  },
  {
   "cell_type": "code",
   "execution_count": null,
   "id": "aac31402",
   "metadata": {},
   "outputs": [],
   "source": []
  },
  {
   "cell_type": "code",
   "execution_count": null,
   "id": "12598f13",
   "metadata": {},
   "outputs": [],
   "source": []
  },
  {
   "cell_type": "code",
   "execution_count": null,
   "id": "2e28eaca",
   "metadata": {},
   "outputs": [],
   "source": []
  },
  {
   "cell_type": "code",
   "execution_count": null,
   "id": "222a56de",
   "metadata": {},
   "outputs": [],
   "source": []
  },
  {
   "cell_type": "code",
   "execution_count": null,
   "id": "ad62e00d",
   "metadata": {},
   "outputs": [],
   "source": []
  },
  {
   "cell_type": "code",
   "execution_count": null,
   "id": "685878cf",
   "metadata": {},
   "outputs": [],
   "source": []
  }
 ],
 "metadata": {
  "kernelspec": {
   "display_name": "Python 3 (ipykernel)",
   "language": "python",
   "name": "python3"
  },
  "language_info": {
   "codemirror_mode": {
    "name": "ipython",
    "version": 3
   },
   "file_extension": ".py",
   "mimetype": "text/x-python",
   "name": "python",
   "nbconvert_exporter": "python",
   "pygments_lexer": "ipython3",
   "version": "3.9.12"
  }
 },
 "nbformat": 4,
 "nbformat_minor": 5
}

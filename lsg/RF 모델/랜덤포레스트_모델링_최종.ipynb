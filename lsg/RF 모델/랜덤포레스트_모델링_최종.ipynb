{
  "nbformat": 4,
  "nbformat_minor": 0,
  "metadata": {
    "colab": {
      "provenance": [],
      "machine_shape": "hm"
    },
    "kernelspec": {
      "name": "python3",
      "display_name": "Python 3"
    },
    "language_info": {
      "name": "python"
    },
    "accelerator": "TPU",
    "gpuClass": "standard"
  },
  "cells": [
    {
      "cell_type": "code",
      "execution_count": 1,
      "metadata": {
        "id": "fn5y8d4jWeyT"
      },
      "outputs": [],
      "source": [
        "import pandas as pd\n",
        "\n",
        "import numpy as np\n",
        "\n",
        "import matplotlib.pyplot as plt\n",
        "import seaborn as sns\n",
        "\n",
        "\n",
        "import matplotlib as mlp\n",
        "mlp.rcParams[\"axes.unicode_minus\"] = False\n",
        "\n",
        "%config InlineBackend.figure_format = 'retina' # 폰트를 선명하게~\n",
        "\n",
        "from sklearn.model_selection import train_test_split"
      ]
    },
    {
      "cell_type": "code",
      "source": [
        "result=pd.read_csv(\"/content/drive/MyDrive/최종데이터프레임_진짜최종.csv\")"
      ],
      "metadata": {
        "colab": {
          "base_uri": "https://localhost:8080/"
        },
        "id": "xk99qr87Wx9b",
        "outputId": "71b6f605-9d33-4fda-bb17-ee0f8e06c51b"
      },
      "execution_count": 44,
      "outputs": [
        {
          "output_type": "stream",
          "name": "stderr",
          "text": [
            "/usr/local/lib/python3.8/dist-packages/IPython/core/interactiveshell.py:3326: DtypeWarning: Columns (4) have mixed types.Specify dtype option on import or set low_memory=False.\n",
            "  exec(code_obj, self.user_global_ns, self.user_ns)\n"
          ]
        }
      ]
    },
    {
      "cell_type": "code",
      "source": [
        "#result.rename(columns={\"RECV_DEPT_NM\":\"접수부서코드\",\"RECV_CPLT_DM\":\"접수완료일시\", \"NPA_CL\":\"경찰청구분\", \"EVT_STAT_CD\":\"사건상태코드\",\"EVT_CL_CD\":\"사건종별코드\",\"RPTER_SEX\":\"신고성별\",\"HPPN_PNU_ADDR\":\"발생지점\",\"HPPN_X\":\"발생좌표x\",\"HPPN_Y\":\"발생좌표y\",\"SME_EVT_YN\":\"동일사건여부\"}, inplace=True)"
      ],
      "metadata": {
        "id": "KZ6gIeY0XNPG"
      },
      "execution_count": 45,
      "outputs": []
    },
    {
      "cell_type": "code",
      "source": [
        "result.head(5)"
      ],
      "metadata": {
        "colab": {
          "base_uri": "https://localhost:8080/",
          "height": 354
        },
        "id": "yvaDCbjJXViz",
        "outputId": "f181e4a5-93a1-48ab-bfda-f6ba2cb81521"
      },
      "execution_count": 46,
      "outputs": [
        {
          "output_type": "execute_result",
          "data": {
            "text/plain": [
              "   경찰청               신고접수시간                일시  사건코드 성별  \\\n",
              "0  충남청  2020-01-01 00:03:11  2020-01-01 00:00   406  1   \n",
              "1  충남청  2020-01-01 00:18:08  2020-01-01 00:00   403  1   \n",
              "2  충남청  2020-01-01 00:20:01  2020-01-01 00:00   406  1   \n",
              "3  충남청  2020-01-01 00:20:04  2020-01-01 00:00   402  1   \n",
              "4  대전청  2020-01-01 00:21:35  2020-01-01 00:00   401  1   \n",
              "\n",
              "                              주소  지역 시/군/구          경도         위도         요일  \\\n",
              "0     충청남도 공주시 정안면 어물리(정안면) 33-2  충남   공주시  127.148714  36.605751  Wednesday   \n",
              "1      충청남도 논산시 채운면 장화리(채운면) 533  충남   논산시  127.030921  36.164643  Wednesday   \n",
              "2     세종특별자치시 세종시 소담동(소담동) 32-92  세종   소담동  127.305511  36.479819  Wednesday   \n",
              "3    충청남도 천안시 서북구 불당동(불당동) 204-4  충남   천안시  127.109667  36.815468  Wednesday   \n",
              "4  대전광역시 유성구 봉명동(행정:온천1동) 541-26  대전   유성구  127.348625  36.353829  Wednesday   \n",
              "\n",
              "    날씨  \n",
              "0   맑음  \n",
              "1   맑음  \n",
              "2  NaN  \n",
              "3   맑음  \n",
              "4   맑음  "
            ],
            "text/html": [
              "\n",
              "  <div id=\"df-b11d5dbd-a415-4b92-8f1b-6e2c771091e5\">\n",
              "    <div class=\"colab-df-container\">\n",
              "      <div>\n",
              "<style scoped>\n",
              "    .dataframe tbody tr th:only-of-type {\n",
              "        vertical-align: middle;\n",
              "    }\n",
              "\n",
              "    .dataframe tbody tr th {\n",
              "        vertical-align: top;\n",
              "    }\n",
              "\n",
              "    .dataframe thead th {\n",
              "        text-align: right;\n",
              "    }\n",
              "</style>\n",
              "<table border=\"1\" class=\"dataframe\">\n",
              "  <thead>\n",
              "    <tr style=\"text-align: right;\">\n",
              "      <th></th>\n",
              "      <th>경찰청</th>\n",
              "      <th>신고접수시간</th>\n",
              "      <th>일시</th>\n",
              "      <th>사건코드</th>\n",
              "      <th>성별</th>\n",
              "      <th>주소</th>\n",
              "      <th>지역</th>\n",
              "      <th>시/군/구</th>\n",
              "      <th>경도</th>\n",
              "      <th>위도</th>\n",
              "      <th>요일</th>\n",
              "      <th>날씨</th>\n",
              "    </tr>\n",
              "  </thead>\n",
              "  <tbody>\n",
              "    <tr>\n",
              "      <th>0</th>\n",
              "      <td>충남청</td>\n",
              "      <td>2020-01-01 00:03:11</td>\n",
              "      <td>2020-01-01 00:00</td>\n",
              "      <td>406</td>\n",
              "      <td>1</td>\n",
              "      <td>충청남도 공주시 정안면 어물리(정안면) 33-2</td>\n",
              "      <td>충남</td>\n",
              "      <td>공주시</td>\n",
              "      <td>127.148714</td>\n",
              "      <td>36.605751</td>\n",
              "      <td>Wednesday</td>\n",
              "      <td>맑음</td>\n",
              "    </tr>\n",
              "    <tr>\n",
              "      <th>1</th>\n",
              "      <td>충남청</td>\n",
              "      <td>2020-01-01 00:18:08</td>\n",
              "      <td>2020-01-01 00:00</td>\n",
              "      <td>403</td>\n",
              "      <td>1</td>\n",
              "      <td>충청남도 논산시 채운면 장화리(채운면) 533</td>\n",
              "      <td>충남</td>\n",
              "      <td>논산시</td>\n",
              "      <td>127.030921</td>\n",
              "      <td>36.164643</td>\n",
              "      <td>Wednesday</td>\n",
              "      <td>맑음</td>\n",
              "    </tr>\n",
              "    <tr>\n",
              "      <th>2</th>\n",
              "      <td>충남청</td>\n",
              "      <td>2020-01-01 00:20:01</td>\n",
              "      <td>2020-01-01 00:00</td>\n",
              "      <td>406</td>\n",
              "      <td>1</td>\n",
              "      <td>세종특별자치시 세종시 소담동(소담동) 32-92</td>\n",
              "      <td>세종</td>\n",
              "      <td>소담동</td>\n",
              "      <td>127.305511</td>\n",
              "      <td>36.479819</td>\n",
              "      <td>Wednesday</td>\n",
              "      <td>NaN</td>\n",
              "    </tr>\n",
              "    <tr>\n",
              "      <th>3</th>\n",
              "      <td>충남청</td>\n",
              "      <td>2020-01-01 00:20:04</td>\n",
              "      <td>2020-01-01 00:00</td>\n",
              "      <td>402</td>\n",
              "      <td>1</td>\n",
              "      <td>충청남도 천안시 서북구 불당동(불당동) 204-4</td>\n",
              "      <td>충남</td>\n",
              "      <td>천안시</td>\n",
              "      <td>127.109667</td>\n",
              "      <td>36.815468</td>\n",
              "      <td>Wednesday</td>\n",
              "      <td>맑음</td>\n",
              "    </tr>\n",
              "    <tr>\n",
              "      <th>4</th>\n",
              "      <td>대전청</td>\n",
              "      <td>2020-01-01 00:21:35</td>\n",
              "      <td>2020-01-01 00:00</td>\n",
              "      <td>401</td>\n",
              "      <td>1</td>\n",
              "      <td>대전광역시 유성구 봉명동(행정:온천1동) 541-26</td>\n",
              "      <td>대전</td>\n",
              "      <td>유성구</td>\n",
              "      <td>127.348625</td>\n",
              "      <td>36.353829</td>\n",
              "      <td>Wednesday</td>\n",
              "      <td>맑음</td>\n",
              "    </tr>\n",
              "  </tbody>\n",
              "</table>\n",
              "</div>\n",
              "      <button class=\"colab-df-convert\" onclick=\"convertToInteractive('df-b11d5dbd-a415-4b92-8f1b-6e2c771091e5')\"\n",
              "              title=\"Convert this dataframe to an interactive table.\"\n",
              "              style=\"display:none;\">\n",
              "        \n",
              "  <svg xmlns=\"http://www.w3.org/2000/svg\" height=\"24px\"viewBox=\"0 0 24 24\"\n",
              "       width=\"24px\">\n",
              "    <path d=\"M0 0h24v24H0V0z\" fill=\"none\"/>\n",
              "    <path d=\"M18.56 5.44l.94 2.06.94-2.06 2.06-.94-2.06-.94-.94-2.06-.94 2.06-2.06.94zm-11 1L8.5 8.5l.94-2.06 2.06-.94-2.06-.94L8.5 2.5l-.94 2.06-2.06.94zm10 10l.94 2.06.94-2.06 2.06-.94-2.06-.94-.94-2.06-.94 2.06-2.06.94z\"/><path d=\"M17.41 7.96l-1.37-1.37c-.4-.4-.92-.59-1.43-.59-.52 0-1.04.2-1.43.59L10.3 9.45l-7.72 7.72c-.78.78-.78 2.05 0 2.83L4 21.41c.39.39.9.59 1.41.59.51 0 1.02-.2 1.41-.59l7.78-7.78 2.81-2.81c.8-.78.8-2.07 0-2.86zM5.41 20L4 18.59l7.72-7.72 1.47 1.35L5.41 20z\"/>\n",
              "  </svg>\n",
              "      </button>\n",
              "      \n",
              "  <style>\n",
              "    .colab-df-container {\n",
              "      display:flex;\n",
              "      flex-wrap:wrap;\n",
              "      gap: 12px;\n",
              "    }\n",
              "\n",
              "    .colab-df-convert {\n",
              "      background-color: #E8F0FE;\n",
              "      border: none;\n",
              "      border-radius: 50%;\n",
              "      cursor: pointer;\n",
              "      display: none;\n",
              "      fill: #1967D2;\n",
              "      height: 32px;\n",
              "      padding: 0 0 0 0;\n",
              "      width: 32px;\n",
              "    }\n",
              "\n",
              "    .colab-df-convert:hover {\n",
              "      background-color: #E2EBFA;\n",
              "      box-shadow: 0px 1px 2px rgba(60, 64, 67, 0.3), 0px 1px 3px 1px rgba(60, 64, 67, 0.15);\n",
              "      fill: #174EA6;\n",
              "    }\n",
              "\n",
              "    [theme=dark] .colab-df-convert {\n",
              "      background-color: #3B4455;\n",
              "      fill: #D2E3FC;\n",
              "    }\n",
              "\n",
              "    [theme=dark] .colab-df-convert:hover {\n",
              "      background-color: #434B5C;\n",
              "      box-shadow: 0px 1px 3px 1px rgba(0, 0, 0, 0.15);\n",
              "      filter: drop-shadow(0px 1px 2px rgba(0, 0, 0, 0.3));\n",
              "      fill: #FFFFFF;\n",
              "    }\n",
              "  </style>\n",
              "\n",
              "      <script>\n",
              "        const buttonEl =\n",
              "          document.querySelector('#df-b11d5dbd-a415-4b92-8f1b-6e2c771091e5 button.colab-df-convert');\n",
              "        buttonEl.style.display =\n",
              "          google.colab.kernel.accessAllowed ? 'block' : 'none';\n",
              "\n",
              "        async function convertToInteractive(key) {\n",
              "          const element = document.querySelector('#df-b11d5dbd-a415-4b92-8f1b-6e2c771091e5');\n",
              "          const dataTable =\n",
              "            await google.colab.kernel.invokeFunction('convertToInteractive',\n",
              "                                                     [key], {});\n",
              "          if (!dataTable) return;\n",
              "\n",
              "          const docLinkHtml = 'Like what you see? Visit the ' +\n",
              "            '<a target=\"_blank\" href=https://colab.research.google.com/notebooks/data_table.ipynb>data table notebook</a>'\n",
              "            + ' to learn more about interactive tables.';\n",
              "          element.innerHTML = '';\n",
              "          dataTable['output_type'] = 'display_data';\n",
              "          await google.colab.output.renderOutput(dataTable, element);\n",
              "          const docLink = document.createElement('div');\n",
              "          docLink.innerHTML = docLinkHtml;\n",
              "          element.appendChild(docLink);\n",
              "        }\n",
              "      </script>\n",
              "    </div>\n",
              "  </div>\n",
              "  "
            ]
          },
          "metadata": {},
          "execution_count": 46
        }
      ]
    },
    {
      "cell_type": "code",
      "source": [
        "result[\"날씨\"]=result[\"날씨\"].replace(\"구름많음\", \"흐림\")"
      ],
      "metadata": {
        "id": "6M33Ba0EItj_"
      },
      "execution_count": 47,
      "outputs": []
    },
    {
      "cell_type": "code",
      "source": [
        "result.info()"
      ],
      "metadata": {
        "colab": {
          "base_uri": "https://localhost:8080/"
        },
        "id": "_ontQqy4XWyI",
        "outputId": "5aa8b116-2ddf-4235-e178-1f9c82179b59"
      },
      "execution_count": 48,
      "outputs": [
        {
          "output_type": "stream",
          "name": "stdout",
          "text": [
            "<class 'pandas.core.frame.DataFrame'>\n",
            "RangeIndex: 409005 entries, 0 to 409004\n",
            "Data columns (total 12 columns):\n",
            " #   Column  Non-Null Count   Dtype  \n",
            "---  ------  --------------   -----  \n",
            " 0   경찰청     409005 non-null  object \n",
            " 1   신고접수시간  409005 non-null  object \n",
            " 2   일시      409005 non-null  object \n",
            " 3   사건코드    409005 non-null  int64  \n",
            " 4   성별      409005 non-null  object \n",
            " 5   주소      409005 non-null  object \n",
            " 6   지역      409005 non-null  object \n",
            " 7   시/군/구   409005 non-null  object \n",
            " 8   경도      408988 non-null  float64\n",
            " 9   위도      408988 non-null  float64\n",
            " 10  요일      409005 non-null  object \n",
            " 11  날씨      407660 non-null  object \n",
            "dtypes: float64(2), int64(1), object(9)\n",
            "memory usage: 37.4+ MB\n"
          ]
        }
      ]
    },
    {
      "cell_type": "code",
      "source": [],
      "metadata": {
        "id": "stQtlWGUgIiT"
      },
      "execution_count": null,
      "outputs": []
    },
    {
      "cell_type": "code",
      "source": [],
      "metadata": {
        "id": "NWmcjOKigP5g"
      },
      "execution_count": null,
      "outputs": []
    },
    {
      "cell_type": "code",
      "source": [
        "# 범주형 데이터 수정"
      ],
      "metadata": {
        "id": "QG1jOBFladh5"
      },
      "execution_count": null,
      "outputs": []
    },
    {
      "cell_type": "code",
      "source": [
        "dev1=result[[\"일시\",\"경도\",\"위도\",\"요일\",\"지역\",\"날씨\"]] # 불필요 컬럼 삭제"
      ],
      "metadata": {
        "id": "JBFu40djadlH"
      },
      "execution_count": 49,
      "outputs": []
    },
    {
      "cell_type": "code",
      "source": [
        "dev1.info()"
      ],
      "metadata": {
        "colab": {
          "base_uri": "https://localhost:8080/"
        },
        "id": "BWqax6lCXmkI",
        "outputId": "b29e69ff-68ec-4d6a-f113-40e2e6920d1f"
      },
      "execution_count": 50,
      "outputs": [
        {
          "output_type": "stream",
          "name": "stdout",
          "text": [
            "<class 'pandas.core.frame.DataFrame'>\n",
            "RangeIndex: 409005 entries, 0 to 409004\n",
            "Data columns (total 6 columns):\n",
            " #   Column  Non-Null Count   Dtype  \n",
            "---  ------  --------------   -----  \n",
            " 0   일시      409005 non-null  object \n",
            " 1   경도      408988 non-null  float64\n",
            " 2   위도      408988 non-null  float64\n",
            " 3   요일      409005 non-null  object \n",
            " 4   지역      409005 non-null  object \n",
            " 5   날씨      407660 non-null  object \n",
            "dtypes: float64(2), object(4)\n",
            "memory usage: 18.7+ MB\n"
          ]
        }
      ]
    },
    {
      "cell_type": "code",
      "source": [
        "dev1=dev1.dropna() # 좌표x,y의 결측치 제거"
      ],
      "metadata": {
        "id": "IA0sTZKKgsxm"
      },
      "execution_count": 51,
      "outputs": []
    },
    {
      "cell_type": "code",
      "source": [
        "dev1.info()"
      ],
      "metadata": {
        "colab": {
          "base_uri": "https://localhost:8080/"
        },
        "id": "jEsykz-UI3_g",
        "outputId": "951c5a97-2cb0-4a9f-c2ba-19f75f76ee3b"
      },
      "execution_count": 52,
      "outputs": [
        {
          "output_type": "stream",
          "name": "stdout",
          "text": [
            "<class 'pandas.core.frame.DataFrame'>\n",
            "Int64Index: 407643 entries, 0 to 409004\n",
            "Data columns (total 6 columns):\n",
            " #   Column  Non-Null Count   Dtype  \n",
            "---  ------  --------------   -----  \n",
            " 0   일시      407643 non-null  object \n",
            " 1   경도      407643 non-null  float64\n",
            " 2   위도      407643 non-null  float64\n",
            " 3   요일      407643 non-null  object \n",
            " 4   지역      407643 non-null  object \n",
            " 5   날씨      407643 non-null  object \n",
            "dtypes: float64(2), object(4)\n",
            "memory usage: 21.8+ MB\n"
          ]
        }
      ]
    },
    {
      "cell_type": "code",
      "source": [
        "import datetime\n",
        "dev1[\"일시\"]=pd.to_numeric(pd.to_datetime(dev1[\"일시\"]))"
      ],
      "metadata": {
        "id": "C7qxwH_WeaUs"
      },
      "execution_count": 53,
      "outputs": []
    },
    {
      "cell_type": "code",
      "source": [
        "dev1[\"일시\"]"
      ],
      "metadata": {
        "colab": {
          "base_uri": "https://localhost:8080/"
        },
        "id": "LXfgIZi5qdQn",
        "outputId": "c93e2ca6-114b-484a-de9a-fe1a11c5491c"
      },
      "execution_count": 54,
      "outputs": [
        {
          "output_type": "execute_result",
          "data": {
            "text/plain": [
              "0         1577836800000000000\n",
              "1         1577836800000000000\n",
              "3         1577836800000000000\n",
              "4         1577836800000000000\n",
              "6         1577836800000000000\n",
              "                 ...         \n",
              "409000    1672527600000000000\n",
              "409001    1672527600000000000\n",
              "409002    1672527600000000000\n",
              "409003    1672527600000000000\n",
              "409004    1672527600000000000\n",
              "Name: 일시, Length: 407643, dtype: int64"
            ]
          },
          "metadata": {},
          "execution_count": 54
        }
      ]
    },
    {
      "cell_type": "code",
      "source": [
        "dev1.info()"
      ],
      "metadata": {
        "colab": {
          "base_uri": "https://localhost:8080/"
        },
        "id": "5azIn8nsgnAN",
        "outputId": "84adb7cf-feca-47db-ab51-b450ec3057ec"
      },
      "execution_count": 55,
      "outputs": [
        {
          "output_type": "stream",
          "name": "stdout",
          "text": [
            "<class 'pandas.core.frame.DataFrame'>\n",
            "Int64Index: 407643 entries, 0 to 409004\n",
            "Data columns (total 6 columns):\n",
            " #   Column  Non-Null Count   Dtype  \n",
            "---  ------  --------------   -----  \n",
            " 0   일시      407643 non-null  int64  \n",
            " 1   경도      407643 non-null  float64\n",
            " 2   위도      407643 non-null  float64\n",
            " 3   요일      407643 non-null  object \n",
            " 4   지역      407643 non-null  object \n",
            " 5   날씨      407643 non-null  object \n",
            "dtypes: float64(2), int64(1), object(3)\n",
            "memory usage: 21.8+ MB\n"
          ]
        }
      ]
    },
    {
      "cell_type": "code",
      "source": [
        "# one-hot encoding을 사용했을 때에는 다중공선성 문제를 해결하기 위해서는 더미컬럼 중 1개를 제외해야 함.\n",
        "# n 개의 컬럼이 만들어졌다면 n-1개로 진행하여야 함.\n",
        "# ex) 구분_대전 : 0,0 / 구분_세종 : 1,0 / 구분_충남 : 0,1"
      ],
      "metadata": {
        "id": "pWJRC3jcj9MM"
      },
      "execution_count": null,
      "outputs": []
    },
    {
      "cell_type": "code",
      "source": [
        "dev1=pd.get_dummies(data=dev1, columns=[\"지역\"],drop_first=True)"
      ],
      "metadata": {
        "id": "vuy-DTl1c97B"
      },
      "execution_count": 56,
      "outputs": []
    },
    {
      "cell_type": "code",
      "source": [
        "dev1=pd.get_dummies(data=dev1, columns=[\"요일\"],drop_first=True)"
      ],
      "metadata": {
        "id": "UFcEIZdNaduM"
      },
      "execution_count": 57,
      "outputs": []
    },
    {
      "cell_type": "code",
      "source": [
        "#dev1=pd.get_dummies(data=dev1, columns=[\"시/군/구\"],drop_first=True)"
      ],
      "metadata": {
        "id": "5Icquueoadw8"
      },
      "execution_count": null,
      "outputs": []
    },
    {
      "cell_type": "code",
      "source": [
        "#dev1=pd.get_dummies(data=dev1, columns=[\"사건종별코드\"],drop_first=True)"
      ],
      "metadata": {
        "id": "IDL4n0Yu8M1q"
      },
      "execution_count": null,
      "outputs": []
    },
    {
      "cell_type": "code",
      "source": [
        "dev1=pd.get_dummies(data=dev1, columns=[\"날씨\"],drop_first=True)"
      ],
      "metadata": {
        "id": "znhraT9hGjpp"
      },
      "execution_count": 58,
      "outputs": []
    },
    {
      "cell_type": "code",
      "source": [
        "dev1.info()"
      ],
      "metadata": {
        "colab": {
          "base_uri": "https://localhost:8080/"
        },
        "id": "bGhb7upxad0T",
        "outputId": "6cb6398c-28ce-4989-af26-d6b9bc473682"
      },
      "execution_count": 59,
      "outputs": [
        {
          "output_type": "stream",
          "name": "stdout",
          "text": [
            "<class 'pandas.core.frame.DataFrame'>\n",
            "Int64Index: 407643 entries, 0 to 409004\n",
            "Data columns (total 13 columns):\n",
            " #   Column        Non-Null Count   Dtype  \n",
            "---  ------        --------------   -----  \n",
            " 0   일시            407643 non-null  int64  \n",
            " 1   경도            407643 non-null  float64\n",
            " 2   위도            407643 non-null  float64\n",
            " 3   지역_세종         407643 non-null  uint8  \n",
            " 4   지역_충남         407643 non-null  uint8  \n",
            " 5   요일_Monday     407643 non-null  uint8  \n",
            " 6   요일_Saturday   407643 non-null  uint8  \n",
            " 7   요일_Sunday     407643 non-null  uint8  \n",
            " 8   요일_Thursday   407643 non-null  uint8  \n",
            " 9   요일_Tuesday    407643 non-null  uint8  \n",
            " 10  요일_Wednesday  407643 non-null  uint8  \n",
            " 11  날씨_비옴         407643 non-null  uint8  \n",
            " 12  날씨_흐림         407643 non-null  uint8  \n",
            "dtypes: float64(2), int64(1), uint8(10)\n",
            "memory usage: 16.3 MB\n"
          ]
        }
      ]
    },
    {
      "cell_type": "code",
      "source": [
        "# 랜덤포레스트\n",
        "from sklearn.ensemble import RandomForestRegressor\n",
        "from sklearn.metrics import mean_absolute_error"
      ],
      "metadata": {
        "id": "qa9nigB6aePZ"
      },
      "execution_count": 60,
      "outputs": []
    },
    {
      "cell_type": "code",
      "source": [
        "labels=np.array(dev1[[\"경도\",\"위도\"]]) # label 데이터 분리\n",
        "\n",
        "features=dev1.drop([\"경도\",\"위도\"], axis=1) \n",
        "\n",
        "feature_list=list(features.columns)\n",
        "\n",
        "features=np.array(features)"
      ],
      "metadata": {
        "id": "5xEbLjwJtH2f"
      },
      "execution_count": 61,
      "outputs": []
    },
    {
      "cell_type": "code",
      "source": [
        "train_features, test_features, train_labels, test_labels = train_test_split(features, labels, test_size = 0.25, random_state = 42) # 75:25 비율로 데이터 나눔"
      ],
      "metadata": {
        "id": "IL3UTp-Ot8wh"
      },
      "execution_count": 62,
      "outputs": []
    },
    {
      "cell_type": "code",
      "source": [
        "# train, test data 차원 확인\n",
        "\n",
        "print('Training Features Shape:', train_features.shape)\n",
        "print('Training Labels Shape:', train_labels.reshape(-1,1).shape) # reshape 적용해서 차원 맞추기\n",
        "print('Testing Features Shape:', test_features)\n",
        "print('Testing Labels Shape:', test_labels.reshape(-1,1).shape) # reshape 적용해서 차원 맞추기\n",
        "\n",
        "\n",
        "print(train_features.shape)\n",
        "print(test_features.shape)"
      ],
      "metadata": {
        "colab": {
          "base_uri": "https://localhost:8080/"
        },
        "id": "w5vTasuSt_6Z",
        "outputId": "0255e8a1-8885-4002-96c5-891044951a86"
      },
      "execution_count": 63,
      "outputs": [
        {
          "output_type": "stream",
          "name": "stdout",
          "text": [
            "Training Features Shape: (305732, 11)\n",
            "Training Labels Shape: (611464, 1)\n",
            "Testing Features Shape: [[1654344000000000000                   0                   0 ...\n",
            "                    0                   0                   1]\n",
            " [1654038000000000000                   0                   1 ...\n",
            "                    0                   0                   1]\n",
            " [1657476000000000000                   0                   0 ...\n",
            "                    0                   0                   1]\n",
            " ...\n",
            " [1656792000000000000                   1                   0 ...\n",
            "                    0                   0                   0]\n",
            " [1591992000000000000                   0                   0 ...\n",
            "                    0                   1                   0]\n",
            " [1660842000000000000                   1                   0 ...\n",
            "                    0                   0                   1]]\n",
            "Testing Labels Shape: (203822, 1)\n",
            "(305732, 11)\n",
            "(101911, 11)\n"
          ]
        }
      ]
    },
    {
      "cell_type": "code",
      "source": [
        "# n_estimators = 1000 / 1000개의 결정트리를 가지는 모델 \n",
        "rf = RandomForestRegressor(n_estimators = 3, random_state = 42)\n",
        "\n",
        "\n",
        "# train 데이터로 훈련\n",
        "rf.fit(train_features, train_labels)"
      ],
      "metadata": {
        "id": "VCkDTo4fujDZ",
        "colab": {
          "base_uri": "https://localhost:8080/"
        },
        "outputId": "4d779a87-6d49-4824-922f-73a095d36211"
      },
      "execution_count": 105,
      "outputs": [
        {
          "output_type": "execute_result",
          "data": {
            "text/plain": [
              "RandomForestRegressor(n_estimators=3, random_state=42)"
            ]
          },
          "metadata": {},
          "execution_count": 105
        }
      ]
    },
    {
      "cell_type": "code",
      "source": [
        "# 모델을 사용해서 예측\n",
        "predictions = rf.predict(test_features)\n",
        "\n",
        "# 절대오차 : 측정값에서 오차의 절대값 크기\n",
        "errors = abs(predictions - test_labels) # abs() : 절대값 계산 함수\n",
        "\n",
        "# Mean absolute error(MAE) : 절대오차의 평균값\n",
        "print(\"MAE는 :\", round(np.mean(errors), 2), \"입니다.\")"
      ],
      "metadata": {
        "colab": {
          "base_uri": "https://localhost:8080/"
        },
        "id": "ulMLg29FujL3",
        "outputId": "97cbbc5d-c54b-496b-f393-8738dd5053ff"
      },
      "execution_count": 106,
      "outputs": [
        {
          "output_type": "stream",
          "name": "stdout",
          "text": [
            "MAE는 : 0.14 입니다.\n"
          ]
        }
      ]
    },
    {
      "cell_type": "code",
      "source": [
        "# Mean Absolut Percentage Error 계산 / MAPE : 평균절대오차비율\n",
        "mape = 100 * (errors / test_labels)\n",
        "\n",
        "# 정확도 퍼센트\n",
        "accuracy = 100 - np.mean(mape)\n",
        "print(\"정확도는\", round(accuracy, 2), \"입니다.\")\n",
        "\n",
        "\n",
        "## n_estimators = 1000 일 때 MAE : 0.14 / 정확도 99.77 / 용량 :7.17G\n",
        "## n_estimators = 500 일 때 MAE : 0.14 / 정확도 99.77 / 용량 :3.58G\n",
        "## n_estimators = 300 일 때 MAE : 0.14 / 정확도 99.77 / 용량 :2.15G\n",
        "## n_estimators = 100 일 때 MAE : 0.14 / 정확도 99.77 / 용량 :733.97MB\n",
        "## n_estimators = 5 일 때 MAE : 0.14 / 정확도 99.77 / 용량 :36.74MB\n",
        "## n_estimators = 3 일 때 MAE : 0.14 / 정확도 99.77 / 용량 :22.04MB\n",
        "## n_estimators = 1~2 일 때 MAE : 0.14 / 정확도 99.76 \n"
      ],
      "metadata": {
        "colab": {
          "base_uri": "https://localhost:8080/"
        },
        "id": "kDn9XG-WujOb",
        "outputId": "2086b981-a361-4e99-8843-afd1334cd0f3"
      },
      "execution_count": 107,
      "outputs": [
        {
          "output_type": "stream",
          "name": "stdout",
          "text": [
            "정확도는 99.77 입니다.\n"
          ]
        }
      ]
    },
    {
      "cell_type": "code",
      "source": [
        "# 보완 필요 \n",
        "# 연속형 features의 중요도를 구하기.\n",
        "importances = list(rf.feature_importances_)\n",
        "\n",
        "\n",
        "# feature와 중요도를 튜플에 넣고 리스트에 넣음.\n",
        "feature_importances = [(feature, round(importance, 2)) for feature, importance in zip(feature_list, importances)]\n",
        "\n",
        "\n",
        "# 중요도 순으로 teature를 정렬.Sort the feature importances by most important first\n",
        "feature_importances = sorted(feature_importances, key = lambda x: x[1], reverse = True)\n",
        "\n",
        "\n",
        "# 중요도와 feature를 출력\n",
        "[print('Variable: {:20} Importance: {}'.format(*pair)) for pair in feature_importances];"
      ],
      "metadata": {
        "colab": {
          "base_uri": "https://localhost:8080/"
        },
        "id": "HmuJmVUQujRB",
        "outputId": "a823a13f-a5a2-48d9-9bec-7d091ba83656"
      },
      "execution_count": 108,
      "outputs": [
        {
          "output_type": "stream",
          "name": "stdout",
          "text": [
            "Variable: 지역_충남                Importance: 0.75\n",
            "Variable: 일시                   Importance: 0.21\n",
            "Variable: 지역_세종                Importance: 0.02\n",
            "Variable: 날씨_흐림                Importance: 0.01\n",
            "Variable: 요일_Monday            Importance: 0.0\n",
            "Variable: 요일_Saturday          Importance: 0.0\n",
            "Variable: 요일_Sunday            Importance: 0.0\n",
            "Variable: 요일_Thursday          Importance: 0.0\n",
            "Variable: 요일_Tuesday           Importance: 0.0\n",
            "Variable: 요일_Wednesday         Importance: 0.0\n",
            "Variable: 날씨_비옴                Importance: 0.0\n"
          ]
        }
      ]
    },
    {
      "cell_type": "code",
      "source": [
        "import joblib\n",
        "\n",
        "joblib.dump(rf,\"지치안_rf.pkl\")"
      ],
      "metadata": {
        "id": "5yfxuPTsujT4",
        "colab": {
          "base_uri": "https://localhost:8080/"
        },
        "outputId": "6bf18619-2a38-4db1-abbb-8f4c51c8432b"
      },
      "execution_count": 110,
      "outputs": [
        {
          "output_type": "execute_result",
          "data": {
            "text/plain": [
              "['지치안_rf.pkl']"
            ]
          },
          "metadata": {},
          "execution_count": 110
        }
      ]
    },
    {
      "cell_type": "code",
      "source": [],
      "metadata": {
        "id": "GEbZEDf8HZGS"
      },
      "execution_count": 64,
      "outputs": []
    },
    {
      "cell_type": "code",
      "source": [],
      "metadata": {
        "id": "C5EglhWCHZI9"
      },
      "execution_count": 64,
      "outputs": []
    },
    {
      "cell_type": "code",
      "source": [],
      "metadata": {
        "id": "i2gPAMxIHZLd"
      },
      "execution_count": null,
      "outputs": []
    },
    {
      "cell_type": "code",
      "source": [],
      "metadata": {
        "id": "xITcUXltHZOb"
      },
      "execution_count": null,
      "outputs": []
    },
    {
      "cell_type": "code",
      "source": [],
      "metadata": {
        "id": "OvY3GwbOHZRP"
      },
      "execution_count": null,
      "outputs": []
    },
    {
      "cell_type": "code",
      "source": [],
      "metadata": {
        "id": "rSLkTDtEHZUk"
      },
      "execution_count": null,
      "outputs": []
    },
    {
      "cell_type": "code",
      "source": [],
      "metadata": {
        "id": "Dwv2nfZPHZXP"
      },
      "execution_count": null,
      "outputs": []
    }
  ]
}